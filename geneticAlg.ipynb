{
 "cells": [
  {
   "cell_type": "code",
   "execution_count": 1,
   "metadata": {},
   "outputs": [],
   "source": [
    "from itertools import permutations\n",
    "import random\n",
    "import math\n",
    "from numpy.random import randint\n",
    "from numpy.random import rand\n",
    "import matplotlib.pyplot as plt\n",
    "import time"
   ]
  },
  {
   "cell_type": "markdown",
   "metadata": {},
   "source": [
    "# ALGORITMO GENETICO"
   ]
  },
  {
   "cell_type": "markdown",
   "metadata": {},
   "source": [
    "### GENERAZIONE POPOLAZIONE INIZIALE"
   ]
  },
  {
   "cell_type": "code",
   "execution_count": 2,
   "metadata": {},
   "outputs": [],
   "source": [
    "A = [('a1',9), ('a2',6), ('a3',3), ('a4',8), ('a5',5)]\n",
    "\n",
    "B = [('b1',5), ('b2',7), ('b3',2), ('b4',10)]\n",
    "\n",
    "jobs = A + B\n"
   ]
  },
  {
   "cell_type": "code",
   "execution_count": 11,
   "metadata": {},
   "outputs": [
    {
     "data": {
      "text/plain": [
       "[('a1', 9),\n",
       " ('a2', 6),\n",
       " ('a3', 3),\n",
       " ('a4', 8),\n",
       " ('a5', 5),\n",
       " ('b1', 5),\n",
       " ('b2', 7),\n",
       " ('b3', 2),\n",
       " ('b4', 10)]"
      ]
     },
     "execution_count": 11,
     "metadata": {},
     "output_type": "execute_result"
    }
   ],
   "source": [
    "jobs"
   ]
  },
  {
   "cell_type": "code",
   "execution_count": 3,
   "metadata": {},
   "outputs": [],
   "source": [
    "def generate_population(jobs, n_pop):\n",
    "    population = []\n",
    "    num_jobs = len(jobs)\n",
    "    \n",
    "    # Genera n_pop permutazioni casuali\n",
    "    for _ in range(n_pop):\n",
    "        # Genera una permutazione casuale dei jobs\n",
    "        random_permutation = random.sample(jobs, num_jobs)\n",
    "        population.append(random_permutation)\n",
    "    \n",
    "    return population\n"
   ]
  },
  {
   "cell_type": "markdown",
   "metadata": {},
   "source": [
    "### FITNESS FUNCTION"
   ]
  },
  {
   "cell_type": "code",
   "execution_count": 4,
   "metadata": {},
   "outputs": [],
   "source": [
    "# fitness function equivale alla nostra funzione obbiettivo (che deve essere minimizzata)\n",
    "def fitness_function(soluzione, alfa):\n",
    "    somma_A = 0\n",
    "    somma_B = 0\n",
    "    somma_tot = 0\n",
    "    for job in soluzione:\n",
    "        string = str(job[0])\n",
    "        somma_tot += job[1]\n",
    "        if string.startswith('a'):\n",
    "            somma_A += somma_tot\n",
    "        else:\n",
    "            somma_B += somma_tot\n",
    "    \n",
    "    return (alfa * (somma_A + somma_B)) + ((1-alfa) * abs((somma_A - somma_B)))"
   ]
  },
  {
   "cell_type": "markdown",
   "metadata": {},
   "source": [
    "### SELEZIONE"
   ]
  },
  {
   "cell_type": "code",
   "execution_count": 5,
   "metadata": {},
   "outputs": [],
   "source": [
    "# tournament selection\n",
    "def selection(population, scores, k=3):\n",
    "    # primo scelto randomicamente (utile estrarlo prima per fare i confronti)\n",
    "    selection_ix = randint(len(population))\n",
    "    # scegliamo gli altri k-1 partecipanti randomicamente\n",
    "    for ix in randint(0, len(population), k-1):\n",
    "        # controlliamo chi è il migliore tra i k partecipanti\n",
    "        if scores[ix] < scores[selection_ix]:\n",
    "            selection_ix = ix\n",
    "            #print(\"1: \", population[selection_ix])\n",
    "    return population[selection_ix]"
   ]
  },
  {
   "cell_type": "markdown",
   "metadata": {},
   "source": [
    "### CROSSOVER"
   ]
  },
  {
   "cell_type": "code",
   "execution_count": 6,
   "metadata": {},
   "outputs": [],
   "source": [
    "def crossover(p1, p2, r_cross):\n",
    "    # i figli sono copie dei genitori di default\n",
    "    c1, c2 = p1.copy(), p2.copy()\n",
    "\n",
    "    if rand() < r_cross:\n",
    "        # selezioniamo il punto di taglio per il crossover\n",
    "        pt = randint(1, len(p1)-1)\n",
    "        # crossover\n",
    "        c1 = p1[:pt] + ([elem for elem in p2 if elem not in p1[:pt]])\n",
    "        c2 = p2[:pt] + ([elem for elem in p1 if elem not in p2[:pt]])\n",
    "    return [list(c1), list(c2)]"
   ]
  },
  {
   "cell_type": "markdown",
   "metadata": {},
   "source": [
    "### MUTAZIONE"
   ]
  },
  {
   "cell_type": "code",
   "execution_count": 7,
   "metadata": {},
   "outputs": [],
   "source": [
    "# mutazione: scambio di posizione di due job\n",
    "def mutation(c, r_mut):\n",
    "        if rand() < r_mut:\n",
    "             # Selezione casuale di due indici di due job in c1\n",
    "             indexes = random.sample(range(len(c)), 2)\n",
    "             i, j = indexes[0], indexes[1]\n",
    "             # Scambia gli elementi di posizione\n",
    "             elem1 , elem2 = c[i], c[j]\n",
    "             c[i], c[j] = elem2, elem1\n",
    "\n",
    "\n"
   ]
  },
  {
   "cell_type": "markdown",
   "metadata": {},
   "source": [
    "### ALGORITMO"
   ]
  },
  {
   "cell_type": "code",
   "execution_count": 8,
   "metadata": {},
   "outputs": [],
   "source": [
    "def genetic_algorithm(jobs, n_iter, n_pop, r_cross, r_mut, alfa):\n",
    "    # popolazione iniziale\n",
    "    population = generate_population(jobs, n_pop)\n",
    "    # teniamo traccia della migliore soluzione (all'inizio prendiamo la prima soluzione)\n",
    "    best, best_eval = 0, fitness_function(population[0],alfa)\n",
    "    # enumeriamo le iterazioni (il numero di generazioni create)\n",
    "    for gen in range(n_iter):\n",
    "        # valutiamo tutti i candidati della popolazione\n",
    "        scores = [fitness_function(solution,alfa) for solution in population]\n",
    "        # vediamo qual'è la migliore soluzione della generazione corrente\n",
    "        for i in range(n_pop):\n",
    "            if scores[i] < best_eval:\n",
    "                best, best_eval = population[i], scores[i]\n",
    "                print(\">%d, new best f(%s) = %.3f\" % (gen,  population[i], scores[i]))\n",
    "        # applichiamo la selezione: selezioniamo i genitori della nuova generazione (tanti genitori quanto la popolazione è grande)\n",
    "        selected = [selection(population, scores) for _ in range(n_pop)]\n",
    "        # creiamo la nuova generazione\n",
    "        children = list()\n",
    "        # per ogni coppia di genitori\n",
    "        for i in range(0, n_pop, 2):\n",
    "            p1, p2 = selected[i], selected[i+1]\n",
    "            # crossover\n",
    "            #c è una coppia di figli: 2 figli ogni 2 genitori --> la dimensione della popolazione rimane la stessa\n",
    "            c = crossover(p1, p2, r_cross)\n",
    "            # mutazione\n",
    "            mutation(c[0], r_mut)\n",
    "            mutation(c[1], r_mut)\n",
    "            # memorizziamo la nuova generazione\n",
    "            children.append(c[0])\n",
    "            children.append(c[1])\n",
    "        # sostituiamo la nuova generazione\n",
    "        population = children\n",
    "    return [best, best_eval]"
   ]
  },
  {
   "cell_type": "code",
   "execution_count": 9,
   "metadata": {},
   "outputs": [
    {
     "name": "stdout",
     "output_type": "stream",
     "text": [
      ">0, new best f([('a1', 9), ('a5', 5), ('a2', 6), ('b3', 2), ('b2', 7), ('a3', 3), ('b4', 10), ('b1', 5), ('a4', 8)]) = 140.000\n",
      ">0, new best f([('b3', 2), ('a4', 8), ('b1', 5), ('a2', 6), ('a1', 9), ('a3', 3), ('a5', 5), ('b4', 10), ('b2', 7)]) = 132.000\n",
      ">0, new best f([('b1', 5), ('a3', 3), ('a5', 5), ('a2', 6), ('a4', 8), ('b3', 2), ('b2', 7), ('b4', 10), ('a1', 9)]) = 122.000\n",
      ">1, new best f([('a3', 3), ('b3', 2), ('a2', 6), ('b1', 5), ('a5', 5), ('a1', 9), ('b2', 7), ('b4', 10), ('a4', 8)]) = 120.000\n",
      ">1, new best f([('a3', 3), ('b3', 2), ('a2', 6), ('b1', 5), ('a5', 5), ('b2', 7), ('a1', 9), ('a4', 8), ('b4', 10)]) = 117.000\n",
      ">1, new best f([('a3', 3), ('b3', 2), ('a5', 5), ('b1', 5), ('a2', 6), ('a1', 9), ('b2', 7), ('a4', 8), ('b4', 10)]) = 112.000\n",
      ">5, new best f([('b3', 2), ('a3', 3), ('a5', 5), ('b1', 5), ('a2', 6), ('a4', 8), ('b2', 7), ('a1', 9), ('b4', 10)]) = 110.000\n"
     ]
    }
   ],
   "source": [
    "# numero totale di iterazioni\n",
    "n_iter = 100\n",
    "# dimensione popolazione\n",
    "n_pop = 100\n",
    "# soglia crossover\n",
    "r_cross = 0.9\n",
    "# soglia mutazione\n",
    "r_mut = 0.6\n",
    "#coefficiente per la fitness function\n",
    "alfa = 0.5\n",
    "# altro parametro da stabilire è k\n",
    "best,best_eval = genetic_algorithm(jobs, n_iter, n_pop, r_cross, r_mut, alfa)\n",
    "\n"
   ]
  },
  {
   "cell_type": "markdown",
   "metadata": {},
   "source": [
    "# TEST E ESPERIMENTI ALGORITMO"
   ]
  },
  {
   "cell_type": "markdown",
   "metadata": {},
   "source": [
    "## a) INPUT FISSATO"
   ]
  },
  {
   "cell_type": "markdown",
   "metadata": {},
   "source": [
    "### CONVERGENZA  E TEMPO DI ESECUZIONE ALGORITMO"
   ]
  },
  {
   "cell_type": "code",
   "execution_count": 23,
   "metadata": {},
   "outputs": [],
   "source": [
    "def genetic_algorithm_(jobs, n_iter, n_pop, r_cross, r_mut, alfa):\n",
    "    # Inizio del cronometro\n",
    "    start_time = time.time()\n",
    "    # per il plot\n",
    "    iterazioni, valori_ottimi = list(), list() \n",
    "    # popolazione iniziale\n",
    "    population = generate_population(jobs, n_pop)\n",
    "    # teniamo traccia della migliore soluzione (all'inizio prendiamo la prima soluzione)\n",
    "    best, best_eval = 0, fitness_function(population[0],alfa)\n",
    "    # enumeriamo le iterazioni (il numero di generazioni create)\n",
    "    for gen in range(n_iter):\n",
    "        # valutiamo tutti i candidati della popolazione\n",
    "        scores = [fitness_function(solution,alfa) for solution in population]\n",
    "        # vediamo qual'è la migliore soluzione della generazione corrente\n",
    "        for i in range(n_pop):\n",
    "            if scores[i] < best_eval:\n",
    "                best, best_eval = population[i], scores[i]\n",
    "                print(\">%d, new best f(%s) = %.3f\" % (gen,  population[i], scores[i]))\n",
    "        # applichiamo la selezione: selezioniamo i genitori della nuova generazione (tanti genitori quanto la popolazione è grande)\n",
    "        selected = [selection(population, scores) for _ in range(n_pop)]\n",
    "        # creiamo la nuova generazione\n",
    "        children = list()\n",
    "        # per ogni coppia di genitori\n",
    "        for i in range(0, n_pop, 2):\n",
    "            p1, p2 = selected[i], selected[i+1]\n",
    "            # crossover\n",
    "            #c è una coppia di figli: 2 figli ogni 2 genitori --> la dimensione della popolazione rimane la stessa\n",
    "            c = crossover(p1, p2, r_cross)\n",
    "            # mutazione\n",
    "            mutation(c[0], r_mut)\n",
    "            mutation(c[1], r_mut)\n",
    "            # memorizziamo la nuova generazione\n",
    "            children.append(c[0])\n",
    "            children.append(c[1])\n",
    "        # sostituiamo la nuova generazione\n",
    "        population = children\n",
    "        iterazioni.append(gen)\n",
    "        valori_ottimi.append(best_eval)\n",
    "    # Fine del cronometro\n",
    "    end_time = time.time()\n",
    "    plt.plot(iterazioni, valori_ottimi)\n",
    "    plt.xlabel('Iterazione')\n",
    "    plt.ylabel('Fitness Function')\n",
    "    plt.title('Convergenza Algoritmo Genetico')\n",
    "    # Trova l'indice del primo valore di y uguale a 110\n",
    "    indice = next((i for i, v in enumerate(valori_ottimi) if v == 110), None)\n",
    "\n",
    "    # Disegna la linea verticale in corrispondenza dell'indice trovato\n",
    "    if indice is not None:\n",
    "        plt.axvline(x=iterazioni[indice], color='maroon', label='Valore 110')\n",
    "        plt.legend()  # Aggiunge la legenda al grafico\n",
    "\n",
    "    plt.show()\n",
    "    # Calcolo del tempo trascorso\n",
    "    elapsed_time = end_time - start_time\n",
    "    print(\"Tempo di esecuzione:\", elapsed_time, \"secondi\")\n",
    "    return [best, best_eval]"
   ]
  },
  {
   "cell_type": "code",
   "execution_count": 24,
   "metadata": {},
   "outputs": [
    {
     "name": "stdout",
     "output_type": "stream",
     "text": [
      ">0, new best f([('b1', 5), ('a4', 8), ('a3', 3), ('b4', 10), ('a1', 9), ('a2', 6), ('a5', 5), ('b2', 7), ('b3', 2)]) = 151.000\n",
      ">0, new best f([('a2', 6), ('b1', 5), ('a3', 3), ('a4', 8), ('a1', 9), ('b3', 2), ('b2', 7), ('a5', 5), ('b4', 10)]) = 139.000\n",
      ">0, new best f([('a4', 8), ('a5', 5), ('b2', 7), ('a2', 6), ('b3', 2), ('b1', 5), ('a3', 3), ('a1', 9), ('b4', 10)]) = 136.000\n",
      ">0, new best f([('a3', 3), ('b1', 5), ('b3', 2), ('a4', 8), ('a2', 6), ('a5', 5), ('a1', 9), ('b2', 7), ('b4', 10)]) = 118.000\n",
      ">0, new best f([('b3', 2), ('a5', 5), ('b1', 5), ('a2', 6), ('a3', 3), ('a4', 8), ('a1', 9), ('b4', 10), ('b2', 7)]) = 117.000\n",
      ">1, new best f([('b3', 2), ('a5', 5), ('b1', 5), ('a2', 6), ('a3', 3), ('a4', 8), ('a1', 9), ('b2', 7), ('b4', 10)]) = 114.000\n",
      ">2, new best f([('b3', 2), ('b1', 5), ('a3', 3), ('a5', 5), ('a2', 6), ('a4', 8), ('a1', 9), ('b2', 7), ('b4', 10)]) = 113.000\n",
      ">5, new best f([('a5', 5), ('b3', 2), ('a3', 3), ('a2', 6), ('b1', 5), ('b2', 7), ('a4', 8), ('a1', 9), ('b4', 10)]) = 112.000\n",
      ">6, new best f([('a3', 3), ('b3', 2), ('a5', 5), ('a2', 6), ('b1', 5), ('b2', 7), ('a1', 9), ('a4', 8), ('b4', 10)]) = 111.000\n",
      ">7, new best f([('a3', 3), ('b3', 2), ('a5', 5), ('a2', 6), ('b1', 5), ('b2', 7), ('a4', 8), ('a1', 9), ('b4', 10)]) = 110.000\n"
     ]
    },
    {
     "data": {
      "image/png": "[encoded data removed]",
      "text/plain": [
       "<Figure size 640x480 with 1 Axes>"
      ]
     },
     "metadata": {},
     "output_type": "display_data"
    },
    {
     "name": "stdout",
     "output_type": "stream",
     "text": [
      "Tempo di esecuzione: 0.19784188270568848 secondi\n"
     ]
    }
   ],
   "source": [
    "# numero totale di iterazioni\n",
    "n_iter = 100\n",
    "# dimensione popolazione\n",
    "n_pop = 100\n",
    "# soglia crossover\n",
    "r_cross = 0.9\n",
    "# soglia mutazione\n",
    "r_mut = 0.6\n",
    "#coefficiente per la fitness function\n",
    "alfa = 0.5\n",
    "# altro parametro da stabilire è k\n",
    "best,best_eval = genetic_algorithm_(jobs, n_iter, n_pop, r_cross, r_mut, alfa)"
   ]
  },
  {
   "cell_type": "markdown",
   "metadata": {},
   "source": [
    "### ANDAMENTO SOLUZIONE AL VARIARE DI ALFA"
   ]
  },
  {
   "cell_type": "code",
   "execution_count": 26,
   "metadata": {},
   "outputs": [],
   "source": [
    "def genetic_algorithm_alfa(jobs, n_iter, n_pop, r_cross, r_mut, alfa):\n",
    "    # popolazione iniziale\n",
    "    population = generate_population(jobs, n_pop)\n",
    "    # teniamo traccia della migliore soluzione (all'inizio prendiamo la prima soluzione)\n",
    "    best, best_eval = 0, fitness_function(population[0],alfa)\n",
    "    # enumeriamo le iterazioni (il numero di generazioni create)\n",
    "    for gen in range(n_iter):\n",
    "        # valutiamo tutti i candidati della popolazione\n",
    "        scores = [fitness_function(solution,alfa) for solution in population]\n",
    "        for i in range(n_pop):\n",
    "            if scores[i] < best_eval:\n",
    "                best, best_eval = population[i], scores[i]\n",
    "        \n",
    "        # applichiamo la selezione: selezioniamo i genitori della nuova generazione (tanti genitori quanto la popolazione è grande)\n",
    "        selected = [selection(population, scores) for _ in range(n_pop)]\n",
    "        # creiamo la nuova generazione\n",
    "        children = list()\n",
    "        # per ogni coppia di genitori\n",
    "        for i in range(0, n_pop, 2):\n",
    "            p1, p2 = selected[i], selected[i+1]\n",
    "            # crossover\n",
    "            #c è una coppia di figli: 2 figli ogni 2 genitori --> la dimensione della popolazione rimane la stessa\n",
    "            c = crossover(p1, p2, r_cross)\n",
    "            # mutazione\n",
    "            mutation(c[0], r_mut)\n",
    "            mutation(c[1], r_mut)\n",
    "            # memorizziamo la nuova generazione\n",
    "            children.append(c[0])\n",
    "            children.append(c[1])\n",
    "        # sostituiamo la nuova generazione\n",
    "        population = children\n",
    "\n",
    "    return [best, best_eval]"
   ]
  },
  {
   "cell_type": "code",
   "execution_count": 27,
   "metadata": {},
   "outputs": [
    {
     "name": "stdout",
     "output_type": "stream",
     "text": [
      "0.0\n",
      "22.200000000000003\n",
      "44.400000000000006\n",
      "66.4\n",
      "88.2\n",
      "110.0\n",
      "131.6\n",
      "153.2\n",
      "174.8\n",
      "196.4\n",
      "217.0\n"
     ]
    },
    {
     "data": {
      "image/png": "[encoded data removed]",
      "text/plain": [
       "<Figure size 640x480 with 1 Axes>"
      ]
     },
     "metadata": {},
     "output_type": "display_data"
    }
   ],
   "source": [
    "\n",
    "# Lista per memorizzare i valori di alfa\n",
    "alfas = []\n",
    "# Lista per memorizzare i valori di y\n",
    "soluzioni = []\n",
    "n_iter = 1000\n",
    "\n",
    "# Chiamata del metodo con alfa che varia da 0 a 1 con incremento di 0.1\n",
    "for alfa in [i / 10.0 for i in range(11)]:\n",
    "    alfas.append(alfa)\n",
    "    best, best_eval = genetic_algorithm_alfa(jobs, n_iter, n_pop, r_cross, r_mut, alfa)\n",
    "    print(best_eval)\n",
    "    soluzioni.append(best_eval)\n",
    "\n",
    "# Plot dei risultati\n",
    "plt.plot(alfas, soluzioni, marker='o')\n",
    "plt.xlabel('Alfa')\n",
    "plt.ylabel('Soluzione')\n",
    "plt.title('Andamento soluzione al variare di alfa')\n",
    "plt.grid(True)\n",
    "plt.show()\n"
   ]
  },
  {
   "cell_type": "markdown",
   "metadata": {},
   "source": [
    "## b) INPUT DINAMICO"
   ]
  },
  {
   "cell_type": "markdown",
   "metadata": {},
   "source": [
    "### TEMPO DI ESECUZIONE MEDIO E SOLUZIONE RITORNATA MEDIA: 10 esecuzioni con 10 job totali con 1000 iterazioni"
   ]
  },
  {
   "cell_type": "code",
   "execution_count": 11,
   "metadata": {},
   "outputs": [],
   "source": [
    "def genetic_algorithm_time(jobs, n_iter, n_pop, r_cross, r_mut, alfa):\n",
    "    # Inizio del cronometro\n",
    "    start_time = time.time()\n",
    "    # popolazione iniziale\n",
    "    population = generate_population(jobs, n_pop)\n",
    "    # teniamo traccia della migliore soluzione (all'inizio prendiamo la prima soluzione)\n",
    "    best, best_eval = 0, fitness_function(population[0],alfa)\n",
    "    # enumeriamo le iterazioni (il numero di generazioni create)\n",
    "    for gen in range(n_iter):\n",
    "        # valutiamo tutti i candidati della popolazione\n",
    "        scores = [fitness_function(solution,alfa) for solution in population]\n",
    "        # vediamo qual'è la migliore soluzione della generazione corrente\n",
    "        for i in range(n_pop):\n",
    "            if scores[i] < best_eval:\n",
    "                best, best_eval = population[i], scores[i]\n",
    "        # applichiamo la selezione: selezioniamo i genitori della nuova generazione (tanti genitori quanto la popolazione è grande)\n",
    "        selected = [selection(population, scores) for _ in range(n_pop)]\n",
    "        # creiamo la nuova generazione\n",
    "        children = list()\n",
    "        # per ogni coppia di genitori\n",
    "        for i in range(0, n_pop, 2):\n",
    "            p1, p2 = selected[i], selected[i+1]\n",
    "            # crossover\n",
    "            #c è una coppia di figli: 2 figli ogni 2 genitori --> la dimensione della popolazione rimane la stessa\n",
    "            c = crossover(p1, p2, r_cross)\n",
    "            # mutazione\n",
    "            mutation(c[0], r_mut)\n",
    "            mutation(c[1], r_mut)\n",
    "            # memorizziamo la nuova generazione\n",
    "            children.append(c[0])\n",
    "            children.append(c[1])\n",
    "        # sostituiamo la nuova generazione\n",
    "        population = children\n",
    "    # Fine del cronometro\n",
    "    end_time = time.time()\n",
    "    # Calcolo del tempo trascorso\n",
    "    elapsed_time = end_time - start_time\n",
    "    return [elapsed_time, best_eval]"
   ]
  },
  {
   "cell_type": "code",
   "execution_count": 20,
   "metadata": {},
   "outputs": [
    {
     "name": "stdout",
     "output_type": "stream",
     "text": [
      "[('a1', 14), ('a2', 18), ('a3', 23), ('a4', 26), ('a5', 28), ('b1', 23), ('b2', 15), ('b3', 16), ('b4', 37), ('b5', 19)]\n",
      "10\n"
     ]
    }
   ],
   "source": [
    "# Lista per le tuple di A\n",
    "A = [('a{}'.format(i+1), random.randint(10, 50)) for i in range(5)]\n",
    "\n",
    "# Lista per le tuple di B\n",
    "B = [('b{}'.format(i+1), random.randint(10, 50)) for i in range(5)]\n",
    "\n",
    "jobs = A+B\n",
    "\n",
    "print(jobs)\n",
    "print(len(jobs))"
   ]
  },
  {
   "cell_type": "code",
   "execution_count": 21,
   "metadata": {},
   "outputs": [],
   "source": [
    "# numero totale di iterazioni\n",
    "n_iter = 1000\n",
    "# dimensione popolazione\n",
    "n_pop = 100\n",
    "# soglia crossover\n",
    "r_cross = 0.9\n",
    "# soglia mutazione\n",
    "r_mut = 0.6\n",
    "#coefficiente per la fitness function\n",
    "alfa = 0.5\n",
    "\n",
    "soluzioni = list()\n",
    "tempi_esecuzione = list()"
   ]
  },
  {
   "cell_type": "code",
   "execution_count": 22,
   "metadata": {},
   "outputs": [
    {
     "name": "stdout",
     "output_type": "stream",
     "text": [
      "Tempi:  [1.9424481391906738, 1.8294579982757568, 1.8507859706878662, 1.9460818767547607, 1.853194236755371, 1.8876228332519531, 1.8722920417785645, 1.8620588779449463, 1.9285321235656738, 1.867286205291748]\n",
      "Soluzioni:  [514.0, 514.0, 514.0, 514.0, 514.0, 514.0, 514.0, 514.0, 514.0, 514.0]\n"
     ]
    }
   ],
   "source": [
    "for _ in range(10):\n",
    "    tempo,best_eval = genetic_algorithm_time(jobs, n_iter, n_pop, r_cross, r_mut, alfa)\n",
    "    tempi_esecuzione.append(tempo)\n",
    "    soluzioni.append(best_eval)\n",
    "print(\"Tempi: \", tempi_esecuzione)\n",
    "print(\"Soluzioni: \", soluzioni)"
   ]
  },
  {
   "cell_type": "code",
   "execution_count": 24,
   "metadata": {},
   "outputs": [
    {
     "name": "stdout",
     "output_type": "stream",
     "text": [
      "Tempo medio di esecuzione:  1.8839760303497315\n",
      "Soluzione media trovata:  514.0\n"
     ]
    }
   ],
   "source": [
    "media_tempo_10job = sum(tempi_esecuzione)/len(tempi_esecuzione)\n",
    "media_soluzione_10job = sum(soluzioni)/len(soluzioni)\n",
    "print(\"Tempo medio di esecuzione: \", media_tempo_10job)\n",
    "print(\"Soluzione media trovata: \", media_soluzione_10job)"
   ]
  },
  {
   "cell_type": "markdown",
   "metadata": {},
   "source": [
    "### TEMPO DI ESECUZIONE MEDIO E SOLUZIONE RITORNATA MEDIA: 10 esecuzioni con 100 job totali con 1000 iterazioni"
   ]
  },
  {
   "cell_type": "code",
   "execution_count": 19,
   "metadata": {},
   "outputs": [
    {
     "name": "stdout",
     "output_type": "stream",
     "text": [
      "[('a1', 22), ('a2', 49), ('a3', 19), ('a4', 13), ('a5', 35), ('a6', 26), ('a7', 14), ('a8', 41), ('a9', 28), ('a10', 38), ('a11', 18), ('a12', 21), ('a13', 35), ('a14', 18), ('a15', 15), ('a16', 30), ('a17', 33), ('a18', 12), ('a19', 34), ('a20', 25), ('a21', 26), ('a22', 27), ('a23', 24), ('a24', 10), ('a25', 41), ('a26', 46), ('a27', 21), ('a28', 46), ('a29', 45), ('a30', 16), ('a31', 45), ('a32', 28), ('a33', 32), ('a34', 20), ('a35', 49), ('a36', 11), ('a37', 18), ('a38', 49), ('a39', 28), ('a40', 37), ('a41', 40), ('a42', 37), ('a43', 30), ('a44', 42), ('a45', 22), ('a46', 27), ('a47', 46), ('a48', 19), ('a49', 43), ('a50', 50), ('b1', 29), ('b2', 21), ('b3', 16), ('b4', 17), ('b5', 35), ('b6', 13), ('b7', 32), ('b8', 39), ('b9', 14), ('b10', 18), ('b11', 16), ('b12', 37), ('b13', 49), ('b14', 50), ('b15', 44), ('b16', 30), ('b17', 44), ('b18', 48), ('b19', 30), ('b20', 19), ('b21', 38), ('b22', 19), ('b23', 27), ('b24', 10), ('b25', 30), ('b26', 46), ('b27', 15), ('b28', 24), ('b29', 33), ('b30', 48), ('b31', 17), ('b32', 28), ('b33', 46), ('b34', 26), ('b35', 33), ('b36', 26), ('b37', 29), ('b38', 27), ('b39', 23), ('b40', 35), ('b41', 30), ('b42', 25), ('b43', 31), ('b44', 19), ('b45', 23), ('b46', 44), ('b47', 42), ('b48', 46), ('b49', 15), ('b50', 50)]\n",
      "100\n"
     ]
    }
   ],
   "source": [
    "#A = [('a{}'.format(i+1), random.randint(10, 50)) for i in range(50)]\n",
    "\n",
    "#B = [('b{}'.format(i+1), random.randint(10, 50)) for i in range(50)]\n",
    "\n",
    "#jobs = A+B\n",
    "jobs = [('a1', 22), ('a2', 49), ('a3', 19), ('a4', 13), ('a5', 35), ('a6', 26), ('a7', 14), ('a8', 41), ('a9', 28), ('a10', 38), ('a11', 18), ('a12', 21), ('a13', 35), ('a14', 18), ('a15', 15), ('a16', 30), ('a17', 33), ('a18', 12), ('a19', 34), ('a20', 25), ('a21', 26), ('a22', 27), ('a23', 24), ('a24', 10), ('a25', 41), ('a26', 46), ('a27', 21), ('a28', 46), ('a29', 45), ('a30', 16), ('a31', 45), ('a32', 28), ('a33', 32), ('a34', 20), ('a35', 49), ('a36', 11), ('a37', 18), ('a38', 49), ('a39', 28), ('a40', 37), ('a41', 40), ('a42', 37), ('a43', 30), ('a44', 42), ('a45', 22), ('a46', 27), ('a47', 46), ('a48', 19), ('a49', 43), ('a50', 50), ('b1', 29), ('b2', 21), ('b3', 16), ('b4', 17), ('b5', 35), ('b6', 13), ('b7', 32), ('b8', 39), ('b9', 14), ('b10', 18), ('b11', 16), ('b12', 37), ('b13', 49), ('b14', 50), ('b15', 44), ('b16', 30), ('b17', 44), ('b18', 48), ('b19', 30), ('b20', 19), ('b21', 38), ('b22', 19), ('b23', 27), ('b24', 10), ('b25', 30), ('b26', 46), ('b27', 15), ('b28', 24), ('b29', 33), ('b30', 48), ('b31', 17), ('b32', 28), ('b33', 46), ('b34', 26), ('b35', 33), ('b36', 26), ('b37', 29), ('b38', 27), ('b39', 23), ('b40', 35), ('b41', 30), ('b42', 25), ('b43', 31), ('b44', 19), ('b45', 23), ('b46', 44), ('b47', 42), ('b48', 46), ('b49', 15), ('b50', 50)]\n",
    "\n",
    "print(jobs)\n",
    "print(len(jobs))"
   ]
  },
  {
   "cell_type": "code",
   "execution_count": 20,
   "metadata": {},
   "outputs": [
    {
     "name": "stdout",
     "output_type": "stream",
     "text": [
      "Tempi:  [18.31162714958191, 16.745898008346558, 17.673278093338013, 18.735841035842896, 17.357618808746338, 17.724435091018677, 17.136677026748657, 17.129488229751587, 17.15275478363037, 20.217183113098145]\n",
      "Soluzioni:  [59502.0, 59574.0, 59542.0, 59522.0, 59530.0, 59547.0, 59525.0, 59516.0, 59538.0, 59551.0]\n"
     ]
    }
   ],
   "source": [
    "# numero totale di iterazioni\n",
    "n_iter = 1000\n",
    "# dimensione popolazione\n",
    "n_pop = 100\n",
    "# soglia crossover\n",
    "r_cross = 0.9\n",
    "# soglia mutazione\n",
    "r_mut = 0.6\n",
    "#coefficiente per la fitness function\n",
    "alfa = 0.5\n",
    "\n",
    "soluzioni = list()\n",
    "tempi_esecuzione = list()\n",
    "for _ in range(10):\n",
    "    tempo,best_eval = genetic_algorithm_time(jobs, n_iter, n_pop, r_cross, r_mut, alfa)\n",
    "    tempi_esecuzione.append(tempo)\n",
    "    soluzioni.append(best_eval)\n",
    "print(\"Tempi: \", tempi_esecuzione)\n",
    "print(\"Soluzioni: \", soluzioni)"
   ]
  },
  {
   "cell_type": "code",
   "execution_count": 21,
   "metadata": {},
   "outputs": [
    {
     "name": "stdout",
     "output_type": "stream",
     "text": [
      "Tempo medio di esecuzione:  17.818480134010315\n",
      "Soluzione media trovata:  59534.7\n",
      "Min:  59502.0\n"
     ]
    }
   ],
   "source": [
    "media_tempo_100job = sum(tempi_esecuzione)/len(tempi_esecuzione)\n",
    "media_soluzione_100job = sum(soluzioni)/len(soluzioni)\n",
    "print(\"Tempo medio di esecuzione: \", media_tempo_100job)\n",
    "print(\"Soluzione media trovata: \", media_soluzione_100job)\n",
    "print(\"Min: \", min(soluzioni))"
   ]
  },
  {
   "cell_type": "markdown",
   "metadata": {},
   "source": [
    "### TEMPO DI ESECUZIONE MEDIO E SOLUZIONE RITORNATA MEDIA: 10 esecuzioni con 1000 job totali con 1000 iterazioni"
   ]
  },
  {
   "cell_type": "code",
   "execution_count": 29,
   "metadata": {},
   "outputs": [
    {
     "name": "stdout",
     "output_type": "stream",
     "text": [
      "[('a1', 23), ('a2', 11), ('a3', 36), ('a4', 46), ('a5', 50), ('a6', 20), ('a7', 13), ('a8', 41), ('a9', 22), ('a10', 49), ('a11', 29), ('a12', 44), ('a13', 19), ('a14', 40), ('a15', 41), ('a16', 42), ('a17', 35), ('a18', 10), ('a19', 47), ('a20', 24), ('a21', 25), ('a22', 50), ('a23', 14), ('a24', 29), ('a25', 38), ('a26', 30), ('a27', 15), ('a28', 38), ('a29', 15), ('a30', 17), ('a31', 49), ('a32', 36), ('a33', 21), ('a34', 46), ('a35', 23), ('a36', 34), ('a37', 21), ('a38', 28), ('a39', 45), ('a40', 27), ('a41', 42), ('a42', 38), ('a43', 43), ('a44', 13), ('a45', 27), ('a46', 21), ('a47', 48), ('a48', 17), ('a49', 36), ('a50', 21), ('a51', 44), ('a52', 37), ('a53', 50), ('a54', 16), ('a55', 19), ('a56', 21), ('a57', 46), ('a58', 24), ('a59', 10), ('a60', 41), ('a61', 15), ('a62', 41), ('a63', 38), ('a64', 39), ('a65', 32), ('a66', 25), ('a67', 40), ('a68', 35), ('a69', 45), ('a70', 47), ('a71', 10), ('a72', 42), ('a73', 48), ('a74', 11), ('a75', 45), ('a76', 28), ('a77', 50), ('a78', 24), ('a79', 29), ('a80', 37), ('a81', 27), ('a82', 10), ('a83', 28), ('a84', 46), ('a85', 21), ('a86', 13), ('a87', 30), ('a88', 35), ('a89', 16), ('a90', 21), ('a91', 11), ('a92', 12), ('a93', 46), ('a94', 25), ('a95', 37), ('a96', 18), ('a97', 38), ('a98', 24), ('a99', 18), ('a100', 18), ('a101', 14), ('a102', 41), ('a103', 11), ('a104', 35), ('a105', 10), ('a106', 38), ('a107', 14), ('a108', 43), ('a109', 38), ('a110', 47), ('a111', 35), ('a112', 40), ('a113', 11), ('a114', 46), ('a115', 36), ('a116', 13), ('a117', 10), ('a118', 32), ('a119', 38), ('a120', 35), ('a121', 20), ('a122', 24), ('a123', 14), ('a124', 19), ('a125', 18), ('a126', 31), ('a127', 50), ('a128', 30), ('a129', 14), ('a130', 37), ('a131', 23), ('a132', 16), ('a133', 16), ('a134', 40), ('a135', 10), ('a136', 28), ('a137', 18), ('a138', 12), ('a139', 35), ('a140', 37), ('a141', 36), ('a142', 17), ('a143', 36), ('a144', 36), ('a145', 41), ('a146', 23), ('a147', 17), ('a148', 36), ('a149', 11), ('a150', 16), ('a151', 33), ('a152', 43), ('a153', 23), ('a154', 30), ('a155', 40), ('a156', 34), ('a157', 31), ('a158', 38), ('a159', 47), ('a160', 12), ('a161', 35), ('a162', 37), ('a163', 11), ('a164', 35), ('a165', 50), ('a166', 49), ('a167', 29), ('a168', 23), ('a169', 36), ('a170', 22), ('a171', 23), ('a172', 40), ('a173', 38), ('a174', 32), ('a175', 10), ('a176', 45), ('a177', 49), ('a178', 10), ('a179', 19), ('a180', 31), ('a181', 50), ('a182', 30), ('a183', 10), ('a184', 39), ('a185', 29), ('a186', 18), ('a187', 42), ('a188', 44), ('a189', 50), ('a190', 25), ('a191', 48), ('a192', 11), ('a193', 25), ('a194', 16), ('a195', 49), ('a196', 19), ('a197', 47), ('a198', 41), ('a199', 25), ('a200', 27), ('a201', 29), ('a202', 42), ('a203', 15), ('a204', 47), ('a205', 33), ('a206', 30), ('a207', 30), ('a208', 21), ('a209', 48), ('a210', 45), ('a211', 35), ('a212', 28), ('a213', 23), ('a214', 21), ('a215', 14), ('a216', 28), ('a217', 31), ('a218', 10), ('a219', 36), ('a220', 49), ('a221', 49), ('a222', 30), ('a223', 21), ('a224', 16), ('a225', 15), ('a226', 38), ('a227', 11), ('a228', 11), ('a229', 40), ('a230', 18), ('a231', 39), ('a232', 14), ('a233', 32), ('a234', 25), ('a235', 38), ('a236', 45), ('a237', 35), ('a238', 15), ('a239', 37), ('a240', 27), ('a241', 10), ('a242', 22), ('a243', 13), ('a244', 24), ('a245', 15), ('a246', 23), ('a247', 35), ('a248', 14), ('a249', 50), ('a250', 30), ('a251', 48), ('a252', 19), ('a253', 22), ('a254', 17), ('a255', 10), ('a256', 23), ('a257', 44), ('a258', 37), ('a259', 12), ('a260', 49), ('a261', 27), ('a262', 50), ('a263', 11), ('a264', 43), ('a265', 32), ('a266', 41), ('a267', 29), ('a268', 18), ('a269', 31), ('a270', 12), ('a271', 39), ('a272', 16), ('a273', 19), ('a274', 10), ('a275', 50), ('a276', 14), ('a277', 49), ('a278', 37), ('a279', 47), ('a280', 41), ('a281', 10), ('a282', 23), ('a283', 43), ('a284', 17), ('a285', 30), ('a286', 39), ('a287', 34), ('a288', 41), ('a289', 13), ('a290', 24), ('a291', 29), ('a292', 20), ('a293', 46), ('a294', 46), ('a295', 32), ('a296', 46), ('a297', 25), ('a298', 17), ('a299', 35), ('a300', 31), ('a301', 39), ('a302', 31), ('a303', 27), ('a304', 32), ('a305', 14), ('a306', 35), ('a307', 12), ('a308', 24), ('a309', 18), ('a310', 48), ('a311', 48), ('a312', 46), ('a313', 41), ('a314', 24), ('a315', 37), ('a316', 18), ('a317', 14), ('a318', 28), ('a319', 17), ('a320', 22), ('a321', 46), ('a322', 30), ('a323', 28), ('a324', 50), ('a325', 35), ('a326', 16), ('a327', 30), ('a328', 49), ('a329', 13), ('a330', 29), ('a331', 15), ('a332', 42), ('a333', 15), ('a334', 32), ('a335', 35), ('a336', 44), ('a337', 32), ('a338', 24), ('a339', 30), ('a340', 22), ('a341', 44), ('a342', 25), ('a343', 36), ('a344', 46), ('a345', 44), ('a346', 25), ('a347', 33), ('a348', 16), ('a349', 35), ('a350', 10), ('a351', 40), ('a352', 28), ('a353', 49), ('a354', 44), ('a355', 34), ('a356', 47), ('a357', 47), ('a358', 13), ('a359', 38), ('a360', 42), ('a361', 28), ('a362', 37), ('a363', 11), ('a364', 43), ('a365', 31), ('a366', 42), ('a367', 16), ('a368', 14), ('a369', 46), ('a370', 38), ('a371', 31), ('a372', 47), ('a373', 31), ('a374', 29), ('a375', 10), ('a376', 46), ('a377', 41), ('a378', 49), ('a379', 43), ('a380', 45), ('a381', 39), ('a382', 50), ('a383', 24), ('a384', 22), ('a385', 22), ('a386', 31), ('a387', 14), ('a388', 29), ('a389', 22), ('a390', 16), ('a391', 47), ('a392', 16), ('a393', 23), ('a394', 44), ('a395', 40), ('a396', 27), ('a397', 32), ('a398', 35), ('a399', 15), ('a400', 28), ('a401', 28), ('a402', 49), ('a403', 18), ('a404', 38), ('a405', 31), ('a406', 46), ('a407', 14), ('a408', 31), ('a409', 37), ('a410', 34), ('a411', 29), ('a412', 25), ('a413', 14), ('a414', 11), ('a415', 16), ('a416', 38), ('a417', 44), ('a418', 12), ('a419', 20), ('a420', 31), ('a421', 33), ('a422', 16), ('a423', 30), ('a424', 29), ('a425', 38), ('a426', 10), ('a427', 37), ('a428', 31), ('a429', 40), ('a430', 45), ('a431', 20), ('a432', 43), ('a433', 17), ('a434', 44), ('a435', 24), ('a436', 35), ('a437', 32), ('a438', 13), ('a439', 50), ('a440', 20), ('a441', 25), ('a442', 17), ('a443', 32), ('a444', 13), ('a445', 31), ('a446', 26), ('a447', 50), ('a448', 34), ('a449', 12), ('a450', 25), ('a451', 35), ('a452', 10), ('a453', 38), ('a454', 39), ('a455', 24), ('a456', 50), ('a457', 16), ('a458', 48), ('a459', 45), ('a460', 19), ('a461', 28), ('a462', 30), ('a463', 20), ('a464', 31), ('a465', 22), ('a466', 36), ('a467', 23), ('a468', 46), ('a469', 39), ('a470', 18), ('a471', 28), ('a472', 25), ('a473', 39), ('a474', 36), ('a475', 50), ('a476', 16), ('a477', 47), ('a478', 41), ('a479', 39), ('a480', 15), ('a481', 17), ('a482', 25), ('a483', 47), ('a484', 45), ('a485', 27), ('a486', 35), ('a487', 21), ('a488', 39), ('a489', 27), ('a490', 36), ('a491', 35), ('a492', 36), ('a493', 27), ('a494', 24), ('a495', 10), ('a496', 36), ('a497', 27), ('a498', 33), ('a499', 29), ('a500', 31), ('b1', 14), ('b2', 26), ('b3', 38), ('b4', 46), ('b5', 44), ('b6', 46), ('b7', 27), ('b8', 20), ('b9', 13), ('b10', 17), ('b11', 13), ('b12', 24), ('b13', 39), ('b14', 12), ('b15', 38), ('b16', 47), ('b17', 36), ('b18', 10), ('b19', 17), ('b20', 43), ('b21', 37), ('b22', 14), ('b23', 32), ('b24', 43), ('b25', 38), ('b26', 24), ('b27', 18), ('b28', 17), ('b29', 11), ('b30', 11), ('b31', 11), ('b32', 45), ('b33', 15), ('b34', 22), ('b35', 20), ('b36', 50), ('b37', 12), ('b38', 10), ('b39', 24), ('b40', 47), ('b41', 39), ('b42', 12), ('b43', 35), ('b44', 39), ('b45', 24), ('b46', 36), ('b47', 13), ('b48', 29), ('b49', 24), ('b50', 38), ('b51', 50), ('b52', 48), ('b53', 35), ('b54', 40), ('b55', 29), ('b56', 28), ('b57', 12), ('b58', 27), ('b59', 28), ('b60', 47), ('b61', 44), ('b62', 49), ('b63', 43), ('b64', 42), ('b65', 21), ('b66', 38), ('b67', 10), ('b68', 15), ('b69', 41), ('b70', 34), ('b71', 10), ('b72', 45), ('b73', 49), ('b74', 21), ('b75', 20), ('b76', 24), ('b77', 39), ('b78', 14), ('b79', 40), ('b80', 49), ('b81', 16), ('b82', 32), ('b83', 35), ('b84', 17), ('b85', 38), ('b86', 18), ('b87', 41), ('b88', 49), ('b89', 28), ('b90', 30), ('b91', 33), ('b92', 11), ('b93', 33), ('b94', 32), ('b95', 24), ('b96', 27), ('b97', 18), ('b98', 32), ('b99', 25), ('b100', 31), ('b101', 28), ('b102', 23), ('b103', 38), ('b104', 33), ('b105', 43), ('b106', 50), ('b107', 10), ('b108', 19), ('b109', 33), ('b110', 49), ('b111', 10), ('b112', 35), ('b113', 35), ('b114', 23), ('b115', 30), ('b116', 32), ('b117', 10), ('b118', 46), ('b119', 14), ('b120', 34), ('b121', 49), ('b122', 27), ('b123', 11), ('b124', 50), ('b125', 42), ('b126', 46), ('b127', 46), ('b128', 11), ('b129', 48), ('b130', 23), ('b131', 19), ('b132', 20), ('b133', 37), ('b134', 10), ('b135', 36), ('b136', 30), ('b137', 19), ('b138', 38), ('b139', 20), ('b140', 15), ('b141', 20), ('b142', 15), ('b143', 16), ('b144', 47), ('b145', 32), ('b146', 35), ('b147', 11), ('b148', 40), ('b149', 16), ('b150', 40), ('b151', 33), ('b152', 33), ('b153', 10), ('b154', 19), ('b155', 46), ('b156', 48), ('b157', 29), ('b158', 46), ('b159', 26), ('b160', 37), ('b161', 32), ('b162', 17), ('b163', 48), ('b164', 29), ('b165', 47), ('b166', 28), ('b167', 19), ('b168', 19), ('b169', 47), ('b170', 47), ('b171', 24), ('b172', 16), ('b173', 50), ('b174', 15), ('b175', 43), ('b176', 47), ('b177', 49), ('b178', 41), ('b179', 23), ('b180', 38), ('b181', 42), ('b182', 44), ('b183', 27), ('b184', 20), ('b185', 16), ('b186', 27), ('b187', 32), ('b188', 22), ('b189', 37), ('b190', 44), ('b191', 39), ('b192', 46), ('b193', 21), ('b194', 34), ('b195', 11), ('b196', 36), ('b197', 25), ('b198', 15), ('b199', 20), ('b200', 16), ('b201', 19), ('b202', 21), ('b203', 47), ('b204', 43), ('b205', 30), ('b206', 44), ('b207', 42), ('b208', 39), ('b209', 33), ('b210', 16), ('b211', 26), ('b212', 32), ('b213', 12), ('b214', 21), ('b215', 10), ('b216', 38), ('b217', 14), ('b218', 15), ('b219', 34), ('b220', 10), ('b221', 24), ('b222', 44), ('b223', 26), ('b224', 27), ('b225', 42), ('b226', 12), ('b227', 49), ('b228', 38), ('b229', 19), ('b230', 30), ('b231', 25), ('b232', 49), ('b233', 12), ('b234', 40), ('b235', 41), ('b236', 47), ('b237', 49), ('b238', 47), ('b239', 31), ('b240', 22), ('b241', 14), ('b242', 33), ('b243', 16), ('b244', 45), ('b245', 15), ('b246', 11), ('b247', 18), ('b248', 38), ('b249', 28), ('b250', 16), ('b251', 25), ('b252', 44), ('b253', 45), ('b254', 33), ('b255', 21), ('b256', 36), ('b257', 19), ('b258', 33), ('b259', 38), ('b260', 40), ('b261', 23), ('b262', 18), ('b263', 11), ('b264', 29), ('b265', 38), ('b266', 43), ('b267', 35), ('b268', 29), ('b269', 28), ('b270', 42), ('b271', 42), ('b272', 32), ('b273', 34), ('b274', 44), ('b275', 37), ('b276', 43), ('b277', 12), ('b278', 13), ('b279', 29), ('b280', 42), ('b281', 23), ('b282', 41), ('b283', 15), ('b284', 40), ('b285', 30), ('b286', 41), ('b287', 31), ('b288', 11), ('b289', 36), ('b290', 30), ('b291', 15), ('b292', 35), ('b293', 13), ('b294', 46), ('b295', 39), ('b296', 11), ('b297', 18), ('b298', 20), ('b299', 44), ('b300', 23), ('b301', 15), ('b302', 12), ('b303', 17), ('b304', 48), ('b305', 30), ('b306', 21), ('b307', 20), ('b308', 28), ('b309', 34), ('b310', 38), ('b311', 48), ('b312', 13), ('b313', 25), ('b314', 18), ('b315', 40), ('b316', 41), ('b317', 20), ('b318', 39), ('b319', 39), ('b320', 49), ('b321', 34), ('b322', 44), ('b323', 14), ('b324', 12), ('b325', 21), ('b326', 16), ('b327', 47), ('b328', 12), ('b329', 37), ('b330', 38), ('b331', 13), ('b332', 48), ('b333', 43), ('b334', 36), ('b335', 19), ('b336', 38), ('b337', 29), ('b338', 36), ('b339', 41), ('b340', 37), ('b341', 15), ('b342', 30), ('b343', 29), ('b344', 33), ('b345', 28), ('b346', 24), ('b347', 32), ('b348', 15), ('b349', 13), ('b350', 37), ('b351', 43), ('b352', 17), ('b353', 31), ('b354', 44), ('b355', 12), ('b356', 21), ('b357', 39), ('b358', 49), ('b359', 36), ('b360', 36), ('b361', 47), ('b362', 11), ('b363', 15), ('b364', 24), ('b365', 35), ('b366', 40), ('b367', 19), ('b368', 31), ('b369', 14), ('b370', 20), ('b371', 31), ('b372', 33), ('b373', 34), ('b374', 47), ('b375', 23), ('b376', 48), ('b377', 37), ('b378', 28), ('b379', 25), ('b380', 29), ('b381', 17), ('b382', 24), ('b383', 12), ('b384', 33), ('b385', 44), ('b386', 42), ('b387', 30), ('b388', 22), ('b389', 11), ('b390', 31), ('b391', 37), ('b392', 19), ('b393', 46), ('b394', 26), ('b395', 26), ('b396', 37), ('b397', 35), ('b398', 48), ('b399', 42), ('b400', 30), ('b401', 46), ('b402', 29), ('b403', 33), ('b404', 47), ('b405', 43), ('b406', 50), ('b407', 40), ('b408', 37), ('b409', 18), ('b410', 45), ('b411', 40), ('b412', 48), ('b413', 25), ('b414', 29), ('b415', 20), ('b416', 41), ('b417', 13), ('b418', 44), ('b419', 41), ('b420', 38), ('b421', 22), ('b422', 17), ('b423', 29), ('b424', 21), ('b425', 48), ('b426', 48), ('b427', 26), ('b428', 40), ('b429', 40), ('b430', 10), ('b431', 26), ('b432', 38), ('b433', 49), ('b434', 23), ('b435', 26), ('b436', 44), ('b437', 10), ('b438', 33), ('b439', 15), ('b440', 10), ('b441', 41), ('b442', 35), ('b443', 28), ('b444', 19), ('b445', 20), ('b446', 43), ('b447', 50), ('b448', 50), ('b449', 42), ('b450', 50), ('b451', 44), ('b452', 25), ('b453', 46), ('b454', 31), ('b455', 41), ('b456', 26), ('b457', 42), ('b458', 16), ('b459', 22), ('b460', 45), ('b461', 18), ('b462', 32), ('b463', 14), ('b464', 25), ('b465', 20), ('b466', 37), ('b467', 18), ('b468', 34), ('b469', 47), ('b470', 49), ('b471', 11), ('b472', 42), ('b473', 38), ('b474', 14), ('b475', 26), ('b476', 37), ('b477', 46), ('b478', 16), ('b479', 31), ('b480', 33), ('b481', 18), ('b482', 45), ('b483', 35), ('b484', 39), ('b485', 14), ('b486', 44), ('b487', 17), ('b488', 27), ('b489', 48), ('b490', 48), ('b491', 12), ('b492', 48), ('b493', 19), ('b494', 46), ('b495', 11), ('b496', 19), ('b497', 40), ('b498', 39), ('b499', 36), ('b500', 43)]\n",
      "1000\n"
     ]
    }
   ],
   "source": [
    "A = [('a{}'.format(i+1), random.randint(10, 50)) for i in range(500)]\n",
    "\n",
    "B = [('b{}'.format(i+1), random.randint(10, 50)) for i in range(500)]\n",
    "\n",
    "jobs = A+B\n",
    "\n",
    "print(jobs)\n",
    "print(len(jobs))"
   ]
  },
  {
   "cell_type": "code",
   "execution_count": 30,
   "metadata": {},
   "outputs": [
    {
     "name": "stdout",
     "output_type": "stream",
     "text": [
      "Tempi:  [1301.3248150348663, 1226.7162780761719, 1078.391457080841, 1087.0031490325928, 1081.686558008194, 1085.7227938175201, 1077.0230631828308, 1084.3765470981598, 1084.048124074936, 1087.056790113449]\n",
      "Soluzioni:  [6088706.0, 6057319.0, 6073809.0, 6070460.0, 6066066.0, 6070985.0, 6072774.0, 6058553.0, 6066266.0, 6075984.0]\n"
     ]
    }
   ],
   "source": [
    "# numero totale di iterazioni\n",
    "n_iter = 1000\n",
    "# dimensione popolazione\n",
    "n_pop = 100\n",
    "# soglia crossover\n",
    "r_cross = 0.9\n",
    "# soglia mutazione\n",
    "r_mut = 0.6\n",
    "#coefficiente per la fitness function\n",
    "alfa = 0.5\n",
    "\n",
    "soluzioni = list()\n",
    "tempi_esecuzione = list()\n",
    "for _ in range(10):\n",
    "    tempo,best_eval = genetic_algorithm_time(jobs, n_iter, n_pop, r_cross, r_mut, alfa)\n",
    "    tempi_esecuzione.append(tempo)\n",
    "    soluzioni.append(best_eval)\n",
    "print(\"Tempi: \", tempi_esecuzione)\n",
    "print(\"Soluzioni: \", soluzioni)"
   ]
  },
  {
   "cell_type": "code",
   "execution_count": 31,
   "metadata": {},
   "outputs": [
    {
     "name": "stdout",
     "output_type": "stream",
     "text": [
      "Tempo medio di esecuzione:  1119.3349575519562\n",
      "Soluzione media trovata:  6070092.2\n",
      "Min:  6057319.0\n"
     ]
    }
   ],
   "source": [
    "media_tempo_1000job = sum(tempi_esecuzione)/len(tempi_esecuzione)\n",
    "media_soluzione_1000job = sum(soluzioni)/len(soluzioni)\n",
    "print(\"Tempo medio di esecuzione: \", media_tempo_1000job)\n",
    "print(\"Soluzione media trovata: \", media_soluzione_1000job)\n",
    "print(\"Min: \", min(soluzioni))"
   ]
  },
  {
   "cell_type": "markdown",
   "metadata": {},
   "source": [
    "### TEMPO DI ESECUZIONE MEDIO E SOLUZIONE RITORNATA MEDIA: 10 esecuzioni con 500 job totali con 1000 iterazioni"
   ]
  },
  {
   "cell_type": "code",
   "execution_count": 32,
   "metadata": {},
   "outputs": [
    {
     "name": "stdout",
     "output_type": "stream",
     "text": [
      "[('a1', 50), ('a2', 22), ('a3', 30), ('a4', 28), ('a5', 21), ('a6', 12), ('a7', 16), ('a8', 11), ('a9', 21), ('a10', 17), ('a11', 16), ('a12', 50), ('a13', 28), ('a14', 11), ('a15', 28), ('a16', 26), ('a17', 30), ('a18', 44), ('a19', 20), ('a20', 45), ('a21', 14), ('a22', 50), ('a23', 40), ('a24', 30), ('a25', 18), ('a26', 26), ('a27', 48), ('a28', 22), ('a29', 44), ('a30', 41), ('a31', 26), ('a32', 46), ('a33', 23), ('a34', 42), ('a35', 14), ('a36', 27), ('a37', 21), ('a38', 36), ('a39', 33), ('a40', 26), ('a41', 21), ('a42', 39), ('a43', 16), ('a44', 18), ('a45', 15), ('a46', 49), ('a47', 20), ('a48', 22), ('a49', 11), ('a50', 26), ('a51', 14), ('a52', 12), ('a53', 40), ('a54', 35), ('a55', 50), ('a56', 49), ('a57', 36), ('a58', 32), ('a59', 47), ('a60', 23), ('a61', 12), ('a62', 25), ('a63', 44), ('a64', 17), ('a65', 34), ('a66', 18), ('a67', 10), ('a68', 42), ('a69', 41), ('a70', 38), ('a71', 40), ('a72', 47), ('a73', 41), ('a74', 37), ('a75', 21), ('a76', 21), ('a77', 30), ('a78', 44), ('a79', 46), ('a80', 47), ('a81', 24), ('a82', 28), ('a83', 41), ('a84', 43), ('a85', 20), ('a86', 10), ('a87', 11), ('a88', 41), ('a89', 27), ('a90', 45), ('a91', 25), ('a92', 24), ('a93', 39), ('a94', 38), ('a95', 46), ('a96', 35), ('a97', 45), ('a98', 45), ('a99', 44), ('a100', 36), ('a101', 19), ('a102', 32), ('a103', 17), ('a104', 39), ('a105', 28), ('a106', 14), ('a107', 17), ('a108', 21), ('a109', 29), ('a110', 22), ('a111', 21), ('a112', 46), ('a113', 16), ('a114', 46), ('a115', 12), ('a116', 13), ('a117', 17), ('a118', 47), ('a119', 32), ('a120', 13), ('a121', 39), ('a122', 25), ('a123', 31), ('a124', 22), ('a125', 45), ('a126', 36), ('a127', 29), ('a128', 21), ('a129', 47), ('a130', 36), ('a131', 24), ('a132', 50), ('a133', 17), ('a134', 20), ('a135', 35), ('a136', 24), ('a137', 23), ('a138', 32), ('a139', 41), ('a140', 34), ('a141', 38), ('a142', 41), ('a143', 21), ('a144', 32), ('a145', 19), ('a146', 21), ('a147', 49), ('a148', 10), ('a149', 26), ('a150', 44), ('a151', 13), ('a152', 47), ('a153', 32), ('a154', 10), ('a155', 12), ('a156', 13), ('a157', 25), ('a158', 25), ('a159', 28), ('a160', 20), ('a161', 46), ('a162', 49), ('a163', 13), ('a164', 31), ('a165', 44), ('a166', 23), ('a167', 40), ('a168', 16), ('a169', 45), ('a170', 27), ('a171', 38), ('a172', 22), ('a173', 13), ('a174', 18), ('a175', 26), ('a176', 10), ('a177', 26), ('a178', 19), ('a179', 12), ('a180', 14), ('a181', 39), ('a182', 35), ('a183', 25), ('a184', 32), ('a185', 24), ('a186', 42), ('a187', 40), ('a188', 32), ('a189', 49), ('a190', 32), ('a191', 10), ('a192', 15), ('a193', 19), ('a194', 16), ('a195', 19), ('a196', 32), ('a197', 34), ('a198', 38), ('a199', 33), ('a200', 33), ('a201', 40), ('a202', 42), ('a203', 20), ('a204', 20), ('a205', 31), ('a206', 34), ('a207', 32), ('a208', 36), ('a209', 17), ('a210', 13), ('a211', 13), ('a212', 38), ('a213', 34), ('a214', 43), ('a215', 19), ('a216', 23), ('a217', 25), ('a218', 13), ('a219', 29), ('a220', 40), ('a221', 37), ('a222', 22), ('a223', 49), ('a224', 27), ('a225', 35), ('a226', 49), ('a227', 13), ('a228', 12), ('a229', 22), ('a230', 16), ('a231', 30), ('a232', 15), ('a233', 27), ('a234', 49), ('a235', 34), ('a236', 29), ('a237', 18), ('a238', 17), ('a239', 16), ('a240', 16), ('a241', 23), ('a242', 50), ('a243', 18), ('a244', 27), ('a245', 43), ('a246', 32), ('a247', 32), ('a248', 11), ('a249', 48), ('a250', 40), ('b1', 23), ('b2', 22), ('b3', 23), ('b4', 18), ('b5', 12), ('b6', 31), ('b7', 27), ('b8', 21), ('b9', 37), ('b10', 18), ('b11', 47), ('b12', 20), ('b13', 27), ('b14', 44), ('b15', 16), ('b16', 47), ('b17', 21), ('b18', 31), ('b19', 36), ('b20', 10), ('b21', 49), ('b22', 35), ('b23', 46), ('b24', 35), ('b25', 46), ('b26', 29), ('b27', 47), ('b28', 12), ('b29', 47), ('b30', 36), ('b31', 42), ('b32', 17), ('b33', 32), ('b34', 22), ('b35', 27), ('b36', 40), ('b37', 24), ('b38', 38), ('b39', 46), ('b40', 24), ('b41', 10), ('b42', 27), ('b43', 44), ('b44', 36), ('b45', 47), ('b46', 30), ('b47', 40), ('b48', 13), ('b49', 10), ('b50', 29), ('b51', 26), ('b52', 29), ('b53', 45), ('b54', 25), ('b55', 37), ('b56', 14), ('b57', 26), ('b58', 29), ('b59', 31), ('b60', 16), ('b61', 34), ('b62', 25), ('b63', 23), ('b64', 39), ('b65', 30), ('b66', 26), ('b67', 18), ('b68', 26), ('b69', 16), ('b70', 18), ('b71', 33), ('b72', 45), ('b73', 35), ('b74', 48), ('b75', 20), ('b76', 31), ('b77', 28), ('b78', 22), ('b79', 47), ('b80', 20), ('b81', 38), ('b82', 39), ('b83', 41), ('b84', 23), ('b85', 35), ('b86', 20), ('b87', 21), ('b88', 46), ('b89', 18), ('b90', 27), ('b91', 30), ('b92', 35), ('b93', 46), ('b94', 40), ('b95', 41), ('b96', 23), ('b97', 44), ('b98', 42), ('b99', 42), ('b100', 26), ('b101', 40), ('b102', 42), ('b103', 31), ('b104', 46), ('b105', 28), ('b106', 22), ('b107', 16), ('b108', 33), ('b109', 42), ('b110', 34), ('b111', 27), ('b112', 19), ('b113', 20), ('b114', 19), ('b115', 33), ('b116', 35), ('b117', 45), ('b118', 34), ('b119', 47), ('b120', 45), ('b121', 12), ('b122', 27), ('b123', 45), ('b124', 24), ('b125', 11), ('b126', 22), ('b127', 42), ('b128', 27), ('b129', 49), ('b130', 38), ('b131', 47), ('b132', 32), ('b133', 40), ('b134', 34), ('b135', 22), ('b136', 49), ('b137', 33), ('b138', 22), ('b139', 34), ('b140', 47), ('b141', 47), ('b142', 10), ('b143', 39), ('b144', 27), ('b145', 22), ('b146', 32), ('b147', 46), ('b148', 21), ('b149', 19), ('b150', 28), ('b151', 34), ('b152', 37), ('b153', 47), ('b154', 26), ('b155', 45), ('b156', 50), ('b157', 41), ('b158', 28), ('b159', 45), ('b160', 25), ('b161', 42), ('b162', 35), ('b163', 26), ('b164', 33), ('b165', 36), ('b166', 44), ('b167', 33), ('b168', 26), ('b169', 31), ('b170', 12), ('b171', 34), ('b172', 37), ('b173', 34), ('b174', 26), ('b175', 44), ('b176', 50), ('b177', 31), ('b178', 15), ('b179', 33), ('b180', 13), ('b181', 28), ('b182', 47), ('b183', 25), ('b184', 21), ('b185', 13), ('b186', 31), ('b187', 37), ('b188', 10), ('b189', 28), ('b190', 40), ('b191', 27), ('b192', 37), ('b193', 17), ('b194', 10), ('b195', 15), ('b196', 37), ('b197', 10), ('b198', 23), ('b199', 48), ('b200', 17), ('b201', 30), ('b202', 16), ('b203', 18), ('b204', 33), ('b205', 22), ('b206', 19), ('b207', 10), ('b208', 16), ('b209', 23), ('b210', 38), ('b211', 11), ('b212', 17), ('b213', 25), ('b214', 40), ('b215', 48), ('b216', 25), ('b217', 26), ('b218', 20), ('b219', 26), ('b220', 47), ('b221', 21), ('b222', 35), ('b223', 16), ('b224', 19), ('b225', 37), ('b226', 19), ('b227', 18), ('b228', 11), ('b229', 25), ('b230', 38), ('b231', 35), ('b232', 36), ('b233', 35), ('b234', 10), ('b235', 27), ('b236', 38), ('b237', 43), ('b238', 49), ('b239', 17), ('b240', 46), ('b241', 13), ('b242', 15), ('b243', 23), ('b244', 19), ('b245', 20), ('b246', 26), ('b247', 47), ('b248', 14), ('b249', 38), ('b250', 13)]\n",
      "500\n"
     ]
    }
   ],
   "source": [
    "A = [('a{}'.format(i+1), random.randint(10, 50)) for i in range(250)]\n",
    "\n",
    "B = [('b{}'.format(i+1), random.randint(10, 50)) for i in range(250)]\n",
    "\n",
    "jobs = A+B\n",
    "\n",
    "print(jobs)\n",
    "print(len(jobs))"
   ]
  },
  {
   "cell_type": "code",
   "execution_count": 33,
   "metadata": {},
   "outputs": [
    {
     "name": "stdout",
     "output_type": "stream",
     "text": [
      "Tempi:  [273.18091893196106, 272.4303250312805, 272.51550793647766, 272.4492678642273, 272.96747279167175, 272.21592593193054, 273.98576402664185, 277.15477895736694, 274.75726103782654, 273.27770709991455]\n",
      "Soluzioni:  [1459849.0, 1458598.0, 1461352.0, 1457751.0, 1459721.0, 1460585.0, 1457887.0, 1462006.0, 1459725.0, 1456386.0]\n"
     ]
    }
   ],
   "source": [
    "# numero totale di iterazioni\n",
    "n_iter = 1000\n",
    "# dimensione popolazione\n",
    "n_pop = 100\n",
    "# soglia crossover\n",
    "r_cross = 0.9\n",
    "# soglia mutazione\n",
    "r_mut = 0.6\n",
    "#coefficiente per la fitness function\n",
    "alfa = 0.5\n",
    "\n",
    "soluzioni = list()\n",
    "tempi_esecuzione = list()\n",
    "for _ in range(10):\n",
    "    tempo,best_eval = genetic_algorithm_time(jobs, n_iter, n_pop, r_cross, r_mut, alfa)\n",
    "    tempi_esecuzione.append(tempo)\n",
    "    soluzioni.append(best_eval)\n",
    "print(\"Tempi: \", tempi_esecuzione)\n",
    "print(\"Soluzioni: \", soluzioni)"
   ]
  },
  {
   "cell_type": "code",
   "execution_count": 34,
   "metadata": {},
   "outputs": [
    {
     "name": "stdout",
     "output_type": "stream",
     "text": [
      "Tempo medio di esecuzione:  273.49349296092987\n",
      "Soluzione media trovata:  1459386.0\n",
      "Min:  1456386.0\n"
     ]
    }
   ],
   "source": [
    "media_tempo_500job = sum(tempi_esecuzione)/len(tempi_esecuzione)\n",
    "media_soluzione_500job = sum(soluzioni)/len(soluzioni)\n",
    "print(\"Tempo medio di esecuzione: \", media_tempo_500job)\n",
    "print(\"Soluzione media trovata: \", media_soluzione_500job)\n",
    "print(\"Min: \", min(soluzioni))"
   ]
  },
  {
   "cell_type": "markdown",
   "metadata": {},
   "source": [
    "## c) INPUT: NUMERO DI JOB UGUALE e di durata tra [10 e 50] tra A e B ^^^ fatti sopra questi esperimenti ^^^ (da vedere per gli esperimenti sopra le due funzioni obiettivo che valori ritornano)"
   ]
  },
  {
   "cell_type": "markdown",
   "metadata": {},
   "source": [
    "## d) INPUT: NUMERO DI JOB UGUALE MA DURATE DEI JOB DI B > A"
   ]
  },
  {
   "cell_type": "code",
   "execution_count": 35,
   "metadata": {},
   "outputs": [
    {
     "name": "stdout",
     "output_type": "stream",
     "text": [
      "[('a1', 9), ('a2', 5), ('a3', 4), ('a4', 7), ('a5', 8), ('a6', 8), ('a7', 5), ('a8', 9), ('a9', 8), ('a10', 6), ('a11', 2), ('a12', 10), ('a13', 8), ('a14', 5), ('a15', 5), ('a16', 7), ('a17', 5), ('a18', 6), ('a19', 7), ('a20', 9), ('a21', 8), ('a22', 3), ('a23', 6), ('a24', 4), ('a25', 6), ('a26', 1), ('a27', 1), ('a28', 7), ('a29', 5), ('a30', 3), ('a31', 2), ('a32', 2), ('a33', 3), ('a34', 2), ('a35', 10), ('a36', 3), ('a37', 4), ('a38', 10), ('a39', 6), ('a40', 6), ('a41', 8), ('a42', 4), ('a43', 5), ('a44', 1), ('a45', 9), ('a46', 3), ('a47', 6), ('a48', 2), ('a49', 9), ('a50', 7), ('b1', 36), ('b2', 44), ('b3', 47), ('b4', 23), ('b5', 41), ('b6', 15), ('b7', 19), ('b8', 23), ('b9', 17), ('b10', 23), ('b11', 39), ('b12', 26), ('b13', 33), ('b14', 15), ('b15', 21), ('b16', 17), ('b17', 14), ('b18', 12), ('b19', 35), ('b20', 42), ('b21', 14), ('b22', 13), ('b23', 22), ('b24', 40), ('b25', 42), ('b26', 33), ('b27', 36), ('b28', 34), ('b29', 30), ('b30', 12), ('b31', 19), ('b32', 23), ('b33', 21), ('b34', 34), ('b35', 45), ('b36', 32), ('b37', 13), ('b38', 21), ('b39', 14), ('b40', 14), ('b41', 42), ('b42', 21), ('b43', 17), ('b44', 38), ('b45', 50), ('b46', 12), ('b47', 33), ('b48', 45), ('b49', 50), ('b50', 37)]\n",
      "100\n"
     ]
    }
   ],
   "source": [
    "A = [('a{}'.format(i+1), random.randint(1, 10)) for i in range(50)]\n",
    "\n",
    "B = [('b{}'.format(i+1), random.randint(10, 50)) for i in range(50)]\n",
    "\n",
    "jobs = A+B\n",
    "\n",
    "print(jobs)\n",
    "print(len(jobs))"
   ]
  },
  {
   "cell_type": "code",
   "execution_count": 36,
   "metadata": {},
   "outputs": [
    {
     "name": "stdout",
     "output_type": "stream",
     "text": [
      "Tempi:  [16.31147599220276, 15.322732925415039, 15.420289039611816, 15.354767084121704, 15.502780199050903, 15.398769855499268, 15.268924236297607, 15.7002272605896, 18.7014000415802, 17.935034036636353]\n",
      "Soluzioni:  [32362.0, 32367.0, 32362.0, 32360.0, 32358.0, 32401.0, 32349.0, 32370.0, 32386.0, 32399.0]\n"
     ]
    }
   ],
   "source": [
    "# numero totale di iterazioni\n",
    "n_iter = 1000\n",
    "# dimensione popolazione\n",
    "n_pop = 100\n",
    "# soglia crossover\n",
    "r_cross = 0.9\n",
    "# soglia mutazione\n",
    "r_mut = 0.6\n",
    "#coefficiente per la fitness function\n",
    "alfa = 0.5\n",
    "\n",
    "soluzioni = list()\n",
    "tempi_esecuzione = list()\n",
    "for _ in range(10):\n",
    "    tempo,best_eval = genetic_algorithm_time(jobs, n_iter, n_pop, r_cross, r_mut, alfa)\n",
    "    tempi_esecuzione.append(tempo)\n",
    "    soluzioni.append(best_eval)\n",
    "print(\"Tempi: \", tempi_esecuzione)\n",
    "print(\"Soluzioni: \", soluzioni)"
   ]
  },
  {
   "cell_type": "code",
   "execution_count": 37,
   "metadata": {},
   "outputs": [
    {
     "name": "stdout",
     "output_type": "stream",
     "text": [
      "Tempo medio di esecuzione:  16.091640067100524\n",
      "Soluzione media trovata:  32371.4\n",
      "Min:  32349.0\n"
     ]
    }
   ],
   "source": [
    "media_tempo_100job2 = sum(tempi_esecuzione)/len(tempi_esecuzione)\n",
    "media_soluzione_100job2 = sum(soluzioni)/len(soluzioni)\n",
    "print(\"Tempo medio di esecuzione: \", media_tempo_100job2)\n",
    "print(\"Soluzione media trovata: \", media_soluzione_100job2)\n",
    "print(\"Min: \", min(soluzioni))"
   ]
  },
  {
   "cell_type": "markdown",
   "metadata": {},
   "source": [
    "# PLOT DEI TEMPI DI DETECTION E DELLA SOLUZIONE MEDIA"
   ]
  },
  {
   "cell_type": "code",
   "execution_count": 28,
   "metadata": {},
   "outputs": [],
   "source": [
    "# tempi medi:\n",
    "#Tempo medio di esecuzione 10 job:  1.8839760303497315\n",
    "#Tempo medio di esecuzione 100 job:  17.818480134010315\n",
    "#Tempo medio di esecuzione 500 job:  273.49349296092987\n",
    "#Tempo medio di esecuzione 1000 job:  1119.3349575519562\n",
    "\n",
    "\n",
    "tempi = [1.88, 17.82, 273.49, 1119.33]\n"
   ]
  },
  {
   "cell_type": "code",
   "execution_count": 29,
   "metadata": {},
   "outputs": [],
   "source": [
    "# soluzioni medie:\n",
    "#Soluzione media trovata 10 job:  514.0\n",
    "#Soluzione media trovata 100 job:  59534.7\n",
    "#Soluzione media trovata 500 job:  1459386.0\n",
    "#Soluzione media trovata 1000 job:  6070092.2\n",
    "\n",
    "soluzioni = [514.0, 59534.7, 1459386.0, 6070092.2]\n",
    "\n"
   ]
  },
  {
   "cell_type": "code",
   "execution_count": 30,
   "metadata": {},
   "outputs": [],
   "source": [
    "numero_job = [10, 100, 500, 1000]"
   ]
  },
  {
   "cell_type": "code",
   "execution_count": 31,
   "metadata": {},
   "outputs": [
    {
     "data": {
      "image/png": "[encoded data removed]",
      "text/plain": [
       "<Figure size 640x480 with 1 Axes>"
      ]
     },
     "metadata": {},
     "output_type": "display_data"
    }
   ],
   "source": [
    "# Plot dei risultati\n",
    "plt.plot(numero_job, tempi, marker='o')\n",
    "plt.xlabel('Numero Job')\n",
    "plt.ylabel('Tempo di esecuzione(s)')\n",
    "plt.title('Tempo di esecuzione al variare del numero di job in input')\n",
    "plt.grid(True)\n",
    "plt.show()"
   ]
  },
  {
   "cell_type": "code",
   "execution_count": 29,
   "metadata": {},
   "outputs": [
    {
     "data": {
      "image/png": "[encoded data removed]",
      "text/plain": [
       "<Figure size 640x480 with 1 Axes>"
      ]
     },
     "metadata": {},
     "output_type": "display_data"
    }
   ],
   "source": [
    "# Plot dei risultati\n",
    "plt.plot(numero_job, soluzioni, marker='o')\n",
    "plt.xlabel('Num Job')\n",
    "plt.ylabel('Soluzione media')\n",
    "plt.title('Soluzione trovata al variare del numero di job in input')\n",
    "plt.grid(True)\n",
    "plt.show()"
   ]
  },
  {
   "cell_type": "markdown",
   "metadata": {},
   "source": [
    "# ESPERIMENTI SULLE DUE FUNZIONI OBIETTIVO"
   ]
  },
  {
   "cell_type": "markdown",
   "metadata": {},
   "source": [
    "### PLOTTIAMO I DUE VALORI DELLE FUNZIONI OBIETTIVO AL VARIARE DELLA LUNGHEZZA DEI JOB DI B (CON A FISSATO)"
   ]
  },
  {
   "cell_type": "code",
   "execution_count": 4,
   "metadata": {},
   "outputs": [],
   "source": [
    "def objective_functions(soluzione):\n",
    "    somma_A = 0\n",
    "    somma_B = 0\n",
    "    somma_tot = 0\n",
    "    for job in soluzione:\n",
    "        string = str(job[0])\n",
    "        somma_tot += job[1]\n",
    "        if string.startswith('a'):\n",
    "            somma_A += somma_tot\n",
    "        else:\n",
    "            somma_B += somma_tot\n",
    "    \n",
    "    return [somma_A + somma_B , abs(somma_A - somma_B)]"
   ]
  },
  {
   "cell_type": "markdown",
   "metadata": {},
   "source": [
    "## 10 esecuzioni con 100 job: ogni esecuzione la lunghezza dei job di B è incrementata"
   ]
  },
  {
   "cell_type": "code",
   "execution_count": 15,
   "metadata": {},
   "outputs": [
    {
     "name": "stdout",
     "output_type": "stream",
     "text": [
      "20816\n",
      "0\n",
      "\n",
      "46104\n",
      "8\n",
      "\n",
      "50820\n",
      "2\n",
      "\n",
      "62437\n",
      "7\n",
      "\n",
      "72727\n",
      "9\n",
      "\n",
      "78680\n",
      "2\n",
      "\n",
      "72308\n",
      "4\n",
      "\n",
      "105482\n",
      "0\n",
      "\n",
      "104827\n",
      "35\n",
      "\n"
     ]
    }
   ],
   "source": [
    "# numero totale di iterazioni\n",
    "n_iter = 1000\n",
    "# dimensione popolazione\n",
    "n_pop = 100\n",
    "# soglia crossover\n",
    "r_cross = 0.9\n",
    "# soglia mutazione\n",
    "r_mut = 0.6\n",
    "#coefficiente per la fitness function\n",
    "alfa = 0.5\n",
    "\n",
    "A = [('a{}'.format(i+1), random.randint(1, 10)) for i in range(50)]\n",
    "lista_function1,lista_function2 = list(), list()\n",
    "for j in range(1,10):\n",
    "    if(j ==1):\n",
    "        B = [('b{}'.format(i+1), random.randint(1, 10*j)) for i in range(50)]\n",
    "    else:\n",
    "        B = [('b{}'.format(i+1), random.randint(10, 10*j)) for i in range(50)]\n",
    "    jobs = A+B\n",
    "    best,best_eval = genetic_algorithm_alfa(jobs, n_iter, n_pop, r_cross, r_mut, alfa)\n",
    "    function1,function2 = objective_functions(best)\n",
    "    print(function1)\n",
    "    print(function2)\n",
    "    print(\"\")\n",
    "    lista_function1.append(function1)\n",
    "    lista_function2.append(function2)\n"
   ]
  },
  {
   "cell_type": "code",
   "execution_count": 67,
   "metadata": {},
   "outputs": [
    {
     "data": {
      "image/png": "[encoded data removed]",
      "text/plain": [
       "<Figure size 640x480 with 1 Axes>"
      ]
     },
     "metadata": {},
     "output_type": "display_data"
    }
   ],
   "source": [
    "lista_iterazioni = list()\n",
    "for i in range(1,10):\n",
    "    lista_iterazioni.append(i)\n",
    "# Plot function1\n",
    "plt.plot(lista_iterazioni, lista_function1, marker='o')\n",
    "plt.xlabel('num esecuzioni')\n",
    "plt.ylabel('valori funzione obiettivo 1')\n",
    "plt.title('Andamento')\n",
    "plt.grid(True)\n",
    "plt.show()"
   ]
  },
  {
   "cell_type": "code",
   "execution_count": 68,
   "metadata": {},
   "outputs": [
    {
     "data": {
      "image/png": "[encoded data removed]",
      "text/plain": [
       "<Figure size 640x480 with 1 Axes>"
      ]
     },
     "metadata": {},
     "output_type": "display_data"
    }
   ],
   "source": [
    "lista_iterazioni = list()\n",
    "for i in range(1,10):\n",
    "    lista_iterazioni.append(i)\n",
    "# Plot function2\n",
    "plt.plot(lista_iterazioni, lista_function2, marker='o')\n",
    "plt.xlabel('iterazione')\n",
    "plt.ylabel('valori funzione obiettivo 2')\n",
    "plt.title('Andamento')\n",
    "plt.grid(True)\n",
    "plt.show()"
   ]
  },
  {
   "cell_type": "markdown",
   "metadata": {},
   "source": [
    "## ESPERIMENTO PER VEDERE CONVERGENZA"
   ]
  },
  {
   "cell_type": "code",
   "execution_count": 16,
   "metadata": {},
   "outputs": [],
   "source": [
    "jobs = [('a1', 22), ('a2', 49), ('a3', 19), ('a4', 13), ('a5', 35), ('a6', 26), ('a7', 14), ('a8', 41), ('a9', 28), ('a10', 38), ('a11', 18), ('a12', 21), ('a13', 35), ('a14', 18), ('a15', 15), ('a16', 30), ('a17', 33), ('a18', 12), ('a19', 34), ('a20', 25), ('a21', 26), ('a22', 27), ('a23', 24), ('a24', 10), ('a25', 41), ('a26', 46), ('a27', 21), ('a28', 46), ('a29', 45), ('a30', 16), ('a31', 45), ('a32', 28), ('a33', 32), ('a34', 20), ('a35', 49), ('a36', 11), ('a37', 18), ('a38', 49), ('a39', 28), ('a40', 37), ('a41', 40), ('a42', 37), ('a43', 30), ('a44', 42), ('a45', 22), ('a46', 27), ('a47', 46), ('a48', 19), ('a49', 43), ('a50', 50), ('b1', 29), ('b2', 21), ('b3', 16), ('b4', 17), ('b5', 35), ('b6', 13), ('b7', 32), ('b8', 39), ('b9', 14), ('b10', 18), ('b11', 16), ('b12', 37), ('b13', 49), ('b14', 50), ('b15', 44), ('b16', 30), ('b17', 44), ('b18', 48), ('b19', 30), ('b20', 19), ('b21', 38), ('b22', 19), ('b23', 27), ('b24', 10), ('b25', 30), ('b26', 46), ('b27', 15), ('b28', 24), ('b29', 33), ('b30', 48), ('b31', 17), ('b32', 28), ('b33', 46), ('b34', 26), ('b35', 33), ('b36', 26), ('b37', 29), ('b38', 27), ('b39', 23), ('b40', 35), ('b41', 30), ('b42', 25), ('b43', 31), ('b44', 19), ('b45', 23), ('b46', 44), ('b47', 42), ('b48', 46), ('b49', 15), ('b50', 50)]"
   ]
  },
  {
   "cell_type": "code",
   "execution_count": 18,
   "metadata": {},
   "outputs": [
    {
     "name": "stdout",
     "output_type": "stream",
     "text": [
      ">0, new best f([('b6', 13), ('b2', 21), ('b47', 42), ('b11', 16), ('b48', 46), ('a32', 28), ('a38', 49), ('b32', 28), ('a25', 41), ('a27', 21), ('b1', 29), ('a7', 14), ('b21', 38), ('b38', 27), ('b27', 15), ('b45', 23), ('a10', 38), ('b23', 27), ('b10', 18), ('a20', 25), ('a16', 30), ('a3', 19), ('a11', 18), ('a2', 49), ('b31', 17), ('a46', 27), ('b24', 10), ('b33', 46), ('b5', 35), ('b8', 39), ('a1', 22), ('b34', 26), ('b35', 33), ('a45', 22), ('a24', 10), ('a31', 45), ('a15', 15), ('a29', 45), ('a5', 35), ('a35', 49), ('a49', 43), ('a14', 18), ('b49', 15), ('b42', 25), ('b46', 44), ('a47', 46), ('b3', 16), ('a42', 37), ('b15', 44), ('a41', 40), ('b22', 19), ('b28', 24), ('a23', 24), ('b9', 14), ('a39', 28), ('b41', 30), ('a43', 30), ('a34', 20), ('a40', 37), ('a30', 16), ('a13', 35), ('a44', 42), ('a36', 11), ('b50', 50), ('b12', 37), ('b16', 30), ('a17', 33), ('a12', 21), ('a28', 46), ('b25', 30), ('a4', 13), ('a48', 19), ('b26', 46), ('b39', 23), ('a19', 34), ('a6', 26), ('a22', 27), ('b18', 48), ('a18', 12), ('a8', 41), ('b20', 19), ('b14', 50), ('b44', 19), ('a21', 26), ('b36', 26), ('b7', 32), ('a37', 18), ('b13', 49), ('a33', 32), ('b40', 35), ('b29', 33), ('a9', 28), ('b43', 31), ('b19', 30), ('b37', 29), ('b30', 48), ('b17', 44), ('a50', 50), ('a26', 46), ('b4', 17)]) = 73631.000\n",
      ">2, new best f([('b29', 33), ('b3', 16), ('b4', 17), ('a41', 40), ('a37', 18), ('a12', 21), ('b42', 25), ('a20', 25), ('a15', 15), ('b14', 50), ('b49', 15), ('b47', 42), ('a34', 20), ('b25', 30), ('a2', 49), ('a45', 22), ('a46', 27), ('b24', 10), ('a36', 11), ('b45', 23), ('a21', 26), ('b28', 24), ('a43', 30), ('b33', 46), ('b9', 14), ('b35', 33), ('b19', 30), ('b40', 35), ('a6', 26), ('b6', 13), ('b11', 16), ('a32', 28), ('a18', 12), ('b8', 39), ('a31', 45), ('b46', 44), ('b44', 19), ('a10', 38), ('a38', 49), ('a19', 34), ('b50', 50), ('a44', 42), ('b5', 35), ('a1', 22), ('b38', 27), ('b1', 29), ('b22', 19), ('a14', 18), ('a27', 21), ('a7', 14), ('b21', 38), ('a50', 50), ('a30', 16), ('a42', 37), ('b18', 48), ('a24', 10), ('b10', 18), ('a39', 28), ('b27', 15), ('a35', 49), ('a47', 46), ('a25', 41), ('b12', 37), ('b43', 31), ('a48', 19), ('b7', 32), ('a29', 45), ('a4', 13), ('b32', 28), ('b2', 21), ('b37', 29), ('a33', 32), ('a8', 41), ('a49', 43), ('a28', 46), ('a13', 35), ('b20', 19), ('b16', 30), ('b34', 26), ('b17', 44), ('b36', 26), ('a16', 30), ('a22', 27), ('a3', 19), ('b15', 44), ('b26', 46), ('a40', 37), ('a26', 46), ('a9', 28), ('b41', 30), ('b39', 23), ('b31', 17), ('b48', 46), ('a17', 33), ('a5', 35), ('b23', 27), ('a11', 18), ('b13', 49), ('b30', 48), ('a23', 24)]) = 73395.000\n",
      ">2, new best f([('a3', 19), ('b23', 27), ('a31', 45), ('a48', 19), ('a21', 26), ('b21', 38), ('b1', 29), ('b28', 24), ('b18', 48), ('a49', 43), ('b4', 17), ('a23', 24), ('a34', 20), ('b24', 10), ('b38', 27), ('a2', 49), ('b20', 19), ('b31', 17), ('b49', 15), ('a1', 22), ('a40', 37), ('b44', 19), ('b17', 44), ('b7', 32), ('a24', 10), ('b34', 26), ('b36', 26), ('b33', 46), ('a45', 22), ('a29', 45), ('a18', 12), ('a17', 33), ('b9', 14), ('a25', 41), ('a37', 18), ('a50', 50), ('a22', 27), ('a14', 18), ('a27', 21), ('b13', 49), ('a11', 18), ('b41', 30), ('a20', 25), ('b8', 39), ('a7', 14), ('b3', 16), ('a16', 30), ('a15', 15), ('b15', 44), ('a44', 42), ('b37', 29), ('a9', 28), ('b27', 15), ('b11', 16), ('a10', 38), ('a47', 46), ('b47', 42), ('a4', 13), ('b29', 33), ('a28', 46), ('b32', 28), ('b5', 35), ('a5', 35), ('b39', 23), ('b6', 13), ('b46', 44), ('a41', 40), ('a46', 27), ('a33', 32), ('b19', 30), ('b40', 35), ('a43', 30), ('b10', 18), ('b50', 50), ('a32', 28), ('a36', 11), ('b42', 25), ('b48', 46), ('b25', 30), ('b2', 21), ('a42', 37), ('b45', 23), ('b43', 31), ('b35', 33), ('b22', 19), ('a30', 16), ('a8', 41), ('a13', 35), ('a35', 49), ('a26', 46), ('a19', 34), ('b26', 46), ('b12', 37), ('b16', 30), ('b30', 48), ('a38', 49), ('a6', 26), ('a12', 21), ('a39', 28), ('b14', 50)]) = 72606.000\n",
      ">5, new best f([('b29', 33), ('b3', 16), ('b4', 17), ('a41', 40), ('a37', 18), ('a12', 21), ('b42', 25), ('a5', 35), ('a15', 15), ('b14', 50), ('b49', 15), ('b47', 42), ('a34', 20), ('b25', 30), ('a2', 49), ('a45', 22), ('a46', 27), ('b24', 10), ('a36', 11), ('b45', 23), ('a21', 26), ('b28', 24), ('a43', 30), ('a26', 46), ('b9', 14), ('b35', 33), ('b19', 30), ('b40', 35), ('a6', 26), ('b6', 13), ('b11', 16), ('a32', 28), ('a18', 12), ('b8', 39), ('a31', 45), ('b46', 44), ('b44', 19), ('a10', 38), ('a38', 49), ('a19', 34), ('b50', 50), ('a44', 42), ('b5', 35), ('a1', 22), ('b38', 27), ('b1', 29), ('b22', 19), ('a14', 18), ('a27', 21), ('a7', 14), ('b2', 21), ('b48', 46), ('b32', 28), ('a25', 41), ('b21', 38), ('b27', 15), ('b23', 27), ('b10', 18), ('a16', 30), ('a3', 19), ('a11', 18), ('b31', 17), ('b34', 26), ('a24', 10), ('a29', 45), ('a20', 25), ('a35', 49), ('a49', 43), ('a47', 46), ('a42', 37), ('b15', 44), ('a23', 24), ('a39', 28), ('a40', 37), ('a30', 16), ('a13', 35), ('b12', 37), ('b16', 30), ('b43', 31), ('b13', 49), ('a33', 32), ('b33', 46), ('a48', 19), ('b18', 48), ('b20', 19), ('b17', 44), ('b7', 32), ('b36', 26), ('a17', 33), ('a50', 50), ('a22', 27), ('b41', 30), ('b37', 29), ('a9', 28), ('a4', 13), ('a8', 41), ('b30', 48), ('b26', 46), ('b39', 23), ('a28', 46)]) = 72578.000\n",
      ">5, new best f([('a50', 50), ('b19', 30), ('b39', 23), ('a4', 13), ('b23', 27), ('b38', 27), ('a31', 45), ('a27', 21), ('b42', 25), ('b2', 21), ('b5', 35), ('b29', 33), ('a18', 12), ('b24', 10), ('b20', 19), ('a39', 28), ('b25', 30), ('a24', 10), ('b3', 16), ('b4', 17), ('a41', 40), ('a37', 18), ('a12', 21), ('a20', 25), ('a15', 15), ('b14', 50), ('b49', 15), ('b47', 42), ('a34', 20), ('a7', 14), ('a45', 22), ('a46', 27), ('a36', 11), ('b45', 23), ('a21', 26), ('b28', 24), ('a43', 30), ('b33', 46), ('b9', 14), ('b35', 33), ('b40', 35), ('a6', 26), ('a29', 45), ('b11', 16), ('a32', 28), ('b8', 39), ('b46', 44), ('b44', 19), ('a10', 38), ('a38', 49), ('a19', 34), ('b50', 50), ('a44', 42), ('a1', 22), ('b1', 29), ('b22', 19), ('a14', 18), ('a2', 49), ('b21', 38), ('a30', 16), ('a42', 37), ('b48', 46), ('b13', 49), ('a13', 35), ('a3', 19), ('a11', 18), ('b31', 17), ('a40', 37), ('a28', 46), ('b37', 29), ('a35', 49), ('b7', 32), ('a23', 24), ('a16', 30), ('a8', 41), ('a33', 32), ('b17', 44), ('b12', 37), ('b16', 30), ('b34', 26), ('a26', 46), ('a22', 27), ('a9', 28), ('b43', 31), ('b10', 18), ('b27', 15), ('b18', 48), ('b36', 26), ('a48', 19), ('b30', 48), ('a17', 33), ('b32', 28), ('b6', 13), ('b15', 44), ('a25', 41), ('b26', 46), ('b41', 30), ('a5', 35), ('a49', 43), ('a47', 46)]) = 71558.000\n",
      ">6, new best f([('b43', 31), ('a3', 19), ('a44', 42), ('b24', 10), ('b20', 19), ('b45', 23), ('a50', 50), ('a15', 15), ('b15', 44), ('b2', 21), ('a48', 19), ('a34', 20), ('b16', 30), ('a42', 37), ('b38', 27), ('b35', 33), ('b49', 15), ('a36', 11), ('a1', 22), ('a4', 13), ('a18', 12), ('a33', 32), ('b29', 33), ('b3', 16), ('b4', 17), ('a41', 40), ('a37', 18), ('a12', 21), ('b42', 25), ('a20', 25), ('b14', 50), ('b47', 42), ('b25', 30), ('a2', 49), ('a45', 22), ('a46', 27), ('a21', 26), ('b28', 24), ('a43', 30), ('b33', 46), ('b9', 14), ('b19', 30), ('b40', 35), ('a6', 26), ('b6', 13), ('b11', 16), ('a32', 28), ('b32', 28), ('a23', 24), ('a22', 27), ('a5', 35), ('b44', 19), ('b39', 23), ('b27', 15), ('b23', 27), ('a27', 21), ('b8', 39), ('b48', 46), ('b17', 44), ('a35', 49), ('b12', 37), ('a24', 10), ('a16', 30), ('b34', 26), ('a29', 45), ('b1', 29), ('a38', 49), ('a25', 41), ('a7', 14), ('b21', 38), ('a10', 38), ('b10', 18), ('b13', 49), ('a11', 18), ('b31', 17), ('b5', 35), ('a31', 45), ('a49', 43), ('a14', 18), ('b46', 44), ('a47', 46), ('b22', 19), ('a39', 28), ('a40', 37), ('a30', 16), ('a13', 35), ('b50', 50), ('a26', 46), ('b18', 48), ('a8', 41), ('b26', 46), ('b36', 26), ('b37', 29), ('a19', 34), ('b7', 32), ('a9', 28), ('a28', 46), ('a17', 33), ('b30', 48), ('b41', 30)]) = 71552.000\n",
      ">6, new best f([('a50', 50), ('b19', 30), ('b39', 23), ('a4', 13), ('b23', 27), ('b38', 27), ('a31', 45), ('a27', 21), ('b42', 25), ('b2', 21), ('b5', 35), ('b29', 33), ('a18', 12), ('b24', 10), ('b20', 19), ('a39', 28), ('b25', 30), ('a24', 10), ('b3', 16), ('b4', 17), ('a41', 40), ('a37', 18), ('a12', 21), ('a20', 25), ('a15', 15), ('b14', 50), ('b49', 15), ('b47', 42), ('a34', 20), ('a7', 14), ('a45', 22), ('a46', 27), ('a36', 11), ('b45', 23), ('a21', 26), ('b28', 24), ('a43', 30), ('b33', 46), ('b9', 14), ('b35', 33), ('b40', 35), ('a6', 26), ('a29', 45), ('b11', 16), ('a32', 28), ('b8', 39), ('b46', 44), ('b44', 19), ('a10', 38), ('a38', 49), ('a19', 34), ('b16', 30), ('a44', 42), ('a1', 22), ('b1', 29), ('b22', 19), ('a14', 18), ('a2', 49), ('b21', 38), ('a30', 16), ('a42', 37), ('b48', 46), ('b13', 49), ('a13', 35), ('a3', 19), ('a11', 18), ('b31', 17), ('a40', 37), ('a28', 46), ('b37', 29), ('a35', 49), ('b7', 32), ('a23', 24), ('a16', 30), ('a8', 41), ('a33', 32), ('b17', 44), ('b12', 37), ('b50', 50), ('b34', 26), ('a26', 46), ('a22', 27), ('a9', 28), ('b43', 31), ('b10', 18), ('b27', 15), ('b18', 48), ('b36', 26), ('a48', 19), ('b30', 48), ('a17', 33), ('b32', 28), ('b6', 13), ('b15', 44), ('a25', 41), ('b26', 46), ('b41', 30), ('a5', 35), ('a49', 43), ('a47', 46)]) = 71238.000\n",
      ">7, new best f([('a50', 50), ('b19', 30), ('b39', 23), ('a4', 13), ('b23', 27), ('b38', 27), ('a31', 45), ('a27', 21), ('b42', 25), ('b2', 21), ('b5', 35), ('b29', 33), ('a18', 12), ('b24', 10), ('b20', 19), ('a39', 28), ('b25', 30), ('a24', 10), ('b3', 16), ('b4', 17), ('a41', 40), ('a37', 18), ('a12', 21), ('a20', 25), ('a15', 15), ('b14', 50), ('b49', 15), ('b47', 42), ('a34', 20), ('a7', 14), ('a45', 22), ('a46', 27), ('a36', 11), ('b45', 23), ('a21', 26), ('b28', 24), ('a43', 30), ('b33', 46), ('b9', 14), ('b35', 33), ('b40', 35), ('a6', 26), ('a29', 45), ('b11', 16), ('a32', 28), ('b31', 17), ('b46', 44), ('b44', 19), ('a10', 38), ('a38', 49), ('a19', 34), ('b50', 50), ('a44', 42), ('a1', 22), ('b1', 29), ('b22', 19), ('a14', 18), ('a2', 49), ('b21', 38), ('a30', 16), ('a42', 37), ('b48', 46), ('b13', 49), ('a13', 35), ('a3', 19), ('a11', 18), ('b8', 39), ('a40', 37), ('a28', 46), ('b6', 13), ('a25', 41), ('a48', 19), ('b18', 48), ('a49', 43), ('a23', 24), ('b17', 44), ('b7', 32), ('b34', 26), ('b36', 26), ('a17', 33), ('a22', 27), ('b41', 30), ('a16', 30), ('b15', 44), ('a5', 35), ('a26', 46), ('b32', 28), ('b27', 15), ('b10', 18), ('a35', 49), ('a47', 46), ('b12', 37), ('b16', 30), ('b43', 31), ('a33', 32), ('b37', 29), ('a9', 28), ('a8', 41), ('b30', 48), ('b26', 46)]) = 70768.000\n",
      ">9, new best f([('b29', 33), ('b3', 16), ('b4', 17), ('a41', 40), ('a37', 18), ('a12', 21), ('b42', 25), ('a20', 25), ('a15', 15), ('b14', 50), ('b49', 15), ('b47', 42), ('a34', 20), ('b25', 30), ('a7', 14), ('a45', 22), ('a46', 27), ('b24', 10), ('a36', 11), ('b45', 23), ('a21', 26), ('b28', 24), ('a43', 30), ('b33', 46), ('b9', 14), ('b35', 33), ('b19', 30), ('b40', 35), ('b6', 13), ('a2', 49), ('a10', 38), ('a50', 50), ('b39', 23), ('a4', 13), ('b23', 27), ('a48', 19), ('b11', 16), ('a32', 28), ('a18', 12), ('b13', 49), ('b32', 28), ('a23', 24), ('a1', 22), ('a22', 27), ('a5', 35), ('b15', 44), ('b44', 19), ('b27', 15), ('a27', 21), ('a29', 45), ('b38', 27), ('a31', 45), ('b2', 21), ('b5', 35), ('b20', 19), ('a39', 28), ('a24', 10), ('a6', 26), ('b31', 17), ('b46', 44), ('a38', 49), ('a19', 34), ('b50', 50), ('a44', 42), ('b1', 29), ('b22', 19), ('a14', 18), ('b21', 38), ('a30', 16), ('a42', 37), ('b48', 46), ('a13', 35), ('a3', 19), ('a11', 18), ('b41', 30), ('a40', 37), ('a28', 46), ('a25', 41), ('b18', 48), ('a49', 43), ('b17', 44), ('b7', 32), ('b34', 26), ('b36', 26), ('a17', 33), ('b8', 39), ('a16', 30), ('a26', 46), ('b10', 18), ('a35', 49), ('a47', 46), ('b12', 37), ('b16', 30), ('b43', 31), ('a33', 32), ('b37', 29), ('a9', 28), ('a8', 41), ('b30', 48), ('b26', 46)]) = 70386.000\n",
      ">9, new best f([('b29', 33), ('b3', 16), ('a11', 18), ('b19', 30), ('b39', 23), ('a4', 13), ('b23', 27), ('b38', 27), ('a31', 45), ('a27', 21), ('b42', 25), ('b2', 21), ('b5', 35), ('a18', 12), ('b24', 10), ('b20', 19), ('a39', 28), ('b25', 30), ('a24', 10), ('b4', 17), ('a41', 40), ('a37', 18), ('a12', 21), ('a20', 25), ('a15', 15), ('b14', 50), ('b49', 15), ('b47', 42), ('a34', 20), ('a2', 49), ('a45', 22), ('a46', 27), ('a36', 11), ('b45', 23), ('a21', 26), ('b28', 24), ('a43', 30), ('a26', 46), ('b9', 14), ('b35', 33), ('b40', 35), ('a6', 26), ('b6', 13), ('b11', 16), ('a32', 28), ('b46', 44), ('a33', 32), ('a10', 38), ('a38', 49), ('a19', 34), ('b50', 50), ('a44', 42), ('a1', 22), ('b1', 29), ('b22', 19), ('a14', 18), ('a7', 14), ('b48', 46), ('b32', 28), ('a25', 41), ('b21', 38), ('b27', 15), ('b10', 18), ('a16', 30), ('a3', 19), ('b8', 39), ('b31', 17), ('b34', 26), ('a29', 45), ('a5', 35), ('a49', 43), ('a47', 46), ('a42', 37), ('b15', 44), ('a23', 24), ('a40', 37), ('a30', 16), ('a13', 35), ('b12', 37), ('b33', 46), ('a48', 19), ('b18', 48), ('b17', 44), ('b7', 32), ('b36', 26), ('a17', 33), ('a50', 50), ('a22', 27), ('b13', 49), ('b44', 19), ('a35', 49), ('b16', 30), ('b43', 31), ('b37', 29), ('a8', 41), ('a28', 46), ('a9', 28), ('b41', 30), ('b26', 46), ('b30', 48)]) = 69818.000\n",
      ">11, new best f([('b29', 33), ('b3', 16), ('a11', 18), ('b19', 30), ('b39', 23), ('a4', 13), ('b23', 27), ('b38', 27), ('a31', 45), ('a27', 21), ('b42', 25), ('b2', 21), ('b5', 35), ('a18', 12), ('b24', 10), ('b20', 19), ('a39', 28), ('b25', 30), ('a24', 10), ('b4', 17), ('a41', 40), ('a37', 18), ('a12', 21), ('a20', 25), ('a15', 15), ('b14', 50), ('b49', 15), ('a33', 32), ('a34', 20), ('a2', 49), ('a45', 22), ('a46', 27), ('a36', 11), ('b45', 23), ('a21', 26), ('b28', 24), ('a43', 30), ('b17', 44), ('b9', 14), ('b35', 33), ('b40', 35), ('a6', 26), ('a7', 14), ('a3', 19), ('b33', 46), ('a10', 38), ('b27', 15), ('b6', 13), ('b11', 16), ('a50', 50), ('a26', 46), ('a5', 35), ('a32', 28), ('b8', 39), ('b46', 44), ('b44', 19), ('a38', 49), ('a19', 34), ('b50', 50), ('a1', 22), ('b1', 29), ('b22', 19), ('a14', 18), ('b48', 46), ('b32', 28), ('a25', 41), ('b21', 38), ('a42', 37), ('b10', 18), ('a16', 30), ('b31', 17), ('b34', 26), ('a29', 45), ('a35', 49), ('a49', 43), ('a47', 46), ('b15', 44), ('a23', 24), ('a40', 37), ('a30', 16), ('a13', 35), ('b12', 37), ('b16', 30), ('b43', 31), ('b13', 49), ('b47', 42), ('a48', 19), ('b18', 48), ('a44', 42), ('b7', 32), ('b36', 26), ('a17', 33), ('a22', 27), ('b41', 30), ('b37', 29), ('a9', 28), ('a8', 41), ('b30', 48), ('b26', 46), ('a28', 46)]) = 69450.000\n",
      ">12, new best f([('b29', 33), ('b3', 16), ('a11', 18), ('b19', 30), ('b39', 23), ('a4', 13), ('b23', 27), ('b38', 27), ('a31', 45), ('a27', 21), ('b42', 25), ('a21', 26), ('b5', 35), ('a18', 12), ('b24', 10), ('b20', 19), ('a39', 28), ('b25', 30), ('a24', 10), ('b4', 17), ('a41', 40), ('a37', 18), ('a12', 21), ('a20', 25), ('a15', 15), ('b14', 50), ('b49', 15), ('b47', 42), ('a34', 20), ('a2', 49), ('a45', 22), ('a46', 27), ('a36', 11), ('b45', 23), ('b2', 21), ('b28', 24), ('a43', 30), ('b17', 44), ('b9', 14), ('b35', 33), ('b40', 35), ('a6', 26), ('b6', 13), ('b11', 16), ('a32', 28), ('b46', 44), ('a33', 32), ('a10', 38), ('a38', 49), ('a19', 34), ('b41', 30), ('a44', 42), ('a1', 22), ('b1', 29), ('b22', 19), ('a14', 18), ('a7', 14), ('b48', 46), ('b32', 28), ('a25', 41), ('b21', 38), ('b27', 15), ('b10', 18), ('a16', 30), ('a3', 19), ('b8', 39), ('b31', 17), ('b34', 26), ('a29', 45), ('a5', 35), ('a49', 43), ('a47', 46), ('a42', 37), ('b15', 44), ('a23', 24), ('a40', 37), ('a30', 16), ('a13', 35), ('b12', 37), ('b33', 46), ('a48', 19), ('b18', 48), ('a26', 46), ('b7', 32), ('b36', 26), ('a17', 33), ('a50', 50), ('a22', 27), ('b13', 49), ('b44', 19), ('a35', 49), ('b16', 30), ('b43', 31), ('b37', 29), ('a8', 41), ('a28', 46), ('a9', 28), ('b50', 50), ('b26', 46), ('b30', 48)]) = 69380.000\n",
      ">13, new best f([('b29', 33), ('b3', 16), ('a11', 18), ('b19', 30), ('b39', 23), ('a4', 13), ('b23', 27), ('b38', 27), ('a31', 45), ('a27', 21), ('b42', 25), ('b2', 21), ('b5', 35), ('a18', 12), ('b24', 10), ('b20', 19), ('a39', 28), ('b25', 30), ('a24', 10), ('b4', 17), ('a41', 40), ('a37', 18), ('a12', 21), ('a20', 25), ('a15', 15), ('b14', 50), ('b49', 15), ('a30', 16), ('a34', 20), ('a2', 49), ('a45', 22), ('a46', 27), ('a36', 11), ('b45', 23), ('a21', 26), ('b28', 24), ('a43', 30), ('b17', 44), ('b9', 14), ('b35', 33), ('b40', 35), ('a6', 26), ('b6', 13), ('b11', 16), ('a32', 28), ('b46', 44), ('a33', 32), ('a10', 38), ('a38', 49), ('a19', 34), ('b50', 50), ('a44', 42), ('a1', 22), ('b1', 29), ('b22', 19), ('a14', 18), ('a7', 14), ('b48', 46), ('b32', 28), ('a25', 41), ('b21', 38), ('b27', 15), ('b10', 18), ('a16', 30), ('a3', 19), ('b8', 39), ('b31', 17), ('b34', 26), ('a29', 45), ('a5', 35), ('a49', 43), ('a47', 46), ('a42', 37), ('b15', 44), ('a23', 24), ('a40', 37), ('b47', 42), ('a13', 35), ('b12', 37), ('b33', 46), ('a48', 19), ('b18', 48), ('a26', 46), ('b7', 32), ('b36', 26), ('a17', 33), ('a50', 50), ('a22', 27), ('b13', 49), ('b44', 19), ('a35', 49), ('b16', 30), ('b43', 31), ('b37', 29), ('b41', 30), ('a9', 28), ('a28', 46), ('b30', 48), ('a8', 41), ('b26', 46)]) = 69121.000\n",
      ">14, new best f([('b29', 33), ('b3', 16), ('a11', 18), ('b19', 30), ('b39', 23), ('a4', 13), ('b23', 27), ('b38', 27), ('a31', 45), ('a27', 21), ('b42', 25), ('b2', 21), ('b5', 35), ('a18', 12), ('b24', 10), ('b20', 19), ('a39', 28), ('b25', 30), ('a24', 10), ('b4', 17), ('a41', 40), ('a37', 18), ('a12', 21), ('a20', 25), ('a15', 15), ('b14', 50), ('b49', 15), ('a30', 16), ('a34', 20), ('a44', 42), ('a45', 22), ('a46', 27), ('a36', 11), ('b45', 23), ('a21', 26), ('b28', 24), ('a43', 30), ('b17', 44), ('b9', 14), ('b35', 33), ('b40', 35), ('a6', 26), ('b6', 13), ('b11', 16), ('a32', 28), ('b46', 44), ('a33', 32), ('a10', 38), ('a38', 49), ('a19', 34), ('b50', 50), ('a2', 49), ('a1', 22), ('b1', 29), ('b22', 19), ('a14', 18), ('a7', 14), ('b48', 46), ('b32', 28), ('a25', 41), ('b21', 38), ('b27', 15), ('b10', 18), ('a16', 30), ('a3', 19), ('b8', 39), ('b31', 17), ('b34', 26), ('a29', 45), ('a5', 35), ('a49', 43), ('a47', 46), ('a42', 37), ('b15', 44), ('a23', 24), ('a40', 37), ('b47', 42), ('a13', 35), ('b12', 37), ('b33', 46), ('a48', 19), ('b18', 48), ('a26', 46), ('b7', 32), ('b36', 26), ('a17', 33), ('a50', 50), ('a22', 27), ('b13', 49), ('b44', 19), ('a35', 49), ('b16', 30), ('b43', 31), ('b37', 29), ('b41', 30), ('a9', 28), ('a28', 46), ('b30', 48), ('a8', 41), ('b26', 46)]) = 69051.000\n",
      ">15, new best f([('b16', 30), ('b3', 16), ('a11', 18), ('b19', 30), ('b39', 23), ('a4', 13), ('b23', 27), ('b38', 27), ('a31', 45), ('a27', 21), ('b42', 25), ('b2', 21), ('b5', 35), ('a18', 12), ('b24', 10), ('b20', 19), ('a39', 28), ('b25', 30), ('a24', 10), ('b4', 17), ('a41', 40), ('a37', 18), ('a12', 21), ('a20', 25), ('a15', 15), ('b14', 50), ('b49', 15), ('a30', 16), ('a34', 20), ('a44', 42), ('a45', 22), ('a46', 27), ('a36', 11), ('b45', 23), ('a21', 26), ('b28', 24), ('a43', 30), ('b17', 44), ('b9', 14), ('b35', 33), ('b40', 35), ('a6', 26), ('b6', 13), ('b11', 16), ('a32', 28), ('b46', 44), ('a33', 32), ('a10', 38), ('a38', 49), ('a19', 34), ('b50', 50), ('a2', 49), ('a1', 22), ('b1', 29), ('b22', 19), ('a14', 18), ('a7', 14), ('b48', 46), ('b32', 28), ('a25', 41), ('b21', 38), ('b27', 15), ('b10', 18), ('a16', 30), ('a3', 19), ('b8', 39), ('b31', 17), ('b34', 26), ('a29', 45), ('a5', 35), ('a49', 43), ('a47', 46), ('a42', 37), ('b15', 44), ('a23', 24), ('a40', 37), ('b47', 42), ('a13', 35), ('b12', 37), ('b33', 46), ('a48', 19), ('b18', 48), ('a26', 46), ('b7', 32), ('b36', 26), ('b43', 31), ('a17', 33), ('b44', 19), ('a22', 27), ('b41', 30), ('a50', 50), ('b13', 49), ('a35', 49), ('b29', 33), ('b37', 29), ('a8', 41), ('a28', 46), ('a9', 28), ('b26', 46), ('b30', 48)]) = 68564.000\n",
      ">16, new best f([('b29', 33), ('b3', 16), ('a11', 18), ('b19', 30), ('b39', 23), ('a4', 13), ('b23', 27), ('b38', 27), ('a31', 45), ('a27', 21), ('b42', 25), ('b2', 21), ('b5', 35), ('a18', 12), ('b24', 10), ('b4', 17), ('a41', 40), ('a34', 20), ('b20', 19), ('a39', 28), ('b25', 30), ('a24', 10), ('a37', 18), ('a12', 21), ('a20', 25), ('a15', 15), ('b14', 50), ('a1', 22), ('b49', 15), ('b47', 42), ('a2', 49), ('b6', 13), ('a45', 22), ('a50', 50), ('a7', 14), ('a46', 27), ('a36', 11), ('b45', 23), ('a21', 26), ('a3', 19), ('a43', 30), ('b33', 46), ('a10', 38), ('b9', 14), ('b35', 33), ('b40', 35), ('b44', 19), ('b43', 31), ('a44', 42), ('b15', 44), ('a48', 19), ('b16', 30), ('a33', 32), ('b28', 24), ('a6', 26), ('b11', 16), ('a32', 28), ('b32', 28), ('a23', 24), ('a22', 27), ('a5', 35), ('a42', 37), ('b27', 15), ('b17', 44), ('b46', 44), ('a38', 49), ('a19', 34), ('b41', 30), ('b1', 29), ('b22', 19), ('a14', 18), ('b48', 46), ('a25', 41), ('b21', 38), ('b10', 18), ('a16', 30), ('b8', 39), ('b31', 17), ('b34', 26), ('a29', 45), ('a49', 43), ('a47', 46), ('a40', 37), ('a30', 16), ('a13', 35), ('b12', 37), ('b18', 48), ('b50', 50), ('a26', 46), ('b7', 32), ('b36', 26), ('a17', 33), ('b13', 49), ('a35', 49), ('b37', 29), ('a8', 41), ('a28', 46), ('a9', 28), ('b26', 46), ('b30', 48)]) = 68519.000\n",
      ">16, new best f([('b29', 33), ('b3', 16), ('a11', 18), ('b19', 30), ('b39', 23), ('a4', 13), ('b23', 27), ('b38', 27), ('a31', 45), ('a27', 21), ('b42', 25), ('b2', 21), ('a22', 27), ('b24', 10), ('b5', 35), ('a18', 12), ('b20', 19), ('a39', 28), ('b25', 30), ('a24', 10), ('b4', 17), ('a41', 40), ('a37', 18), ('b16', 30), ('a12', 21), ('a20', 25), ('a15', 15), ('b14', 50), ('b49', 15), ('a30', 16), ('a34', 20), ('a44', 42), ('a45', 22), ('a46', 27), ('a36', 11), ('b45', 23), ('a21', 26), ('b28', 24), ('a43', 30), ('b17', 44), ('b9', 14), ('b35', 33), ('b40', 35), ('a6', 26), ('b22', 19), ('b11', 16), ('a32', 28), ('b46', 44), ('a33', 32), ('a10', 38), ('a38', 49), ('a19', 34), ('b50', 50), ('a2', 49), ('a1', 22), ('b1', 29), ('b6', 13), ('a14', 18), ('a7', 14), ('b48', 46), ('b32', 28), ('a25', 41), ('b21', 38), ('b27', 15), ('b10', 18), ('a16', 30), ('a3', 19), ('b8', 39), ('b31', 17), ('b34', 26), ('a29', 45), ('a5', 35), ('a49', 43), ('a47', 46), ('a42', 37), ('b15', 44), ('a23', 24), ('a40', 37), ('b47', 42), ('a13', 35), ('b12', 37), ('b33', 46), ('a48', 19), ('b18', 48), ('a26', 46), ('b7', 32), ('b36', 26), ('b43', 31), ('a17', 33), ('b44', 19), ('b41', 30), ('a50', 50), ('b13', 49), ('a35', 49), ('b37', 29), ('a8', 41), ('a28', 46), ('a9', 28), ('b26', 46), ('b30', 48)]) = 68463.000\n",
      ">16, new best f([('b29', 33), ('b3', 16), ('a11', 18), ('a22', 27), ('b39', 23), ('a4', 13), ('b23', 27), ('b38', 27), ('a31', 45), ('a27', 21), ('b42', 25), ('b2', 21), ('b5', 35), ('a18', 12), ('b24', 10), ('b20', 19), ('a39', 28), ('b25', 30), ('a24', 10), ('b4', 17), ('a41', 40), ('a37', 18), ('a12', 21), ('a20', 25), ('a15', 15), ('b16', 30), ('b49', 15), ('b47', 42), ('a21', 26), ('a34', 20), ('a2', 49), ('a45', 22), ('a46', 27), ('a36', 11), ('b45', 23), ('b28', 24), ('a43', 30), ('b17', 44), ('b9', 14), ('b35', 33), ('b40', 35), ('a6', 26), ('b6', 13), ('b11', 16), ('a32', 28), ('b46', 44), ('a33', 32), ('a10', 38), ('a38', 49), ('a19', 34), ('b41', 30), ('a44', 42), ('a1', 22), ('b1', 29), ('b22', 19), ('a14', 18), ('a7', 14), ('b48', 46), ('b32', 28), ('a25', 41), ('b21', 38), ('b27', 15), ('b10', 18), ('a16', 30), ('a3', 19), ('b8', 39), ('b31', 17), ('b34', 26), ('a29', 45), ('a5', 35), ('b43', 31), ('a30', 16), ('a17', 33), ('b33', 46), ('b14', 50), ('a42', 37), ('b44', 19), ('a48', 19), ('b18', 48), ('a49', 43), ('a23', 24), ('a40', 37), ('b7', 32), ('b36', 26), ('a50', 50), ('b19', 30), ('a26', 46), ('b15', 44), ('b37', 29), ('a9', 28), ('b50', 50), ('a28', 46), ('a13', 35), ('a47', 46), ('b13', 49), ('b30', 48), ('a35', 49), ('a8', 41), ('b12', 37), ('b26', 46)]) = 67850.000\n",
      ">21, new best f([('b29', 33), ('b3', 16), ('a11', 18), ('b19', 30), ('b39', 23), ('a4', 13), ('b23', 27), ('b38', 27), ('a31', 45), ('a27', 21), ('b42', 25), ('b2', 21), ('b5', 35), ('a18', 12), ('b24', 10), ('b20', 19), ('a39', 28), ('b25', 30), ('b16', 30), ('a24', 10), ('b4', 17), ('a41', 40), ('a37', 18), ('a12', 21), ('a20', 25), ('a15', 15), ('b36', 26), ('b49', 15), ('a22', 27), ('a30', 16), ('a34', 20), ('a44', 42), ('a45', 22), ('a46', 27), ('a36', 11), ('b45', 23), ('a21', 26), ('b28', 24), ('a43', 30), ('b41', 30), ('b9', 14), ('b35', 33), ('b40', 35), ('a6', 26), ('b22', 19), ('b11', 16), ('a32', 28), ('b46', 44), ('a33', 32), ('a49', 43), ('a38', 49), ('a19', 34), ('b50', 50), ('a2', 49), ('a1', 22), ('b1', 29), ('b6', 13), ('a14', 18), ('a7', 14), ('b48', 46), ('b32', 28), ('a25', 41), ('b21', 38), ('b27', 15), ('b10', 18), ('a16', 30), ('a3', 19), ('b8', 39), ('b31', 17), ('b34', 26), ('a29', 45), ('a5', 35), ('b47', 42), ('a48', 19), ('b43', 31), ('a17', 33), ('a50', 50), ('a10', 38), ('a47', 46), ('a42', 37), ('b15', 44), ('a23', 24), ('a13', 35), ('b12', 37), ('b33', 46), ('b17', 44), ('b18', 48), ('a26', 46), ('b7', 32), ('b14', 50), ('b13', 49), ('b44', 19), ('a35', 49), ('a40', 37), ('b37', 29), ('a28', 46), ('a8', 41), ('a9', 28), ('b30', 48), ('b26', 46)]) = 67646.000\n",
      ">22, new best f([('b44', 19), ('b3', 16), ('a11', 18), ('a22', 27), ('b39', 23), ('a4', 13), ('b23', 27), ('b38', 27), ('a31', 45), ('a27', 21), ('b29', 33), ('b2', 21), ('b5', 35), ('a18', 12), ('b24', 10), ('b20', 19), ('a39', 28), ('b25', 30), ('a24', 10), ('b4', 17), ('a41', 40), ('a37', 18), ('a12', 21), ('a20', 25), ('a15', 15), ('b16', 30), ('b49', 15), ('b47', 42), ('a21', 26), ('a34', 20), ('a2', 49), ('a45', 22), ('a46', 27), ('a36', 11), ('b45', 23), ('b19', 30), ('b14', 50), ('a30', 16), ('a48', 19), ('a23', 24), ('b31', 17), ('b28', 24), ('a43', 30), ('b17', 44), ('b9', 14), ('b35', 33), ('b40', 35), ('a6', 26), ('b6', 13), ('b11', 16), ('a32', 28), ('b46', 44), ('a33', 32), ('a16', 30), ('b21', 38), ('a19', 34), ('b50', 50), ('a44', 42), ('a1', 22), ('b1', 29), ('b22', 19), ('a14', 18), ('a7', 14), ('b48', 46), ('b32', 28), ('a25', 41), ('a38', 49), ('b27', 15), ('b10', 18), ('a10', 38), ('a3', 19), ('b8', 39), ('b34', 26), ('a29', 45), ('a5', 35), ('a49', 43), ('a47', 46), ('b42', 25), ('b33', 46), ('a42', 37), ('b18', 48), ('b15', 44), ('a40', 37), ('a13', 35), ('b12', 37), ('a26', 46), ('b7', 32), ('b36', 26), ('b43', 31), ('a17', 33), ('b41', 30), ('a50', 50), ('b13', 49), ('a35', 49), ('b37', 29), ('a8', 41), ('a28', 46), ('a9', 28), ('b26', 46), ('b30', 48)]) = 67603.000\n",
      ">22, new best f([('b29', 33), ('b3', 16), ('b2', 21), ('b19', 30), ('b39', 23), ('a4', 13), ('b23', 27), ('b38', 27), ('a31', 45), ('a27', 21), ('b42', 25), ('a11', 18), ('b5', 35), ('a18', 12), ('b24', 10), ('b20', 19), ('a48', 19), ('b25', 30), ('a24', 10), ('a7', 14), ('a41', 40), ('a37', 18), ('a12', 21), ('a23', 24), ('a15', 15), ('b14', 50), ('b49', 15), ('a30', 16), ('a34', 20), ('a2', 49), ('a45', 22), ('a46', 27), ('a36', 11), ('b45', 23), ('a21', 26), ('b28', 24), ('a43', 30), ('b30', 48), ('b9', 14), ('b35', 33), ('b40', 35), ('a6', 26), ('b6', 13), ('b11', 16), ('a32', 28), ('b46', 44), ('a33', 32), ('a22', 27), ('b44', 19), ('a39', 28), ('b4', 17), ('a20', 25), ('b16', 30), ('b47', 42), ('b31', 17), ('a16', 30), ('a38', 49), ('a19', 34), ('b50', 50), ('a44', 42), ('a1', 22), ('b1', 29), ('b22', 19), ('a14', 18), ('b48', 46), ('b32', 28), ('a25', 41), ('b21', 38), ('b27', 15), ('b10', 18), ('a10', 38), ('a3', 19), ('b8', 39), ('b34', 26), ('a29', 45), ('a5', 35), ('a49', 43), ('a47', 46), ('a42', 37), ('b15', 44), ('a40', 37), ('a13', 35), ('b12', 37), ('b36', 26), ('b41', 30), ('b17', 44), ('b43', 31), ('a17', 33), ('a50', 50), ('b33', 46), ('b18', 48), ('a26', 46), ('b7', 32), ('b13', 49), ('a35', 49), ('b37', 29), ('a28', 46), ('a8', 41), ('a9', 28), ('b26', 46)]) = 67476.000\n",
      ">23, new best f([('b29', 33), ('b3', 16), ('b2', 21), ('b19', 30), ('b39', 23), ('a4', 13), ('b23', 27), ('b38', 27), ('a31', 45), ('a27', 21), ('b42', 25), ('a11', 18), ('b5', 35), ('a18', 12), ('b24', 10), ('b20', 19), ('a48', 19), ('b25', 30), ('a24', 10), ('a7', 14), ('a41', 40), ('a37', 18), ('a12', 21), ('a23', 24), ('a15', 15), ('b14', 50), ('b49', 15), ('a30', 16), ('a34', 20), ('a2', 49), ('a45', 22), ('a46', 27), ('a36', 11), ('b45', 23), ('a21', 26), ('b28', 24), ('a43', 30), ('b30', 48), ('b9', 14), ('b35', 33), ('b40', 35), ('a6', 26), ('b6', 13), ('b11', 16), ('a32', 28), ('b46', 44), ('a33', 32), ('a22', 27), ('b44', 19), ('a39', 28), ('b4', 17), ('a20', 25), ('b16', 30), ('b47', 42), ('b31', 17), ('a16', 30), ('a38', 49), ('a19', 34), ('b50', 50), ('a44', 42), ('a1', 22), ('b1', 29), ('b22', 19), ('a14', 18), ('b48', 46), ('b32', 28), ('a25', 41), ('b21', 38), ('b27', 15), ('b10', 18), ('a10', 38), ('a3', 19), ('b8', 39), ('b34', 26), ('a29', 45), ('a5', 35), ('a49', 43), ('a47', 46), ('a42', 37), ('b15', 44), ('a40', 37), ('b36', 26), ('b41', 30), ('b17', 44), ('a35', 49), ('b43', 31), ('a13', 35), ('b12', 37), ('a50', 50), ('b33', 46), ('b13', 49), ('a28', 46), ('b37', 29), ('b7', 32), ('a26', 46), ('b18', 48), ('a17', 33), ('a9', 28), ('a8', 41), ('b26', 46)]) = 67474.000\n",
      ">23, new best f([('b44', 19), ('b3', 16), ('a11', 18), ('a22', 27), ('b39', 23), ('a4', 13), ('b23', 27), ('b38', 27), ('a31', 45), ('a12', 21), ('b29', 33), ('b2', 21), ('b5', 35), ('a18', 12), ('b24', 10), ('b20', 19), ('a39', 28), ('b25', 30), ('a24', 10), ('b4', 17), ('a41', 40), ('a37', 18), ('a27', 21), ('a20', 25), ('a15', 15), ('b16', 30), ('b49', 15), ('b47', 42), ('a21', 26), ('a34', 20), ('a2', 49), ('a45', 22), ('a46', 27), ('a36', 11), ('b45', 23), ('b19', 30), ('b14', 50), ('a30', 16), ('a48', 19), ('a23', 24), ('b31', 17), ('b28', 24), ('a43', 30), ('b17', 44), ('b9', 14), ('b35', 33), ('b40', 35), ('a6', 26), ('b6', 13), ('b36', 26), ('a19', 34), ('b11', 16), ('a32', 28), ('b46', 44), ('a33', 32), ('a16', 30), ('a38', 49), ('b50', 50), ('a44', 42), ('a1', 22), ('b1', 29), ('b22', 19), ('a14', 18), ('a7', 14), ('b48', 46), ('b32', 28), ('a25', 41), ('b21', 38), ('b27', 15), ('b10', 18), ('a10', 38), ('a3', 19), ('b8', 39), ('b34', 26), ('a29', 45), ('a5', 35), ('a49', 43), ('a47', 46), ('b42', 25), ('b41', 30), ('b43', 31), ('a28', 46), ('a17', 33), ('b33', 46), ('a42', 37), ('b18', 48), ('a40', 37), ('b7', 32), ('a26', 46), ('b13', 49), ('b15', 44), ('a50', 50), ('a35', 49), ('b12', 37), ('a13', 35), ('b37', 29), ('a8', 41), ('a9', 28), ('b30', 48), ('b26', 46)]) = 67372.000\n",
      ">23, new best f([('b44', 19), ('b3', 16), ('a11', 18), ('a22', 27), ('b39', 23), ('a4', 13), ('b23', 27), ('b38', 27), ('a31', 45), ('a27', 21), ('b29', 33), ('b2', 21), ('b5', 35), ('a18', 12), ('b24', 10), ('b20', 19), ('a39', 28), ('b25', 30), ('a24', 10), ('b4', 17), ('a41', 40), ('a37', 18), ('b19', 30), ('a14', 18), ('b16', 30), ('a12', 21), ('a20', 25), ('a15', 15), ('b36', 26), ('b49', 15), ('a30', 16), ('a34', 20), ('a44', 42), ('a45', 22), ('a46', 27), ('a36', 11), ('b45', 23), ('a21', 26), ('b28', 24), ('a43', 30), ('b17', 44), ('b1', 29), ('b35', 33), ('b40', 35), ('a6', 26), ('b22', 19), ('b11', 16), ('a32', 28), ('b46', 44), ('a33', 32), ('a49', 43), ('a38', 49), ('a19', 34), ('b50', 50), ('a2', 49), ('a1', 22), ('b9', 14), ('b6', 13), ('b42', 25), ('a7', 14), ('b48', 46), ('b32', 28), ('a25', 41), ('b21', 38), ('b27', 15), ('b10', 18), ('a16', 30), ('a3', 19), ('b8', 39), ('b31', 17), ('b34', 26), ('a29', 45), ('a5', 35), ('b47', 42), ('b41', 30), ('b43', 31), ('a17', 33), ('a50', 50), ('a10', 38), ('a47', 46), ('a42', 37), ('b14', 50), ('a48', 19), ('b15', 44), ('a23', 24), ('a40', 37), ('a13', 35), ('b12', 37), ('b33', 46), ('b18', 48), ('a26', 46), ('b7', 32), ('b13', 49), ('a35', 49), ('b37', 29), ('a8', 41), ('a28', 46), ('a9', 28), ('b26', 46), ('b30', 48)]) = 67270.000\n",
      ">24, new best f([('b44', 19), ('b3', 16), ('a11', 18), ('a22', 27), ('b39', 23), ('a4', 13), ('a24', 10), ('b38', 27), ('a31', 45), ('a27', 21), ('b29', 33), ('b2', 21), ('b5', 35), ('a18', 12), ('b24', 10), ('b20', 19), ('a39', 28), ('b25', 30), ('b23', 27), ('b4', 17), ('a41', 40), ('a37', 18), ('a12', 21), ('a20', 25), ('a15', 15), ('b16', 30), ('b49', 15), ('b47', 42), ('a21', 26), ('a34', 20), ('a2', 49), ('a45', 22), ('a46', 27), ('a36', 11), ('b45', 23), ('b19', 30), ('b14', 50), ('a30', 16), ('a48', 19), ('a23', 24), ('b31', 17), ('b28', 24), ('a43', 30), ('b17', 44), ('b9', 14), ('b35', 33), ('b40', 35), ('a6', 26), ('b6', 13), ('b36', 26), ('a19', 34), ('b11', 16), ('b42', 25), ('a33', 32), ('b27', 15), ('a47', 46), ('a32', 28), ('b46', 44), ('a10', 38), ('a38', 49), ('b50', 50), ('a44', 42), ('a1', 22), ('b1', 29), ('b22', 19), ('a7', 14), ('a14', 18), ('b48', 46), ('b32', 28), ('a25', 41), ('b21', 38), ('b10', 18), ('a16', 30), ('a3', 19), ('b8', 39), ('b34', 26), ('a29', 45), ('a49', 43), ('a5', 35), ('b41', 30), ('b43', 31), ('a17', 33), ('a50', 50), ('a42', 37), ('b15', 44), ('a13', 35), ('b33', 46), ('a35', 49), ('b12', 37), ('b13', 49), ('a40', 37), ('a28', 46), ('b37', 29), ('b7', 32), ('a26', 46), ('b18', 48), ('a9', 28), ('b30', 48), ('a8', 41), ('b26', 46)]) = 67241.000\n",
      ">24, new best f([('b44', 19), ('b3', 16), ('a11', 18), ('a22', 27), ('b39', 23), ('a4', 13), ('b23', 27), ('b38', 27), ('a31', 45), ('a12', 21), ('b29', 33), ('b2', 21), ('b5', 35), ('a18', 12), ('b24', 10), ('b20', 19), ('a39', 28), ('b25', 30), ('a24', 10), ('b4', 17), ('a41', 40), ('a37', 18), ('a27', 21), ('a20', 25), ('a15', 15), ('b16', 30), ('b49', 15), ('b47', 42), ('a21', 26), ('a34', 20), ('a2', 49), ('a45', 22), ('a46', 27), ('a36', 11), ('b45', 23), ('b19', 30), ('b21', 38), ('a30', 16), ('a48', 19), ('a23', 24), ('b31', 17), ('b28', 24), ('a43', 30), ('b17', 44), ('b9', 14), ('b35', 33), ('b40', 35), ('a6', 26), ('b6', 13), ('b36', 26), ('a19', 34), ('b11', 16), ('a32', 28), ('b46', 44), ('a33', 32), ('a16', 30), ('a38', 49), ('b50', 50), ('a44', 42), ('a1', 22), ('b1', 29), ('b22', 19), ('a14', 18), ('a7', 14), ('b48', 46), ('b32', 28), ('a25', 41), ('b14', 50), ('b27', 15), ('b10', 18), ('a10', 38), ('a3', 19), ('b8', 39), ('b34', 26), ('a29', 45), ('a5', 35), ('a49', 43), ('a47', 46), ('b42', 25), ('b41', 30), ('b43', 31), ('a28', 46), ('a17', 33), ('b33', 46), ('a42', 37), ('b18', 48), ('a40', 37), ('b7', 32), ('a26', 46), ('b13', 49), ('b15', 44), ('a50', 50), ('a35', 49), ('b12', 37), ('a13', 35), ('b37', 29), ('a8', 41), ('a9', 28), ('b30', 48), ('b26', 46)]) = 67192.000\n",
      ">25, new best f([('b44', 19), ('b3', 16), ('a11', 18), ('a22', 27), ('b39', 23), ('a4', 13), ('b23', 27), ('b38', 27), ('a31', 45), ('a27', 21), ('b29', 33), ('b2', 21), ('b5', 35), ('a18', 12), ('b24', 10), ('b20', 19), ('a39', 28), ('b25', 30), ('a24', 10), ('b4', 17), ('a41', 40), ('a37', 18), ('a12', 21), ('a20', 25), ('a15', 15), ('b19', 30), ('b42', 25), ('b16', 30), ('b1', 29), ('a34', 20), ('b14', 50), ('b49', 15), ('a30', 16), ('a44', 42), ('a45', 22), ('a46', 27), ('a36', 11), ('a48', 19), ('a7', 14), ('a23', 24), ('a2', 49), ('b45', 23), ('a21', 26), ('b28', 24), ('a43', 30), ('b41', 30), ('b9', 14), ('b35', 33), ('b40', 35), ('a6', 26), ('b6', 13), ('b11', 16), ('a32', 28), ('b46', 44), ('a33', 32), ('b47', 42), ('b31', 17), ('a16', 30), ('a38', 49), ('a19', 34), ('b50', 50), ('a1', 22), ('b22', 19), ('a14', 18), ('b48', 46), ('b32', 28), ('a25', 41), ('b21', 38), ('b27', 15), ('b10', 18), ('a10', 38), ('a3', 19), ('b8', 39), ('b34', 26), ('a29', 45), ('a5', 35), ('a49', 43), ('a47', 46), ('a42', 37), ('b15', 44), ('a40', 37), ('b36', 26), ('b30', 48), ('b17', 44), ('a35', 49), ('b43', 31), ('a13', 35), ('b12', 37), ('a50', 50), ('b33', 46), ('b13', 49), ('a28', 46), ('b37', 29), ('b7', 32), ('a26', 46), ('b18', 48), ('a17', 33), ('a9', 28), ('a8', 41), ('b26', 46)]) = 67148.000\n",
      ">26, new best f([('b44', 19), ('b3', 16), ('a11', 18), ('a22', 27), ('b39', 23), ('a4', 13), ('a24', 10), ('b38', 27), ('a31', 45), ('a27', 21), ('b29', 33), ('b2', 21), ('b5', 35), ('a18', 12), ('b24', 10), ('b20', 19), ('a39', 28), ('b25', 30), ('b23', 27), ('b4', 17), ('a41', 40), ('a37', 18), ('a12', 21), ('a20', 25), ('a15', 15), ('a16', 30), ('b19', 30), ('b42', 25), ('b9', 14), ('b36', 26), ('b49', 15), ('a30', 16), ('a34', 20), ('a44', 42), ('a45', 22), ('a46', 27), ('a36', 11), ('b45', 23), ('a21', 26), ('b28', 24), ('a43', 30), ('b17', 44), ('b35', 33), ('b40', 35), ('a6', 26), ('b22', 19), ('b11', 16), ('a32', 28), ('b46', 44), ('a33', 32), ('a49', 43), ('a38', 49), ('a19', 34), ('b16', 30), ('a42', 37), ('b50', 50), ('a2', 49), ('a1', 22), ('b1', 29), ('b6', 13), ('a14', 18), ('a7', 14), ('b48', 46), ('b32', 28), ('a25', 41), ('b21', 38), ('b27', 15), ('b10', 18), ('a3', 19), ('b8', 39), ('b31', 17), ('b34', 26), ('a29', 45), ('a8', 41), ('b47', 42), ('b41', 30), ('b43', 31), ('a17', 33), ('a50', 50), ('b37', 29), ('a47', 46), ('b15', 44), ('a23', 24), ('a13', 35), ('b12', 37), ('b33', 46), ('a48', 19), ('b18', 48), ('a26', 46), ('b7', 32), ('b14', 50), ('b13', 49), ('a35', 49), ('a40', 37), ('a10', 38), ('a28', 46), ('a5', 35), ('a9', 28), ('b30', 48), ('b26', 46)]) = 67123.000\n",
      ">26, new best f([('b44', 19), ('b3', 16), ('a11', 18), ('a22', 27), ('b39', 23), ('a4', 13), ('b23', 27), ('b38', 27), ('a31', 45), ('a27', 21), ('b29', 33), ('b2', 21), ('b5', 35), ('a18', 12), ('b24', 10), ('b42', 25), ('a39', 28), ('b25', 30), ('a24', 10), ('b4', 17), ('a41', 40), ('b19', 30), ('b16', 30), ('b20', 19), ('a48', 19), ('a7', 14), ('a37', 18), ('a12', 21), ('a23', 24), ('a15', 15), ('b14', 50), ('b49', 15), ('a30', 16), ('a34', 20), ('a2', 49), ('a45', 22), ('a46', 27), ('a36', 11), ('b45', 23), ('b35', 33), ('b28', 24), ('a43', 30), ('b41', 30), ('b9', 14), ('a21', 26), ('b40', 35), ('a6', 26), ('b6', 13), ('b11', 16), ('a32', 28), ('b21', 38), ('a33', 32), ('a20', 25), ('b47', 42), ('b31', 17), ('a16', 30), ('a38', 49), ('a19', 34), ('b50', 50), ('a44', 42), ('a1', 22), ('b1', 29), ('b22', 19), ('a14', 18), ('b48', 46), ('b32', 28), ('a25', 41), ('b46', 44), ('b27', 15), ('b10', 18), ('a10', 38), ('a3', 19), ('b8', 39), ('b34', 26), ('a29', 45), ('a5', 35), ('a49', 43), ('a47', 46), ('a42', 37), ('b15', 44), ('a40', 37), ('b36', 26), ('b30', 48), ('b17', 44), ('a35', 49), ('b43', 31), ('a13', 35), ('b12', 37), ('a50', 50), ('b33', 46), ('b13', 49), ('a28', 46), ('a17', 33), ('b18', 48), ('a9', 28), ('b7', 32), ('a26', 46), ('b37', 29), ('a8', 41), ('b26', 46)]) = 66981.000\n",
      ">26, new best f([('b44', 19), ('b3', 16), ('a11', 18), ('a22', 27), ('b39', 23), ('a4', 13), ('b23', 27), ('b38', 27), ('a31', 45), ('a27', 21), ('b29', 33), ('b2', 21), ('b5', 35), ('a18', 12), ('b24', 10), ('b42', 25), ('a39', 28), ('b25', 30), ('a24', 10), ('b4', 17), ('a41', 40), ('b19', 30), ('b16', 30), ('b20', 19), ('a48', 19), ('a7', 14), ('a37', 18), ('a12', 21), ('a23', 24), ('a15', 15), ('b14', 50), ('b49', 15), ('a30', 16), ('a34', 20), ('a2', 49), ('a45', 22), ('a46', 27), ('a36', 11), ('b45', 23), ('b35', 33), ('b28', 24), ('a43', 30), ('b41', 30), ('b9', 14), ('a21', 26), ('b40', 35), ('a6', 26), ('b6', 13), ('b11', 16), ('a32', 28), ('b27', 15), ('a33', 32), ('a20', 25), ('b47', 42), ('b31', 17), ('a16', 30), ('a38', 49), ('a19', 34), ('b50', 50), ('a44', 42), ('a1', 22), ('b1', 29), ('b22', 19), ('a14', 18), ('b48', 46), ('b32', 28), ('a25', 41), ('b21', 38), ('b46', 44), ('b10', 18), ('a10', 38), ('a3', 19), ('b8', 39), ('b34', 26), ('a29', 45), ('a5', 35), ('a49', 43), ('a47', 46), ('a42', 37), ('b15', 44), ('a40', 37), ('b36', 26), ('b30', 48), ('b17', 44), ('a35', 49), ('b43', 31), ('a13', 35), ('b12', 37), ('a50', 50), ('b33', 46), ('b13', 49), ('a28', 46), ('b37', 29), ('b7', 32), ('a26', 46), ('b18', 48), ('a17', 33), ('a9', 28), ('a8', 41), ('b26', 46)]) = 66956.000\n",
      ">27, new best f([('b29', 33), ('b3', 16), ('b2', 21), ('b19', 30), ('b39', 23), ('a18', 12), ('b23', 27), ('b38', 27), ('a31', 45), ('a27', 21), ('b36', 26), ('a11', 18), ('b5', 35), ('a4', 13), ('b24', 10), ('b20', 19), ('a48', 19), ('b31', 17), ('a24', 10), ('b4', 17), ('a41', 40), ('a37', 18), ('a12', 21), ('a23', 24), ('a15', 15), ('b14', 50), ('b49', 15), ('b42', 25), ('a39', 28), ('b9', 14), ('a20', 25), ('a22', 27), ('a30', 16), ('a34', 20), ('a13', 35), ('a45', 22), ('a46', 27), ('a36', 11), ('b45', 23), ('a21', 26), ('b28', 24), ('a43', 30), ('b17', 44), ('b16', 30), ('b35', 33), ('b40', 35), ('a6', 26), ('b22', 19), ('b11', 16), ('a32', 28), ('b46', 44), ('a33', 32), ('a49', 43), ('a38', 49), ('a19', 34), ('b50', 50), ('a2', 49), ('a1', 22), ('b1', 29), ('b6', 13), ('a14', 18), ('a7', 14), ('b48', 46), ('b32', 28), ('a25', 41), ('b21', 38), ('b27', 15), ('b10', 18), ('a16', 30), ('a3', 19), ('b8', 39), ('b25', 30), ('b34', 26), ('a29', 45), ('a5', 35), ('b44', 19), ('b47', 42), ('a44', 42), ('b41', 30), ('a10', 38), ('a47', 46), ('a9', 28), ('b15', 44), ('a40', 37), ('b33', 46), ('a50', 50), ('b43', 31), ('a17', 33), ('b12', 37), ('a42', 37), ('b18', 48), ('a26', 46), ('b7', 32), ('b13', 49), ('a35', 49), ('b37', 29), ('a28', 46), ('a8', 41), ('b30', 48), ('b26', 46)]) = 66936.000\n",
      ">27, new best f([('b44', 19), ('b3', 16), ('a11', 18), ('a22', 27), ('b39', 23), ('a4', 13), ('b6', 13), ('b38', 27), ('a31', 45), ('a27', 21), ('b29', 33), ('b2', 21), ('b5', 35), ('a18', 12), ('b24', 10), ('b42', 25), ('a39', 28), ('b25', 30), ('a24', 10), ('b4', 17), ('a41', 40), ('b19', 30), ('b16', 30), ('b20', 19), ('a48', 19), ('a7', 14), ('a37', 18), ('a12', 21), ('a23', 24), ('a15', 15), ('b14', 50), ('b49', 15), ('a30', 16), ('a34', 20), ('a2', 49), ('a45', 22), ('a46', 27), ('a36', 11), ('b45', 23), ('b35', 33), ('b28', 24), ('a43', 30), ('b41', 30), ('b9', 14), ('a21', 26), ('b40', 35), ('a6', 26), ('b23', 27), ('b11', 16), ('a32', 28), ('b27', 15), ('a33', 32), ('a20', 25), ('b47', 42), ('b31', 17), ('a16', 30), ('a38', 49), ('a19', 34), ('b50', 50), ('a44', 42), ('a1', 22), ('b1', 29), ('b22', 19), ('a14', 18), ('b48', 46), ('b32', 28), ('a25', 41), ('b21', 38), ('b46', 44), ('b10', 18), ('a10', 38), ('a3', 19), ('b8', 39), ('b34', 26), ('a29', 45), ('a5', 35), ('a49', 43), ('a47', 46), ('a42', 37), ('b15', 44), ('a40', 37), ('b36', 26), ('b30', 48), ('b17', 44), ('a35', 49), ('b43', 31), ('a13', 35), ('b12', 37), ('a50', 50), ('b33', 46), ('b13', 49), ('a28', 46), ('b37', 29), ('b7', 32), ('a26', 46), ('b18', 48), ('a17', 33), ('a9', 28), ('a8', 41), ('b26', 46)]) = 66662.000\n",
      ">28, new best f([('b44', 19), ('b3', 16), ('a11', 18), ('a22', 27), ('b39', 23), ('a4', 13), ('b23', 27), ('b38', 27), ('a31', 45), ('a27', 21), ('a15', 15), ('b2', 21), ('b5', 35), ('a18', 12), ('b24', 10), ('b42', 25), ('a39', 28), ('b25', 30), ('a24', 10), ('b4', 17), ('a41', 40), ('b19', 30), ('b16', 30), ('b20', 19), ('a48', 19), ('a7', 14), ('a37', 18), ('a12', 21), ('a23', 24), ('b29', 33), ('b14', 50), ('b49', 15), ('a30', 16), ('a34', 20), ('a43', 30), ('b9', 14), ('a14', 18), ('b36', 26), ('a20', 25), ('b47', 42), ('a21', 26), ('a2', 49), ('a45', 22), ('a46', 27), ('a36', 11), ('b45', 23), ('b21', 38), ('b31', 17), ('b28', 24), ('b17', 44), ('b35', 33), ('b40', 35), ('a6', 26), ('b6', 13), ('a19', 34), ('b11', 16), ('a32', 28), ('b46', 44), ('a33', 32), ('a16', 30), ('a38', 49), ('b50', 50), ('a44', 42), ('a1', 22), ('b1', 29), ('b22', 19), ('b48', 46), ('b32', 28), ('a25', 41), ('a3', 19), ('b27', 15), ('a13', 35), ('a49', 43), ('b10', 18), ('b8', 39), ('b34', 26), ('a29', 45), ('a5', 35), ('b41', 30), ('b43', 31), ('a17', 33), ('a50', 50), ('a10', 38), ('a47', 46), ('b12', 37), ('b15', 44), ('a42', 37), ('b33', 46), ('b18', 48), ('a9', 28), ('a40', 37), ('a28', 46), ('b7', 32), ('a26', 46), ('b13', 49), ('a35', 49), ('b37', 29), ('a8', 41), ('b30', 48), ('b26', 46)]) = 66609.000\n",
      ">30, new best f([('b44', 19), ('b3', 16), ('a11', 18), ('a22', 27), ('b39', 23), ('a4', 13), ('b23', 27), ('b38', 27), ('a31', 45), ('a27', 21), ('b29', 33), ('b2', 21), ('b5', 35), ('a18', 12), ('b24', 10), ('b42', 25), ('a39', 28), ('b25', 30), ('a24', 10), ('b4', 17), ('a41', 40), ('b19', 30), ('b16', 30), ('b20', 19), ('a48', 19), ('a7', 14), ('a37', 18), ('a12', 21), ('a23', 24), ('a15', 15), ('b14', 50), ('b49', 15), ('a14', 18), ('a30', 16), ('a34', 20), ('a2', 49), ('a45', 22), ('a46', 27), ('a36', 11), ('b45', 23), ('a21', 26), ('b28', 24), ('a43', 30), ('b41', 30), ('b9', 14), ('b35', 33), ('b40', 35), ('a6', 26), ('b6', 13), ('b11', 16), ('a32', 28), ('b46', 44), ('a33', 32), ('a20', 25), ('b47', 42), ('b31', 17), ('b1', 29), ('a44', 42), ('b36', 26), ('a19', 34), ('b17', 44), ('a3', 19), ('a28', 46), ('a1', 22), ('a38', 49), ('a10', 38), ('b22', 19), ('b48', 46), ('b32', 28), ('a25', 41), ('b21', 38), ('b27', 15), ('b10', 18), ('a16', 30), ('b8', 39), ('b34', 26), ('a29', 45), ('a5', 35), ('b43', 31), ('a17', 33), ('b33', 46), ('a42', 37), ('b18', 48), ('a49', 43), ('b50', 50), ('a47', 46), ('a9', 28), ('b15', 44), ('a40', 37), ('a50', 50), ('b7', 32), ('b30', 48), ('a35', 49), ('a13', 35), ('b12', 37), ('b13', 49), ('b37', 29), ('a26', 46), ('a8', 41), ('b26', 46)]) = 66585.000\n",
      ">30, new best f([('b44', 19), ('b3', 16), ('a11', 18), ('a22', 27), ('b39', 23), ('a4', 13), ('a24', 10), ('b38', 27), ('a31', 45), ('a27', 21), ('a12', 21), ('b2', 21), ('b5', 35), ('a18', 12), ('b24', 10), ('b20', 19), ('a39', 28), ('b25', 30), ('b23', 27), ('b4', 17), ('b49', 15), ('a37', 18), ('b29', 33), ('a20', 25), ('a15', 15), ('a16', 30), ('b19', 30), ('b42', 25), ('b9', 14), ('b36', 26), ('a41', 40), ('a30', 16), ('a34', 20), ('a44', 42), ('b16', 30), ('a48', 19), ('a7', 14), ('a23', 24), ('b14', 50), ('a2', 49), ('a45', 22), ('a46', 27), ('a36', 11), ('b45', 23), ('b35', 33), ('b28', 24), ('a43', 30), ('b41', 30), ('a21', 26), ('b40', 35), ('a6', 26), ('b6', 13), ('b11', 16), ('a32', 28), ('b46', 44), ('a33', 32), ('b47', 42), ('b31', 17), ('a14', 18), ('b17', 44), ('b1', 29), ('b22', 19), ('a49', 43), ('a38', 49), ('a19', 34), ('b50', 50), ('a1', 22), ('a29', 45), ('b48', 46), ('b32', 28), ('a25', 41), ('b21', 38), ('b27', 15), ('b10', 18), ('a3', 19), ('a10', 38), ('b8', 39), ('b34', 26), ('b37', 29), ('a5', 35), ('b43', 31), ('a17', 33), ('a50', 50), ('a47', 46), ('a9', 28), ('b15', 44), ('a40', 37), ('b33', 46), ('b18', 48), ('b7', 32), ('a26', 46), ('b13', 49), ('a35', 49), ('b12', 37), ('a13', 35), ('a42', 37), ('a8', 41), ('a28', 46), ('b30', 48), ('b26', 46)]) = 66493.000\n",
      ">31, new best f([('b44', 19), ('b3', 16), ('a11', 18), ('a22', 27), ('b39', 23), ('a4', 13), ('b23', 27), ('b38', 27), ('a31', 45), ('a27', 21), ('b29', 33), ('b2', 21), ('b5', 35), ('a18', 12), ('b24', 10), ('b42', 25), ('a39', 28), ('b25', 30), ('a24', 10), ('b4', 17), ('a41', 40), ('b19', 30), ('b16', 30), ('b20', 19), ('a48', 19), ('a7', 14), ('a37', 18), ('a12', 21), ('a23', 24), ('a15', 15), ('b14', 50), ('b49', 15), ('a30', 16), ('a34', 20), ('a21', 26), ('a45', 22), ('a46', 27), ('a36', 11), ('b45', 23), ('a16', 30), ('b28', 24), ('a43', 30), ('b41', 30), ('b9', 14), ('a2', 49), ('b40', 35), ('a6', 26), ('b6', 13), ('b11', 16), ('a32', 28), ('b27', 15), ('a33', 32), ('a20', 25), ('b1', 29), ('a44', 42), ('b35', 33), ('b46', 44), ('b47', 42), ('b31', 17), ('b34', 26), ('a38', 49), ('a19', 34), ('b50', 50), ('a1', 22), ('b22', 19), ('a14', 18), ('b48', 46), ('b32', 28), ('a25', 41), ('b21', 38), ('b10', 18), ('a10', 38), ('a3', 19), ('b8', 39), ('a50', 50), ('b17', 44), ('b36', 26), ('a47', 46), ('a42', 37), ('a49', 43), ('a29', 45), ('a5', 35), ('a17', 33), ('b43', 31), ('a9', 28), ('b15', 44), ('a40', 37), ('b33', 46), ('b18', 48), ('b7', 32), ('a26', 46), ('b13', 49), ('a35', 49), ('b12', 37), ('a13', 35), ('b37', 29), ('a8', 41), ('a28', 46), ('b30', 48), ('b26', 46)]) = 66479.000\n",
      ">31, new best f([('b44', 19), ('b3', 16), ('a11', 18), ('a22', 27), ('b39', 23), ('b29', 33), ('b19', 30), ('a4', 13), ('b23', 27), ('b38', 27), ('a31', 45), ('a27', 21), ('a14', 18), ('b16', 30), ('b2', 21), ('b42', 25), ('a18', 12), ('b5', 35), ('b24', 10), ('b20', 19), ('b11', 16), ('a46', 27), ('a39', 28), ('b25', 30), ('b9', 14), ('a24', 10), ('b4', 17), ('a41', 40), ('a37', 18), ('a12', 21), ('a20', 25), ('a15', 15), ('b49', 15), ('a30', 16), ('a34', 20), ('a44', 42), ('a45', 22), ('a36', 11), ('b45', 23), ('a48', 19), ('a7', 14), ('a23', 24), ('b14', 50), ('a32', 28), ('a2', 49), ('b35', 33), ('b28', 24), ('a43', 30), ('b41', 30), ('a21', 26), ('a16', 30), ('b40', 35), ('a6', 26), ('b6', 13), ('b27', 15), ('a33', 32), ('b46', 44), ('b47', 42), ('b31', 17), ('a38', 49), ('a19', 34), ('b50', 50), ('a1', 22), ('b1', 29), ('b22', 19), ('a17', 33), ('b36', 26), ('b17', 44), ('a40', 37), ('b48', 46), ('b32', 28), ('a25', 41), ('b21', 38), ('b10', 18), ('a3', 19), ('b8', 39), ('b34', 26), ('a29', 45), ('a5', 35), ('b43', 31), ('a50', 50), ('a10', 38), ('a47', 46), ('a9', 28), ('b15', 44), ('a49', 43), ('b33', 46), ('b18', 48), ('b7', 32), ('a26', 46), ('b13', 49), ('a35', 49), ('b12', 37), ('a13', 35), ('a42', 37), ('b37', 29), ('a8', 41), ('a28', 46), ('b30', 48), ('b26', 46)]) = 66308.000\n",
      ">32, new best f([('b44', 19), ('b3', 16), ('a11', 18), ('a22', 27), ('b39', 23), ('a4', 13), ('b23', 27), ('b38', 27), ('a31', 45), ('a27', 21), ('b29', 33), ('b2', 21), ('b5', 35), ('a18', 12), ('b24', 10), ('b42', 25), ('a39', 28), ('b25', 30), ('a24', 10), ('b4', 17), ('b19', 30), ('b11', 16), ('a46', 27), ('b9', 14), ('a41', 40), ('a37', 18), ('a12', 21), ('a20', 25), ('a15', 15), ('b49', 15), ('a30', 16), ('a34', 20), ('a44', 42), ('a45', 22), ('b20', 19), ('a36', 11), ('b45', 23), ('b6', 13), ('a48', 19), ('a7', 14), ('a23', 24), ('b14', 50), ('a32', 28), ('a2', 49), ('b35', 33), ('b28', 24), ('a43', 30), ('b41', 30), ('a21', 26), ('a16', 30), ('b40', 35), ('a6', 26), ('b16', 30), ('b27', 15), ('a33', 32), ('b46', 44), ('b47', 42), ('b31', 17), ('a38', 49), ('a19', 34), ('b50', 50), ('a1', 22), ('b1', 29), ('b22', 19), ('a17', 33), ('b36', 26), ('b17', 44), ('a49', 43), ('a14', 18), ('b48', 46), ('b32', 28), ('a25', 41), ('b21', 38), ('b10', 18), ('a3', 19), ('b8', 39), ('b34', 26), ('a29', 45), ('a5', 35), ('b43', 31), ('a50', 50), ('a10', 38), ('a47', 46), ('a9', 28), ('b15', 44), ('a40', 37), ('b26', 46), ('b18', 48), ('b7', 32), ('a26', 46), ('b13', 49), ('a35', 49), ('b12', 37), ('a13', 35), ('a42', 37), ('b37', 29), ('a8', 41), ('a28', 46), ('b30', 48), ('b33', 46)]) = 66285.000\n",
      ">32, new best f([('b44', 19), ('b3', 16), ('a11', 18), ('a22', 27), ('b39', 23), ('a4', 13), ('b2', 21), ('b38', 27), ('a31', 45), ('b23', 27), ('a27', 21), ('b29', 33), ('b32', 28), ('b5', 35), ('a18', 12), ('b24', 10), ('b42', 25), ('a39', 28), ('b25', 30), ('b4', 17), ('a24', 10), ('b19', 30), ('b11', 16), ('a46', 27), ('b9', 14), ('a41', 40), ('a37', 18), ('a12', 21), ('a20', 25), ('a15', 15), ('b49', 15), ('a30', 16), ('a34', 20), ('a44', 42), ('a45', 22), ('b20', 19), ('a36', 11), ('b45', 23), ('b16', 30), ('a48', 19), ('a7', 14), ('a23', 24), ('b14', 50), ('a32', 28), ('a2', 49), ('b35', 33), ('b28', 24), ('a43', 30), ('b41', 30), ('a21', 26), ('a16', 30), ('b40', 35), ('a6', 26), ('b6', 13), ('b27', 15), ('a33', 32), ('b46', 44), ('b47', 42), ('b31', 17), ('a38', 49), ('a19', 34), ('b50', 50), ('a1', 22), ('b1', 29), ('b22', 19), ('a17', 33), ('b37', 29), ('b36', 26), ('b17', 44), ('a3', 19), ('a28', 46), ('a10', 38), ('a14', 18), ('a13', 35), ('a25', 41), ('b21', 38), ('b10', 18), ('b8', 39), ('b34', 26), ('a29', 45), ('a5', 35), ('b43', 31), ('a49', 43), ('a47', 46), ('a9', 28), ('b15', 44), ('a40', 37), ('b33', 46), ('a50', 50), ('b12', 37), ('b48', 46), ('a42', 37), ('b18', 48), ('a26', 46), ('b7', 32), ('b13', 49), ('a35', 49), ('a8', 41), ('b30', 48), ('b26', 46)]) = 66221.000\n",
      ">32, new best f([('b44', 19), ('b3', 16), ('a16', 30), ('a22', 27), ('b39', 23), ('a4', 13), ('a24', 10), ('b38', 27), ('a14', 18), ('b23', 27), ('b29', 33), ('a27', 21), ('b2', 21), ('b5', 35), ('a18', 12), ('b24', 10), ('b42', 25), ('a39', 28), ('b25', 30), ('b4', 17), ('a41', 40), ('b19', 30), ('b16', 30), ('a11', 18), ('b11', 16), ('a46', 27), ('b9', 14), ('a37', 18), ('a12', 21), ('a20', 25), ('a15', 15), ('b49', 15), ('a30', 16), ('a34', 20), ('a44', 42), ('a45', 22), ('b20', 19), ('a36', 11), ('b45', 23), ('a48', 19), ('a7', 14), ('a23', 24), ('b14', 50), ('a32', 28), ('a2', 49), ('b35', 33), ('b28', 24), ('a43', 30), ('b41', 30), ('a21', 26), ('b40', 35), ('a6', 26), ('b6', 13), ('b27', 15), ('a33', 32), ('b46', 44), ('b47', 42), ('b31', 17), ('a38', 49), ('a19', 34), ('b50', 50), ('a1', 22), ('b1', 29), ('b22', 19), ('a17', 33), ('b36', 26), ('b17', 44), ('a49', 43), ('a31', 45), ('b48', 46), ('b32', 28), ('a25', 41), ('b21', 38), ('b10', 18), ('a3', 19), ('b8', 39), ('b34', 26), ('a29', 45), ('a5', 35), ('b43', 31), ('a50', 50), ('a10', 38), ('a47', 46), ('a9', 28), ('b15', 44), ('a40', 37), ('b33', 46), ('b18', 48), ('b7', 32), ('a26', 46), ('b13', 49), ('a35', 49), ('b12', 37), ('a13', 35), ('a42', 37), ('b37', 29), ('a8', 41), ('a28', 46), ('b30', 48), ('b26', 46)]) = 66061.000\n",
      ">35, new best f([('b11', 16), ('b3', 16), ('a16', 30), ('a22', 27), ('b39', 23), ('a4', 13), ('a24', 10), ('b38', 27), ('a14', 18), ('b23', 27), ('b29', 33), ('a27', 21), ('b2', 21), ('b5', 35), ('a18', 12), ('b24', 10), ('b42', 25), ('a39', 28), ('b25', 30), ('b4', 17), ('a41', 40), ('b19', 30), ('b16', 30), ('a11', 18), ('b44', 19), ('a46', 27), ('b9', 14), ('a37', 18), ('a12', 21), ('a20', 25), ('a15', 15), ('b49', 15), ('a30', 16), ('a34', 20), ('a44', 42), ('a45', 22), ('b20', 19), ('a36', 11), ('b45', 23), ('a48', 19), ('a7', 14), ('a23', 24), ('b14', 50), ('a32', 28), ('a2', 49), ('b35', 33), ('b28', 24), ('a43', 30), ('b41', 30), ('a21', 26), ('b40', 35), ('a6', 26), ('b6', 13), ('b27', 15), ('a33', 32), ('b46', 44), ('b47', 42), ('b31', 17), ('a38', 49), ('a19', 34), ('b50', 50), ('a1', 22), ('b1', 29), ('a31', 45), ('b37', 29), ('b36', 26), ('b17', 44), ('a3', 19), ('a28', 46), ('a10', 38), ('b22', 19), ('b48', 46), ('b33', 46), ('a25', 41), ('b21', 38), ('b10', 18), ('b8', 39), ('b34', 26), ('a29', 45), ('a5', 35), ('b43', 31), ('a17', 33), ('b32', 28), ('a49', 43), ('a47', 46), ('a9', 28), ('b15', 44), ('a40', 37), ('a50', 50), ('b12', 37), ('a13', 35), ('a42', 37), ('b18', 48), ('a26', 46), ('b7', 32), ('b13', 49), ('a35', 49), ('a8', 41), ('b30', 48), ('b26', 46)]) = 65947.000\n",
      ">35, new best f([('b44', 19), ('b3', 16), ('a11', 18), ('a22', 27), ('b31', 17), ('a4', 13), ('a24', 10), ('b38', 27), ('a31', 45), ('a27', 21), ('a12', 21), ('b25', 30), ('b5', 35), ('a18', 12), ('b24', 10), ('b20', 19), ('a39', 28), ('b2', 21), ('b23', 27), ('b4', 17), ('b49', 15), ('a37', 18), ('b29', 33), ('a20', 25), ('a15', 15), ('b39', 23), ('b19', 30), ('b11', 16), ('b42', 25), ('a46', 27), ('b9', 14), ('a41', 40), ('a30', 16), ('a34', 20), ('a44', 42), ('a45', 22), ('a36', 11), ('b45', 23), ('b6', 13), ('a48', 19), ('a7', 14), ('a23', 24), ('b14', 50), ('a32', 28), ('a1', 22), ('b35', 33), ('b28', 24), ('a16', 30), ('b41', 30), ('a21', 26), ('a43', 30), ('a6', 26), ('b40', 35), ('b16', 30), ('b27', 15), ('a33', 32), ('b46', 44), ('b47', 42), ('a38', 49), ('a19', 34), ('b50', 50), ('a2', 49), ('b1', 29), ('b22', 19), ('a17', 33), ('b36', 26), ('b17', 44), ('a49', 43), ('a14', 18), ('b48', 46), ('b32', 28), ('a25', 41), ('b21', 38), ('b10', 18), ('a3', 19), ('b8', 39), ('b34', 26), ('a29', 45), ('a5', 35), ('b43', 31), ('a50', 50), ('a10', 38), ('a47', 46), ('a9', 28), ('a28', 46), ('b33', 46), ('a42', 37), ('b18', 48), ('b15', 44), ('a40', 37), ('b7', 32), ('b30', 48), ('a35', 49), ('a13', 35), ('b12', 37), ('b13', 49), ('b37', 29), ('a26', 46), ('a8', 41), ('b26', 46)]) = 65886.000\n",
      ">35, new best f([('b44', 19), ('b3', 16), ('a11', 18), ('a22', 27), ('b39', 23), ('a4', 13), ('a24', 10), ('b38', 27), ('a31', 45), ('b29', 33), ('b19', 30), ('b23', 27), ('a27', 21), ('a14', 18), ('b16', 30), ('b2', 21), ('b42', 25), ('a18', 12), ('b5', 35), ('b24', 10), ('b20', 19), ('b11', 16), ('a46', 27), ('a39', 28), ('b25', 30), ('b9', 14), ('b4', 17), ('a41', 40), ('a37', 18), ('a12', 21), ('a20', 25), ('a15', 15), ('b49', 15), ('a30', 16), ('a34', 20), ('a44', 42), ('a45', 22), ('a36', 11), ('b45', 23), ('a48', 19), ('a7', 14), ('a23', 24), ('b14', 50), ('a32', 28), ('a26', 46), ('b35', 33), ('b28', 24), ('a43', 30), ('b41', 30), ('a21', 26), ('a16', 30), ('b37', 29), ('b27', 15), ('b40', 35), ('a6', 26), ('b6', 13), ('b46', 44), ('a33', 32), ('b47', 42), ('b31', 17), ('b1', 29), ('b36', 26), ('a19', 34), ('b17', 44), ('a3', 19), ('a28', 46), ('a1', 22), ('a38', 49), ('a10', 38), ('b22', 19), ('b48', 46), ('b33', 46), ('a25', 41), ('b21', 38), ('b10', 18), ('b8', 39), ('b34', 26), ('a29', 45), ('a5', 35), ('b43', 31), ('a17', 33), ('b32', 28), ('a49', 43), ('b50', 50), ('a47', 46), ('a9', 28), ('b15', 44), ('a40', 37), ('a50', 50), ('b12', 37), ('a13', 35), ('a42', 37), ('b18', 48), ('a2', 49), ('b7', 32), ('b13', 49), ('a35', 49), ('a8', 41), ('b30', 48), ('b26', 46)]) = 65813.000\n",
      ">35, new best f([('b11', 16), ('b3', 16), ('a16', 30), ('a22', 27), ('b39', 23), ('a4', 13), ('a24', 10), ('b38', 27), ('a14', 18), ('b23', 27), ('b29', 33), ('a27', 21), ('b2', 21), ('b5', 35), ('a18', 12), ('b24', 10), ('b42', 25), ('a39', 28), ('b25', 30), ('b4', 17), ('a41', 40), ('b19', 30), ('b16', 30), ('a11', 18), ('b44', 19), ('a46', 27), ('b9', 14), ('a37', 18), ('a12', 21), ('a20', 25), ('a15', 15), ('b49', 15), ('a30', 16), ('a34', 20), ('a44', 42), ('a45', 22), ('b20', 19), ('a36', 11), ('b45', 23), ('a48', 19), ('a7', 14), ('a23', 24), ('b14', 50), ('a32', 28), ('a2', 49), ('b35', 33), ('b28', 24), ('a31', 45), ('b37', 29), ('a43', 30), ('b27', 15), ('a21', 26), ('b34', 26), ('b41', 30), ('b40', 35), ('a6', 26), ('b6', 13), ('a33', 32), ('b46', 44), ('b47', 42), ('b31', 17), ('a38', 49), ('a19', 34), ('b50', 50), ('a1', 22), ('b1', 29), ('b22', 19), ('b17', 44), ('b36', 26), ('a17', 33), ('a40', 37), ('b48', 46), ('b32', 28), ('a25', 41), ('b21', 38), ('b10', 18), ('a3', 19), ('a28', 46), ('a10', 38), ('b8', 39), ('a29', 45), ('a5', 35), ('b43', 31), ('b33', 46), ('a49', 43), ('a47', 46), ('a9', 28), ('b15', 44), ('a50', 50), ('b12', 37), ('a13', 35), ('a42', 37), ('b18', 48), ('a26', 46), ('b7', 32), ('b13', 49), ('a35', 49), ('a8', 41), ('b30', 48), ('b26', 46)]) = 65714.000\n",
      ">36, new best f([('b44', 19), ('b3', 16), ('a11', 18), ('a22', 27), ('b39', 23), ('a4', 13), ('b2', 21), ('b31', 17), ('a24', 10), ('b38', 27), ('a31', 45), ('a27', 21), ('a12', 21), ('b25', 30), ('b5', 35), ('a18', 12), ('b24', 10), ('b20', 19), ('a39', 28), ('b23', 27), ('b4', 17), ('b49', 15), ('a37', 18), ('b29', 33), ('a20', 25), ('a15', 15), ('b19', 30), ('b11', 16), ('b42', 25), ('a46', 27), ('b9', 14), ('a41', 40), ('a30', 16), ('a34', 20), ('a44', 42), ('a45', 22), ('a36', 11), ('b45', 23), ('b6', 13), ('a48', 19), ('a7', 14), ('a23', 24), ('b14', 50), ('a32', 28), ('a1', 22), ('b35', 33), ('b28', 24), ('a16', 30), ('b41', 30), ('a21', 26), ('a43', 30), ('a6', 26), ('b40', 35), ('b16', 30), ('b27', 15), ('a33', 32), ('b46', 44), ('b47', 42), ('a38', 49), ('a19', 34), ('b50', 50), ('a2', 49), ('b1', 29), ('b22', 19), ('a17', 33), ('b36', 26), ('b17', 44), ('a49', 43), ('a14', 18), ('b48', 46), ('b32', 28), ('a25', 41), ('b21', 38), ('b10', 18), ('a3', 19), ('b8', 39), ('b34', 26), ('a29', 45), ('a5', 35), ('b43', 31), ('a50', 50), ('a10', 38), ('a47', 46), ('a9', 28), ('a28', 46), ('b33', 46), ('a42', 37), ('b18', 48), ('b15', 44), ('a40', 37), ('b7', 32), ('b30', 48), ('a35', 49), ('a13', 35), ('b12', 37), ('b13', 49), ('b37', 29), ('a26', 46), ('a8', 41), ('b26', 46)]) = 65544.000\n",
      ">38, new best f([('b44', 19), ('b3', 16), ('a11', 18), ('a22', 27), ('b39', 23), ('a4', 13), ('b2', 21), ('b31', 17), ('a24', 10), ('b38', 27), ('a31', 45), ('a27', 21), ('a12', 21), ('b25', 30), ('b5', 35), ('a18', 12), ('b24', 10), ('b20', 19), ('a39', 28), ('b23', 27), ('b4', 17), ('b27', 15), ('a37', 18), ('b29', 33), ('a20', 25), ('a15', 15), ('b19', 30), ('b11', 16), ('b42', 25), ('a46', 27), ('b9', 14), ('a41', 40), ('a30', 16), ('a34', 20), ('a44', 42), ('a45', 22), ('a36', 11), ('b45', 23), ('b6', 13), ('a48', 19), ('a10', 38), ('a23', 24), ('b14', 50), ('a32', 28), ('a1', 22), ('b35', 33), ('b28', 24), ('a16', 30), ('b41', 30), ('a21', 26), ('a43', 30), ('a6', 26), ('b40', 35), ('b16', 30), ('b49', 15), ('a33', 32), ('b46', 44), ('b47', 42), ('a38', 49), ('a19', 34), ('a14', 18), ('a7', 14), ('a2', 49), ('b37', 29), ('b34', 26), ('b50', 50), ('b1', 29), ('b22', 19), ('b17', 44), ('b36', 26), ('a17', 33), ('a40', 37), ('b48', 46), ('b32', 28), ('a25', 41), ('b21', 38), ('b10', 18), ('a3', 19), ('a28', 46), ('b8', 39), ('a29', 45), ('a5', 35), ('b43', 31), ('b33', 46), ('a49', 43), ('a47', 46), ('a9', 28), ('b15', 44), ('a50', 50), ('b12', 37), ('a13', 35), ('a42', 37), ('b18', 48), ('a26', 46), ('b7', 32), ('b13', 49), ('a35', 49), ('a8', 41), ('b30', 48), ('b26', 46)]) = 65475.000\n",
      ">38, new best f([('b44', 19), ('b3', 16), ('a11', 18), ('a22', 27), ('b39', 23), ('a4', 13), ('b2', 21), ('b31', 17), ('a24', 10), ('b38', 27), ('a31', 45), ('a27', 21), ('a12', 21), ('b25', 30), ('b5', 35), ('a18', 12), ('b24', 10), ('b20', 19), ('a39', 28), ('b23', 27), ('b4', 17), ('b49', 15), ('a37', 18), ('b29', 33), ('a20', 25), ('a15', 15), ('b19', 30), ('b11', 16), ('b42', 25), ('a46', 27), ('b9', 14), ('a41', 40), ('a30', 16), ('a34', 20), ('a44', 42), ('a45', 22), ('a36', 11), ('b45', 23), ('b6', 13), ('a48', 19), ('a7', 14), ('a23', 24), ('b14', 50), ('a32', 28), ('a1', 22), ('b35', 33), ('b28', 24), ('a16', 30), ('b41', 30), ('a21', 26), ('a43', 30), ('a6', 26), ('b40', 35), ('b16', 30), ('b27', 15), ('a33', 32), ('a14', 18), ('a19', 34), ('a2', 49), ('b37', 29), ('b46', 44), ('b47', 42), ('a38', 49), ('b50', 50), ('b1', 29), ('b22', 19), ('a17', 33), ('b36', 26), ('b17', 44), ('a40', 37), ('b48', 46), ('b32', 28), ('a25', 41), ('b21', 38), ('b10', 18), ('a3', 19), ('a28', 46), ('a10', 38), ('b8', 39), ('b34', 26), ('a29', 45), ('a5', 35), ('b43', 31), ('b33', 46), ('a49', 43), ('a50', 50), ('a47', 46), ('a9', 28), ('b15', 44), ('b18', 48), ('b7', 32), ('a26', 46), ('b13', 49), ('a35', 49), ('b12', 37), ('a13', 35), ('a42', 37), ('a8', 41), ('b30', 48), ('b26', 46)]) = 65264.000\n",
      ">39, new best f([('b44', 19), ('b3', 16), ('a11', 18), ('a22', 27), ('b31', 17), ('a4', 13), ('a24', 10), ('b38', 27), ('a31', 45), ('a27', 21), ('a12', 21), ('b25', 30), ('b5', 35), ('a18', 12), ('b24', 10), ('b20', 19), ('a39', 28), ('b2', 21), ('b23', 27), ('b4', 17), ('b49', 15), ('a37', 18), ('b29', 33), ('a20', 25), ('a15', 15), ('b39', 23), ('b19', 30), ('b11', 16), ('b42', 25), ('a46', 27), ('b9', 14), ('a41', 40), ('a30', 16), ('a34', 20), ('a44', 42), ('a45', 22), ('a36', 11), ('b45', 23), ('b6', 13), ('a48', 19), ('a7', 14), ('a23', 24), ('b14', 50), ('a32', 28), ('a1', 22), ('b35', 33), ('b28', 24), ('a16', 30), ('b27', 15), ('a21', 26), ('a43', 30), ('a6', 26), ('b40', 35), ('b16', 30), ('a10', 38), ('b41', 30), ('a33', 32), ('b46', 44), ('b47', 42), ('a38', 49), ('a19', 34), ('a14', 18), ('a2', 49), ('b37', 29), ('b34', 26), ('b50', 50), ('b1', 29), ('b22', 19), ('b17', 44), ('b36', 26), ('a17', 33), ('a40', 37), ('b48', 46), ('b32', 28), ('b12', 37), ('b21', 38), ('b10', 18), ('a3', 19), ('a28', 46), ('b8', 39), ('a29', 45), ('a5', 35), ('b43', 31), ('b33', 46), ('a49', 43), ('a47', 46), ('a9', 28), ('b15', 44), ('a50', 50), ('a25', 41), ('a13', 35), ('a42', 37), ('b18', 48), ('a26', 46), ('b7', 32), ('b13', 49), ('a35', 49), ('a8', 41), ('b30', 48), ('b26', 46)]) = 65239.000\n",
      ">40, new best f([('b44', 19), ('b3', 16), ('a11', 18), ('a22', 27), ('b39', 23), ('a4', 13), ('b2', 21), ('b31', 17), ('a24', 10), ('b38', 27), ('a31', 45), ('a27', 21), ('a12', 21), ('b25', 30), ('b5', 35), ('a18', 12), ('b24', 10), ('b20', 19), ('a39', 28), ('a13', 35), ('b4', 17), ('b49', 15), ('a37', 18), ('b29', 33), ('a20', 25), ('a15', 15), ('b19', 30), ('b11', 16), ('b42', 25), ('a46', 27), ('b9', 14), ('b23', 27), ('a30', 16), ('a34', 20), ('a44', 42), ('a45', 22), ('a36', 11), ('b45', 23), ('b6', 13), ('a48', 19), ('a7', 14), ('a23', 24), ('b14', 50), ('a32', 28), ('a1', 22), ('b35', 33), ('b28', 24), ('a16', 30), ('b41', 30), ('a21', 26), ('a43', 30), ('a6', 26), ('b40', 35), ('b16', 30), ('b27', 15), ('b37', 29), ('a14', 18), ('a2', 49), ('a19', 34), ('a33', 32), ('b46', 44), ('b47', 42), ('a38', 49), ('b50', 50), ('b1', 29), ('b22', 19), ('a17', 33), ('b36', 26), ('b17', 44), ('a5', 35), ('b48', 46), ('b32', 28), ('a25', 41), ('b21', 38), ('b10', 18), ('a3', 19), ('b8', 39), ('a28', 46), ('a10', 38), ('a9', 28), ('a29', 45), ('b34', 26), ('a49', 43), ('b43', 31), ('b18', 48), ('a47', 46), ('a42', 37), ('b15', 44), ('a40', 37), ('a41', 40), ('b12', 37), ('b33', 46), ('a50', 50), ('b7', 32), ('b30', 48), ('a35', 49), ('b13', 49), ('a26', 46), ('a8', 41), ('b26', 46)]) = 65195.000\n",
      ">41, new best f([('b44', 19), ('b3', 16), ('a11', 18), ('a22', 27), ('b31', 17), ('a4', 13), ('a24', 10), ('a16', 30), ('b39', 23), ('b38', 27), ('a14', 18), ('b23', 27), ('b29', 33), ('a21', 26), ('b2', 21), ('b5', 35), ('a18', 12), ('b24', 10), ('b42', 25), ('a39', 28), ('b25', 30), ('b4', 17), ('a41', 40), ('b11', 16), ('b10', 18), ('a31', 45), ('a27', 21), ('a12', 21), ('b20', 19), ('b36', 26), ('a37', 18), ('a20', 25), ('a15', 15), ('b19', 30), ('a46', 27), ('b9', 14), ('a30', 16), ('a34', 20), ('a44', 42), ('a45', 22), ('a36', 11), ('b45', 23), ('b6', 13), ('a48', 19), ('a7', 14), ('a23', 24), ('b14', 50), ('a32', 28), ('a1', 22), ('b35', 33), ('b28', 24), ('b27', 15), ('a43', 30), ('a6', 26), ('b40', 35), ('b16', 30), ('b41', 30), ('a33', 32), ('b46', 44), ('b47', 42), ('a38', 49), ('a19', 34), ('b50', 50), ('a2', 49), ('b1', 29), ('b22', 19), ('a17', 33), ('b49', 15), ('b17', 44), ('b32', 28), ('a9', 28), ('b48', 46), ('a3', 19), ('a28', 46), ('a10', 38), ('a25', 41), ('b21', 38), ('b37', 29), ('b8', 39), ('b34', 26), ('a29', 45), ('a5', 35), ('b43', 31), ('a49', 43), ('b13', 49), ('a47', 46), ('a42', 37), ('b15', 44), ('a13', 35), ('b12', 37), ('b33', 46), ('a40', 37), ('b7', 32), ('b18', 48), ('a26', 46), ('a50', 50), ('a35', 49), ('a8', 41), ('b30', 48), ('b26', 46)]) = 65163.000\n",
      ">41, new best f([('b44', 19), ('b3', 16), ('a11', 18), ('a22', 27), ('b11', 16), ('b39', 23), ('a4', 13), ('b2', 21), ('b31', 17), ('a24', 10), ('b38', 27), ('a31', 45), ('a27', 21), ('a12', 21), ('b25', 30), ('b5', 35), ('a18', 12), ('b24', 10), ('b20', 19), ('a39', 28), ('a41', 40), ('b4', 17), ('b49', 15), ('a37', 18), ('b29', 33), ('a20', 25), ('a15', 15), ('b19', 30), ('b42', 25), ('a46', 27), ('b9', 14), ('b23', 27), ('a30', 16), ('a34', 20), ('a44', 42), ('a45', 22), ('a36', 11), ('b45', 23), ('b6', 13), ('a48', 19), ('a7', 14), ('a23', 24), ('b14', 50), ('a32', 28), ('a1', 22), ('b35', 33), ('b28', 24), ('a16', 30), ('b41', 30), ('a21', 26), ('a43', 30), ('a6', 26), ('b40', 35), ('b16', 30), ('b27', 15), ('b37', 29), ('a14', 18), ('a2', 49), ('a19', 34), ('a33', 32), ('b46', 44), ('b47', 42), ('a38', 49), ('b50', 50), ('b1', 29), ('b22', 19), ('a17', 33), ('b36', 26), ('b17', 44), ('a5', 35), ('b48', 46), ('b32', 28), ('a25', 41), ('b21', 38), ('b10', 18), ('a3', 19), ('b8', 39), ('a28', 46), ('a10', 38), ('a9', 28), ('a29', 45), ('b34', 26), ('a49', 43), ('b43', 31), ('b18', 48), ('a47', 46), ('a42', 37), ('b15', 44), ('a40', 37), ('a13', 35), ('b12', 37), ('b33', 46), ('a50', 50), ('b7', 32), ('b30', 48), ('a8', 41), ('a26', 46), ('b13', 49), ('a35', 49), ('b26', 46)]) = 65122.000\n",
      ">42, new best f([('b44', 19), ('b3', 16), ('a11', 18), ('a22', 27), ('b39', 23), ('a4', 13), ('b2', 21), ('b31', 17), ('a24', 10), ('b11', 16), ('b38', 27), ('a31', 45), ('a27', 21), ('a12', 21), ('b25', 30), ('b5', 35), ('a18', 12), ('b24', 10), ('b20', 19), ('a39', 28), ('a41', 40), ('b4', 17), ('b49', 15), ('a37', 18), ('b29', 33), ('a20', 25), ('a15', 15), ('b19', 30), ('b42', 25), ('a46', 27), ('b9', 14), ('b23', 27), ('a30', 16), ('a34', 20), ('a44', 42), ('a45', 22), ('a36', 11), ('b45', 23), ('b6', 13), ('a48', 19), ('a7', 14), ('a23', 24), ('b14', 50), ('a32', 28), ('a1', 22), ('b35', 33), ('b28', 24), ('a16', 30), ('b41', 30), ('a21', 26), ('a43', 30), ('a6', 26), ('b40', 35), ('b16', 30), ('b27', 15), ('b37', 29), ('a14', 18), ('a2', 49), ('a19', 34), ('a33', 32), ('b46', 44), ('b47', 42), ('a38', 49), ('b50', 50), ('b1', 29), ('b22', 19), ('a17', 33), ('b36', 26), ('b17', 44), ('a5', 35), ('b48', 46), ('b32', 28), ('a25', 41), ('b21', 38), ('b10', 18), ('a3', 19), ('b8', 39), ('a28', 46), ('a10', 38), ('a9', 28), ('a29', 45), ('b34', 26), ('a49', 43), ('b43', 31), ('b18', 48), ('a47', 46), ('a42', 37), ('b15', 44), ('a40', 37), ('a13', 35), ('b12', 37), ('b33', 46), ('a50', 50), ('b7', 32), ('b30', 48), ('a8', 41), ('a26', 46), ('b13', 49), ('a35', 49), ('b26', 46)]) = 65106.000\n",
      ">42, new best f([('b44', 19), ('b3', 16), ('a11', 18), ('a22', 27), ('b31', 17), ('a4', 13), ('b2', 21), ('b38', 27), ('a31', 45), ('a27', 21), ('a12', 21), ('b25', 30), ('b5', 35), ('a18', 12), ('b24', 10), ('b20', 19), ('a39', 28), ('a24', 10), ('b23', 27), ('b4', 17), ('b49', 15), ('a37', 18), ('b29', 33), ('a20', 25), ('a15', 15), ('b39', 23), ('b19', 30), ('b11', 16), ('b42', 25), ('a46', 27), ('b9', 14), ('a41', 40), ('a30', 16), ('a34', 20), ('a44', 42), ('a45', 22), ('a36', 11), ('b45', 23), ('b6', 13), ('a48', 19), ('a7', 14), ('a23', 24), ('b14', 50), ('a32', 28), ('a1', 22), ('b35', 33), ('b28', 24), ('a16', 30), ('b27', 15), ('a14', 18), ('a21', 26), ('b16', 30), ('b37', 29), ('a43', 30), ('b32', 28), ('b47', 42), ('a2', 49), ('b41', 30), ('b40', 35), ('a6', 26), ('a33', 32), ('b22', 19), ('a19', 34), ('a38', 49), ('b50', 50), ('b1', 29), ('b46', 44), ('a17', 33), ('b36', 26), ('b17', 44), ('a3', 19), ('a28', 46), ('a10', 38), ('a13', 35), ('a25', 41), ('b21', 38), ('b10', 18), ('b8', 39), ('b34', 26), ('b12', 37), ('a40', 37), ('b48', 46), ('a29', 45), ('a5', 35), ('b43', 31), ('a50', 50), ('a47', 46), ('a49', 43), ('a42', 37), ('b15', 44), ('b33', 46), ('b18', 48), ('a26', 46), ('b7', 32), ('b13', 49), ('a35', 49), ('a8', 41), ('a9', 28), ('b30', 48), ('b26', 46)]) = 65073.000\n",
      ">43, new best f([('b44', 19), ('b3', 16), ('a11', 18), ('a22', 27), ('b31', 17), ('a4', 13), ('b2', 21), ('b38', 27), ('a31', 45), ('a27', 21), ('a12', 21), ('b25', 30), ('b5', 35), ('a18', 12), ('b24', 10), ('b20', 19), ('a39', 28), ('a24', 10), ('b23', 27), ('b4', 17), ('b49', 15), ('a37', 18), ('b29', 33), ('a20', 25), ('a15', 15), ('b39', 23), ('b19', 30), ('b11', 16), ('b42', 25), ('a46', 27), ('b9', 14), ('a45', 22), ('a30', 16), ('a34', 20), ('a44', 42), ('a41', 40), ('a36', 11), ('b45', 23), ('b6', 13), ('a48', 19), ('a7', 14), ('a23', 24), ('b14', 50), ('a32', 28), ('a1', 22), ('b35', 33), ('b28', 24), ('a16', 30), ('b27', 15), ('a14', 18), ('a21', 26), ('b16', 30), ('b37', 29), ('a43', 30), ('b32', 28), ('b47', 42), ('a2', 49), ('b41', 30), ('b40', 35), ('a6', 26), ('a33', 32), ('b22', 19), ('a19', 34), ('a38', 49), ('b50', 50), ('b1', 29), ('b46', 44), ('a17', 33), ('b36', 26), ('b17', 44), ('a3', 19), ('a28', 46), ('a10', 38), ('a13', 35), ('a25', 41), ('b21', 38), ('b10', 18), ('b8', 39), ('b34', 26), ('b12', 37), ('a40', 37), ('b48', 46), ('a29', 45), ('a5', 35), ('b43', 31), ('a50', 50), ('a47', 46), ('a49', 43), ('a42', 37), ('b15', 44), ('b33', 46), ('b18', 48), ('a26', 46), ('b7', 32), ('b13', 49), ('a35', 49), ('a8', 41), ('a9', 28), ('b30', 48), ('b26', 46)]) = 65001.000\n",
      ">43, new best f([('b44', 19), ('b3', 16), ('a11', 18), ('a22', 27), ('b39', 23), ('b6', 13), ('b2', 21), ('b31', 17), ('a24', 10), ('b38', 27), ('a31', 45), ('a27', 21), ('a12', 21), ('b25', 30), ('b5', 35), ('a18', 12), ('b24', 10), ('b20', 19), ('a39', 28), ('a13', 35), ('b4', 17), ('b49', 15), ('a37', 18), ('b29', 33), ('a20', 25), ('a15', 15), ('b19', 30), ('b11', 16), ('b42', 25), ('a46', 27), ('b9', 14), ('b23', 27), ('a30', 16), ('a34', 20), ('a44', 42), ('a45', 22), ('a36', 11), ('b45', 23), ('a4', 13), ('a48', 19), ('a7', 14), ('a23', 24), ('b14', 50), ('a32', 28), ('a1', 22), ('b35', 33), ('b28', 24), ('a16', 30), ('b41', 30), ('a14', 18), ('a21', 26), ('b16', 30), ('b37', 29), ('a43', 30), ('b27', 15), ('b32', 28), ('b47', 42), ('a41', 40), ('b34', 26), ('a6', 26), ('b40', 35), ('a2', 49), ('a19', 34), ('a33', 32), ('b46', 44), ('a38', 49), ('b1', 29), ('b36', 26), ('b17', 44), ('a3', 19), ('a28', 46), ('a10', 38), ('b22', 19), ('b50', 50), ('a17', 33), ('a40', 37), ('b48', 46), ('a25', 41), ('b21', 38), ('b10', 18), ('b8', 39), ('a29', 45), ('a5', 35), ('b43', 31), ('a50', 50), ('a47', 46), ('a9', 28), ('b15', 44), ('a49', 43), ('b18', 48), ('a42', 37), ('b33', 46), ('b7', 32), ('b13', 49), ('a35', 49), ('b12', 37), ('a26', 46), ('a8', 41), ('b30', 48), ('b26', 46)]) = 64991.000\n",
      ">43, new best f([('b44', 19), ('b3', 16), ('a11', 18), ('a22', 27), ('b11', 16), ('b39', 23), ('a4', 13), ('b2', 21), ('b31', 17), ('a24', 10), ('b38', 27), ('a10', 38), ('a27', 21), ('a12', 21), ('b25', 30), ('b5', 35), ('a18', 12), ('b24', 10), ('b20', 19), ('a39', 28), ('a41', 40), ('b4', 17), ('b49', 15), ('a37', 18), ('b29', 33), ('a20', 25), ('a15', 15), ('b19', 30), ('b42', 25), ('a46', 27), ('b9', 14), ('b23', 27), ('a30', 16), ('a34', 20), ('a44', 42), ('a45', 22), ('a36', 11), ('b45', 23), ('b6', 13), ('a48', 19), ('a7', 14), ('a23', 24), ('b34', 26), ('a32', 28), ('a1', 22), ('b35', 33), ('b28', 24), ('a16', 30), ('b41', 30), ('a21', 26), ('a43', 30), ('a6', 26), ('b40', 35), ('b16', 30), ('b27', 15), ('b37', 29), ('a14', 18), ('a13', 35), ('b14', 50), ('b32', 28), ('b47', 42), ('a2', 49), ('a33', 32), ('b22', 19), ('a19', 34), ('a38', 49), ('b50', 50), ('b1', 29), ('b46', 44), ('a17', 33), ('b36', 26), ('b17', 44), ('a3', 19), ('a28', 46), ('a31', 45), ('a25', 41), ('b21', 38), ('b10', 18), ('b8', 39), ('b12', 37), ('a40', 37), ('b48', 46), ('a29', 45), ('a5', 35), ('b43', 31), ('a50', 50), ('a47', 46), ('a49', 43), ('a42', 37), ('b15', 44), ('b33', 46), ('b18', 48), ('a26', 46), ('b7', 32), ('b13', 49), ('a35', 49), ('a8', 41), ('a9', 28), ('b30', 48), ('b26', 46)]) = 64549.000\n",
      ">45, new best f([('b44', 19), ('b3', 16), ('a11', 18), ('a22', 27), ('b11', 16), ('b39', 23), ('a4', 13), ('b2', 21), ('b31', 17), ('a24', 10), ('b38', 27), ('a10', 38), ('a27', 21), ('a12', 21), ('b25', 30), ('b5', 35), ('a18', 12), ('b24', 10), ('b20', 19), ('a39', 28), ('a41', 40), ('b4', 17), ('b49', 15), ('a37', 18), ('b29', 33), ('a20', 25), ('a15', 15), ('b19', 30), ('b42', 25), ('a46', 27), ('b9', 14), ('b23', 27), ('a30', 16), ('a34', 20), ('a44', 42), ('a45', 22), ('a36', 11), ('b45', 23), ('b6', 13), ('a48', 19), ('a7', 14), ('a23', 24), ('b34', 26), ('a32', 28), ('a1', 22), ('b35', 33), ('b28', 24), ('a16', 30), ('b10', 18), ('a21', 26), ('a43', 30), ('a6', 26), ('b40', 35), ('b16', 30), ('b27', 15), ('b37', 29), ('a14', 18), ('a13', 35), ('b14', 50), ('b32', 28), ('b47', 42), ('a2', 49), ('a33', 32), ('b22', 19), ('a19', 34), ('a38', 49), ('a31', 45), ('b46', 44), ('b50', 50), ('b1', 29), ('a17', 33), ('b36', 26), ('b17', 44), ('a5', 35), ('b48', 46), ('a25', 41), ('b21', 38), ('b41', 30), ('a3', 19), ('b8', 39), ('a28', 46), ('a9', 28), ('a29', 45), ('b43', 31), ('a49', 43), ('b18', 48), ('a47', 46), ('a42', 37), ('b15', 44), ('a40', 37), ('b12', 37), ('b33', 46), ('a50', 50), ('b7', 32), ('b30', 48), ('a35', 49), ('b13', 49), ('a26', 46), ('a8', 41), ('b26', 46)]) = 64316.000\n",
      ">50, new best f([('b44', 19), ('b3', 16), ('a11', 18), ('a22', 27), ('b11', 16), ('b39', 23), ('a4', 13), ('b2', 21), ('b31', 17), ('a24', 10), ('b38', 27), ('a10', 38), ('a27', 21), ('a12', 21), ('b25', 30), ('b5', 35), ('a18', 12), ('b24', 10), ('b20', 19), ('a39', 28), ('a41', 40), ('b4', 17), ('b49', 15), ('a37', 18), ('b29', 33), ('a20', 25), ('a15', 15), ('b19', 30), ('b42', 25), ('a46', 27), ('b9', 14), ('b23', 27), ('a30', 16), ('a34', 20), ('a44', 42), ('a45', 22), ('a36', 11), ('b45', 23), ('b6', 13), ('a48', 19), ('a7', 14), ('a23', 24), ('b34', 26), ('a32', 28), ('a1', 22), ('b35', 33), ('b28', 24), ('a16', 30), ('b10', 18), ('a3', 19), ('a43', 30), ('a6', 26), ('b40', 35), ('b16', 30), ('b27', 15), ('b37', 29), ('a14', 18), ('a13', 35), ('b14', 50), ('b32', 28), ('b47', 42), ('a2', 49), ('a33', 32), ('b22', 19), ('a19', 34), ('a38', 49), ('a31', 45), ('b46', 44), ('b50', 50), ('b1', 29), ('a17', 33), ('b36', 26), ('b17', 44), ('a5', 35), ('b48', 46), ('a25', 41), ('b21', 38), ('b41', 30), ('a21', 26), ('b8', 39), ('a28', 46), ('a9', 28), ('a29', 45), ('a49', 43), ('b43', 31), ('b18', 48), ('a47', 46), ('a42', 37), ('b15', 44), ('a40', 37), ('b12', 37), ('b33', 46), ('a50', 50), ('b7', 32), ('b30', 48), ('a35', 49), ('b13', 49), ('a26', 46), ('a8', 41), ('b26', 46)]) = 64194.000\n",
      ">50, new best f([('b44', 19), ('b3', 16), ('a11', 18), ('a22', 27), ('b11', 16), ('b39', 23), ('a4', 13), ('b2', 21), ('b31', 17), ('a24', 10), ('b38', 27), ('a10', 38), ('a27', 21), ('a12', 21), ('b25', 30), ('b5', 35), ('a18', 12), ('b24', 10), ('b20', 19), ('a39', 28), ('a36', 11), ('b4', 17), ('b49', 15), ('a37', 18), ('b29', 33), ('a20', 25), ('a15', 15), ('b19', 30), ('b42', 25), ('a46', 27), ('b9', 14), ('b23', 27), ('a30', 16), ('a34', 20), ('a44', 42), ('a45', 22), ('a41', 40), ('b45', 23), ('b6', 13), ('a48', 19), ('a7', 14), ('a23', 24), ('b34', 26), ('a32', 28), ('a1', 22), ('b35', 33), ('b28', 24), ('a16', 30), ('b10', 18), ('a21', 26), ('a43', 30), ('a6', 26), ('b40', 35), ('b16', 30), ('b27', 15), ('b37', 29), ('a14', 18), ('a13', 35), ('b14', 50), ('b32', 28), ('b47', 42), ('a2', 49), ('a33', 32), ('b22', 19), ('a19', 34), ('a38', 49), ('a31', 45), ('b46', 44), ('b50', 50), ('b1', 29), ('a17', 33), ('b36', 26), ('b17', 44), ('a5', 35), ('b48', 46), ('a25', 41), ('b21', 38), ('b41', 30), ('a3', 19), ('b8', 39), ('a28', 46), ('a9', 28), ('a29', 45), ('a49', 43), ('b43', 31), ('b18', 48), ('a47', 46), ('a42', 37), ('b15', 44), ('a40', 37), ('b12', 37), ('b33', 46), ('a50', 50), ('b7', 32), ('b30', 48), ('a8', 41), ('a26', 46), ('b13', 49), ('a35', 49), ('b26', 46)]) = 64125.000\n",
      ">52, new best f([('b44', 19), ('b3', 16), ('a11', 18), ('a22', 27), ('b11', 16), ('b39', 23), ('a4', 13), ('b2', 21), ('b31', 17), ('a24', 10), ('b38', 27), ('a10', 38), ('a27', 21), ('a12', 21), ('b25', 30), ('b5', 35), ('a18', 12), ('b24', 10), ('b20', 19), ('a39', 28), ('a36', 11), ('b4', 17), ('b49', 15), ('a37', 18), ('b29', 33), ('a20', 25), ('a15', 15), ('b19', 30), ('b42', 25), ('a46', 27), ('b9', 14), ('b23', 27), ('a30', 16), ('a34', 20), ('a44', 42), ('a45', 22), ('a41', 40), ('b45', 23), ('b6', 13), ('a48', 19), ('a7', 14), ('a23', 24), ('b34', 26), ('a32', 28), ('a1', 22), ('b35', 33), ('b28', 24), ('a16', 30), ('b10', 18), ('a21', 26), ('a43', 30), ('a6', 26), ('b40', 35), ('b16', 30), ('b27', 15), ('b37', 29), ('a14', 18), ('a13', 35), ('b14', 50), ('b32', 28), ('b47', 42), ('a2', 49), ('a33', 32), ('b22', 19), ('a19', 34), ('a38', 49), ('a31', 45), ('b46', 44), ('b50', 50), ('b1', 29), ('a17', 33), ('b36', 26), ('b17', 44), ('a5', 35), ('b48', 46), ('a25', 41), ('b21', 38), ('b41', 30), ('a3', 19), ('b8', 39), ('a28', 46), ('a9', 28), ('a29', 45), ('a49', 43), ('b43', 31), ('b18', 48), ('a47', 46), ('a42', 37), ('b15', 44), ('a40', 37), ('b12', 37), ('b33', 46), ('a50', 50), ('b7', 32), ('b30', 48), ('a35', 49), ('b13', 49), ('a26', 46), ('a8', 41), ('b26', 46)]) = 64087.000\n",
      ">52, new best f([('b44', 19), ('b3', 16), ('a11', 18), ('a3', 19), ('b11', 16), ('b39', 23), ('b5', 35), ('b31', 17), ('a4', 13), ('b2', 21), ('b38', 27), ('a24', 10), ('a10', 38), ('a27', 21), ('a12', 21), ('b25', 30), ('a18', 12), ('b24', 10), ('b20', 19), ('a39', 28), ('a20', 25), ('a46', 27), ('b49', 15), ('a37', 18), ('b29', 33), ('a41', 40), ('a15', 15), ('b10', 18), ('b42', 25), ('b4', 17), ('b9', 14), ('b23', 27), ('a30', 16), ('a34', 20), ('a44', 42), ('a45', 22), ('a36', 11), ('b45', 23), ('b6', 13), ('a48', 19), ('a7', 14), ('a23', 24), ('b34', 26), ('a32', 28), ('a1', 22), ('b35', 33), ('b28', 24), ('a16', 30), ('b19', 30), ('a21', 26), ('a43', 30), ('a6', 26), ('b40', 35), ('b16', 30), ('b27', 15), ('b37', 29), ('a14', 18), ('a13', 35), ('b14', 50), ('b32', 28), ('b47', 42), ('a2', 49), ('a33', 32), ('b22', 19), ('a19', 34), ('a38', 49), ('a31', 45), ('b46', 44), ('b50', 50), ('b1', 29), ('a17', 33), ('b36', 26), ('b17', 44), ('a5', 35), ('b48', 46), ('a25', 41), ('b21', 38), ('b41', 30), ('a22', 27), ('b8', 39), ('a28', 46), ('a9', 28), ('a29', 45), ('a49', 43), ('b43', 31), ('b18', 48), ('a47', 46), ('a42', 37), ('b15', 44), ('a40', 37), ('b12', 37), ('b33', 46), ('a50', 50), ('b7', 32), ('b30', 48), ('a35', 49), ('b13', 49), ('a26', 46), ('a8', 41), ('b26', 46)]) = 63979.000\n",
      ">53, new best f([('b44', 19), ('b3', 16), ('a11', 18), ('a7', 14), ('b11', 16), ('b39', 23), ('b5', 35), ('b31', 17), ('a4', 13), ('b2', 21), ('b38', 27), ('a24', 10), ('a10', 38), ('a27', 21), ('a12', 21), ('b25', 30), ('a18', 12), ('b24', 10), ('b20', 19), ('a39', 28), ('a20', 25), ('a46', 27), ('b49', 15), ('a37', 18), ('b29', 33), ('a41', 40), ('a15', 15), ('b10', 18), ('b42', 25), ('b4', 17), ('b9', 14), ('b23', 27), ('a30', 16), ('a34', 20), ('a44', 42), ('a45', 22), ('a36', 11), ('b45', 23), ('b6', 13), ('a48', 19), ('a3', 19), ('a23', 24), ('b34', 26), ('a32', 28), ('a1', 22), ('b35', 33), ('b28', 24), ('a16', 30), ('b19', 30), ('a21', 26), ('a43', 30), ('a6', 26), ('b40', 35), ('b16', 30), ('b27', 15), ('b37', 29), ('a14', 18), ('a13', 35), ('b14', 50), ('b32', 28), ('b47', 42), ('a2', 49), ('a33', 32), ('b22', 19), ('a19', 34), ('a38', 49), ('a31', 45), ('b46', 44), ('b50', 50), ('b1', 29), ('a17', 33), ('b36', 26), ('b17', 44), ('a5', 35), ('b48', 46), ('a25', 41), ('b21', 38), ('b41', 30), ('a22', 27), ('b8', 39), ('a28', 46), ('a9', 28), ('a29', 45), ('a49', 43), ('b43', 31), ('b18', 48), ('a47', 46), ('a42', 37), ('b15', 44), ('a40', 37), ('b12', 37), ('b33', 46), ('a50', 50), ('b7', 32), ('b30', 48), ('a8', 41), ('a26', 46), ('b13', 49), ('a35', 49), ('b26', 46)]) = 63927.000\n",
      ">54, new best f([('b44', 19), ('b3', 16), ('a11', 18), ('a22', 27), ('b11', 16), ('b39', 23), ('a4', 13), ('b2', 21), ('b31', 17), ('a24', 10), ('b38', 27), ('a10', 38), ('a27', 21), ('a12', 21), ('b25', 30), ('b5', 35), ('a18', 12), ('b24', 10), ('b20', 19), ('a39', 28), ('a36', 11), ('b4', 17), ('b49', 15), ('a37', 18), ('b29', 33), ('a20', 25), ('a15', 15), ('b19', 30), ('b42', 25), ('a46', 27), ('b9', 14), ('b23', 27), ('a30', 16), ('a34', 20), ('a44', 42), ('a45', 22), ('a41', 40), ('b45', 23), ('b6', 13), ('a48', 19), ('a7', 14), ('a23', 24), ('b34', 26), ('a32', 28), ('a1', 22), ('b35', 33), ('b28', 24), ('a16', 30), ('b10', 18), ('a21', 26), ('a43', 30), ('a6', 26), ('b40', 35), ('b16', 30), ('b27', 15), ('b37', 29), ('a14', 18), ('a13', 35), ('b14', 50), ('b32', 28), ('b47', 42), ('a2', 49), ('a33', 32), ('b22', 19), ('a19', 34), ('a9', 28), ('a31', 45), ('b46', 44), ('b50', 50), ('b1', 29), ('a17', 33), ('b36', 26), ('b12', 37), ('a5', 35), ('b48', 46), ('a25', 41), ('b21', 38), ('b41', 30), ('a3', 19), ('b8', 39), ('a8', 41), ('b17', 44), ('a28', 46), ('a38', 49), ('a29', 45), ('a49', 43), ('b43', 31), ('b18', 48), ('a47', 46), ('a42', 37), ('b15', 44), ('a40', 37), ('b33', 46), ('a50', 50), ('b7', 32), ('b30', 48), ('a26', 46), ('b13', 49), ('a35', 49), ('b26', 46)]) = 63873.000\n",
      ">56, new best f([('b44', 19), ('b3', 16), ('a11', 18), ('a7', 14), ('b11', 16), ('b39', 23), ('b5', 35), ('b31', 17), ('a4', 13), ('b2', 21), ('b38', 27), ('a24', 10), ('a10', 38), ('a27', 21), ('a12', 21), ('b25', 30), ('a18', 12), ('b24', 10), ('b20', 19), ('a39', 28), ('a20', 25), ('a46', 27), ('b49', 15), ('a37', 18), ('b29', 33), ('a41', 40), ('a15', 15), ('b10', 18), ('b42', 25), ('b4', 17), ('b9', 14), ('b23', 27), ('a30', 16), ('a34', 20), ('a44', 42), ('a45', 22), ('a36', 11), ('b45', 23), ('b6', 13), ('a48', 19), ('a3', 19), ('a23', 24), ('b34', 26), ('a32', 28), ('a1', 22), ('b35', 33), ('b28', 24), ('a16', 30), ('b19', 30), ('a21', 26), ('a43', 30), ('a6', 26), ('b40', 35), ('b16', 30), ('b27', 15), ('b37', 29), ('a14', 18), ('a13', 35), ('b14', 50), ('b32', 28), ('b47', 42), ('a2', 49), ('a33', 32), ('b22', 19), ('a19', 34), ('a38', 49), ('a31', 45), ('b46', 44), ('b50', 50), ('b1', 29), ('a17', 33), ('b36', 26), ('b17', 44), ('a5', 35), ('b48', 46), ('a25', 41), ('b21', 38), ('b41', 30), ('a22', 27), ('b8', 39), ('a28', 46), ('a9', 28), ('a29', 45), ('b12', 37), ('a49', 43), ('b43', 31), ('b18', 48), ('a47', 46), ('a42', 37), ('b15', 44), ('a40', 37), ('b33', 46), ('a50', 50), ('b7', 32), ('b30', 48), ('a8', 41), ('a26', 46), ('b13', 49), ('a35', 49), ('b26', 46)]) = 63871.000\n",
      ">56, new best f([('b44', 19), ('b3', 16), ('a11', 18), ('a22', 27), ('b11', 16), ('b39', 23), ('a4', 13), ('b2', 21), ('b31', 17), ('a24', 10), ('b38', 27), ('a10', 38), ('a27', 21), ('a12', 21), ('b25', 30), ('b5', 35), ('a18', 12), ('b24', 10), ('b20', 19), ('a39', 28), ('a36', 11), ('b4', 17), ('b49', 15), ('a37', 18), ('b29', 33), ('a20', 25), ('a15', 15), ('b19', 30), ('b42', 25), ('a46', 27), ('b9', 14), ('b23', 27), ('a30', 16), ('a34', 20), ('a44', 42), ('a45', 22), ('a41', 40), ('b45', 23), ('b6', 13), ('a48', 19), ('a7', 14), ('a23', 24), ('b34', 26), ('a32', 28), ('a1', 22), ('b35', 33), ('b28', 24), ('a16', 30), ('b10', 18), ('a3', 19), ('a21', 26), ('a43', 30), ('a6', 26), ('b40', 35), ('b16', 30), ('b27', 15), ('b37', 29), ('a14', 18), ('a13', 35), ('b14', 50), ('b32', 28), ('b47', 42), ('a2', 49), ('a33', 32), ('b22', 19), ('a19', 34), ('a38', 49), ('b21', 38), ('b46', 44), ('b36', 26), ('b17', 44), ('b50', 50), ('b1', 29), ('b48', 46), ('a5', 35), ('a17', 33), ('a25', 41), ('a31', 45), ('b41', 30), ('b8', 39), ('a28', 46), ('a9', 28), ('a29', 45), ('a49', 43), ('b43', 31), ('b18', 48), ('a47', 46), ('a42', 37), ('b15', 44), ('a40', 37), ('b12', 37), ('b33', 46), ('a50', 50), ('b7', 32), ('b30', 48), ('a35', 49), ('b13', 49), ('a26', 46), ('a8', 41), ('b26', 46)]) = 63804.000\n",
      ">58, new best f([('b44', 19), ('b3', 16), ('a11', 18), ('a30', 16), ('b11', 16), ('b39', 23), ('b5', 35), ('b31', 17), ('a4', 13), ('a7', 14), ('b2', 21), ('b38', 27), ('a24', 10), ('a10', 38), ('a27', 21), ('a12', 21), ('b25', 30), ('a18', 12), ('b24', 10), ('b20', 19), ('a39', 28), ('a20', 25), ('a46', 27), ('b49', 15), ('a37', 18), ('b29', 33), ('a16', 30), ('a15', 15), ('b10', 18), ('b42', 25), ('b4', 17), ('b9', 14), ('b23', 27), ('a34', 20), ('a44', 42), ('b22', 19), ('a36', 11), ('b45', 23), ('b6', 13), ('a48', 19), ('a3', 19), ('a23', 24), ('b34', 26), ('a32', 28), ('a1', 22), ('b35', 33), ('b28', 24), ('a41', 40), ('b19', 30), ('a21', 26), ('a43', 30), ('a45', 22), ('a6', 26), ('b40', 35), ('b16', 30), ('a22', 27), ('b27', 15), ('b37', 29), ('a14', 18), ('a13', 35), ('b14', 50), ('b32', 28), ('b47', 42), ('a2', 49), ('a33', 32), ('a19', 34), ('a9', 28), ('a31', 45), ('b46', 44), ('b50', 50), ('b1', 29), ('a17', 33), ('b36', 26), ('b12', 37), ('a5', 35), ('b48', 46), ('a25', 41), ('b21', 38), ('b41', 30), ('b8', 39), ('a8', 41), ('b17', 44), ('a28', 46), ('a38', 49), ('a29', 45), ('a49', 43), ('b43', 31), ('b18', 48), ('a47', 46), ('a42', 37), ('b15', 44), ('a40', 37), ('b33', 46), ('a50', 50), ('b7', 32), ('b30', 48), ('a26', 46), ('b13', 49), ('a35', 49), ('b26', 46)]) = 63462.000\n",
      ">64, new best f([('b44', 19), ('b3', 16), ('a11', 18), ('a30', 16), ('b11', 16), ('b39', 23), ('b5', 35), ('b31', 17), ('a4', 13), ('b38', 27), ('b2', 21), ('a7', 14), ('a24', 10), ('a9', 28), ('a27', 21), ('a12', 21), ('b25', 30), ('a18', 12), ('b24', 10), ('b20', 19), ('a39', 28), ('a20', 25), ('a46', 27), ('b49', 15), ('a37', 18), ('b29', 33), ('a16', 30), ('a15', 15), ('b10', 18), ('b42', 25), ('b4', 17), ('b9', 14), ('b23', 27), ('a34', 20), ('a44', 42), ('b22', 19), ('a36', 11), ('b45', 23), ('b6', 13), ('a48', 19), ('a3', 19), ('a23', 24), ('b34', 26), ('a32', 28), ('a1', 22), ('b35', 33), ('b28', 24), ('a41', 40), ('b19', 30), ('a21', 26), ('a43', 30), ('a45', 22), ('a6', 26), ('b40', 35), ('b16', 30), ('b27', 15), ('b37', 29), ('a14', 18), ('a13', 35), ('b14', 50), ('b32', 28), ('b47', 42), ('a2', 49), ('a33', 32), ('a19', 34), ('a38', 49), ('a31', 45), ('b46', 44), ('b50', 50), ('b1', 29), ('a17', 33), ('b36', 26), ('b17', 44), ('a10', 38), ('a50', 50), ('a22', 27), ('b12', 37), ('a5', 35), ('b48', 46), ('a25', 41), ('b21', 38), ('b41', 30), ('b8', 39), ('a28', 46), ('a29', 45), ('a49', 43), ('b43', 31), ('b18', 48), ('a47', 46), ('a42', 37), ('b15', 44), ('a40', 37), ('b33', 46), ('b7', 32), ('b30', 48), ('a35', 49), ('b13', 49), ('a26', 46), ('a8', 41), ('b26', 46)]) = 63309.000\n",
      ">65, new best f([('b44', 19), ('b3', 16), ('a11', 18), ('a30', 16), ('b11', 16), ('b39', 23), ('b5', 35), ('b31', 17), ('a4', 13), ('b38', 27), ('b2', 21), ('a7', 14), ('a24', 10), ('a9', 28), ('a27', 21), ('a12', 21), ('b25', 30), ('a18', 12), ('b24', 10), ('b20', 19), ('a39', 28), ('a20', 25), ('a46', 27), ('b49', 15), ('a37', 18), ('b29', 33), ('a16', 30), ('a15', 15), ('b10', 18), ('b42', 25), ('b4', 17), ('b9', 14), ('b23', 27), ('a34', 20), ('a44', 42), ('b22', 19), ('a36', 11), ('b45', 23), ('b6', 13), ('a48', 19), ('a3', 19), ('a23', 24), ('b34', 26), ('a32', 28), ('a1', 22), ('b35', 33), ('b28', 24), ('a41', 40), ('b19', 30), ('a21', 26), ('a43', 30), ('a45', 22), ('a6', 26), ('b40', 35), ('b16', 30), ('b27', 15), ('b37', 29), ('a14', 18), ('a13', 35), ('b14', 50), ('b32', 28), ('b47', 42), ('a2', 49), ('a33', 32), ('a19', 34), ('a38', 49), ('a31', 45), ('a10', 38), ('a22', 27), ('b46', 44), ('b50', 50), ('b1', 29), ('a25', 41), ('b36', 26), ('b12', 37), ('a5', 35), ('b48', 46), ('a17', 33), ('b21', 38), ('b41', 30), ('b13', 49), ('a28', 46), ('a29', 45), ('a8', 41), ('b17', 44), ('a49', 43), ('b43', 31), ('b18', 48), ('b8', 39), ('a42', 37), ('b15', 44), ('a40', 37), ('b33', 46), ('b26', 46), ('b7', 32), ('a50', 50), ('b30', 48), ('a35', 49), ('a47', 46), ('a26', 46)]) = 63260.000\n",
      ">66, new best f([('b44', 19), ('b3', 16), ('a11', 18), ('a30', 16), ('b11', 16), ('b39', 23), ('b5', 35), ('b31', 17), ('a4', 13), ('b38', 27), ('b2', 21), ('a7', 14), ('a24', 10), ('a9', 28), ('a27', 21), ('a12', 21), ('b25', 30), ('a18', 12), ('b24', 10), ('b20', 19), ('a39', 28), ('a20', 25), ('a46', 27), ('b49', 15), ('a37', 18), ('b29', 33), ('a16', 30), ('a15', 15), ('b10', 18), ('b42', 25), ('b4', 17), ('b9', 14), ('b23', 27), ('a34', 20), ('a44', 42), ('b22', 19), ('a36', 11), ('b45', 23), ('b6', 13), ('a48', 19), ('a3', 19), ('a23', 24), ('b34', 26), ('a32', 28), ('a1', 22), ('b35', 33), ('b28', 24), ('a41', 40), ('b19', 30), ('a21', 26), ('a43', 30), ('a45', 22), ('a10', 38), ('a22', 27), ('a6', 26), ('b40', 35), ('b16', 30), ('b27', 15), ('b37', 29), ('a14', 18), ('a13', 35), ('b14', 50), ('b32', 28), ('b47', 42), ('a2', 49), ('a33', 32), ('a19', 34), ('a31', 45), ('b46', 44), ('b50', 50), ('b1', 29), ('a17', 33), ('b36', 26), ('a38', 49), ('b12', 37), ('a5', 35), ('b48', 46), ('a25', 41), ('b21', 38), ('b41', 30), ('b8', 39), ('a8', 41), ('b17', 44), ('a28', 46), ('a29', 45), ('a49', 43), ('b43', 31), ('b18', 48), ('b13', 49), ('a42', 37), ('b15', 44), ('a40', 37), ('b33', 46), ('b26', 46), ('b7', 32), ('a50', 50), ('b30', 48), ('a35', 49), ('a47', 46), ('a26', 46)]) = 63211.000\n",
      ">67, new best f([('b44', 19), ('b3', 16), ('a11', 18), ('a7', 14), ('a30', 16), ('b11', 16), ('b39', 23), ('b5', 35), ('b31', 17), ('a4', 13), ('b38', 27), ('b2', 21), ('b24', 10), ('a9', 28), ('a27', 21), ('a12', 21), ('b25', 30), ('a18', 12), ('a24', 10), ('b20', 19), ('a39', 28), ('a20', 25), ('a46', 27), ('b49', 15), ('a37', 18), ('b29', 33), ('a16', 30), ('a15', 15), ('b10', 18), ('b42', 25), ('b4', 17), ('b9', 14), ('b23', 27), ('a34', 20), ('a44', 42), ('b22', 19), ('a36', 11), ('b45', 23), ('b6', 13), ('a48', 19), ('a3', 19), ('a23', 24), ('b34', 26), ('a32', 28), ('a1', 22), ('b35', 33), ('b28', 24), ('a41', 40), ('b19', 30), ('a21', 26), ('a43', 30), ('a45', 22), ('a10', 38), ('a22', 27), ('a6', 26), ('b40', 35), ('b16', 30), ('b27', 15), ('b37', 29), ('a14', 18), ('a13', 35), ('b14', 50), ('b32', 28), ('b47', 42), ('a2', 49), ('a33', 32), ('a19', 34), ('a31', 45), ('b46', 44), ('b50', 50), ('b1', 29), ('a17', 33), ('b36', 26), ('a38', 49), ('b12', 37), ('a5', 35), ('b48', 46), ('a25', 41), ('b21', 38), ('b41', 30), ('b8', 39), ('a8', 41), ('b17', 44), ('a28', 46), ('a29', 45), ('a49', 43), ('b43', 31), ('b18', 48), ('b13', 49), ('a42', 37), ('b15', 44), ('a40', 37), ('b33', 46), ('b26', 46), ('b7', 32), ('a50', 50), ('b30', 48), ('a35', 49), ('a47', 46), ('a26', 46)]) = 63173.000\n",
      ">69, new best f([('b44', 19), ('b3', 16), ('a11', 18), ('a30', 16), ('b11', 16), ('b39', 23), ('b5', 35), ('b31', 17), ('a4', 13), ('b38', 27), ('b2', 21), ('a7', 14), ('a24', 10), ('a9', 28), ('a27', 21), ('a12', 21), ('b25', 30), ('a18', 12), ('b24', 10), ('b20', 19), ('a39', 28), ('a20', 25), ('a46', 27), ('b49', 15), ('a10', 38), ('a37', 18), ('b29', 33), ('a21', 26), ('a15', 15), ('b10', 18), ('b42', 25), ('b4', 17), ('b9', 14), ('b36', 26), ('a34', 20), ('a43', 30), ('a36', 11), ('b45', 23), ('b6', 13), ('a48', 19), ('a3', 19), ('a23', 24), ('b34', 26), ('a32', 28), ('a1', 22), ('b35', 33), ('b28', 24), ('a16', 30), ('b19', 30), ('a41', 40), ('a19', 34), ('a6', 26), ('b40', 35), ('b16', 30), ('b27', 15), ('b37', 29), ('a14', 18), ('b23', 27), ('b22', 19), ('a44', 42), ('a45', 22), ('a13', 35), ('b14', 50), ('b32', 28), ('a33', 32), ('a2', 49), ('a22', 27), ('b47', 42), ('b46', 44), ('a49', 43), ('b41', 30), ('a38', 49), ('b8', 39), ('b1', 29), ('a31', 45), ('b17', 44), ('a5', 35), ('b26', 46), ('b7', 32), ('b21', 38), ('a40', 37), ('a28', 46), ('b48', 46), ('a29', 45), ('b43', 31), ('b50', 50), ('a17', 33), ('b12', 37), ('a25', 41), ('a8', 41), ('a42', 37), ('b18', 48), ('b13', 49), ('b15', 44), ('b33', 46), ('a50', 50), ('b30', 48), ('a35', 49), ('a47', 46), ('a26', 46)]) = 62973.000\n",
      ">72, new best f([('b44', 19), ('b3', 16), ('a11', 18), ('a7', 14), ('b11', 16), ('b39', 23), ('b5', 35), ('a30', 16), ('b31', 17), ('a4', 13), ('b38', 27), ('b2', 21), ('a24', 10), ('a9', 28), ('a27', 21), ('a12', 21), ('b25', 30), ('a18', 12), ('b24', 10), ('b20', 19), ('a39', 28), ('a20', 25), ('a46', 27), ('b49', 15), ('a10', 38), ('a37', 18), ('b29', 33), ('a21', 26), ('a15', 15), ('b10', 18), ('b42', 25), ('b4', 17), ('b9', 14), ('b36', 26), ('a34', 20), ('a43', 30), ('a36', 11), ('b45', 23), ('b6', 13), ('a48', 19), ('a3', 19), ('a23', 24), ('b34', 26), ('a32', 28), ('a1', 22), ('b35', 33), ('b28', 24), ('a16', 30), ('b19', 30), ('a41', 40), ('a19', 34), ('a6', 26), ('b40', 35), ('b16', 30), ('b27', 15), ('b37', 29), ('a14', 18), ('b23', 27), ('b22', 19), ('a44', 42), ('a45', 22), ('a13', 35), ('b14', 50), ('b32', 28), ('a33', 32), ('a2', 49), ('a22', 27), ('b47', 42), ('b46', 44), ('a49', 43), ('b41', 30), ('a38', 49), ('b8', 39), ('b1', 29), ('a31', 45), ('b17', 44), ('a5', 35), ('b26', 46), ('b7', 32), ('b21', 38), ('a40', 37), ('a28', 46), ('b48', 46), ('a29', 45), ('b43', 31), ('b50', 50), ('a17', 33), ('b12', 37), ('a25', 41), ('a8', 41), ('a42', 37), ('b18', 48), ('b13', 49), ('b15', 44), ('b33', 46), ('a50', 50), ('b30', 48), ('a35', 49), ('a47', 46), ('a26', 46)]) = 62971.000\n",
      ">72, new best f([('b44', 19), ('b3', 16), ('a11', 18), ('a30', 16), ('b11', 16), ('b39', 23), ('b5', 35), ('b31', 17), ('a4', 13), ('a7', 14), ('a15', 15), ('b38', 27), ('a24', 10), ('b2', 21), ('a9', 28), ('a27', 21), ('a12', 21), ('b25', 30), ('b24', 10), ('a18', 12), ('b20', 19), ('a39', 28), ('a20', 25), ('a46', 27), ('b49', 15), ('a10', 38), ('a37', 18), ('b29', 33), ('a3', 19), ('a34', 20), ('b22', 19), ('a21', 26), ('b10', 18), ('b42', 25), ('b4', 17), ('b9', 14), ('b36', 26), ('a43', 30), ('a36', 11), ('b45', 23), ('b6', 13), ('a48', 19), ('a23', 24), ('b34', 26), ('a32', 28), ('a1', 22), ('b35', 33), ('b28', 24), ('a16', 30), ('b19', 30), ('a41', 40), ('a19', 34), ('a6', 26), ('b40', 35), ('b16', 30), ('b27', 15), ('b37', 29), ('a14', 18), ('b23', 27), ('a33', 32), ('a45', 22), ('a13', 35), ('b14', 50), ('b32', 28), ('a44', 42), ('a2', 49), ('a22', 27), ('b47', 42), ('b46', 44), ('a49', 43), ('b41', 30), ('a38', 49), ('b8', 39), ('b1', 29), ('a31', 45), ('b17', 44), ('a5', 35), ('b26', 46), ('b7', 32), ('b21', 38), ('a40', 37), ('a28', 46), ('b48', 46), ('a29', 45), ('b43', 31), ('b50', 50), ('a17', 33), ('b12', 37), ('a25', 41), ('a8', 41), ('a42', 37), ('b18', 48), ('b13', 49), ('b15', 44), ('b33', 46), ('a50', 50), ('b30', 48), ('a35', 49), ('a47', 46), ('a26', 46)]) = 62890.000\n",
      ">72, new best f([('b44', 19), ('b3', 16), ('a11', 18), ('a30', 16), ('b11', 16), ('b39', 23), ('b5', 35), ('b31', 17), ('a4', 13), ('b38', 27), ('b2', 21), ('a7', 14), ('a24', 10), ('a9', 28), ('a27', 21), ('a12', 21), ('b25', 30), ('a18', 12), ('b24', 10), ('b20', 19), ('a39', 28), ('a46', 27), ('a10', 38), ('a3', 19), ('a20', 25), ('a34', 20), ('b22', 19), ('a37', 18), ('b29', 33), ('b49', 15), ('a21', 26), ('a15', 15), ('b10', 18), ('b42', 25), ('b4', 17), ('b9', 14), ('b36', 26), ('a43', 30), ('a36', 11), ('b45', 23), ('b6', 13), ('a48', 19), ('a23', 24), ('b34', 26), ('a32', 28), ('a1', 22), ('b35', 33), ('b28', 24), ('a16', 30), ('b19', 30), ('a41', 40), ('a19', 34), ('a6', 26), ('b40', 35), ('b16', 30), ('b27', 15), ('b37', 29), ('a14', 18), ('b23', 27), ('a33', 32), ('a45', 22), ('a13', 35), ('b14', 50), ('b32', 28), ('a44', 42), ('a2', 49), ('a22', 27), ('b47', 42), ('b46', 44), ('a49', 43), ('b41', 30), ('a38', 49), ('b8', 39), ('b1', 29), ('a31', 45), ('b17', 44), ('a5', 35), ('b26', 46), ('b7', 32), ('b21', 38), ('a40', 37), ('a28', 46), ('b48', 46), ('a29', 45), ('b43', 31), ('b50', 50), ('a17', 33), ('b12', 37), ('a25', 41), ('a8', 41), ('a42', 37), ('b18', 48), ('b13', 49), ('b15', 44), ('b33', 46), ('a50', 50), ('b30', 48), ('a35', 49), ('a47', 46), ('a26', 46)]) = 62868.000\n",
      ">72, new best f([('b44', 19), ('b3', 16), ('a11', 18), ('a30', 16), ('b11', 16), ('b39', 23), ('b5', 35), ('b31', 17), ('a4', 13), ('a7', 14), ('a15', 15), ('b38', 27), ('a24', 10), ('b2', 21), ('a9', 28), ('a27', 21), ('a12', 21), ('b25', 30), ('b24', 10), ('a18', 12), ('b20', 19), ('a39', 28), ('a20', 25), ('a46', 27), ('b49', 15), ('a10', 38), ('a37', 18), ('b29', 33), ('a21', 26), ('b10', 18), ('b42', 25), ('b4', 17), ('b9', 14), ('b36', 26), ('a3', 19), ('a34', 20), ('b22', 19), ('a43', 30), ('a36', 11), ('b45', 23), ('b6', 13), ('a48', 19), ('a23', 24), ('b34', 26), ('a32', 28), ('a1', 22), ('b35', 33), ('b28', 24), ('a16', 30), ('b19', 30), ('a41', 40), ('a19', 34), ('a6', 26), ('b40', 35), ('b16', 30), ('b27', 15), ('b37', 29), ('a14', 18), ('b23', 27), ('a33', 32), ('a45', 22), ('a13', 35), ('b14', 50), ('b32', 28), ('a44', 42), ('a2', 49), ('a22', 27), ('b47', 42), ('b46', 44), ('a49', 43), ('b41', 30), ('a38', 49), ('b8', 39), ('b1', 29), ('a31', 45), ('b17', 44), ('a5', 35), ('b26', 46), ('b7', 32), ('b21', 38), ('a40', 37), ('a28', 46), ('b48', 46), ('a29', 45), ('b43', 31), ('b50', 50), ('a17', 33), ('b12', 37), ('a25', 41), ('a8', 41), ('a42', 37), ('b18', 48), ('b13', 49), ('b15', 44), ('b33', 46), ('a50', 50), ('b30', 48), ('a35', 49), ('a47', 46), ('a26', 46)]) = 62809.000\n",
      ">73, new best f([('b44', 19), ('b3', 16), ('a11', 18), ('a30', 16), ('b11', 16), ('b39', 23), ('a18', 12), ('b31', 17), ('a4', 13), ('b38', 27), ('b2', 21), ('a7', 14), ('a24', 10), ('a9', 28), ('a27', 21), ('a12', 21), ('b25', 30), ('b24', 10), ('b5', 35), ('b20', 19), ('a39', 28), ('a20', 25), ('a46', 27), ('b49', 15), ('a37', 18), ('b29', 33), ('a16', 30), ('a15', 15), ('b10', 18), ('b42', 25), ('b4', 17), ('b9', 14), ('b23', 27), ('a34', 20), ('a44', 42), ('b22', 19), ('a36', 11), ('b45', 23), ('b6', 13), ('a48', 19), ('a3', 19), ('a23', 24), ('b34', 26), ('a32', 28), ('a1', 22), ('b35', 33), ('b28', 24), ('a41', 40), ('b19', 30), ('a21', 26), ('a43', 30), ('a45', 22), ('a10', 38), ('a22', 27), ('a6', 26), ('b40', 35), ('b16', 30), ('b27', 15), ('b36', 26), ('a19', 34), ('b37', 29), ('a14', 18), ('a13', 35), ('b14', 50), ('b32', 28), ('a33', 32), ('a2', 49), ('b47', 42), ('b46', 44), ('a49', 43), ('b41', 30), ('a38', 49), ('b8', 39), ('b1', 29), ('a31', 45), ('b17', 44), ('a5', 35), ('b26', 46), ('b7', 32), ('b21', 38), ('a40', 37), ('a28', 46), ('b48', 46), ('a29', 45), ('b43', 31), ('b50', 50), ('a17', 33), ('b12', 37), ('a35', 49), ('a8', 41), ('a42', 37), ('b18', 48), ('b13', 49), ('b15', 44), ('b33', 46), ('a50', 50), ('b30', 48), ('a25', 41), ('a47', 46), ('a26', 46)]) = 62757.000\n",
      ">75, new best f([('b44', 19), ('b3', 16), ('a11', 18), ('a30', 16), ('b11', 16), ('b39', 23), ('b5', 35), ('b31', 17), ('a4', 13), ('b38', 27), ('b2', 21), ('a7', 14), ('a24', 10), ('a9', 28), ('a27', 21), ('a12', 21), ('b25', 30), ('a18', 12), ('a21', 26), ('b24', 10), ('b20', 19), ('a39', 28), ('a20', 25), ('a46', 27), ('b49', 15), ('a22', 27), ('a37', 18), ('b29', 33), ('a15', 15), ('b10', 18), ('b42', 25), ('b4', 17), ('a3', 19), ('a34', 20), ('b22', 19), ('b9', 14), ('b36', 26), ('a43', 30), ('a36', 11), ('b45', 23), ('b6', 13), ('a48', 19), ('a23', 24), ('b34', 26), ('a32', 28), ('a1', 22), ('b35', 33), ('b28', 24), ('a16', 30), ('b19', 30), ('a41', 40), ('a19', 34), ('a6', 26), ('b40', 35), ('b16', 30), ('b27', 15), ('b37', 29), ('a14', 18), ('b23', 27), ('a33', 32), ('a45', 22), ('a13', 35), ('b14', 50), ('b32', 28), ('a44', 42), ('a2', 49), ('a10', 38), ('b47', 42), ('b46', 44), ('a49', 43), ('b41', 30), ('a38', 49), ('b8', 39), ('b1', 29), ('a31', 45), ('b17', 44), ('a5', 35), ('b26', 46), ('b7', 32), ('b21', 38), ('a40', 37), ('a28', 46), ('b48', 46), ('a29', 45), ('b43', 31), ('b50', 50), ('a17', 33), ('b12', 37), ('a25', 41), ('a8', 41), ('a42', 37), ('b18', 48), ('b13', 49), ('b15', 44), ('b33', 46), ('a50', 50), ('b30', 48), ('a35', 49), ('a47', 46), ('a26', 46)]) = 62718.000\n",
      ">76, new best f([('b44', 19), ('b3', 16), ('a11', 18), ('a7', 14), ('b11', 16), ('b39', 23), ('a30', 16), ('a18', 12), ('b31', 17), ('a4', 13), ('b38', 27), ('b2', 21), ('a24', 10), ('a9', 28), ('a27', 21), ('a12', 21), ('b25', 30), ('b24', 10), ('b5', 35), ('b20', 19), ('a39', 28), ('a20', 25), ('a46', 27), ('b49', 15), ('a37', 18), ('b29', 33), ('a16', 30), ('a15', 15), ('b10', 18), ('b42', 25), ('b4', 17), ('b9', 14), ('b23', 27), ('a34', 20), ('a44', 42), ('b22', 19), ('a36', 11), ('b45', 23), ('b6', 13), ('a48', 19), ('a3', 19), ('a23', 24), ('b34', 26), ('a32', 28), ('a1', 22), ('b35', 33), ('b28', 24), ('a41', 40), ('b19', 30), ('a21', 26), ('a43', 30), ('a45', 22), ('a10', 38), ('a22', 27), ('a6', 26), ('b40', 35), ('b16', 30), ('b27', 15), ('b36', 26), ('a19', 34), ('b37', 29), ('a14', 18), ('a13', 35), ('b8', 39), ('b32', 28), ('a33', 32), ('a2', 49), ('b47', 42), ('b46', 44), ('a49', 43), ('b14', 50), ('b41', 30), ('a38', 49), ('b1', 29), ('a31', 45), ('b17', 44), ('a5', 35), ('b26', 46), ('b7', 32), ('b21', 38), ('a40', 37), ('a28', 46), ('b48', 46), ('a29', 45), ('b43', 31), ('b50', 50), ('a17', 33), ('b12', 37), ('a25', 41), ('a8', 41), ('a42', 37), ('b18', 48), ('b13', 49), ('b15', 44), ('b33', 46), ('a50', 50), ('b30', 48), ('a35', 49), ('a47', 46), ('a26', 46)]) = 62667.000\n",
      ">79, new best f([('b44', 19), ('b3', 16), ('a11', 18), ('a7', 14), ('b11', 16), ('b39', 23), ('a30', 16), ('a18', 12), ('b31', 17), ('a4', 13), ('b38', 27), ('b2', 21), ('a24', 10), ('a9', 28), ('a27', 21), ('a12', 21), ('b25', 30), ('b24', 10), ('b5', 35), ('b20', 19), ('a39', 28), ('a20', 25), ('a46', 27), ('b49', 15), ('a37', 18), ('b29', 33), ('a16', 30), ('a15', 15), ('b10', 18), ('b42', 25), ('b4', 17), ('b9', 14), ('b23', 27), ('a34', 20), ('a21', 26), ('a22', 27), ('a3', 19), ('b22', 19), ('b36', 26), ('a43', 30), ('a36', 11), ('b45', 23), ('b6', 13), ('a48', 19), ('a23', 24), ('b41', 30), ('a32', 28), ('a1', 22), ('b35', 33), ('b28', 24), ('b19', 30), ('a41', 40), ('a44', 42), ('a45', 22), ('a10', 38), ('a6', 26), ('b40', 35), ('b16', 30), ('b27', 15), ('a19', 34), ('b37', 29), ('a14', 18), ('a13', 35), ('b8', 39), ('b32', 28), ('a33', 32), ('a2', 49), ('b47', 42), ('b46', 44), ('a49', 43), ('b14', 50), ('b34', 26), ('a42', 37), ('b1', 29), ('a31', 45), ('b17', 44), ('a5', 35), ('b26', 46), ('b7', 32), ('b21', 38), ('a40', 37), ('a28', 46), ('b48', 46), ('a29', 45), ('b43', 31), ('b50', 50), ('a17', 33), ('b12', 37), ('a25', 41), ('a8', 41), ('a38', 49), ('b18', 48), ('b13', 49), ('b15', 44), ('b33', 46), ('a50', 50), ('b30', 48), ('a35', 49), ('a47', 46), ('a26', 46)]) = 62572.000\n",
      ">80, new best f([('b44', 19), ('b3', 16), ('a11', 18), ('a7', 14), ('a30', 16), ('b11', 16), ('b39', 23), ('a36', 11), ('b31', 17), ('a4', 13), ('a27', 21), ('b4', 17), ('b38', 27), ('b2', 21), ('a24', 10), ('a9', 28), ('a12', 21), ('b25', 30), ('b24', 10), ('b5', 35), ('b20', 19), ('a39', 28), ('a20', 25), ('a46', 27), ('b49', 15), ('a37', 18), ('b29', 33), ('a16', 30), ('a15', 15), ('b10', 18), ('b42', 25), ('a18', 12), ('b9', 14), ('b23', 27), ('a34', 20), ('a44', 42), ('b22', 19), ('b45', 23), ('b6', 13), ('a48', 19), ('a3', 19), ('a23', 24), ('b34', 26), ('a32', 28), ('a1', 22), ('b35', 33), ('b28', 24), ('a41', 40), ('b19', 30), ('a21', 26), ('a43', 30), ('a45', 22), ('a10', 38), ('a22', 27), ('a6', 26), ('b40', 35), ('b16', 30), ('b27', 15), ('b36', 26), ('a19', 34), ('b37', 29), ('b41', 30), ('a14', 18), ('a13', 35), ('b8', 39), ('b32', 28), ('a33', 32), ('a2', 49), ('b47', 42), ('b46', 44), ('a49', 43), ('b14', 50), ('a42', 37), ('b1', 29), ('a31', 45), ('b17', 44), ('a5', 35), ('b26', 46), ('b7', 32), ('b21', 38), ('a40', 37), ('a28', 46), ('b48', 46), ('a29', 45), ('b43', 31), ('b50', 50), ('a17', 33), ('a50', 50), ('a25', 41), ('a8', 41), ('a38', 49), ('b18', 48), ('b13', 49), ('b15', 44), ('b33', 46), ('b12', 37), ('b30', 48), ('a35', 49), ('a47', 46), ('a26', 46)]) = 62563.000\n",
      ">80, new best f([('b44', 19), ('b3', 16), ('a11', 18), ('a30', 16), ('b11', 16), ('b39', 23), ('a18', 12), ('b31', 17), ('a4', 13), ('b38', 27), ('b2', 21), ('a7', 14), ('a24', 10), ('a9', 28), ('a27', 21), ('a12', 21), ('b25', 30), ('b24', 10), ('b5', 35), ('b20', 19), ('a39', 28), ('a20', 25), ('a46', 27), ('b49', 15), ('a37', 18), ('a1', 22), ('a16', 30), ('a15', 15), ('b10', 18), ('b42', 25), ('b4', 17), ('b9', 14), ('b23', 27), ('a14', 18), ('a21', 26), ('a10', 38), ('b36', 26), ('a43', 30), ('a3', 19), ('b22', 19), ('a36', 11), ('b45', 23), ('b6', 13), ('a48', 19), ('a23', 24), ('b34', 26), ('a32', 28), ('b29', 33), ('b35', 33), ('b28', 24), ('b19', 30), ('a41', 40), ('a19', 34), ('a6', 26), ('b40', 35), ('b16', 30), ('b27', 15), ('b37', 29), ('a34', 20), ('b8', 39), ('a33', 32), ('a22', 27), ('a45', 22), ('a13', 35), ('b14', 50), ('b32', 28), ('a44', 42), ('a2', 49), ('b47', 42), ('b46', 44), ('a49', 43), ('b41', 30), ('a38', 49), ('b1', 29), ('a31', 45), ('b17', 44), ('a5', 35), ('b26', 46), ('b7', 32), ('b21', 38), ('a40', 37), ('a28', 46), ('b48', 46), ('a29', 45), ('b43', 31), ('b50', 50), ('a17', 33), ('b12', 37), ('a25', 41), ('a8', 41), ('a42', 37), ('b18', 48), ('b13', 49), ('b15', 44), ('b33', 46), ('a50', 50), ('b30', 48), ('a35', 49), ('a47', 46), ('a26', 46)]) = 62561.000\n",
      ">80, new best f([('b44', 19), ('b3', 16), ('a11', 18), ('a7', 14), ('b11', 16), ('b39', 23), ('a30', 16), ('a18', 12), ('b31', 17), ('a4', 13), ('b38', 27), ('b2', 21), ('a24', 10), ('a9', 28), ('a27', 21), ('a12', 21), ('b25', 30), ('b24', 10), ('b5', 35), ('b20', 19), ('a39', 28), ('a20', 25), ('a46', 27), ('b49', 15), ('a37', 18), ('b29', 33), ('a16', 30), ('a15', 15), ('b10', 18), ('b42', 25), ('b4', 17), ('b9', 14), ('b23', 27), ('a34', 20), ('a21', 26), ('a22', 27), ('a3', 19), ('b22', 19), ('b36', 26), ('a43', 30), ('a36', 11), ('b45', 23), ('b6', 13), ('a48', 19), ('a23', 24), ('b41', 30), ('a32', 28), ('a1', 22), ('b35', 33), ('b28', 24), ('b19', 30), ('a41', 40), ('a44', 42), ('a45', 22), ('a10', 38), ('a6', 26), ('b40', 35), ('b16', 30), ('b27', 15), ('a19', 34), ('b37', 29), ('b8', 39), ('a13', 35), ('a14', 18), ('b32', 28), ('a33', 32), ('a2', 49), ('b47', 42), ('b46', 44), ('a49', 43), ('b14', 50), ('b34', 26), ('a42', 37), ('b1', 29), ('a31', 45), ('b17', 44), ('a5', 35), ('b26', 46), ('b7', 32), ('b21', 38), ('a40', 37), ('a28', 46), ('b48', 46), ('a29', 45), ('b43', 31), ('b50', 50), ('a17', 33), ('b12', 37), ('a25', 41), ('a8', 41), ('a38', 49), ('b18', 48), ('b13', 49), ('b15', 44), ('b33', 46), ('a50', 50), ('b30', 48), ('a35', 49), ('a47', 46), ('a26', 46)]) = 62556.000\n",
      ">81, new best f([('b44', 19), ('b3', 16), ('a11', 18), ('a30', 16), ('b11', 16), ('b39', 23), ('a18', 12), ('b49', 15), ('a4', 13), ('b38', 27), ('b2', 21), ('a7', 14), ('a24', 10), ('a9', 28), ('a27', 21), ('a12', 21), ('b25', 30), ('b24', 10), ('b5', 35), ('b20', 19), ('a39', 28), ('a20', 25), ('a46', 27), ('b31', 17), ('a37', 18), ('a1', 22), ('a16', 30), ('a15', 15), ('b10', 18), ('b42', 25), ('b4', 17), ('b9', 14), ('b23', 27), ('a14', 18), ('a21', 26), ('a10', 38), ('b36', 26), ('a43', 30), ('a3', 19), ('b22', 19), ('a36', 11), ('b45', 23), ('b6', 13), ('a48', 19), ('a23', 24), ('b34', 26), ('a32', 28), ('b29', 33), ('b35', 33), ('b28', 24), ('b19', 30), ('a41', 40), ('a19', 34), ('a6', 26), ('b40', 35), ('b16', 30), ('b27', 15), ('b37', 29), ('a34', 20), ('b8', 39), ('a33', 32), ('a22', 27), ('a45', 22), ('a13', 35), ('b14', 50), ('b32', 28), ('a44', 42), ('a2', 49), ('b47', 42), ('b46', 44), ('a49', 43), ('b41', 30), ('a38', 49), ('b1', 29), ('a31', 45), ('b17', 44), ('a5', 35), ('b26', 46), ('b7', 32), ('b21', 38), ('a40', 37), ('a28', 46), ('b48', 46), ('a29', 45), ('b43', 31), ('b50', 50), ('a17', 33), ('b12', 37), ('a25', 41), ('a8', 41), ('a42', 37), ('b18', 48), ('b13', 49), ('b15', 44), ('b33', 46), ('a50', 50), ('b30', 48), ('a35', 49), ('a47', 46), ('a26', 46)]) = 62543.000\n",
      ">82, new best f([('b44', 19), ('b3', 16), ('a11', 18), ('a30', 16), ('b11', 16), ('b39', 23), ('a18', 12), ('b31', 17), ('a4', 13), ('b38', 27), ('b2', 21), ('a7', 14), ('a24', 10), ('a9', 28), ('a27', 21), ('a12', 21), ('b25', 30), ('b24', 10), ('b5', 35), ('b20', 19), ('a39', 28), ('a20', 25), ('a46', 27), ('b49', 15), ('a37', 18), ('b29', 33), ('a16', 30), ('a15', 15), ('b10', 18), ('b42', 25), ('b4', 17), ('b9', 14), ('b23', 27), ('a34', 20), ('a21', 26), ('a22', 27), ('a3', 19), ('b22', 19), ('b36', 26), ('a43', 30), ('a36', 11), ('b45', 23), ('b6', 13), ('a48', 19), ('a23', 24), ('b41', 30), ('a32', 28), ('a1', 22), ('b35', 33), ('b28', 24), ('b19', 30), ('a41', 40), ('a44', 42), ('a45', 22), ('a10', 38), ('a6', 26), ('b40', 35), ('b16', 30), ('b27', 15), ('a19', 34), ('b37', 29), ('a14', 18), ('a13', 35), ('b8', 39), ('b32', 28), ('a33', 32), ('a2', 49), ('b47', 42), ('b46', 44), ('a49', 43), ('b14', 50), ('b34', 26), ('a42', 37), ('b1', 29), ('a31', 45), ('b17', 44), ('a5', 35), ('b26', 46), ('b7', 32), ('b21', 38), ('a40', 37), ('a28', 46), ('b48', 46), ('a29', 45), ('b43', 31), ('b50', 50), ('a17', 33), ('b12', 37), ('a25', 41), ('a8', 41), ('a38', 49), ('b18', 48), ('b13', 49), ('b15', 44), ('b33', 46), ('a50', 50), ('b30', 48), ('a35', 49), ('a47', 46), ('a26', 46)]) = 62534.000\n",
      ">82, new best f([('b44', 19), ('b3', 16), ('a11', 18), ('a30', 16), ('b11', 16), ('b39', 23), ('a18', 12), ('b31', 17), ('a4', 13), ('b9', 14), ('b2', 21), ('a7', 14), ('a24', 10), ('a9', 28), ('a27', 21), ('a12', 21), ('b25', 30), ('b24', 10), ('b43', 31), ('b20', 19), ('a39', 28), ('a20', 25), ('a46', 27), ('b49', 15), ('a37', 18), ('b29', 33), ('a16', 30), ('a15', 15), ('b10', 18), ('b42', 25), ('b4', 17), ('b38', 27), ('b23', 27), ('a34', 20), ('a44', 42), ('b22', 19), ('a36', 11), ('b45', 23), ('b6', 13), ('a48', 19), ('a3', 19), ('a23', 24), ('b34', 26), ('a32', 28), ('a1', 22), ('b35', 33), ('b28', 24), ('a41', 40), ('b19', 30), ('a21', 26), ('a43', 30), ('a45', 22), ('a10', 38), ('a22', 27), ('a6', 26), ('b40', 35), ('b16', 30), ('b27', 15), ('b36', 26), ('a19', 34), ('b37', 29), ('a14', 18), ('a13', 35), ('b8', 39), ('b32', 28), ('a33', 32), ('a2', 49), ('b47', 42), ('b46', 44), ('a49', 43), ('b14', 50), ('b41', 30), ('a38', 49), ('b1', 29), ('a31', 45), ('b17', 44), ('a5', 35), ('b26', 46), ('b7', 32), ('b21', 38), ('a40', 37), ('a28', 46), ('b48', 46), ('a29', 45), ('b5', 35), ('b50', 50), ('a17', 33), ('b12', 37), ('a25', 41), ('a8', 41), ('a42', 37), ('b18', 48), ('b13', 49), ('b15', 44), ('b33', 46), ('a50', 50), ('b30', 48), ('a35', 49), ('a47', 46), ('a26', 46)]) = 62456.000\n",
      ">83, new best f([('b44', 19), ('b3', 16), ('a11', 18), ('a27', 21), ('b11', 16), ('b39', 23), ('a18', 12), ('b31', 17), ('a4', 13), ('a30', 16), ('a7', 14), ('a36', 11), ('b38', 27), ('b2', 21), ('a24', 10), ('a9', 28), ('a12', 21), ('b25', 30), ('b24', 10), ('b5', 35), ('b20', 19), ('a39', 28), ('a20', 25), ('a46', 27), ('b49', 15), ('a37', 18), ('b29', 33), ('a16', 30), ('a15', 15), ('b10', 18), ('b42', 25), ('b4', 17), ('b9', 14), ('b23', 27), ('a34', 20), ('a44', 42), ('b22', 19), ('b45', 23), ('b6', 13), ('a48', 19), ('a3', 19), ('a45', 22), ('b34', 26), ('a32', 28), ('a1', 22), ('b35', 33), ('b28', 24), ('a41', 40), ('b19', 30), ('a21', 26), ('a43', 30), ('a23', 24), ('a10', 38), ('a22', 27), ('a6', 26), ('b40', 35), ('b16', 30), ('b27', 15), ('b36', 26), ('a19', 34), ('b37', 29), ('b41', 30), ('b8', 39), ('a13', 35), ('a14', 18), ('b32', 28), ('a33', 32), ('a2', 49), ('b47', 42), ('b46', 44), ('a49', 43), ('b14', 50), ('a42', 37), ('b1', 29), ('a31', 45), ('b17', 44), ('a5', 35), ('b7', 32), ('b26', 46), ('b21', 38), ('a40', 37), ('a28', 46), ('b48', 46), ('a29', 45), ('b43', 31), ('b50', 50), ('a17', 33), ('b12', 37), ('a25', 41), ('a8', 41), ('a38', 49), ('b18', 48), ('b13', 49), ('b15', 44), ('b33', 46), ('a50', 50), ('b30', 48), ('a35', 49), ('a47', 46), ('a26', 46)]) = 62439.000\n",
      ">84, new best f([('b44', 19), ('b3', 16), ('a11', 18), ('a30', 16), ('b11', 16), ('b39', 23), ('a18', 12), ('b31', 17), ('a4', 13), ('b38', 27), ('b2', 21), ('a7', 14), ('a24', 10), ('a9', 28), ('a27', 21), ('a12', 21), ('b25', 30), ('b24', 10), ('b5', 35), ('b20', 19), ('a39', 28), ('a20', 25), ('a46', 27), ('b49', 15), ('a37', 18), ('b4', 17), ('a16', 30), ('a15', 15), ('b10', 18), ('b42', 25), ('b29', 33), ('b9', 14), ('b23', 27), ('a34', 20), ('a21', 26), ('a22', 27), ('a3', 19), ('b22', 19), ('b36', 26), ('a43', 30), ('a36', 11), ('b45', 23), ('b6', 13), ('a48', 19), ('a23', 24), ('b41', 30), ('a32', 28), ('a1', 22), ('b27', 15), ('b28', 24), ('b19', 30), ('a41', 40), ('a44', 42), ('a45', 22), ('a10', 38), ('a6', 26), ('b40', 35), ('b16', 30), ('b35', 33), ('a19', 34), ('b37', 29), ('a14', 18), ('a13', 35), ('b8', 39), ('b32', 28), ('a33', 32), ('a2', 49), ('b47', 42), ('b46', 44), ('a49', 43), ('b14', 50), ('b34', 26), ('a42', 37), ('b1', 29), ('a31', 45), ('b17', 44), ('a5', 35), ('b26', 46), ('b7', 32), ('b21', 38), ('a40', 37), ('a28', 46), ('b48', 46), ('a29', 45), ('b43', 31), ('b50', 50), ('a17', 33), ('b12', 37), ('a25', 41), ('a8', 41), ('a38', 49), ('b18', 48), ('b13', 49), ('b15', 44), ('b33', 46), ('a50', 50), ('b30', 48), ('a35', 49), ('a47', 46), ('a26', 46)]) = 62403.000\n",
      ">85, new best f([('b44', 19), ('b3', 16), ('a11', 18), ('a30', 16), ('b11', 16), ('b39', 23), ('a18', 12), ('b31', 17), ('a4', 13), ('b38', 27), ('b2', 21), ('a7', 14), ('a24', 10), ('a9', 28), ('a27', 21), ('a12', 21), ('b25', 30), ('b24', 10), ('b5', 35), ('b20', 19), ('a39', 28), ('a20', 25), ('a46', 27), ('b49', 15), ('a37', 18), ('b4', 17), ('a16', 30), ('a15', 15), ('b10', 18), ('b42', 25), ('b29', 33), ('b9', 14), ('b23', 27), ('a34', 20), ('a21', 26), ('a22', 27), ('a3', 19), ('b22', 19), ('b36', 26), ('a43', 30), ('a36', 11), ('b45', 23), ('b6', 13), ('a48', 19), ('a23', 24), ('b41', 30), ('a32', 28), ('a1', 22), ('b27', 15), ('b28', 24), ('b19', 30), ('a41', 40), ('a44', 42), ('a45', 22), ('a10', 38), ('a6', 26), ('b40', 35), ('b16', 30), ('b35', 33), ('a19', 34), ('b37', 29), ('a14', 18), ('a13', 35), ('b8', 39), ('b32', 28), ('a33', 32), ('a2', 49), ('b47', 42), ('b46', 44), ('a49', 43), ('b14', 50), ('b34', 26), ('a42', 37), ('b1', 29), ('a31', 45), ('b17', 44), ('a5', 35), ('b26', 46), ('b7', 32), ('b21', 38), ('a40', 37), ('a28', 46), ('b48', 46), ('a29', 45), ('b43', 31), ('b50', 50), ('a17', 33), ('b12', 37), ('a25', 41), ('a8', 41), ('a38', 49), ('b18', 48), ('b13', 49), ('b15', 44), ('b33', 46), ('a50', 50), ('b30', 48), ('a47', 46), ('a35', 49), ('a26', 46)]) = 62400.000\n",
      ">86, new best f([('b44', 19), ('b3', 16), ('a11', 18), ('a7', 14), ('b11', 16), ('b39', 23), ('a30', 16), ('a18', 12), ('b31', 17), ('a4', 13), ('b9', 14), ('b2', 21), ('a24', 10), ('a9', 28), ('a27', 21), ('a12', 21), ('b25', 30), ('b24', 10), ('b5', 35), ('b20', 19), ('a39', 28), ('a20', 25), ('a46', 27), ('b49', 15), ('a37', 18), ('b29', 33), ('a16', 30), ('a15', 15), ('b10', 18), ('b42', 25), ('b4', 17), ('b38', 27), ('b23', 27), ('a34', 20), ('a44', 42), ('b22', 19), ('a36', 11), ('b45', 23), ('b6', 13), ('a48', 19), ('a3', 19), ('a23', 24), ('b34', 26), ('a32', 28), ('a1', 22), ('b35', 33), ('b28', 24), ('a41', 40), ('b19', 30), ('a21', 26), ('a43', 30), ('a45', 22), ('a10', 38), ('a22', 27), ('a6', 26), ('b40', 35), ('b16', 30), ('b27', 15), ('b36', 26), ('a19', 34), ('b37', 29), ('a14', 18), ('a13', 35), ('b8', 39), ('b32', 28), ('a33', 32), ('a2', 49), ('b41', 30), ('b43', 31), ('b46', 44), ('a49', 43), ('b14', 50), ('a42', 37), ('b1', 29), ('a31', 45), ('b17', 44), ('a5', 35), ('b7', 32), ('b26', 46), ('b21', 38), ('a40', 37), ('a28', 46), ('b48', 46), ('a29', 45), ('b47', 42), ('b50', 50), ('a17', 33), ('b12', 37), ('a25', 41), ('a8', 41), ('a38', 49), ('b18', 48), ('b13', 49), ('b15', 44), ('b33', 46), ('a50', 50), ('b30', 48), ('a47', 46), ('a35', 49), ('a26', 46)]) = 62379.000\n",
      ">86, new best f([('b44', 19), ('b3', 16), ('a11', 18), ('b9', 14), ('b11', 16), ('b39', 23), ('a18', 12), ('b31', 17), ('a4', 13), ('b38', 27), ('b2', 21), ('a7', 14), ('a24', 10), ('a30', 16), ('a9', 28), ('a12', 21), ('b25', 30), ('b24', 10), ('b5', 35), ('b20', 19), ('a39', 28), ('a20', 25), ('a46', 27), ('b49', 15), ('a37', 18), ('a1', 22), ('a16', 30), ('a15', 15), ('b10', 18), ('b42', 25), ('b4', 17), ('a27', 21), ('b27', 15), ('a14', 18), ('a21', 26), ('a10', 38), ('b36', 26), ('a43', 30), ('a3', 19), ('b22', 19), ('a36', 11), ('b45', 23), ('b6', 13), ('a48', 19), ('a23', 24), ('b34', 26), ('a32', 28), ('b29', 33), ('b35', 33), ('b28', 24), ('b19', 30), ('a41', 40), ('b23', 27), ('a34', 20), ('a22', 27), ('b41', 30), ('a44', 42), ('a45', 22), ('a6', 26), ('b40', 35), ('b16', 30), ('a49', 43), ('a19', 34), ('b37', 29), ('a13', 35), ('b8', 39), ('b32', 28), ('a33', 32), ('a2', 49), ('b47', 42), ('b46', 44), ('b14', 50), ('a42', 37), ('b1', 29), ('a31', 45), ('b17', 44), ('a5', 35), ('b7', 32), ('b26', 46), ('b21', 38), ('a40', 37), ('a28', 46), ('b48', 46), ('a29', 45), ('b43', 31), ('b50', 50), ('a17', 33), ('b12', 37), ('a25', 41), ('a8', 41), ('a38', 49), ('b18', 48), ('b13', 49), ('b15', 44), ('b33', 46), ('a50', 50), ('b30', 48), ('a35', 49), ('a47', 46), ('a26', 46)]) = 62311.000\n",
      ">87, new best f([('b44', 19), ('b3', 16), ('a11', 18), ('b9', 14), ('b11', 16), ('b39', 23), ('a18', 12), ('b31', 17), ('a4', 13), ('b38', 27), ('b2', 21), ('a7', 14), ('a24', 10), ('a30', 16), ('a9', 28), ('a12', 21), ('b25', 30), ('b24', 10), ('b5', 35), ('b20', 19), ('a39', 28), ('a20', 25), ('a46', 27), ('b49', 15), ('a37', 18), ('a1', 22), ('a16', 30), ('a15', 15), ('b10', 18), ('b42', 25), ('b4', 17), ('a27', 21), ('b27', 15), ('a14', 18), ('a21', 26), ('a10', 38), ('b36', 26), ('a43', 30), ('a3', 19), ('b22', 19), ('a36', 11), ('b45', 23), ('b6', 13), ('a48', 19), ('b29', 33), ('b23', 27), ('a34', 20), ('a22', 27), ('a23', 24), ('b41', 30), ('a32', 28), ('b35', 33), ('b28', 24), ('b19', 30), ('a41', 40), ('a44', 42), ('a45', 22), ('a6', 26), ('b40', 35), ('b16', 30), ('a19', 34), ('b37', 29), ('a13', 35), ('b8', 39), ('b32', 28), ('a33', 32), ('a2', 49), ('b47', 42), ('b46', 44), ('a49', 43), ('b14', 50), ('b34', 26), ('a42', 37), ('b1', 29), ('a31', 45), ('b17', 44), ('a5', 35), ('b7', 32), ('b26', 46), ('b21', 38), ('a40', 37), ('a28', 46), ('b48', 46), ('a29', 45), ('b43', 31), ('b50', 50), ('a17', 33), ('b12', 37), ('a25', 41), ('a8', 41), ('a38', 49), ('b18', 48), ('b13', 49), ('b15', 44), ('b33', 46), ('a50', 50), ('b30', 48), ('a47', 46), ('a35', 49), ('a26', 46)]) = 62171.000\n",
      ">89, new best f([('b44', 19), ('b3', 16), ('a11', 18), ('a7', 14), ('b11', 16), ('b39', 23), ('a30', 16), ('a18', 12), ('b31', 17), ('a4', 13), ('b38', 27), ('b2', 21), ('a24', 10), ('a9', 28), ('b9', 14), ('a12', 21), ('b25', 30), ('b24', 10), ('b5', 35), ('b20', 19), ('a39', 28), ('a20', 25), ('a46', 27), ('b49', 15), ('a37', 18), ('a1', 22), ('a16', 30), ('a15', 15), ('b10', 18), ('b42', 25), ('b4', 17), ('a27', 21), ('b27', 15), ('a14', 18), ('a21', 26), ('a10', 38), ('b36', 26), ('a43', 30), ('a3', 19), ('b22', 19), ('a36', 11), ('b45', 23), ('b6', 13), ('a48', 19), ('a23', 24), ('b34', 26), ('a32', 28), ('a45', 22), ('b35', 33), ('b28', 24), ('b19', 30), ('a41', 40), ('b29', 33), ('b23', 27), ('a34', 20), ('a22', 27), ('b41', 30), ('a44', 42), ('a6', 26), ('b40', 35), ('b16', 30), ('a19', 34), ('b37', 29), ('a13', 35), ('b8', 39), ('b32', 28), ('a33', 32), ('a2', 49), ('b47', 42), ('b46', 44), ('a49', 43), ('b14', 50), ('a42', 37), ('b1', 29), ('a31', 45), ('b17', 44), ('a5', 35), ('b26', 46), ('b7', 32), ('b21', 38), ('a40', 37), ('a28', 46), ('b48', 46), ('a29', 45), ('b43', 31), ('b50', 50), ('a17', 33), ('b12', 37), ('a25', 41), ('a8', 41), ('a38', 49), ('b18', 48), ('b13', 49), ('b15', 44), ('b33', 46), ('a50', 50), ('b30', 48), ('a35', 49), ('a47', 46), ('a26', 46)]) = 62156.000\n",
      ">90, new best f([('b44', 19), ('b3', 16), ('a11', 18), ('b9', 14), ('b11', 16), ('a24', 10), ('a18', 12), ('b31', 17), ('a4', 13), ('b38', 27), ('b2', 21), ('a7', 14), ('b39', 23), ('a30', 16), ('a9', 28), ('a12', 21), ('b25', 30), ('b24', 10), ('b5', 35), ('b20', 19), ('a39', 28), ('a20', 25), ('a46', 27), ('b49', 15), ('a37', 18), ('a1', 22), ('a16', 30), ('a15', 15), ('b10', 18), ('b42', 25), ('b4', 17), ('a27', 21), ('b27', 15), ('a14', 18), ('a21', 26), ('a10', 38), ('b36', 26), ('a43', 30), ('a3', 19), ('b22', 19), ('a36', 11), ('b45', 23), ('b6', 13), ('a48', 19), ('a23', 24), ('b34', 26), ('a34', 20), ('b29', 33), ('b35', 33), ('b28', 24), ('b19', 30), ('a41', 40), ('b23', 27), ('a32', 28), ('a22', 27), ('b41', 30), ('a44', 42), ('a45', 22), ('a6', 26), ('b40', 35), ('b16', 30), ('a49', 43), ('a19', 34), ('b37', 29), ('a13', 35), ('b8', 39), ('b32', 28), ('a33', 32), ('a2', 49), ('b47', 42), ('b46', 44), ('b14', 50), ('a42', 37), ('b1', 29), ('a31', 45), ('b17', 44), ('a5', 35), ('b7', 32), ('b26', 46), ('b21', 38), ('a40', 37), ('a28', 46), ('b48', 46), ('a29', 45), ('b43', 31), ('b50', 50), ('a17', 33), ('b12', 37), ('a25', 41), ('a8', 41), ('a38', 49), ('b18', 48), ('b13', 49), ('b15', 44), ('b33', 46), ('a50', 50), ('b30', 48), ('a47', 46), ('a35', 49), ('a26', 46)]) = 62126.000\n",
      ">90, new best f([('b44', 19), ('b3', 16), ('a11', 18), ('a30', 16), ('b11', 16), ('b39', 23), ('a18', 12), ('b31', 17), ('a4', 13), ('b38', 27), ('b2', 21), ('b9', 14), ('a7', 14), ('a24', 10), ('a9', 28), ('a12', 21), ('b25', 30), ('b24', 10), ('b5', 35), ('b20', 19), ('a39', 28), ('a20', 25), ('a46', 27), ('b49', 15), ('a37', 18), ('a1', 22), ('a16', 30), ('a15', 15), ('b10', 18), ('b42', 25), ('b4', 17), ('a27', 21), ('b27', 15), ('a14', 18), ('a21', 26), ('a10', 38), ('b36', 26), ('a43', 30), ('a3', 19), ('b22', 19), ('a36', 11), ('b45', 23), ('b6', 13), ('a48', 19), ('a23', 24), ('b34', 26), ('a32', 28), ('a45', 22), ('b35', 33), ('b28', 24), ('b19', 30), ('a41', 40), ('b29', 33), ('b23', 27), ('a34', 20), ('a22', 27), ('b41', 30), ('a44', 42), ('a6', 26), ('b40', 35), ('b16', 30), ('a19', 34), ('b37', 29), ('a13', 35), ('b8', 39), ('b32', 28), ('a33', 32), ('a2', 49), ('b47', 42), ('b46', 44), ('a49', 43), ('b14', 50), ('a42', 37), ('b1', 29), ('a31', 45), ('b17', 44), ('a5', 35), ('b26', 46), ('b7', 32), ('b21', 38), ('a40', 37), ('a28', 46), ('b48', 46), ('a29', 45), ('b43', 31), ('b50', 50), ('a17', 33), ('b12', 37), ('a25', 41), ('a8', 41), ('a38', 49), ('b18', 48), ('b13', 49), ('b15', 44), ('b33', 46), ('a50', 50), ('b30', 48), ('a35', 49), ('a47', 46), ('a26', 46)]) = 62089.000\n",
      ">91, new best f([('b44', 19), ('b3', 16), ('a11', 18), ('b9', 14), ('b11', 16), ('b39', 23), ('a18', 12), ('b31', 17), ('a4', 13), ('b38', 27), ('b2', 21), ('a7', 14), ('a24', 10), ('a30', 16), ('a9', 28), ('a12', 21), ('b25', 30), ('b24', 10), ('b5', 35), ('b20', 19), ('a39', 28), ('a20', 25), ('a46', 27), ('b49', 15), ('a37', 18), ('a1', 22), ('a16', 30), ('a15', 15), ('b10', 18), ('b42', 25), ('b4', 17), ('a27', 21), ('b27', 15), ('a14', 18), ('a21', 26), ('a10', 38), ('b36', 26), ('a43', 30), ('a3', 19), ('b22', 19), ('a36', 11), ('b45', 23), ('b6', 13), ('a48', 19), ('a23', 24), ('b34', 26), ('a34', 20), ('b29', 33), ('b35', 33), ('b28', 24), ('b19', 30), ('a41', 40), ('b23', 27), ('a32', 28), ('a22', 27), ('b41', 30), ('a44', 42), ('a45', 22), ('a6', 26), ('b40', 35), ('b16', 30), ('a49', 43), ('a19', 34), ('b37', 29), ('a13', 35), ('b8', 39), ('b32', 28), ('a33', 32), ('a2', 49), ('b47', 42), ('b46', 44), ('b14', 50), ('a42', 37), ('b1', 29), ('a31', 45), ('b17', 44), ('a5', 35), ('b7', 32), ('a17', 33), ('b43', 31), ('b12', 37), ('b26', 46), ('b21', 38), ('a40', 37), ('a28', 46), ('b48', 46), ('a29', 45), ('b50', 50), ('a25', 41), ('a8', 41), ('a38', 49), ('b18', 48), ('a26', 46), ('b13', 49), ('b15', 44), ('b33', 46), ('a50', 50), ('b30', 48), ('a35', 49), ('a47', 46)]) = 62065.000\n",
      ">94, new best f([('b44', 19), ('b3', 16), ('a11', 18), ('a30', 16), ('b11', 16), ('b39', 23), ('a18', 12), ('b31', 17), ('a4', 13), ('b38', 27), ('b2', 21), ('b9', 14), ('a7', 14), ('a24', 10), ('a9', 28), ('a12', 21), ('b25', 30), ('b24', 10), ('b5', 35), ('b20', 19), ('a39', 28), ('a20', 25), ('a46', 27), ('b49', 15), ('a37', 18), ('a1', 22), ('a16', 30), ('a15', 15), ('b10', 18), ('b42', 25), ('b4', 17), ('a27', 21), ('b27', 15), ('a14', 18), ('a21', 26), ('a10', 38), ('b36', 26), ('a43', 30), ('a3', 19), ('b22', 19), ('a36', 11), ('b45', 23), ('b6', 13), ('a48', 19), ('a23', 24), ('b34', 26), ('a32', 28), ('a45', 22), ('b35', 33), ('b28', 24), ('b19', 30), ('a41', 40), ('b29', 33), ('b23', 27), ('a34', 20), ('a22', 27), ('b41', 30), ('a42', 37), ('a6', 26), ('b40', 35), ('b16', 30), ('a19', 34), ('b37', 29), ('a13', 35), ('b8', 39), ('b32', 28), ('a33', 32), ('a2', 49), ('b47', 42), ('b46', 44), ('a49', 43), ('b14', 50), ('a44', 42), ('b1', 29), ('a31', 45), ('b17', 44), ('a5', 35), ('b26', 46), ('b7', 32), ('b21', 38), ('a40', 37), ('a28', 46), ('b48', 46), ('a29', 45), ('b43', 31), ('b50', 50), ('a17', 33), ('b12', 37), ('a25', 41), ('a8', 41), ('a38', 49), ('b18', 48), ('b13', 49), ('b15', 44), ('b33', 46), ('a50', 50), ('b30', 48), ('a47', 46), ('a35', 49), ('a26', 46)]) = 62051.000\n",
      ">96, new best f([('b44', 19), ('b3', 16), ('a11', 18), ('b9', 14), ('b11', 16), ('b39', 23), ('a18', 12), ('b31', 17), ('a4', 13), ('b38', 27), ('b2', 21), ('a7', 14), ('a24', 10), ('a30', 16), ('a9', 28), ('a12', 21), ('b25', 30), ('b24', 10), ('b5', 35), ('b20', 19), ('a39', 28), ('a20', 25), ('a46', 27), ('b49', 15), ('a37', 18), ('a1', 22), ('a16', 30), ('a15', 15), ('b10', 18), ('b42', 25), ('b4', 17), ('a27', 21), ('b27', 15), ('a14', 18), ('a21', 26), ('a10', 38), ('b36', 26), ('a43', 30), ('a3', 19), ('b22', 19), ('a36', 11), ('b45', 23), ('b6', 13), ('a48', 19), ('a45', 22), ('b29', 33), ('a13', 35), ('a23', 24), ('b34', 26), ('b23', 27), ('a34', 20), ('a22', 27), ('b40', 35), ('a32', 28), ('b1', 29), ('b28', 24), ('b41', 30), ('b19', 30), ('a41', 40), ('a44', 42), ('a6', 26), ('b16', 30), ('a19', 34), ('b37', 29), ('b8', 39), ('b32', 28), ('a33', 32), ('a2', 49), ('b47', 42), ('b46', 44), ('a49', 43), ('b14', 50), ('a42', 37), ('b35', 33), ('a31', 45), ('b17', 44), ('a5', 35), ('b7', 32), ('b26', 46), ('b21', 38), ('a40', 37), ('a28', 46), ('b48', 46), ('a29', 45), ('b43', 31), ('b50', 50), ('a17', 33), ('b12', 37), ('a25', 41), ('a8', 41), ('a38', 49), ('b18', 48), ('b13', 49), ('b15', 44), ('b33', 46), ('a50', 50), ('b30', 48), ('a47', 46), ('a35', 49), ('a26', 46)]) = 62033.000\n",
      ">96, new best f([('b44', 19), ('b3', 16), ('a11', 18), ('b9', 14), ('b11', 16), ('b39', 23), ('a18', 12), ('b31', 17), ('a4', 13), ('b38', 27), ('b2', 21), ('a7', 14), ('a24', 10), ('a30', 16), ('a9', 28), ('a12', 21), ('b27', 15), ('b24', 10), ('b5', 35), ('b20', 19), ('a39', 28), ('a20', 25), ('a46', 27), ('b49', 15), ('a37', 18), ('a1', 22), ('a16', 30), ('a15', 15), ('b10', 18), ('b42', 25), ('b4', 17), ('a27', 21), ('b25', 30), ('a14', 18), ('a21', 26), ('a10', 38), ('b36', 26), ('a43', 30), ('a3', 19), ('b22', 19), ('a36', 11), ('b45', 23), ('b6', 13), ('a48', 19), ('a23', 24), ('b34', 26), ('a34', 20), ('b29', 33), ('b35', 33), ('b28', 24), ('b19', 30), ('a41', 40), ('b23', 27), ('a32', 28), ('a22', 27), ('b41', 30), ('a44', 42), ('b37', 29), ('b1', 29), ('a45', 22), ('a6', 26), ('a28', 46), ('b16', 30), ('a19', 34), ('a13', 35), ('b8', 39), ('b32', 28), ('a33', 32), ('a2', 49), ('b47', 42), ('b46', 44), ('a49', 43), ('b14', 50), ('a42', 37), ('a31', 45), ('b17', 44), ('a5', 35), ('b26', 46), ('b7', 32), ('b21', 38), ('a40', 37), ('b40', 35), ('b48', 46), ('a29', 45), ('b43', 31), ('b50', 50), ('a17', 33), ('b12', 37), ('a25', 41), ('a8', 41), ('a38', 49), ('b18', 48), ('b13', 49), ('b15', 44), ('b33', 46), ('b30', 48), ('a50', 50), ('a35', 49), ('a47', 46), ('a26', 46)]) = 62026.000\n",
      ">96, new best f([('b44', 19), ('b11', 16), ('b3', 16), ('a11', 18), ('a30', 16), ('b39', 23), ('a18', 12), ('b31', 17), ('a4', 13), ('b9', 14), ('b2', 21), ('a7', 14), ('a24', 10), ('a9', 28), ('b38', 27), ('a45', 22), ('a12', 21), ('b25', 30), ('b24', 10), ('b5', 35), ('b20', 19), ('a39', 28), ('a46', 27), ('a20', 25), ('a27', 21), ('b49', 15), ('a37', 18), ('b4', 17), ('a16', 30), ('a15', 15), ('b10', 18), ('a1', 22), ('b42', 25), ('b27', 15), ('a14', 18), ('a21', 26), ('a10', 38), ('b36', 26), ('a43', 30), ('a3', 19), ('b22', 19), ('a36', 11), ('b45', 23), ('b6', 13), ('a48', 19), ('a23', 24), ('b34', 26), ('a34', 20), ('b16', 30), ('b35', 33), ('b28', 24), ('b19', 30), ('a41', 40), ('b23', 27), ('a32', 28), ('a22', 27), ('b41', 30), ('a44', 42), ('a6', 26), ('b40', 35), ('b29', 33), ('b1', 29), ('a19', 34), ('b37', 29), ('a13', 35), ('b8', 39), ('b32', 28), ('a33', 32), ('a2', 49), ('b47', 42), ('b46', 44), ('b14', 50), ('a42', 37), ('a49', 43), ('a31', 45), ('b17', 44), ('a5', 35), ('b7', 32), ('b26', 46), ('b21', 38), ('a40', 37), ('a28', 46), ('b48', 46), ('a29', 45), ('b43', 31), ('b50', 50), ('a17', 33), ('b12', 37), ('a25', 41), ('a8', 41), ('a38', 49), ('b18', 48), ('b13', 49), ('b15', 44), ('b33', 46), ('a50', 50), ('b30', 48), ('a47', 46), ('a35', 49), ('a26', 46)]) = 61938.000\n",
      ">98, new best f([('b44', 19), ('b11', 16), ('b3', 16), ('a11', 18), ('a30', 16), ('b39', 23), ('a18', 12), ('b31', 17), ('a4', 13), ('b9', 14), ('a24', 10), ('b38', 27), ('b2', 21), ('a7', 14), ('a9', 28), ('a12', 21), ('b25', 30), ('b24', 10), ('b5', 35), ('b20', 19), ('a39', 28), ('a20', 25), ('a46', 27), ('b49', 15), ('a37', 18), ('a1', 22), ('a16', 30), ('a15', 15), ('b10', 18), ('b42', 25), ('b4', 17), ('a27', 21), ('b27', 15), ('a14', 18), ('a21', 26), ('a45', 22), ('b36', 26), ('a43', 30), ('a3', 19), ('b22', 19), ('a36', 11), ('b45', 23), ('b6', 13), ('a48', 19), ('a23', 24), ('b34', 26), ('a34', 20), ('b29', 33), ('b35', 33), ('b28', 24), ('b19', 30), ('a41', 40), ('b23', 27), ('a32', 28), ('a22', 27), ('b41', 30), ('b8', 39), ('a10', 38), ('a6', 26), ('b40', 35), ('b16', 30), ('a49', 43), ('a19', 34), ('b37', 29), ('a13', 35), ('a8', 41), ('b32', 28), ('a44', 42), ('b1', 29), ('a33', 32), ('a2', 49), ('b47', 42), ('b46', 44), ('b50', 50), ('a42', 37), ('a31', 45), ('b17', 44), ('a5', 35), ('b7', 32), ('b26', 46), ('b21', 38), ('a40', 37), ('a28', 46), ('b48', 46), ('a29', 45), ('b43', 31), ('b14', 50), ('a17', 33), ('b12', 37), ('a25', 41), ('a38', 49), ('b18', 48), ('b13', 49), ('b15', 44), ('b33', 46), ('a50', 50), ('b30', 48), ('a47', 46), ('a35', 49), ('a26', 46)]) = 61866.000\n",
      ">99, new best f([('b44', 19), ('b3', 16), ('a11', 18), ('b9', 14), ('b11', 16), ('a24', 10), ('a18', 12), ('b31', 17), ('a4', 13), ('a30', 16), ('b39', 23), ('b2', 21), ('a7', 14), ('a9', 28), ('a45', 22), ('a12', 21), ('b25', 30), ('b24', 10), ('b35', 33), ('b20', 19), ('a39', 28), ('a20', 25), ('a46', 27), ('b49', 15), ('a37', 18), ('b38', 27), ('a27', 21), ('b4', 17), ('a16', 30), ('a15', 15), ('b10', 18), ('a1', 22), ('b42', 25), ('b27', 15), ('a14', 18), ('a21', 26), ('a10', 38), ('b36', 26), ('a43', 30), ('a3', 19), ('b22', 19), ('a36', 11), ('b45', 23), ('b6', 13), ('a48', 19), ('a23', 24), ('b34', 26), ('a34', 20), ('b16', 30), ('b5', 35), ('b28', 24), ('b19', 30), ('a41', 40), ('b23', 27), ('a32', 28), ('a22', 27), ('b41', 30), ('a44', 42), ('a6', 26), ('b40', 35), ('b29', 33), ('b1', 29), ('a19', 34), ('b37', 29), ('a13', 35), ('b12', 37), ('b7', 32), ('a25', 41), ('b8', 39), ('b32', 28), ('a33', 32), ('a2', 49), ('b47', 42), ('b46', 44), ('a49', 43), ('b14', 50), ('a42', 37), ('a31', 45), ('b17', 44), ('a5', 35), ('b26', 46), ('b21', 38), ('a40', 37), ('a28', 46), ('b48', 46), ('a29', 45), ('b43', 31), ('b50', 50), ('a17', 33), ('a8', 41), ('a38', 49), ('b18', 48), ('b13', 49), ('b15', 44), ('b33', 46), ('a50', 50), ('b30', 48), ('a35', 49), ('a47', 46), ('a26', 46)]) = 61737.000\n",
      ">100, new best f([('b44', 19), ('b3', 16), ('a11', 18), ('b9', 14), ('b11', 16), ('a24', 10), ('a18', 12), ('b31', 17), ('a4', 13), ('a30', 16), ('b39', 23), ('b2', 21), ('a7', 14), ('a9', 28), ('a45', 22), ('a12', 21), ('b25', 30), ('b24', 10), ('b35', 33), ('b20', 19), ('a39', 28), ('a20', 25), ('a46', 27), ('b49', 15), ('a37', 18), ('b42', 25), ('a27', 21), ('b4', 17), ('a16', 30), ('a15', 15), ('b10', 18), ('a1', 22), ('b38', 27), ('b27', 15), ('a14', 18), ('a21', 26), ('a10', 38), ('b36', 26), ('a43', 30), ('a3', 19), ('b22', 19), ('a36', 11), ('b45', 23), ('b6', 13), ('a48', 19), ('a23', 24), ('b34', 26), ('a34', 20), ('b16', 30), ('b5', 35), ('b28', 24), ('b19', 30), ('a41', 40), ('b23', 27), ('a32', 28), ('a22', 27), ('b41', 30), ('a44', 42), ('a6', 26), ('b40', 35), ('b29', 33), ('b1', 29), ('a19', 34), ('b37', 29), ('a13', 35), ('b12', 37), ('b7', 32), ('a25', 41), ('b8', 39), ('b32', 28), ('a33', 32), ('a2', 49), ('b47', 42), ('b46', 44), ('a49', 43), ('b14', 50), ('a42', 37), ('a31', 45), ('b17', 44), ('a5', 35), ('b26', 46), ('b21', 38), ('a40', 37), ('a28', 46), ('b48', 46), ('a29', 45), ('b43', 31), ('b50', 50), ('a17', 33), ('a8', 41), ('a38', 49), ('b18', 48), ('b13', 49), ('b15', 44), ('b33', 46), ('a50', 50), ('b30', 48), ('a47', 46), ('a35', 49), ('a26', 46)]) = 61726.000\n",
      ">102, new best f([('b11', 16), ('b3', 16), ('a11', 18), ('a30', 16), ('b44', 19), ('b39', 23), ('a18', 12), ('b31', 17), ('a4', 13), ('b9', 14), ('b2', 21), ('a7', 14), ('a24', 10), ('b6', 13), ('a45', 22), ('a48', 19), ('a12', 21), ('b25', 30), ('b24', 10), ('b5', 35), ('b20', 19), ('a39', 28), ('a20', 25), ('a46', 27), ('b49', 15), ('a37', 18), ('a1', 22), ('a43', 30), ('a15', 15), ('b10', 18), ('b42', 25), ('b4', 17), ('a27', 21), ('b27', 15), ('a14', 18), ('a21', 26), ('a10', 38), ('b36', 26), ('a16', 30), ('a3', 19), ('b22', 19), ('a36', 11), ('b45', 23), ('b34', 26), ('b38', 27), ('b29', 33), ('b23', 27), ('a9', 28), ('a6', 26), ('a23', 24), ('a22', 27), ('a34', 20), ('b16', 30), ('b35', 33), ('b28', 24), ('b19', 30), ('a41', 40), ('a32', 28), ('b41', 30), ('a44', 42), ('b40', 35), ('b1', 29), ('b32', 28), ('b37', 29), ('a13', 35), ('b8', 39), ('a19', 34), ('a33', 32), ('a2', 49), ('b47', 42), ('b46', 44), ('b14', 50), ('a42', 37), ('a49', 43), ('a31', 45), ('b17', 44), ('a8', 41), ('a5', 35), ('b7', 32), ('b26', 46), ('b21', 38), ('a40', 37), ('a28', 46), ('b48', 46), ('a29', 45), ('b43', 31), ('b50', 50), ('a17', 33), ('b12', 37), ('a25', 41), ('a38', 49), ('b18', 48), ('b13', 49), ('b15', 44), ('b33', 46), ('a50', 50), ('b30', 48), ('a35', 49), ('a47', 46), ('a26', 46)]) = 61622.000\n",
      ">105, new best f([('b44', 19), ('b3', 16), ('a11', 18), ('b9', 14), ('b11', 16), ('a30', 16), ('b24', 10), ('a18', 12), ('b31', 17), ('a4', 13), ('b2', 21), ('a7', 14), ('a24', 10), ('b6', 13), ('a45', 22), ('a48', 19), ('a12', 21), ('b25', 30), ('b39', 23), ('b5', 35), ('b20', 19), ('a39', 28), ('a20', 25), ('a46', 27), ('b49', 15), ('a37', 18), ('a1', 22), ('a43', 30), ('a15', 15), ('b10', 18), ('b42', 25), ('b4', 17), ('a27', 21), ('b27', 15), ('a14', 18), ('a21', 26), ('a10', 38), ('b36', 26), ('a16', 30), ('a3', 19), ('b22', 19), ('a36', 11), ('b45', 23), ('b34', 26), ('b38', 27), ('b29', 33), ('b23', 27), ('a9', 28), ('b16', 30), ('a23', 24), ('a22', 27), ('a34', 20), ('a6', 26), ('b35', 33), ('b28', 24), ('b19', 30), ('a41', 40), ('a32', 28), ('b41', 30), ('a44', 42), ('b40', 35), ('b1', 29), ('b32', 28), ('b37', 29), ('a13', 35), ('b8', 39), ('a19', 34), ('a33', 32), ('a2', 49), ('b47', 42), ('b46', 44), ('b14', 50), ('a42', 37), ('a49', 43), ('a31', 45), ('b17', 44), ('a8', 41), ('a5', 35), ('b7', 32), ('b26', 46), ('b21', 38), ('a40', 37), ('a28', 46), ('b48', 46), ('a29', 45), ('b43', 31), ('b50', 50), ('a17', 33), ('b12', 37), ('a25', 41), ('a38', 49), ('b18', 48), ('b13', 49), ('b15', 44), ('b33', 46), ('a50', 50), ('b30', 48), ('a35', 49), ('a47', 46), ('a26', 46)]) = 61614.000\n",
      ">106, new best f([('b44', 19), ('b3', 16), ('a11', 18), ('b9', 14), ('b11', 16), ('a30', 16), ('b24', 10), ('a18', 12), ('b31', 17), ('a4', 13), ('b2', 21), ('a7', 14), ('a24', 10), ('b6', 13), ('a45', 22), ('a48', 19), ('a12', 21), ('b25', 30), ('b39', 23), ('b5', 35), ('b20', 19), ('a34', 20), ('a20', 25), ('a46', 27), ('b49', 15), ('a37', 18), ('a1', 22), ('a43', 30), ('a15', 15), ('b10', 18), ('b42', 25), ('b4', 17), ('a27', 21), ('b27', 15), ('a14', 18), ('a21', 26), ('a10', 38), ('b36', 26), ('a16', 30), ('a3', 19), ('b22', 19), ('a36', 11), ('b45', 23), ('b34', 26), ('b38', 27), ('b29', 33), ('b23', 27), ('a9', 28), ('b16', 30), ('a23', 24), ('a22', 27), ('a39', 28), ('a6', 26), ('b35', 33), ('b28', 24), ('b19', 30), ('a41', 40), ('a32', 28), ('b41', 30), ('a44', 42), ('b40', 35), ('b1', 29), ('b32', 28), ('b37', 29), ('a13', 35), ('b8', 39), ('a19', 34), ('a33', 32), ('a2', 49), ('b47', 42), ('b46', 44), ('b14', 50), ('a42', 37), ('a49', 43), ('a31', 45), ('b17', 44), ('a8', 41), ('a5', 35), ('b7', 32), ('b26', 46), ('b21', 38), ('a40', 37), ('a28', 46), ('b48', 46), ('a29', 45), ('b43', 31), ('b50', 50), ('a17', 33), ('b12', 37), ('a25', 41), ('a38', 49), ('b18', 48), ('b13', 49), ('b15', 44), ('b33', 46), ('a50', 50), ('b30', 48), ('a35', 49), ('a47', 46), ('a26', 46)]) = 61478.000\n",
      ">112, new best f([('b11', 16), ('b3', 16), ('a11', 18), ('a30', 16), ('b44', 19), ('b9', 14), ('b24', 10), ('a18', 12), ('b31', 17), ('a4', 13), ('b2', 21), ('a7', 14), ('a24', 10), ('b6', 13), ('b39', 23), ('a45', 22), ('a48', 19), ('a12', 21), ('b25', 30), ('b32', 28), ('b20', 19), ('a39', 28), ('a20', 25), ('a46', 27), ('b49', 15), ('a37', 18), ('a1', 22), ('a27', 21), ('a15', 15), ('b10', 18), ('b42', 25), ('b4', 17), ('a43', 30), ('b27', 15), ('a14', 18), ('a21', 26), ('a10', 38), ('b36', 26), ('a16', 30), ('a3', 19), ('b22', 19), ('a36', 11), ('b45', 23), ('b38', 27), ('a9', 28), ('a23', 24), ('a6', 26), ('b34', 26), ('a34', 20), ('b16', 30), ('b35', 33), ('b29', 33), ('b28', 24), ('b19', 30), ('a41', 40), ('b23', 27), ('a32', 28), ('a22', 27), ('b41', 30), ('a44', 42), ('b5', 35), ('b1', 29), ('b40', 35), ('b37', 29), ('a13', 35), ('b8', 39), ('a19', 34), ('a33', 32), ('a2', 49), ('b47', 42), ('b46', 44), ('b14', 50), ('a42', 37), ('a49', 43), ('a31', 45), ('b17', 44), ('a8', 41), ('a5', 35), ('b7', 32), ('b26', 46), ('b21', 38), ('a40', 37), ('a28', 46), ('b48', 46), ('a29', 45), ('a17', 33), ('b30', 48), ('b43', 31), ('b50', 50), ('b12', 37), ('a25', 41), ('a38', 49), ('b18', 48), ('b13', 49), ('b15', 44), ('b33', 46), ('a50', 50), ('a35', 49), ('a47', 46), ('a26', 46)]) = 61447.000\n",
      ">113, new best f([('b11', 16), ('b3', 16), ('a11', 18), ('a30', 16), ('b44', 19), ('b9', 14), ('b24', 10), ('a18', 12), ('b31', 17), ('a4', 13), ('b2', 21), ('a7', 14), ('a24', 10), ('b6', 13), ('b39', 23), ('a45', 22), ('a48', 19), ('a12', 21), ('b25', 30), ('b32', 28), ('b20', 19), ('a39', 28), ('a20', 25), ('a46', 27), ('b49', 15), ('a37', 18), ('a1', 22), ('a27', 21), ('a15', 15), ('b10', 18), ('b42', 25), ('b4', 17), ('a43', 30), ('b27', 15), ('a14', 18), ('a21', 26), ('a10', 38), ('b36', 26), ('a16', 30), ('a3', 19), ('b22', 19), ('a36', 11), ('b45', 23), ('b38', 27), ('a9', 28), ('a23', 24), ('a6', 26), ('b34', 26), ('a34', 20), ('b16', 30), ('b35', 33), ('b29', 33), ('b28', 24), ('b19', 30), ('a41', 40), ('b23', 27), ('a32', 28), ('a22', 27), ('b41', 30), ('a44', 42), ('b5', 35), ('b1', 29), ('b40', 35), ('b37', 29), ('a13', 35), ('b8', 39), ('a19', 34), ('a33', 32), ('a2', 49), ('b47', 42), ('b46', 44), ('b7', 32), ('b14', 50), ('a42', 37), ('a49', 43), ('a31', 45), ('b17', 44), ('a8', 41), ('a5', 35), ('b26', 46), ('b21', 38), ('a40', 37), ('a28', 46), ('b48', 46), ('a29', 45), ('b43', 31), ('b50', 50), ('a17', 33), ('b12', 37), ('a25', 41), ('a38', 49), ('b18', 48), ('a50', 50), ('b15', 44), ('b33', 46), ('b13', 49), ('b30', 48), ('a35', 49), ('a47', 46), ('a26', 46)]) = 61401.000\n",
      ">114, new best f([('b11', 16), ('b3', 16), ('a11', 18), ('a30', 16), ('b44', 19), ('b9', 14), ('b24', 10), ('a18', 12), ('b31', 17), ('a4', 13), ('b2', 21), ('a7', 14), ('a24', 10), ('b6', 13), ('b39', 23), ('a45', 22), ('a48', 19), ('a12', 21), ('b25', 30), ('b32', 28), ('b20', 19), ('a39', 28), ('a20', 25), ('a46', 27), ('b49', 15), ('a37', 18), ('a1', 22), ('a27', 21), ('a15', 15), ('b10', 18), ('b42', 25), ('b4', 17), ('a43', 30), ('b27', 15), ('a14', 18), ('a21', 26), ('a10', 38), ('b36', 26), ('a16', 30), ('a3', 19), ('b22', 19), ('a36', 11), ('b45', 23), ('b38', 27), ('a9', 28), ('a23', 24), ('a6', 26), ('b34', 26), ('a34', 20), ('b16', 30), ('b35', 33), ('b29', 33), ('b28', 24), ('b19', 30), ('a41', 40), ('b23', 27), ('a32', 28), ('a22', 27), ('b41', 30), ('a44', 42), ('b5', 35), ('b1', 29), ('b40', 35), ('b37', 29), ('a13', 35), ('b8', 39), ('a19', 34), ('a33', 32), ('a2', 49), ('b47', 42), ('b46', 44), ('b7', 32), ('b14', 50), ('a42', 37), ('a49', 43), ('a31', 45), ('b17', 44), ('a8', 41), ('a5', 35), ('b26', 46), ('b21', 38), ('a40', 37), ('a28', 46), ('b48', 46), ('a29', 45), ('a17', 33), ('b30', 48), ('b43', 31), ('b50', 50), ('b12', 37), ('a25', 41), ('a38', 49), ('b18', 48), ('b13', 49), ('b15', 44), ('b33', 46), ('a50', 50), ('a35', 49), ('a47', 46), ('a26', 46)]) = 61362.000\n",
      ">120, new best f([('b11', 16), ('b3', 16), ('a11', 18), ('a30', 16), ('b44', 19), ('b6', 13), ('a18', 12), ('b31', 17), ('a4', 13), ('b9', 14), ('a36', 11), ('a7', 14), ('a24', 10), ('b39', 23), ('a27', 21), ('b2', 21), ('b24', 10), ('a45', 22), ('a48', 19), ('a12', 21), ('b25', 30), ('b5', 35), ('b20', 19), ('a39', 28), ('a20', 25), ('a46', 27), ('b49', 15), ('a37', 18), ('a1', 22), ('a15', 15), ('b10', 18), ('b42', 25), ('b4', 17), ('a43', 30), ('b27', 15), ('a14', 18), ('a21', 26), ('a10', 38), ('b36', 26), ('a16', 30), ('a3', 19), ('b22', 19), ('b45', 23), ('b38', 27), ('b28', 24), ('a23', 24), ('a6', 26), ('b37', 29), ('b40', 35), ('b34', 26), ('b29', 33), ('b23', 27), ('b16', 30), ('b1', 29), ('b41', 30), ('a22', 27), ('a34', 20), ('b35', 33), ('a9', 28), ('b19', 30), ('a13', 35), ('a41', 40), ('a42', 37), ('a32', 28), ('a44', 42), ('b32', 28), ('b8', 39), ('a33', 32), ('b7', 32), ('a25', 41), ('a2', 49), ('b47', 42), ('b46', 44), ('a49', 43), ('b14', 50), ('a31', 45), ('a19', 34), ('b17', 44), ('a5', 35), ('b26', 46), ('a8', 41), ('b21', 38), ('a40', 37), ('a28', 46), ('b48', 46), ('a29', 45), ('a17', 33), ('b30', 48), ('b43', 31), ('b50', 50), ('b12', 37), ('a38', 49), ('b18', 48), ('b13', 49), ('b15', 44), ('b33', 46), ('a50', 50), ('a35', 49), ('a47', 46), ('a26', 46)]) = 61302.000\n",
      ">123, new best f([('b11', 16), ('a18', 12), ('b3', 16), ('a11', 18), ('a30', 16), ('b44', 19), ('b9', 14), ('b24', 10), ('b31', 17), ('a4', 13), ('b2', 21), ('a7', 14), ('a24', 10), ('b6', 13), ('b39', 23), ('a45', 22), ('a48', 19), ('a12', 21), ('b45', 23), ('b5', 35), ('b20', 19), ('a39', 28), ('a20', 25), ('a21', 26), ('b49', 15), ('a37', 18), ('a1', 22), ('a27', 21), ('a15', 15), ('b10', 18), ('b42', 25), ('b4', 17), ('a43', 30), ('b27', 15), ('a14', 18), ('a46', 27), ('a10', 38), ('b36', 26), ('a16', 30), ('a3', 19), ('b22', 19), ('a36', 11), ('b25', 30), ('b38', 27), ('a9', 28), ('a23', 24), ('a6', 26), ('b34', 26), ('a34', 20), ('b16', 30), ('b35', 33), ('b29', 33), ('b28', 24), ('b32', 28), ('b19', 30), ('a41', 40), ('a22', 27), ('b23', 27), ('b41', 30), ('a32', 28), ('b40', 35), ('b7', 32), ('a13', 35), ('a44', 42), ('b1', 29), ('b37', 29), ('b8', 39), ('a42', 37), ('a33', 32), ('a25', 41), ('a2', 49), ('b47', 42), ('b46', 44), ('a49', 43), ('b14', 50), ('a19', 34), ('a31', 45), ('b17', 44), ('a8', 41), ('a5', 35), ('b26', 46), ('b43', 31), ('b21', 38), ('a28', 46), ('a40', 37), ('b48', 46), ('a29', 45), ('a17', 33), ('b50', 50), ('b12', 37), ('b30', 48), ('a38', 49), ('b18', 48), ('b13', 49), ('b15', 44), ('b33', 46), ('a50', 50), ('a35', 49), ('a47', 46), ('a26', 46)]) = 61294.000\n",
      ">125, new best f([('a36', 11), ('b3', 16), ('a11', 18), ('a30', 16), ('b44', 19), ('b9', 14), ('b24', 10), ('a18', 12), ('b31', 17), ('a4', 13), ('b2', 21), ('a7', 14), ('a24', 10), ('b6', 13), ('b39', 23), ('a45', 22), ('a48', 19), ('b11', 16), ('b49', 15), ('a12', 21), ('b25', 30), ('b32', 28), ('b34', 26), ('a39', 28), ('a20', 25), ('b38', 27), ('a37', 18), ('a1', 22), ('a27', 21), ('a15', 15), ('b10', 18), ('b42', 25), ('b4', 17), ('a43', 30), ('b27', 15), ('a14', 18), ('a46', 27), ('b5', 35), ('a34', 20), ('a21', 26), ('a23', 24), ('b36', 26), ('a16', 30), ('a9', 28), ('b20', 19), ('a6', 26), ('a3', 19), ('b22', 19), ('b45', 23), ('b19', 30), ('a10', 38), ('b16', 30), ('b35', 33), ('b28', 24), ('a41', 40), ('a22', 27), ('b29', 33), ('b23', 27), ('a32', 28), ('b41', 30), ('a44', 42), ('b1', 29), ('b40', 35), ('b37', 29), ('a13', 35), ('b8', 39), ('a49', 43), ('a42', 37), ('a33', 32), ('b7', 32), ('a25', 41), ('a2', 49), ('b47', 42), ('b46', 44), ('b14', 50), ('a31', 45), ('a19', 34), ('b17', 44), ('b21', 38), ('b26', 46), ('b43', 31), ('a5', 35), ('a28', 46), ('a40', 37), ('b48', 46), ('a29', 45), ('b50', 50), ('a47', 46), ('a8', 41), ('b15', 44), ('b12', 37), ('b33', 46), ('a17', 33), ('a38', 49), ('b18', 48), ('b13', 49), ('a50', 50), ('b30', 48), ('a35', 49), ('a26', 46)]) = 61184.000\n",
      ">130, new best f([('b11', 16), ('a18', 12), ('b3', 16), ('a11', 18), ('a30', 16), ('b44', 19), ('b24', 10), ('b9', 14), ('b6', 13), ('b31', 17), ('a4', 13), ('a36', 11), ('a45', 22), ('b39', 23), ('a7', 14), ('a24', 10), ('a27', 21), ('b5', 35), ('a48', 19), ('b20', 19), ('a12', 21), ('b49', 15), ('a15', 15), ('b25', 30), ('a39', 28), ('a20', 25), ('b45', 23), ('a37', 18), ('a1', 22), ('b38', 27), ('b2', 21), ('b10', 18), ('b42', 25), ('b4', 17), ('b16', 30), ('b27', 15), ('a14', 18), ('a21', 26), ('a10', 38), ('b36', 26), ('a16', 30), ('a3', 19), ('b22', 19), ('a46', 27), ('a9', 28), ('b28', 24), ('a23', 24), ('b32', 28), ('b37', 29), ('b23', 27), ('a6', 26), ('b34', 26), ('a34', 20), ('a43', 30), ('b29', 33), ('a22', 27), ('b35', 33), ('b1', 29), ('a33', 32), ('b19', 30), ('a41', 40), ('a32', 28), ('b41', 30), ('a44', 42), ('a19', 34), ('a40', 37), ('a13', 35), ('a42', 37), ('b8', 39), ('b40', 35), ('b12', 37), ('a25', 41), ('a2', 49), ('b47', 42), ('a49', 43), ('b46', 44), ('b14', 50), ('a31', 45), ('b17', 44), ('b21', 38), ('b26', 46), ('b43', 31), ('a5', 35), ('a28', 46), ('b48', 46), ('a29', 45), ('b50', 50), ('a47', 46), ('a8', 41), ('b15', 44), ('b7', 32), ('b33', 46), ('a17', 33), ('a38', 49), ('b18', 48), ('b13', 49), ('a50', 50), ('b30', 48), ('a35', 49), ('a26', 46)]) = 61177.000\n",
      ">132, new best f([('b11', 16), ('a18', 12), ('b3', 16), ('a27', 21), ('a30', 16), ('b44', 19), ('b24', 10), ('b9', 14), ('b6', 13), ('b31', 17), ('a4', 13), ('a36', 11), ('a11', 18), ('a7', 14), ('a24', 10), ('b39', 23), ('a45', 22), ('a48', 19), ('b20', 19), ('a12', 21), ('b49', 15), ('b38', 27), ('b25', 30), ('b5', 35), ('a46', 27), ('a20', 25), ('a39', 28), ('a37', 18), ('a1', 22), ('b2', 21), ('b32', 28), ('a15', 15), ('b10', 18), ('b42', 25), ('b4', 17), ('a43', 30), ('b27', 15), ('a14', 18), ('b37', 29), ('a9', 28), ('b22', 19), ('a21', 26), ('b45', 23), ('b16', 30), ('a10', 38), ('b36', 26), ('a16', 30), ('a3', 19), ('b28', 24), ('a23', 24), ('b23', 27), ('a6', 26), ('b34', 26), ('a34', 20), ('b29', 33), ('a22', 27), ('b35', 33), ('b1', 29), ('a33', 32), ('b19', 30), ('a41', 40), ('a32', 28), ('b41', 30), ('a44', 42), ('a19', 34), ('a40', 37), ('a13', 35), ('a42', 37), ('b8', 39), ('b40', 35), ('b7', 32), ('a25', 41), ('a2', 49), ('b47', 42), ('a49', 43), ('b46', 44), ('b14', 50), ('a31', 45), ('b17', 44), ('b21', 38), ('b26', 46), ('b43', 31), ('a5', 35), ('a28', 46), ('b13', 49), ('a29', 45), ('b50', 50), ('a47', 46), ('a8', 41), ('b15', 44), ('b12', 37), ('b33', 46), ('a17', 33), ('a38', 49), ('b18', 48), ('b48', 46), ('a50', 50), ('b30', 48), ('a35', 49), ('a26', 46)]) = 61138.000\n",
      ">132, new best f([('b11', 16), ('a18', 12), ('b3', 16), ('a11', 18), ('a30', 16), ('b44', 19), ('b24', 10), ('b9', 14), ('b6', 13), ('b31', 17), ('a4', 13), ('a36', 11), ('a45', 22), ('b39', 23), ('a7', 14), ('a24', 10), ('a27', 21), ('b5', 35), ('a48', 19), ('b20', 19), ('a12', 21), ('b49', 15), ('a15', 15), ('b25', 30), ('a39', 28), ('a20', 25), ('b45', 23), ('a37', 18), ('a1', 22), ('b38', 27), ('b2', 21), ('b10', 18), ('b42', 25), ('b4', 17), ('b16', 30), ('b27', 15), ('a14', 18), ('a21', 26), ('a10', 38), ('b36', 26), ('a16', 30), ('a3', 19), ('b22', 19), ('a46', 27), ('a9', 28), ('b28', 24), ('a23', 24), ('b32', 28), ('b37', 29), ('b23', 27), ('a6', 26), ('b34', 26), ('a34', 20), ('a43', 30), ('b29', 33), ('a22', 27), ('b35', 33), ('b1', 29), ('a33', 32), ('b19', 30), ('a41', 40), ('a32', 28), ('b41', 30), ('a44', 42), ('a19', 34), ('a40', 37), ('a13', 35), ('a42', 37), ('b8', 39), ('b40', 35), ('b12', 37), ('a25', 41), ('a2', 49), ('b47', 42), ('a49', 43), ('b46', 44), ('b14', 50), ('a31', 45), ('b17', 44), ('b21', 38), ('b26', 46), ('b43', 31), ('a5', 35), ('a28', 46), ('b48', 46), ('a29', 45), ('b50', 50), ('a47', 46), ('a8', 41), ('b7', 32), ('b15', 44), ('a17', 33), ('a38', 49), ('b18', 48), ('b33', 46), ('b13', 49), ('a50', 50), ('b30', 48), ('a35', 49), ('a26', 46)]) = 61085.000\n",
      ">135, new best f([('b11', 16), ('a18', 12), ('b44', 19), ('a11', 18), ('a30', 16), ('b3', 16), ('b9', 14), ('b24', 10), ('b6', 13), ('b31', 17), ('a4', 13), ('a36', 11), ('a7', 14), ('b49', 15), ('a45', 22), ('a24', 10), ('b39', 23), ('a12', 21), ('a48', 19), ('b25', 30), ('b38', 27), ('b20', 19), ('a3', 19), ('a46', 27), ('a20', 25), ('a1', 22), ('a37', 18), ('a39', 28), ('b2', 21), ('b32', 28), ('a27', 21), ('a15', 15), ('b10', 18), ('b42', 25), ('b4', 17), ('a43', 30), ('b27', 15), ('a14', 18), ('b37', 29), ('a9', 28), ('b22', 19), ('a21', 26), ('a10', 38), ('b36', 26), ('a16', 30), ('b5', 35), ('b45', 23), ('b28', 24), ('a23', 24), ('a6', 26), ('b40', 35), ('b16', 30), ('b23', 27), ('b34', 26), ('a34', 20), ('b29', 33), ('a22', 27), ('b35', 33), ('b1', 29), ('a33', 32), ('b19', 30), ('a41', 40), ('a32', 28), ('b41', 30), ('a44', 42), ('a19', 34), ('a40', 37), ('a13', 35), ('a42', 37), ('b8', 39), ('b7', 32), ('a25', 41), ('a2', 49), ('b12', 37), ('b47', 42), ('b46', 44), ('a49', 43), ('b14', 50), ('a31', 45), ('b17', 44), ('a5', 35), ('b26', 46), ('b43', 31), ('b21', 38), ('a28', 46), ('b48', 46), ('a29', 45), ('b50', 50), ('a47', 46), ('a17', 33), ('a8', 41), ('b30', 48), ('a38', 49), ('b18', 48), ('b13', 49), ('b33', 46), ('b15', 44), ('a50', 50), ('a35', 49), ('a26', 46)]) = 61038.000\n",
      ">136, new best f([('b11', 16), ('a18', 12), ('b44', 19), ('a11', 18), ('a30', 16), ('b3', 16), ('b9', 14), ('b24', 10), ('b6', 13), ('b31', 17), ('a4', 13), ('a36', 11), ('a7', 14), ('b49', 15), ('a45', 22), ('a24', 10), ('b39', 23), ('a12', 21), ('a48', 19), ('b25', 30), ('b38', 27), ('b20', 19), ('a3', 19), ('a46', 27), ('a20', 25), ('a1', 22), ('a37', 18), ('a39', 28), ('b2', 21), ('b32', 28), ('a27', 21), ('a15', 15), ('b10', 18), ('b42', 25), ('b4', 17), ('a43', 30), ('b27', 15), ('a14', 18), ('b37', 29), ('a9', 28), ('b22', 19), ('a21', 26), ('a10', 38), ('b36', 26), ('a16', 30), ('b5', 35), ('b45', 23), ('b28', 24), ('a23', 24), ('a6', 26), ('b40', 35), ('b16', 30), ('b23', 27), ('b34', 26), ('a34', 20), ('b29', 33), ('a22', 27), ('b35', 33), ('b1', 29), ('a33', 32), ('b19', 30), ('a41', 40), ('a32', 28), ('b41', 30), ('a44', 42), ('a19', 34), ('a40', 37), ('a13', 35), ('a42', 37), ('b8', 39), ('b7', 32), ('a25', 41), ('a2', 49), ('b12', 37), ('b47', 42), ('b46', 44), ('a49', 43), ('b14', 50), ('a31', 45), ('b17', 44), ('a5', 35), ('b26', 46), ('b43', 31), ('b21', 38), ('a28', 46), ('b48', 46), ('a29', 45), ('b50', 50), ('a47', 46), ('a17', 33), ('a8', 41), ('b30', 48), ('b15', 44), ('b33', 46), ('a38', 49), ('b18', 48), ('b13', 49), ('a50', 50), ('a35', 49), ('a26', 46)]) = 60924.000\n",
      ">137, new best f([('b11', 16), ('a18', 12), ('b44', 19), ('a11', 18), ('a30', 16), ('b3', 16), ('b9', 14), ('b24', 10), ('b6', 13), ('b31', 17), ('a4', 13), ('a36', 11), ('a7', 14), ('b49', 15), ('a45', 22), ('a24', 10), ('b39', 23), ('a12', 21), ('a48', 19), ('b25', 30), ('b38', 27), ('b20', 19), ('a3', 19), ('a46', 27), ('a20', 25), ('a1', 22), ('a37', 18), ('a39', 28), ('b2', 21), ('b32', 28), ('a27', 21), ('a15', 15), ('b10', 18), ('b42', 25), ('b4', 17), ('a43', 30), ('b27', 15), ('a14', 18), ('b37', 29), ('a9', 28), ('b22', 19), ('a21', 26), ('a10', 38), ('b36', 26), ('a16', 30), ('b5', 35), ('b45', 23), ('b28', 24), ('a23', 24), ('a6', 26), ('b40', 35), ('b16', 30), ('b23', 27), ('b34', 26), ('a34', 20), ('b29', 33), ('a22', 27), ('b35', 33), ('b1', 29), ('a33', 32), ('b19', 30), ('a41', 40), ('a32', 28), ('b41', 30), ('a44', 42), ('a19', 34), ('a40', 37), ('a13', 35), ('a42', 37), ('b8', 39), ('b7', 32), ('a25', 41), ('a2', 49), ('b12', 37), ('b47', 42), ('b46', 44), ('a49', 43), ('b14', 50), ('a31', 45), ('b17', 44), ('a5', 35), ('b26', 46), ('b43', 31), ('b21', 38), ('a28', 46), ('b48', 46), ('a29', 45), ('b50', 50), ('a47', 46), ('a17', 33), ('a8', 41), ('b30', 48), ('b15', 44), ('b33', 46), ('b18', 48), ('a38', 49), ('b13', 49), ('a50', 50), ('a35', 49), ('a26', 46)]) = 60902.000\n",
      ">145, new best f([('b11', 16), ('a18', 12), ('b3', 16), ('a14', 18), ('a30', 16), ('b44', 19), ('a11', 18), ('b6', 13), ('b31', 17), ('a4', 13), ('b9', 14), ('a36', 11), ('a39', 28), ('b24', 10), ('a7', 14), ('a24', 10), ('a45', 22), ('b49', 15), ('b5', 35), ('a48', 19), ('a37', 18), ('b20', 19), ('a12', 21), ('b39', 23), ('a15', 15), ('b23', 27), ('b4', 17), ('a20', 25), ('a27', 21), ('b38', 27), ('a1', 22), ('b45', 23), ('b2', 21), ('b10', 18), ('b42', 25), ('b16', 30), ('b27', 15), ('a21', 26), ('a10', 38), ('b36', 26), ('a16', 30), ('a3', 19), ('b22', 19), ('a46', 27), ('b32', 28), ('b43', 31), ('a43', 30), ('b37', 29), ('a9', 28), ('b28', 24), ('a23', 24), ('b25', 30), ('a6', 26), ('b34', 26), ('a34', 20), ('b29', 33), ('a22', 27), ('b35', 33), ('b1', 29), ('a33', 32), ('b19', 30), ('a41', 40), ('a32', 28), ('b41', 30), ('a17', 33), ('a29', 45), ('a19', 34), ('a40', 37), ('a13', 35), ('a42', 37), ('b8', 39), ('b40', 35), ('b12', 37), ('a25', 41), ('a2', 49), ('b47', 42), ('a49', 43), ('b46', 44), ('b14', 50), ('a31', 45), ('b17', 44), ('b21', 38), ('b26', 46), ('a5', 35), ('a28', 46), ('b48', 46), ('b50', 50), ('a47', 46), ('a8', 41), ('b7', 32), ('b15', 44), ('a44', 42), ('b33', 46), ('b18', 48), ('b30', 48), ('a38', 49), ('b13', 49), ('a50', 50), ('a35', 49), ('a26', 46)]) = 60877.000\n",
      ">145, new best f([('b11', 16), ('a18', 12), ('b44', 19), ('a11', 18), ('a30', 16), ('b3', 16), ('b9', 14), ('b24', 10), ('b6', 13), ('b31', 17), ('b4', 17), ('a36', 11), ('a7', 14), ('b49', 15), ('a4', 13), ('a27', 21), ('a45', 22), ('a24', 10), ('b39', 23), ('a48', 19), ('b20', 19), ('a12', 21), ('b38', 27), ('a1', 22), ('a39', 28), ('b5', 35), ('a37', 18), ('a15', 15), ('b25', 30), ('a20', 25), ('b45', 23), ('b2', 21), ('b10', 18), ('b42', 25), ('b16', 30), ('b27', 15), ('a14', 18), ('a21', 26), ('a10', 38), ('b36', 26), ('a16', 30), ('a3', 19), ('b22', 19), ('a46', 27), ('a6', 26), ('b41', 30), ('b37', 29), ('a9', 28), ('b28', 24), ('a23', 24), ('b23', 27), ('a43', 30), ('b34', 26), ('a34', 20), ('b29', 33), ('a22', 27), ('b35', 33), ('b1', 29), ('a33', 32), ('b19', 30), ('a41', 40), ('a32', 28), ('a29', 45), ('b32', 28), ('a17', 33), ('b43', 31), ('a19', 34), ('a40', 37), ('a13', 35), ('a42', 37), ('b8', 39), ('b40', 35), ('b12', 37), ('a25', 41), ('a2', 49), ('b47', 42), ('a49', 43), ('b46', 44), ('b14', 50), ('a31', 45), ('b17', 44), ('b21', 38), ('b26', 46), ('a5', 35), ('a28', 46), ('b48', 46), ('a44', 42), ('b7', 32), ('b50', 50), ('a47', 46), ('a8', 41), ('b15', 44), ('a38', 49), ('b33', 46), ('b18', 48), ('b13', 49), ('a50', 50), ('b30', 48), ('a35', 49), ('a26', 46)]) = 60847.000\n",
      ">149, new best f([('b11', 16), ('a18', 12), ('b44', 19), ('a24', 10), ('a30', 16), ('b3', 16), ('b9', 14), ('b24', 10), ('b6', 13), ('a11', 18), ('a14', 18), ('b31', 17), ('a4', 13), ('a36', 11), ('a45', 22), ('b39', 23), ('a7', 14), ('b49', 15), ('b25', 30), ('a12', 21), ('a48', 19), ('b38', 27), ('b20', 19), ('a3', 19), ('a46', 27), ('a20', 25), ('a1', 22), ('a37', 18), ('a27', 21), ('b2', 21), ('b22', 19), ('a39', 28), ('b5', 35), ('a15', 15), ('b45', 23), ('b10', 18), ('a16', 30), ('b4', 17), ('b16', 30), ('b27', 15), ('a21', 26), ('a10', 38), ('b36', 26), ('b42', 25), ('a9', 28), ('b28', 24), ('a23', 24), ('b32', 28), ('b37', 29), ('b23', 27), ('a6', 26), ('b34', 26), ('a34', 20), ('a19', 34), ('b29', 33), ('a22', 27), ('b35', 33), ('b1', 29), ('a33', 32), ('a43', 30), ('b40', 35), ('b19', 30), ('b41', 30), ('a13', 35), ('a32', 28), ('b7', 32), ('a41', 40), ('a42', 37), ('a17', 33), ('a44', 42), ('b8', 39), ('a2', 49), ('b47', 42), ('b46', 44), ('b14', 50), ('a49', 43), ('a40', 37), ('b12', 37), ('a25', 41), ('a31', 45), ('b17', 44), ('b21', 38), ('b26', 46), ('b43', 31), ('a5', 35), ('a28', 46), ('b48', 46), ('a29', 45), ('b50', 50), ('a47', 46), ('a8', 41), ('b15', 44), ('b33', 46), ('a38', 49), ('b18', 48), ('b13', 49), ('a50', 50), ('b30', 48), ('a35', 49), ('a26', 46)]) = 60814.000\n",
      ">150, new best f([('b11', 16), ('a18', 12), ('b44', 19), ('b24', 10), ('a30', 16), ('b3', 16), ('b9', 14), ('b6', 13), ('b31', 17), ('a11', 18), ('b25', 30), ('a4', 13), ('a3', 19), ('a7', 14), ('b49', 15), ('a45', 22), ('b27', 15), ('a36', 11), ('a24', 10), ('b39', 23), ('a48', 19), ('a12', 21), ('b38', 27), ('b20', 19), ('a46', 27), ('a20', 25), ('a1', 22), ('a37', 18), ('a39', 28), ('b2', 21), ('b32', 28), ('a27', 21), ('a15', 15), ('b10', 18), ('b42', 25), ('b4', 17), ('a43', 30), ('a14', 18), ('b37', 29), ('a9', 28), ('b22', 19), ('a21', 26), ('b5', 35), ('a23', 24), ('b28', 24), ('a10', 38), ('b19', 30), ('b41', 30), ('a16', 30), ('b45', 23), ('a34', 20), ('b1', 29), ('b7', 32), ('b36', 26), ('a6', 26), ('b23', 27), ('b34', 26), ('b29', 33), ('a22', 27), ('b35', 33), ('a33', 32), ('a41', 40), ('a32', 28), ('a29', 45), ('a17', 33), ('b43', 31), ('a19', 34), ('a40', 37), ('a13', 35), ('a42', 37), ('b8', 39), ('b40', 35), ('b12', 37), ('a25', 41), ('a2', 49), ('b47', 42), ('b16', 30), ('a44', 42), ('a49', 43), ('b46', 44), ('b14', 50), ('a31', 45), ('b17', 44), ('b21', 38), ('b26', 46), ('a5', 35), ('a28', 46), ('b48', 46), ('b50', 50), ('a47', 46), ('a8', 41), ('b15', 44), ('b33', 46), ('a38', 49), ('b18', 48), ('b13', 49), ('a50', 50), ('b30', 48), ('a35', 49), ('a26', 46)]) = 60804.000\n",
      ">150, new best f([('b11', 16), ('a18', 12), ('b44', 19), ('a24', 10), ('a30', 16), ('b3', 16), ('b9', 14), ('b24', 10), ('b6', 13), ('a11', 18), ('a14', 18), ('b31', 17), ('a4', 13), ('a36', 11), ('a45', 22), ('b39', 23), ('a7', 14), ('b49', 15), ('b25', 30), ('a12', 21), ('a48', 19), ('b38', 27), ('b20', 19), ('a3', 19), ('a46', 27), ('a20', 25), ('a1', 22), ('a37', 18), ('a27', 21), ('b2', 21), ('b22', 19), ('a39', 28), ('b5', 35), ('a15', 15), ('b45', 23), ('b10', 18), ('b42', 25), ('b4', 17), ('b16', 30), ('b27', 15), ('a21', 26), ('b32', 28), ('a43', 30), ('b37', 29), ('a9', 28), ('a23', 24), ('a6', 26), ('a10', 38), ('b19', 30), ('b41', 30), ('a16', 30), ('a34', 20), ('b1', 29), ('a33', 32), ('b36', 26), ('b29', 33), ('b40', 35), ('b34', 26), ('b23', 27), ('a22', 27), ('b35', 33), ('b28', 24), ('a13', 35), ('a32', 28), ('b7', 32), ('a41', 40), ('a17', 33), ('a44', 42), ('a19', 34), ('a40', 37), ('b17', 44), ('a42', 37), ('b8', 39), ('a29', 45), ('b43', 31), ('b12', 37), ('a25', 41), ('a2', 49), ('b47', 42), ('b46', 44), ('b14', 50), ('a49', 43), ('a31', 45), ('b21', 38), ('b26', 46), ('a5', 35), ('a28', 46), ('b48', 46), ('b50', 50), ('a47', 46), ('a8', 41), ('b15', 44), ('b33', 46), ('a38', 49), ('b18', 48), ('b13', 49), ('a50', 50), ('b30', 48), ('a35', 49), ('a26', 46)]) = 60741.000\n",
      ">152, new best f([('b11', 16), ('a18', 12), ('b44', 19), ('b24', 10), ('a30', 16), ('b3', 16), ('b9', 14), ('a11', 18), ('b6', 13), ('b31', 17), ('b4', 17), ('a36', 11), ('a7', 14), ('b49', 15), ('a4', 13), ('a27', 21), ('a45', 22), ('a24', 10), ('b39', 23), ('a48', 19), ('b20', 19), ('a12', 21), ('a46', 27), ('b2', 21), ('b38', 27), ('b25', 30), ('a3', 19), ('b27', 15), ('a20', 25), ('a1', 22), ('a37', 18), ('a39', 28), ('b32', 28), ('a43', 30), ('a15', 15), ('b10', 18), ('b42', 25), ('a14', 18), ('b37', 29), ('a9', 28), ('b22', 19), ('a21', 26), ('a10', 38), ('b36', 26), ('a16', 30), ('b5', 35), ('b45', 23), ('b28', 24), ('a23', 24), ('a6', 26), ('b40', 35), ('b16', 30), ('b23', 27), ('b41', 30), ('a34', 20), ('b29', 33), ('a22', 27), ('b35', 33), ('b1', 29), ('a33', 32), ('b19', 30), ('a41', 40), ('a32', 28), ('b43', 31), ('a19', 34), ('b34', 26), ('b26', 46), ('a17', 33), ('a40', 37), ('a13', 35), ('a42', 37), ('a44', 42), ('b8', 39), ('a49', 43), ('b7', 32), ('a25', 41), ('a2', 49), ('a35', 49), ('b47', 42), ('b46', 44), ('b14', 50), ('b12', 37), ('a31', 45), ('b17', 44), ('b21', 38), ('a5', 35), ('a28', 46), ('b48', 46), ('a29', 45), ('b50', 50), ('a47', 46), ('a8', 41), ('b15', 44), ('b33', 46), ('b18', 48), ('b30', 48), ('a38', 49), ('b13', 49), ('a50', 50), ('a26', 46)]) = 60718.000\n",
      ">155, new best f([('b11', 16), ('a18', 12), ('b44', 19), ('a24', 10), ('a30', 16), ('b3', 16), ('b9', 14), ('b24', 10), ('a11', 18), ('b6', 13), ('b31', 17), ('b4', 17), ('a36', 11), ('a7', 14), ('b49', 15), ('a45', 22), ('b39', 23), ('a27', 21), ('a48', 19), ('b38', 27), ('b25', 30), ('a4', 13), ('a3', 19), ('b27', 15), ('a12', 21), ('b20', 19), ('a46', 27), ('b2', 21), ('b45', 23), ('b22', 19), ('a22', 27), ('a1', 22), ('b5', 35), ('a20', 25), ('a37', 18), ('a15', 15), ('b10', 18), ('b42', 25), ('b32', 28), ('a43', 30), ('a14', 18), ('b37', 29), ('a9', 28), ('a21', 26), ('a39', 28), ('b16', 30), ('a10', 38), ('b36', 26), ('a16', 30), ('b28', 24), ('a23', 24), ('b23', 27), ('a6', 26), ('b34', 26), ('a34', 20), ('b29', 33), ('b35', 33), ('b1', 29), ('a33', 32), ('b19', 30), ('a41', 40), ('a32', 28), ('b41', 30), ('a44', 42), ('a5', 35), ('a19', 34), ('a40', 37), ('a13', 35), ('b40', 35), ('a42', 37), ('b8', 39), ('b7', 32), ('a17', 33), ('b17', 44), ('a29', 45), ('b43', 31), ('b12', 37), ('a25', 41), ('a2', 49), ('b47', 42), ('b46', 44), ('b14', 50), ('a49', 43), ('a31', 45), ('b21', 38), ('b26', 46), ('a28', 46), ('b48', 46), ('b50', 50), ('a47', 46), ('a8', 41), ('b15', 44), ('b33', 46), ('a38', 49), ('b13', 49), ('b18', 48), ('a50', 50), ('a26', 46), ('a35', 49), ('b30', 48)]) = 60612.000\n",
      ">160, new best f([('b11', 16), ('a18', 12), ('b44', 19), ('b24', 10), ('a30', 16), ('b3', 16), ('b9', 14), ('a11', 18), ('b6', 13), ('b31', 17), ('b4', 17), ('a36', 11), ('a7', 14), ('a24', 10), ('b49', 15), ('b20', 19), ('a27', 21), ('b27', 15), ('b39', 23), ('a48', 19), ('b38', 27), ('b25', 30), ('a4', 13), ('a3', 19), ('a45', 22), ('a12', 21), ('a46', 27), ('b2', 21), ('b45', 23), ('b22', 19), ('a22', 27), ('a20', 25), ('a1', 22), ('a6', 26), ('a14', 18), ('a37', 18), ('a39', 28), ('b41', 30), ('a15', 15), ('b10', 18), ('a16', 30), ('b16', 30), ('a21', 26), ('a32', 28), ('b36', 26), ('b42', 25), ('a9', 28), ('b28', 24), ('a23', 24), ('b32', 28), ('b37', 29), ('b23', 27), ('b34', 26), ('a34', 20), ('a19', 34), ('a43', 30), ('b5', 35), ('b40', 35), ('a17', 33), ('b19', 30), ('a13', 35), ('b35', 33), ('b1', 29), ('a33', 32), ('a41', 40), ('a10', 38), ('a44', 42), ('b29', 33), ('b7', 32), ('a40', 37), ('b17', 44), ('a42', 37), ('b8', 39), ('a29', 45), ('b43', 31), ('b12', 37), ('a25', 41), ('a35', 49), ('b47', 42), ('b46', 44), ('b14', 50), ('a49', 43), ('a31', 45), ('b21', 38), ('b26', 46), ('a5', 35), ('a28', 46), ('b48', 46), ('b50', 50), ('a47', 46), ('a8', 41), ('b15', 44), ('b33', 46), ('a38', 49), ('b18', 48), ('a2', 49), ('b13', 49), ('a50', 50), ('b30', 48), ('a26', 46)]) = 60409.000\n",
      ">173, new best f([('b11', 16), ('a18', 12), ('b44', 19), ('b24', 10), ('a30', 16), ('b3', 16), ('b9', 14), ('a11', 18), ('b6', 13), ('b31', 17), ('b4', 17), ('a36', 11), ('a37', 18), ('a24', 10), ('a27', 21), ('a7', 14), ('b49', 15), ('a4', 13), ('b39', 23), ('a48', 19), ('a15', 15), ('b20', 19), ('a12', 21), ('a46', 27), ('b2', 21), ('b38', 27), ('a14', 18), ('a45', 22), ('b25', 30), ('b32', 28), ('b27', 15), ('b45', 23), ('b22', 19), ('a22', 27), ('a20', 25), ('a1', 22), ('a3', 19), ('a6', 26), ('a39', 28), ('b41', 30), ('b10', 18), ('a34', 20), ('b16', 30), ('a21', 26), ('a32', 28), ('b36', 26), ('b42', 25), ('a9', 28), ('b28', 24), ('a23', 24), ('b37', 29), ('b23', 27), ('b1', 29), ('a43', 30), ('a10', 38), ('a16', 30), ('b5', 35), ('b40', 35), ('b34', 26), ('b29', 33), ('b7', 32), ('b35', 33), ('a19', 34), ('b19', 30), ('a33', 32), ('a13', 35), ('a41', 40), ('a17', 33), ('b21', 38), ('a44', 42), ('a40', 37), ('b17', 44), ('a47', 46), ('a42', 37), ('b8', 39), ('a29', 45), ('b43', 31), ('b14', 50), ('a8', 41), ('b26', 46), ('b12', 37), ('a25', 41), ('a35', 49), ('b47', 42), ('b46', 44), ('a49', 43), ('a2', 49), ('b13', 49), ('a28', 46), ('a5', 35), ('a31', 45), ('b48', 46), ('b50', 50), ('b30', 48), ('b15', 44), ('a38', 49), ('b18', 48), ('b33', 46), ('a50', 50), ('a26', 46)]) = 60327.000\n",
      ">182, new best f([('b11', 16), ('a18', 12), ('b44', 19), ('b24', 10), ('a30', 16), ('b3', 16), ('b9', 14), ('a11', 18), ('b6', 13), ('b31', 17), ('b4', 17), ('a36', 11), ('a37', 18), ('a24', 10), ('a27', 21), ('a7', 14), ('b49', 15), ('a4', 13), ('b39', 23), ('a48', 19), ('b42', 25), ('b20', 19), ('a12', 21), ('a46', 27), ('b2', 21), ('b38', 27), ('b25', 30), ('a3', 19), ('a15', 15), ('a14', 18), ('a45', 22), ('b32', 28), ('b27', 15), ('b45', 23), ('b22', 19), ('a22', 27), ('a20', 25), ('a1', 22), ('a6', 26), ('a39', 28), ('b41', 30), ('b10', 18), ('a34', 20), ('b16', 30), ('a21', 26), ('a32', 28), ('b36', 26), ('a9', 28), ('b28', 24), ('a23', 24), ('b37', 29), ('b23', 27), ('b1', 29), ('a43', 30), ('a10', 38), ('a16', 30), ('b34', 26), ('a13', 35), ('b5', 35), ('b29', 33), ('a33', 32), ('b21', 38), ('a19', 34), ('b40', 35), ('b35', 33), ('a5', 35), ('a17', 33), ('b19', 30), ('b47', 42), ('a44', 42), ('b7', 32), ('a41', 40), ('a40', 37), ('b17', 44), ('a42', 37), ('b8', 39), ('a29', 45), ('b43', 31), ('b12', 37), ('a25', 41), ('a35', 49), ('b46', 44), ('b14', 50), ('a49', 43), ('a31', 45), ('b26', 46), ('a28', 46), ('b48', 46), ('a2', 49), ('b50', 50), ('a47', 46), ('a8', 41), ('b15', 44), ('b33', 46), ('a38', 49), ('b18', 48), ('b13', 49), ('a50', 50), ('b30', 48), ('a26', 46)]) = 60318.000\n",
      ">185, new best f([('b11', 16), ('a18', 12), ('b44', 19), ('b24', 10), ('a30', 16), ('b3', 16), ('b9', 14), ('b4', 17), ('a37', 18), ('a24', 10), ('b31', 17), ('a27', 21), ('a7', 14), ('b6', 13), ('a36', 11), ('a11', 18), ('b49', 15), ('a4', 13), ('b39', 23), ('a48', 19), ('a15', 15), ('b20', 19), ('a12', 21), ('a46', 27), ('b2', 21), ('b38', 27), ('a14', 18), ('a45', 22), ('b25', 30), ('b32', 28), ('b27', 15), ('b45', 23), ('b22', 19), ('a22', 27), ('a20', 25), ('a1', 22), ('a3', 19), ('a6', 26), ('a39', 28), ('b41', 30), ('b10', 18), ('a34', 20), ('b16', 30), ('a21', 26), ('a32', 28), ('b36', 26), ('b42', 25), ('a9', 28), ('b28', 24), ('a23', 24), ('b37', 29), ('b23', 27), ('b1', 29), ('a43', 30), ('a10', 38), ('a16', 30), ('b5', 35), ('a13', 35), ('b34', 26), ('b29', 33), ('b7', 32), ('b35', 33), ('a19', 34), ('b19', 30), ('a33', 32), ('b40', 35), ('a41', 40), ('a17', 33), ('b21', 38), ('a42', 37), ('a44', 42), ('a5', 35), ('b43', 31), ('b14', 50), ('a40', 37), ('b17', 44), ('b8', 39), ('a29', 45), ('b50', 50), ('a25', 41), ('b47', 42), ('a31', 45), ('b12', 37), ('a35', 49), ('b46', 44), ('a49', 43), ('b26', 46), ('a28', 46), ('b48', 46), ('a2', 49), ('a47', 46), ('a8', 41), ('b15', 44), ('b33', 46), ('a38', 49), ('b18', 48), ('b13', 49), ('b30', 48), ('a50', 50), ('a26', 46)]) = 60276.000\n",
      ">185, new best f([('b11', 16), ('a18', 12), ('b44', 19), ('b24', 10), ('a30', 16), ('b3', 16), ('b9', 14), ('b4', 17), ('a37', 18), ('a24', 10), ('b31', 17), ('a27', 21), ('a7', 14), ('b6', 13), ('a36', 11), ('a11', 18), ('b49', 15), ('a4', 13), ('b39', 23), ('a48', 19), ('a15', 15), ('b20', 19), ('a12', 21), ('a46', 27), ('b2', 21), ('b38', 27), ('a14', 18), ('a45', 22), ('b25', 30), ('b32', 28), ('b27', 15), ('b45', 23), ('b22', 19), ('a22', 27), ('a20', 25), ('a1', 22), ('a3', 19), ('a6', 26), ('a39', 28), ('b41', 30), ('b10', 18), ('a34', 20), ('b16', 30), ('a21', 26), ('a32', 28), ('b36', 26), ('b42', 25), ('a9', 28), ('b28', 24), ('a23', 24), ('b37', 29), ('b23', 27), ('b1', 29), ('a43', 30), ('a10', 38), ('a16', 30), ('b5', 35), ('a13', 35), ('b34', 26), ('b29', 33), ('b7', 32), ('b35', 33), ('a19', 34), ('b19', 30), ('a33', 32), ('b40', 35), ('a41', 40), ('a17', 33), ('b21', 38), ('a42', 37), ('a44', 42), ('a5', 35), ('b43', 31), ('b14', 50), ('a40', 37), ('b17', 44), ('b8', 39), ('a29', 45), ('b50', 50), ('a25', 41), ('b47', 42), ('a31', 45), ('b12', 37), ('a35', 49), ('b46', 44), ('a49', 43), ('b26', 46), ('a28', 46), ('b48', 46), ('a2', 49), ('a47', 46), ('a8', 41), ('b15', 44), ('b33', 46), ('a38', 49), ('b18', 48), ('b13', 49), ('a50', 50), ('b30', 48), ('a26', 46)]) = 60271.000\n",
      ">186, new best f([('b11', 16), ('a18', 12), ('b44', 19), ('b4', 17), ('a30', 16), ('b3', 16), ('a37', 18), ('b24', 10), ('b9', 14), ('a11', 18), ('b6', 13), ('b31', 17), ('a36', 11), ('a24', 10), ('a4', 13), ('a27', 21), ('a7', 14), ('b49', 15), ('b39', 23), ('a48', 19), ('a15', 15), ('b20', 19), ('a12', 21), ('a46', 27), ('b2', 21), ('b38', 27), ('a14', 18), ('a45', 22), ('b25', 30), ('b32', 28), ('b27', 15), ('b45', 23), ('b22', 19), ('a22', 27), ('a20', 25), ('a1', 22), ('a3', 19), ('a6', 26), ('a39', 28), ('b41', 30), ('b10', 18), ('a34', 20), ('b16', 30), ('a21', 26), ('a32', 28), ('b36', 26), ('b42', 25), ('a9', 28), ('b28', 24), ('a23', 24), ('b37', 29), ('b23', 27), ('b1', 29), ('a43', 30), ('a10', 38), ('a16', 30), ('b5', 35), ('a13', 35), ('b34', 26), ('b29', 33), ('b7', 32), ('b35', 33), ('a19', 34), ('b19', 30), ('a33', 32), ('b40', 35), ('a41', 40), ('a17', 33), ('b21', 38), ('a42', 37), ('a44', 42), ('a5', 35), ('b43', 31), ('b14', 50), ('a40', 37), ('b17', 44), ('b8', 39), ('a29', 45), ('b50', 50), ('a25', 41), ('b47', 42), ('a31', 45), ('b12', 37), ('a35', 49), ('b46', 44), ('a49', 43), ('b26', 46), ('a28', 46), ('b48', 46), ('a2', 49), ('a47', 46), ('a8', 41), ('b15', 44), ('b33', 46), ('a38', 49), ('b18', 48), ('b13', 49), ('b30', 48), ('a50', 50), ('a26', 46)]) = 60265.000\n",
      ">195, new best f([('b11', 16), ('a18', 12), ('b10', 18), ('b24', 10), ('a30', 16), ('a48', 19), ('b20', 19), ('a11', 18), ('b6', 13), ('b44', 19), ('b4', 17), ('a37', 18), ('a24', 10), ('b31', 17), ('a27', 21), ('a7', 14), ('a36', 11), ('b49', 15), ('a4', 13), ('b39', 23), ('b3', 16), ('a15', 15), ('b9', 14), ('a12', 21), ('a46', 27), ('b2', 21), ('b38', 27), ('a14', 18), ('a45', 22), ('b25', 30), ('a3', 19), ('b27', 15), ('a20', 25), ('a1', 22), ('b32', 28), ('b45', 23), ('b22', 19), ('a22', 27), ('b42', 25), ('a39', 28), ('a6', 26), ('b41', 30), ('a34', 20), ('b16', 30), ('a21', 26), ('a32', 28), ('b36', 26), ('a9', 28), ('b28', 24), ('a23', 24), ('b37', 29), ('b23', 27), ('b1', 29), ('a43', 30), ('a10', 38), ('a16', 30), ('b5', 35), ('a13', 35), ('b34', 26), ('b29', 33), ('b7', 32), ('b35', 33), ('a19', 34), ('b19', 30), ('a33', 32), ('b40', 35), ('a5', 35), ('a17', 33), ('b21', 38), ('a42', 37), ('a44', 42), ('a41', 40), ('b43', 31), ('b14', 50), ('a40', 37), ('b17', 44), ('b8', 39), ('a29', 45), ('b50', 50), ('a25', 41), ('b47', 42), ('a31', 45), ('b12', 37), ('a35', 49), ('b46', 44), ('a49', 43), ('b26', 46), ('a28', 46), ('b48', 46), ('a2', 49), ('a47', 46), ('a8', 41), ('b15', 44), ('b33', 46), ('a38', 49), ('b18', 48), ('b13', 49), ('a50', 50), ('b30', 48), ('a26', 46)]) = 60251.000\n",
      ">196, new best f([('b11', 16), ('a18', 12), ('b10', 18), ('b24', 10), ('a30', 16), ('a48', 19), ('b20', 19), ('a11', 18), ('b6', 13), ('b44', 19), ('b4', 17), ('a37', 18), ('a24', 10), ('b31', 17), ('a27', 21), ('a7', 14), ('a36', 11), ('b49', 15), ('a4', 13), ('b39', 23), ('b3', 16), ('a15', 15), ('b9', 14), ('a12', 21), ('a46', 27), ('b2', 21), ('b38', 27), ('a14', 18), ('a45', 22), ('b25', 30), ('a3', 19), ('b27', 15), ('a20', 25), ('a1', 22), ('b32', 28), ('b45', 23), ('b22', 19), ('a22', 27), ('b42', 25), ('a39', 28), ('a6', 26), ('b41', 30), ('a34', 20), ('b16', 30), ('a21', 26), ('a32', 28), ('b36', 26), ('a9', 28), ('b28', 24), ('a23', 24), ('b37', 29), ('b23', 27), ('b1', 29), ('a43', 30), ('a10', 38), ('a16', 30), ('b5', 35), ('a13', 35), ('b34', 26), ('b29', 33), ('b7', 32), ('b35', 33), ('a19', 34), ('b19', 30), ('a33', 32), ('b40', 35), ('a41', 40), ('a17', 33), ('b21', 38), ('b14', 50), ('a44', 42), ('a5', 35), ('b43', 31), ('a42', 37), ('a40', 37), ('b47', 42), ('b8', 39), ('a29', 45), ('b12', 37), ('a25', 41), ('a35', 49), ('b46', 44), ('b17', 44), ('a49', 43), ('a31', 45), ('b26', 46), ('a28', 46), ('b48', 46), ('a2', 49), ('b50', 50), ('a47', 46), ('a8', 41), ('b15', 44), ('b33', 46), ('a38', 49), ('b18', 48), ('b13', 49), ('a50', 50), ('b30', 48), ('a26', 46)]) = 60227.000\n",
      ">197, new best f([('b11', 16), ('a18', 12), ('b10', 18), ('b24', 10), ('a30', 16), ('a48', 19), ('b20', 19), ('a11', 18), ('b6', 13), ('b44', 19), ('b3', 16), ('b9', 14), ('b31', 17), ('b4', 17), ('a36', 11), ('a37', 18), ('a24', 10), ('a27', 21), ('b49', 15), ('a7', 14), ('a4', 13), ('b39', 23), ('a15', 15), ('b27', 15), ('a12', 21), ('a46', 27), ('b2', 21), ('b38', 27), ('b25', 30), ('a14', 18), ('a45', 22), ('b32', 28), ('b45', 23), ('b22', 19), ('a32', 28), ('a22', 27), ('a20', 25), ('a1', 22), ('a3', 19), ('b41', 30), ('a6', 26), ('a39', 28), ('a34', 20), ('b16', 30), ('a21', 26), ('b36', 26), ('b42', 25), ('a9', 28), ('b28', 24), ('a23', 24), ('b37', 29), ('b23', 27), ('b1', 29), ('a43', 30), ('a10', 38), ('a16', 30), ('b5', 35), ('a13', 35), ('b34', 26), ('b29', 33), ('b7', 32), ('b35', 33), ('a19', 34), ('b19', 30), ('a33', 32), ('b40', 35), ('a41', 40), ('a17', 33), ('b21', 38), ('a42', 37), ('a44', 42), ('a5', 35), ('b43', 31), ('a49', 43), ('a40', 37), ('b17', 44), ('b8', 39), ('a29', 45), ('b50', 50), ('a25', 41), ('b47', 42), ('a31', 45), ('b12', 37), ('a35', 49), ('b46', 44), ('b14', 50), ('b26', 46), ('a28', 46), ('b48', 46), ('a2', 49), ('a47', 46), ('a8', 41), ('b15', 44), ('b33', 46), ('a38', 49), ('b18', 48), ('b13', 49), ('a50', 50), ('b30', 48), ('a26', 46)]) = 60210.000\n",
      ">203, new best f([('b11', 16), ('a18', 12), ('b44', 19), ('b24', 10), ('a30', 16), ('b3', 16), ('b9', 14), ('b4', 17), ('a37', 18), ('a24', 10), ('b31', 17), ('a27', 21), ('a7', 14), ('b6', 13), ('a36', 11), ('a11', 18), ('a15', 15), ('b49', 15), ('a12', 21), ('b39', 23), ('b27', 15), ('a4', 13), ('a48', 19), ('b20', 19), ('a46', 27), ('b2', 21), ('a45', 22), ('b10', 18), ('b38', 27), ('a14', 18), ('b25', 30), ('a3', 19), ('a20', 25), ('a1', 22), ('b32', 28), ('b45', 23), ('b22', 19), ('a22', 27), ('a6', 26), ('a39', 28), ('b41', 30), ('a34', 20), ('b16', 30), ('a21', 26), ('a32', 28), ('b36', 26), ('b42', 25), ('b28', 24), ('b1', 29), ('a9', 28), ('a23', 24), ('b37', 29), ('b23', 27), ('a43', 30), ('a10', 38), ('b5', 35), ('b34', 26), ('a16', 30), ('a19', 34), ('a17', 33), ('b40', 35), ('b19', 30), ('a13', 35), ('b29', 33), ('b7', 32), ('b35', 33), ('a33', 32), ('a41', 40), ('b21', 38), ('a42', 37), ('a44', 42), ('a5', 35), ('b43', 31), ('b14', 50), ('a40', 37), ('b17', 44), ('b8', 39), ('a29', 45), ('b50', 50), ('a25', 41), ('b47', 42), ('a31', 45), ('b12', 37), ('a35', 49), ('b46', 44), ('a49', 43), ('b26', 46), ('a28', 46), ('b48', 46), ('a2', 49), ('a47', 46), ('a8', 41), ('b15', 44), ('b33', 46), ('a38', 49), ('b18', 48), ('b13', 49), ('a50', 50), ('b30', 48), ('a26', 46)]) = 60183.000\n",
      ">203, new best f([('b11', 16), ('a18', 12), ('b6', 13), ('b24', 10), ('a30', 16), ('b3', 16), ('b9', 14), ('b4', 17), ('a37', 18), ('a24', 10), ('b31', 17), ('a27', 21), ('a7', 14), ('b44', 19), ('a36', 11), ('a11', 18), ('b49', 15), ('a48', 19), ('a4', 13), ('b39', 23), ('a45', 22), ('a15', 15), ('b20', 19), ('b27', 15), ('b10', 18), ('a12', 21), ('a46', 27), ('b2', 21), ('b38', 27), ('a14', 18), ('b25', 30), ('a3', 19), ('a20', 25), ('a1', 22), ('b32', 28), ('b45', 23), ('b22', 19), ('a32', 28), ('a6', 26), ('a39', 28), ('b41', 30), ('a34', 20), ('b16', 30), ('a21', 26), ('a22', 27), ('b36', 26), ('b42', 25), ('b28', 24), ('b1', 29), ('a9', 28), ('a23', 24), ('b37', 29), ('b23', 27), ('a43', 30), ('a10', 38), ('b5', 35), ('b34', 26), ('a16', 30), ('a19', 34), ('a17', 33), ('b40', 35), ('b19', 30), ('a13', 35), ('b29', 33), ('b7', 32), ('b35', 33), ('a33', 32), ('a41', 40), ('b21', 38), ('a42', 37), ('a44', 42), ('a5', 35), ('b43', 31), ('b14', 50), ('a40', 37), ('b17', 44), ('b8', 39), ('a29', 45), ('b50', 50), ('a25', 41), ('b47', 42), ('a31', 45), ('b12', 37), ('a35', 49), ('b46', 44), ('a49', 43), ('b26', 46), ('a28', 46), ('b48', 46), ('a2', 49), ('a47', 46), ('a8', 41), ('b33', 46), ('b15', 44), ('a38', 49), ('b18', 48), ('b13', 49), ('a50', 50), ('b30', 48), ('a26', 46)]) = 60141.000\n",
      ">215, new best f([('b11', 16), ('a18', 12), ('b44', 19), ('b24', 10), ('a30', 16), ('b3', 16), ('b9', 14), ('b4', 17), ('a37', 18), ('a24', 10), ('b31', 17), ('a27', 21), ('a11', 18), ('b6', 13), ('a36', 11), ('b27', 15), ('b49', 15), ('a48', 19), ('a4', 13), ('b39', 23), ('a45', 22), ('a15', 15), ('b20', 19), ('a7', 14), ('a12', 21), ('b10', 18), ('a46', 27), ('b32', 28), ('b38', 27), ('a14', 18), ('b25', 30), ('a3', 19), ('a20', 25), ('a1', 22), ('b2', 21), ('b45', 23), ('b22', 19), ('a32', 28), ('a22', 27), ('b41', 30), ('a39', 28), ('a6', 26), ('b42', 25), ('a34', 20), ('b16', 30), ('a21', 26), ('b36', 26), ('a9', 28), ('b28', 24), ('a23', 24), ('b37', 29), ('b23', 27), ('b1', 29), ('a43', 30), ('a17', 33), ('a16', 30), ('a10', 38), ('b34', 26), ('b5', 35), ('a13', 35), ('b29', 33), ('b7', 32), ('b35', 33), ('a19', 34), ('b19', 30), ('a33', 32), ('b40', 35), ('a5', 35), ('b21', 38), ('a42', 37), ('a44', 42), ('a41', 40), ('b43', 31), ('b14', 50), ('a40', 37), ('b12', 37), ('b8', 39), ('b47', 42), ('a29', 45), ('a31', 45), ('b17', 44), ('a25', 41), ('b50', 50), ('a35', 49), ('b46', 44), ('a49', 43), ('b26', 46), ('a28', 46), ('b48', 46), ('a2', 49), ('a47', 46), ('a8', 41), ('b15', 44), ('b33', 46), ('a38', 49), ('b18', 48), ('b13', 49), ('a50', 50), ('b30', 48), ('a26', 46)]) = 60135.000\n",
      ">218, new best f([('a48', 19), ('a18', 12), ('b44', 19), ('b24', 10), ('a30', 16), ('b3', 16), ('b9', 14), ('b4', 17), ('a37', 18), ('a24', 10), ('b31', 17), ('a27', 21), ('a7', 14), ('b6', 13), ('a36', 11), ('a11', 18), ('b49', 15), ('b11', 16), ('a4', 13), ('b39', 23), ('a45', 22), ('a15', 15), ('b20', 19), ('b27', 15), ('a12', 21), ('b10', 18), ('a46', 27), ('b2', 21), ('b22', 19), ('a14', 18), ('a3', 19), ('b25', 30), ('b32', 28), ('a1', 22), ('a39', 28), ('a20', 25), ('b42', 25), ('b45', 23), ('b36', 26), ('a22', 27), ('b23', 27), ('b38', 27), ('a6', 26), ('a34', 20), ('b41', 30), ('b16', 30), ('a21', 26), ('a32', 28), ('a9', 28), ('b28', 24), ('a23', 24), ('a10', 38), ('b1', 29), ('a43', 30), ('b37', 29), ('a16', 30), ('b34', 26), ('b5', 35), ('a13', 35), ('b29', 33), ('b7', 32), ('b35', 33), ('a19', 34), ('b19', 30), ('a33', 32), ('b40', 35), ('a5', 35), ('a17', 33), ('b21', 38), ('a42', 37), ('a44', 42), ('a41', 40), ('b43', 31), ('b14', 50), ('a40', 37), ('b17', 44), ('b8', 39), ('b47', 42), ('a29', 45), ('a31', 45), ('b12', 37), ('a25', 41), ('b50', 50), ('a35', 49), ('b46', 44), ('a49', 43), ('b26', 46), ('a28', 46), ('b48', 46), ('a2', 49), ('a47', 46), ('a8', 41), ('b15', 44), ('b33', 46), ('a38', 49), ('b18', 48), ('b13', 49), ('a50', 50), ('b30', 48), ('a26', 46)]) = 60132.000\n",
      ">220, new best f([('b11', 16), ('a18', 12), ('b44', 19), ('a24', 10), ('a30', 16), ('b27', 15), ('b3', 16), ('b9', 14), ('a11', 18), ('b4', 17), ('b24', 10), ('a37', 18), ('a36', 11), ('b31', 17), ('a27', 21), ('a7', 14), ('b6', 13), ('b49', 15), ('a48', 19), ('a4', 13), ('b39', 23), ('a45', 22), ('a15', 15), ('b20', 19), ('a12', 21), ('b10', 18), ('a46', 27), ('b38', 27), ('b2', 21), ('b25', 30), ('a14', 18), ('a3', 19), ('a20', 25), ('a1', 22), ('a39', 28), ('b23', 27), ('b42', 25), ('b45', 23), ('b32', 28), ('b22', 19), ('a22', 27), ('a23', 24), ('a6', 26), ('a34', 20), ('b36', 26), ('b41', 30), ('b16', 30), ('a21', 26), ('a32', 28), ('a9', 28), ('b28', 24), ('a10', 38), ('b1', 29), ('a43', 30), ('b37', 29), ('a16', 30), ('b5', 35), ('a33', 32), ('b34', 26), ('b29', 33), ('b7', 32), ('b35', 33), ('a19', 34), ('b19', 30), ('a13', 35), ('b40', 35), ('a5', 35), ('a17', 33), ('b21', 38), ('a42', 37), ('a44', 42), ('a41', 40), ('b43', 31), ('b14', 50), ('a40', 37), ('b17', 44), ('b8', 39), ('b47', 42), ('a31', 45), ('a25', 41), ('a29', 45), ('b50', 50), ('b12', 37), ('a35', 49), ('b46', 44), ('a49', 43), ('b26', 46), ('a28', 46), ('b48', 46), ('a2', 49), ('a47', 46), ('a8', 41), ('b15', 44), ('b33', 46), ('a38', 49), ('b18', 48), ('b13', 49), ('a50', 50), ('b30', 48), ('a26', 46)]) = 60128.000\n",
      ">220, new best f([('b11', 16), ('a18', 12), ('b44', 19), ('b24', 10), ('a30', 16), ('b3', 16), ('b9', 14), ('b4', 17), ('a37', 18), ('a36', 11), ('b31', 17), ('a27', 21), ('a7', 14), ('a24', 10), ('b27', 15), ('a11', 18), ('a4', 13), ('b6', 13), ('b49', 15), ('a48', 19), ('b39', 23), ('a45', 22), ('a15', 15), ('b20', 19), ('a12', 21), ('b10', 18), ('a21', 26), ('b2', 21), ('b38', 27), ('a14', 18), ('b25', 30), ('a3', 19), ('a9', 28), ('a20', 25), ('a1', 22), ('a39', 28), ('b32', 28), ('b42', 25), ('b45', 23), ('b36', 26), ('a22', 27), ('a6', 26), ('b41', 30), ('b22', 19), ('a32', 28), ('a34', 20), ('b16', 30), ('a46', 27), ('b28', 24), ('a23', 24), ('b37', 29), ('b23', 27), ('b1', 29), ('a43', 30), ('a17', 33), ('a16', 30), ('b5', 35), ('a13', 35), ('b35', 33), ('b34', 26), ('b29', 33), ('b7', 32), ('b19', 30), ('a10', 38), ('a33', 32), ('a19', 34), ('b40', 35), ('a5', 35), ('b21', 38), ('a42', 37), ('a44', 42), ('a41', 40), ('b43', 31), ('b14', 50), ('a40', 37), ('b12', 37), ('b8', 39), ('b47', 42), ('b17', 44), ('a29', 45), ('a31', 45), ('b50', 50), ('a25', 41), ('a35', 49), ('b46', 44), ('a49', 43), ('b26', 46), ('a28', 46), ('b48', 46), ('a26', 46), ('a47', 46), ('a8', 41), ('b15', 44), ('b33', 46), ('a50', 50), ('a38', 49), ('b18', 48), ('b13', 49), ('b30', 48), ('a2', 49)]) = 60104.000\n",
      ">225, new best f([('b11', 16), ('a18', 12), ('b44', 19), ('b24', 10), ('a30', 16), ('b3', 16), ('b9', 14), ('b4', 17), ('a37', 18), ('a24', 10), ('a36', 11), ('b31', 17), ('a27', 21), ('a7', 14), ('b27', 15), ('a11', 18), ('a4', 13), ('b6', 13), ('b49', 15), ('a48', 19), ('b39', 23), ('a45', 22), ('a15', 15), ('b20', 19), ('a12', 21), ('b10', 18), ('a46', 27), ('b2', 21), ('b38', 27), ('a14', 18), ('b25', 30), ('a3', 19), ('a9', 28), ('a20', 25), ('a1', 22), ('a39', 28), ('b23', 27), ('b42', 25), ('b45', 23), ('b32', 28), ('b22', 19), ('a22', 27), ('a23', 24), ('a6', 26), ('a34', 20), ('b36', 26), ('b41', 30), ('b16', 30), ('a21', 26), ('a32', 28), ('b28', 24), ('b5', 35), ('b1', 29), ('a43', 30), ('b37', 29), ('a16', 30), ('a10', 38), ('a13', 35), ('b34', 26), ('b29', 33), ('b7', 32), ('b35', 33), ('a19', 34), ('b19', 30), ('a33', 32), ('b40', 35), ('a5', 35), ('a17', 33), ('b21', 38), ('a42', 37), ('a44', 42), ('a41', 40), ('b43', 31), ('b14', 50), ('a40', 37), ('b17', 44), ('b12', 37), ('b8', 39), ('b47', 42), ('a29', 45), ('a31', 45), ('b33', 46), ('a25', 41), ('a35', 49), ('b46', 44), ('a49', 43), ('b26', 46), ('a28', 46), ('b48', 46), ('a26', 46), ('a47', 46), ('a8', 41), ('b15', 44), ('b50', 50), ('a50', 50), ('a38', 49), ('b18', 48), ('b13', 49), ('a2', 49), ('b30', 48)]) = 60074.000\n",
      ">227, new best f([('b11', 16), ('a18', 12), ('b44', 19), ('a24', 10), ('a15', 15), ('b49', 15), ('b24', 10), ('a30', 16), ('b3', 16), ('b27', 15), ('b9', 14), ('b20', 19), ('b4', 17), ('a37', 18), ('a36', 11), ('a27', 21), ('a7', 14), ('a11', 18), ('a4', 13), ('b6', 13), ('a48', 19), ('b39', 23), ('a45', 22), ('b31', 17), ('a12', 21), ('b10', 18), ('a46', 27), ('b2', 21), ('b38', 27), ('a14', 18), ('b25', 30), ('a3', 19), ('a9', 28), ('a20', 25), ('a1', 22), ('a39', 28), ('b23', 27), ('b42', 25), ('b45', 23), ('b32', 28), ('b22', 19), ('a22', 27), ('a23', 24), ('a6', 26), ('a34', 20), ('b36', 26), ('b41', 30), ('b16', 30), ('a21', 26), ('a32', 28), ('b28', 24), ('b5', 35), ('b1', 29), ('a43', 30), ('b37', 29), ('a16', 30), ('a10', 38), ('a13', 35), ('b34', 26), ('b29', 33), ('b7', 32), ('b35', 33), ('a19', 34), ('b19', 30), ('a33', 32), ('b40', 35), ('a5', 35), ('a17', 33), ('b21', 38), ('a42', 37), ('a44', 42), ('a41', 40), ('b43', 31), ('b14', 50), ('a40', 37), ('b17', 44), ('b12', 37), ('b8', 39), ('b47', 42), ('a29', 45), ('a31', 45), ('b33', 46), ('a25', 41), ('a35', 49), ('b46', 44), ('a49', 43), ('b26', 46), ('a28', 46), ('b48', 46), ('a26', 46), ('a47', 46), ('a8', 41), ('b15', 44), ('b50', 50), ('a50', 50), ('a38', 49), ('b18', 48), ('b13', 49), ('a2', 49), ('b30', 48)]) = 60057.000\n",
      ">236, new best f([('b11', 16), ('a18', 12), ('a4', 13), ('b24', 10), ('a30', 16), ('b3', 16), ('b9', 14), ('b4', 17), ('a37', 18), ('a24', 10), ('a36', 11), ('b31', 17), ('a27', 21), ('a7', 14), ('b27', 15), ('b44', 19), ('a15', 15), ('b49', 15), ('b20', 19), ('a11', 18), ('b6', 13), ('a48', 19), ('b39', 23), ('a45', 22), ('a12', 21), ('b10', 18), ('a46', 27), ('b2', 21), ('b38', 27), ('a14', 18), ('b25', 30), ('a3', 19), ('a9', 28), ('a20', 25), ('a1', 22), ('b36', 26), ('b23', 27), ('b42', 25), ('b45', 23), ('b32', 28), ('b22', 19), ('a22', 27), ('a23', 24), ('a6', 26), ('a34', 20), ('a39', 28), ('b34', 26), ('b16', 30), ('a21', 26), ('a32', 28), ('b28', 24), ('b5', 35), ('b1', 29), ('a43', 30), ('b37', 29), ('a16', 30), ('a10', 38), ('a13', 35), ('b40', 35), ('b41', 30), ('b29', 33), ('b7', 32), ('b35', 33), ('a19', 34), ('b19', 30), ('a33', 32), ('a17', 33), ('a5', 35), ('b21', 38), ('a42', 37), ('a44', 42), ('a41', 40), ('b43', 31), ('b14', 50), ('a40', 37), ('b12', 37), ('b47', 42), ('b17', 44), ('a29', 45), ('b8', 39), ('a31', 45), ('b50', 50), ('a25', 41), ('a35', 49), ('b46', 44), ('a49', 43), ('b26', 46), ('a28', 46), ('b48', 46), ('a26', 46), ('a47', 46), ('a2', 49), ('a8', 41), ('b15', 44), ('b33', 46), ('a38', 49), ('b18', 48), ('b13', 49), ('a50', 50), ('b30', 48)]) = 60027.000\n",
      ">255, new best f([('b6', 13), ('a18', 12), ('b44', 19), ('a24', 10), ('a15', 15), ('a7', 14), ('b24', 10), ('a30', 16), ('b11', 16), ('b9', 14), ('b3', 16), ('a4', 13), ('b49', 15), ('b27', 15), ('b20', 19), ('b4', 17), ('a37', 18), ('a36', 11), ('a27', 21), ('a11', 18), ('b31', 17), ('a48', 19), ('b39', 23), ('a45', 22), ('a12', 21), ('b10', 18), ('a46', 27), ('b2', 21), ('b38', 27), ('a14', 18), ('b25', 30), ('a3', 19), ('a9', 28), ('a20', 25), ('a1', 22), ('a39', 28), ('a21', 26), ('b42', 25), ('b45', 23), ('b32', 28), ('b22', 19), ('a34', 20), ('b34', 26), ('b36', 26), ('b23', 27), ('a22', 27), ('a32', 28), ('a23', 24), ('a6', 26), ('b41', 30), ('b16', 30), ('b19', 30), ('b28', 24), ('b35', 33), ('b1', 29), ('a43', 30), ('b37', 29), ('a16', 30), ('a10', 38), ('a19', 34), ('b29', 33), ('b7', 32), ('b5', 35), ('a13', 35), ('a33', 32), ('b40', 35), ('a5', 35), ('a17', 33), ('b21', 38), ('a42', 37), ('a44', 42), ('a41', 40), ('b43', 31), ('b14', 50), ('a40', 37), ('b12', 37), ('b47', 42), ('b17', 44), ('a29', 45), ('b8', 39), ('a31', 45), ('b50', 50), ('a25', 41), ('a35', 49), ('b46', 44), ('a49', 43), ('b26', 46), ('a28', 46), ('b48', 46), ('a26', 46), ('a47', 46), ('a2', 49), ('a8', 41), ('b15', 44), ('b33', 46), ('a38', 49), ('b18', 48), ('b13', 49), ('a50', 50), ('b30', 48)]) = 59961.000\n",
      ">283, new best f([('b6', 13), ('a18', 12), ('b4', 17), ('a24', 10), ('a15', 15), ('a7', 14), ('b24', 10), ('b3', 16), ('a30', 16), ('b27', 15), ('b9', 14), ('b20', 19), ('b11', 16), ('b44', 19), ('a4', 13), ('b49', 15), ('a37', 18), ('a36', 11), ('a27', 21), ('b31', 17), ('a11', 18), ('a48', 19), ('b39', 23), ('a45', 22), ('a12', 21), ('b10', 18), ('a46', 27), ('b2', 21), ('b38', 27), ('a14', 18), ('b36', 26), ('a3', 19), ('a9', 28), ('a20', 25), ('a1', 22), ('a39', 28), ('a21', 26), ('b42', 25), ('b45', 23), ('b32', 28), ('b22', 19), ('a34', 20), ('b34', 26), ('b25', 30), ('a22', 27), ('b35', 33), ('b28', 24), ('b23', 27), ('a32', 28), ('a43', 30), ('a6', 26), ('b41', 30), ('a23', 24), ('b16', 30), ('b19', 30), ('b1', 29), ('b37', 29), ('a16', 30), ('a17', 33), ('b5', 35), ('a10', 38), ('a19', 34), ('b29', 33), ('b7', 32), ('a13', 35), ('a33', 32), ('b40', 35), ('a5', 35), ('b21', 38), ('a42', 37), ('a44', 42), ('a41', 40), ('b43', 31), ('b14', 50), ('a40', 37), ('b12', 37), ('b47', 42), ('b17', 44), ('a29', 45), ('b8', 39), ('a31', 45), ('a25', 41), ('b50', 50), ('a35', 49), ('b46', 44), ('a49', 43), ('b26', 46), ('a28', 46), ('b48', 46), ('a26', 46), ('a47', 46), ('a2', 49), ('a8', 41), ('b15', 44), ('b33', 46), ('a38', 49), ('b18', 48), ('b13', 49), ('a50', 50), ('b30', 48)]) = 59952.000\n",
      ">289, new best f([('b6', 13), ('a18', 12), ('b4', 17), ('a24', 10), ('a15', 15), ('a7', 14), ('b24', 10), ('b3', 16), ('a30', 16), ('b27', 15), ('b9', 14), ('a11', 18), ('b11', 16), ('b44', 19), ('a4', 13), ('b49', 15), ('a37', 18), ('a36', 11), ('a27', 21), ('b31', 17), ('b20', 19), ('a48', 19), ('b39', 23), ('a45', 22), ('a12', 21), ('b10', 18), ('a46', 27), ('b2', 21), ('b38', 27), ('a14', 18), ('b36', 26), ('a3', 19), ('a9', 28), ('a20', 25), ('a1', 22), ('a39', 28), ('a21', 26), ('b42', 25), ('b45', 23), ('b32', 28), ('b22', 19), ('a34', 20), ('b34', 26), ('b25', 30), ('a22', 27), ('a23', 24), ('b28', 24), ('b23', 27), ('a32', 28), ('a43', 30), ('a6', 26), ('b41', 30), ('b35', 33), ('b16', 30), ('b19', 30), ('b1', 29), ('b37', 29), ('a16', 30), ('a17', 33), ('b5', 35), ('a10', 38), ('a19', 34), ('b29', 33), ('b7', 32), ('a13', 35), ('b43', 31), ('a33', 32), ('b40', 35), ('a5', 35), ('b21', 38), ('a42', 37), ('a44', 42), ('a41', 40), ('b14', 50), ('a40', 37), ('b12', 37), ('b47', 42), ('b17', 44), ('a29', 45), ('b8', 39), ('a31', 45), ('a25', 41), ('b18', 48), ('a26', 46), ('b50', 50), ('a35', 49), ('b46', 44), ('a49', 43), ('b26', 46), ('a28', 46), ('b48', 46), ('a47', 46), ('a2', 49), ('a8', 41), ('b15', 44), ('b33', 46), ('a38', 49), ('b13', 49), ('a50', 50), ('b30', 48)]) = 59927.000\n",
      ">290, new best f([('b6', 13), ('a18', 12), ('a7', 14), ('a24', 10), ('b44', 19), ('a30', 16), ('b4', 17), ('a15', 15), ('b24', 10), ('b3', 16), ('b27', 15), ('b9', 14), ('a11', 18), ('b11', 16), ('a4', 13), ('b49', 15), ('a37', 18), ('a36', 11), ('a27', 21), ('b31', 17), ('b20', 19), ('a48', 19), ('b39', 23), ('a45', 22), ('a12', 21), ('b10', 18), ('a46', 27), ('b2', 21), ('b38', 27), ('a14', 18), ('b36', 26), ('a3', 19), ('a9', 28), ('a20', 25), ('a1', 22), ('a39', 28), ('a21', 26), ('b42', 25), ('b45', 23), ('b32', 28), ('b22', 19), ('a34', 20), ('b34', 26), ('b1', 29), ('a22', 27), ('a23', 24), ('b28', 24), ('b23', 27), ('a32', 28), ('a43', 30), ('a6', 26), ('b41', 30), ('b35', 33), ('b16', 30), ('b19', 30), ('b25', 30), ('b37', 29), ('a16', 30), ('a17', 33), ('b5', 35), ('a10', 38), ('a19', 34), ('b29', 33), ('b7', 32), ('a13', 35), ('b43', 31), ('a33', 32), ('b40', 35), ('a5', 35), ('b21', 38), ('a42', 37), ('a44', 42), ('a41', 40), ('b14', 50), ('a40', 37), ('b12', 37), ('b47', 42), ('b17', 44), ('a29', 45), ('b8', 39), ('a31', 45), ('a25', 41), ('b18', 48), ('a26', 46), ('b50', 50), ('a35', 49), ('b46', 44), ('a49', 43), ('b26', 46), ('a28', 46), ('b48', 46), ('a47', 46), ('a2', 49), ('a8', 41), ('b15', 44), ('b33', 46), ('a38', 49), ('b13', 49), ('a50', 50), ('b30', 48)]) = 59911.000\n",
      ">325, new best f([('b6', 13), ('a18', 12), ('b4', 17), ('a24', 10), ('a15', 15), ('a7', 14), ('b24', 10), ('b3', 16), ('a30', 16), ('b27', 15), ('b9', 14), ('b20', 19), ('b11', 16), ('b44', 19), ('a4', 13), ('b49', 15), ('a11', 18), ('a14', 18), ('a36', 11), ('a45', 22), ('a12', 21), ('a27', 21), ('a37', 18), ('b31', 17), ('a48', 19), ('b39', 23), ('b2', 21), ('a46', 27), ('b10', 18), ('b38', 27), ('b36', 26), ('a3', 19), ('a1', 22), ('b28', 24), ('a20', 25), ('b32', 28), ('a23', 24), ('a21', 26), ('b42', 25), ('b45', 23), ('a16', 30), ('b22', 19), ('a34', 20), ('b34', 26), ('a22', 27), ('b23', 27), ('a9', 28), ('b25', 30), ('a32', 28), ('a43', 30), ('a39', 28), ('a6', 26), ('b41', 30), ('a17', 33), ('b35', 33), ('b1', 29), ('b16', 30), ('b19', 30), ('b5', 35), ('b37', 29), ('a10', 38), ('b29', 33), ('b7', 32), ('a19', 34), ('a13', 35), ('b43', 31), ('a33', 32), ('a5', 35), ('b40', 35), ('b21', 38), ('b8', 39), ('a42', 37), ('a44', 42), ('a41', 40), ('b14', 50), ('a40', 37), ('b12', 37), ('b47', 42), ('a31', 45), ('a29', 45), ('b17', 44), ('a35', 49), ('a25', 41), ('b50', 50), ('b46', 44), ('b18', 48), ('a49', 43), ('a47', 46), ('b26', 46), ('a28', 46), ('b48', 46), ('a26', 46), ('a2', 49), ('a8', 41), ('b13', 49), ('a38', 49), ('b15', 44), ('b33', 46), ('a50', 50), ('b30', 48)]) = 59897.000\n",
      ">329, new best f([('b6', 13), ('a18', 12), ('b4', 17), ('a36', 11), ('a15', 15), ('a7', 14), ('b24', 10), ('b3', 16), ('a30', 16), ('b27', 15), ('b9', 14), ('b20', 19), ('b11', 16), ('b44', 19), ('a4', 13), ('b49', 15), ('a11', 18), ('a37', 18), ('a24', 10), ('a45', 22), ('a12', 21), ('a27', 21), ('b31', 17), ('a14', 18), ('a48', 19), ('b39', 23), ('b2', 21), ('a46', 27), ('b10', 18), ('b38', 27), ('b36', 26), ('a3', 19), ('a1', 22), ('b28', 24), ('a20', 25), ('b32', 28), ('a23', 24), ('a21', 26), ('b42', 25), ('a9', 28), ('b23', 27), ('a39', 28), ('b45', 23), ('b22', 19), ('a34', 20), ('b34', 26), ('a22', 27), ('b25', 30), ('a32', 28), ('a43', 30), ('b35', 33), ('b16', 30), ('a6', 26), ('b41', 30), ('a17', 33), ('b19', 30), ('b1', 29), ('b37', 29), ('a16', 30), ('b5', 35), ('a33', 32), ('a10', 38), ('a19', 34), ('b29', 33), ('b7', 32), ('a13', 35), ('b43', 31), ('b40', 35), ('a5', 35), ('b21', 38), ('a42', 37), ('b12', 37), ('a44', 42), ('a41', 40), ('b14', 50), ('a40', 37), ('b47', 42), ('b8', 39), ('a31', 45), ('b17', 44), ('a47', 46), ('a25', 41), ('b50', 50), ('a35', 49), ('b46', 44), ('a49', 43), ('b26', 46), ('a28', 46), ('b48', 46), ('a26', 46), ('a29', 45), ('a2', 49), ('a8', 41), ('b15', 44), ('b33', 46), ('a38', 49), ('b18', 48), ('b13', 49), ('a50', 50), ('b30', 48)]) = 59894.000\n",
      ">330, new best f([('b6', 13), ('a18', 12), ('b22', 19), ('a36', 11), ('a15', 15), ('a7', 14), ('b24', 10), ('b3', 16), ('a30', 16), ('b27', 15), ('b9', 14), ('b20', 19), ('b11', 16), ('b44', 19), ('a4', 13), ('b49', 15), ('a11', 18), ('a37', 18), ('a24', 10), ('a45', 22), ('a12', 21), ('b4', 17), ('a27', 21), ('b31', 17), ('a48', 19), ('b39', 23), ('b10', 18), ('a46', 27), ('a14', 18), ('b38', 27), ('b2', 21), ('b36', 26), ('a3', 19), ('a1', 22), ('b28', 24), ('a20', 25), ('b32', 28), ('a23', 24), ('a21', 26), ('b42', 25), ('b45', 23), ('a16', 30), ('a34', 20), ('b34', 26), ('a22', 27), ('b23', 27), ('a9', 28), ('a39', 28), ('b25', 30), ('b35', 33), ('a43', 30), ('a32', 28), ('b16', 30), ('a6', 26), ('b41', 30), ('b19', 30), ('b1', 29), ('b37', 29), ('a17', 33), ('b5', 35), ('a33', 32), ('a10', 38), ('a19', 34), ('b29', 33), ('b7', 32), ('a13', 35), ('b43', 31), ('b40', 35), ('a5', 35), ('b21', 38), ('a42', 37), ('a44', 42), ('a41', 40), ('b14', 50), ('a40', 37), ('b12', 37), ('b47', 42), ('b8', 39), ('a31', 45), ('a29', 45), ('b17', 44), ('a35', 49), ('a25', 41), ('b50', 50), ('b46', 44), ('a49', 43), ('b26', 46), ('a28', 46), ('a47', 46), ('b48', 46), ('a26', 46), ('a2', 49), ('a8', 41), ('b15', 44), ('b33', 46), ('a38', 49), ('b18', 48), ('b13', 49), ('a50', 50), ('b30', 48)]) = 59887.000\n",
      ">332, new best f([('b6', 13), ('b9', 14), ('a18', 12), ('b4', 17), ('a24', 10), ('a15', 15), ('a7', 14), ('b24', 10), ('b3', 16), ('a30', 16), ('b27', 15), ('a36', 11), ('b20', 19), ('b11', 16), ('b44', 19), ('a4', 13), ('b49', 15), ('a11', 18), ('a37', 18), ('a45', 22), ('a12', 21), ('a27', 21), ('b31', 17), ('a48', 19), ('b39', 23), ('b10', 18), ('b22', 19), ('a46', 27), ('a14', 18), ('b38', 27), ('b2', 21), ('b36', 26), ('a3', 19), ('a1', 22), ('b28', 24), ('a20', 25), ('b32', 28), ('a23', 24), ('a21', 26), ('b42', 25), ('b45', 23), ('a16', 30), ('a34', 20), ('b34', 26), ('a22', 27), ('b23', 27), ('a9', 28), ('a39', 28), ('b25', 30), ('b35', 33), ('a43', 30), ('a32', 28), ('b16', 30), ('a6', 26), ('b41', 30), ('b19', 30), ('b1', 29), ('b37', 29), ('a17', 33), ('b5', 35), ('a33', 32), ('a10', 38), ('a19', 34), ('b29', 33), ('b7', 32), ('a13', 35), ('b43', 31), ('b40', 35), ('a5', 35), ('b21', 38), ('a42', 37), ('a44', 42), ('a41', 40), ('b14', 50), ('a40', 37), ('b12', 37), ('b47', 42), ('b8', 39), ('a31', 45), ('a29', 45), ('b17', 44), ('a35', 49), ('a25', 41), ('b50', 50), ('b46', 44), ('a49', 43), ('b26', 46), ('a28', 46), ('a47', 46), ('b48', 46), ('a26', 46), ('a2', 49), ('a8', 41), ('b15', 44), ('b33', 46), ('b18', 48), ('a38', 49), ('b13', 49), ('a50', 50), ('b30', 48)]) = 59855.000\n",
      ">341, new best f([('b6', 13), ('a18', 12), ('b4', 17), ('a24', 10), ('a15', 15), ('a7', 14), ('b24', 10), ('b3', 16), ('b44', 19), ('b27', 15), ('b9', 14), ('a36', 11), ('b20', 19), ('b11', 16), ('a30', 16), ('a4', 13), ('b49', 15), ('a11', 18), ('a37', 18), ('a45', 22), ('a12', 21), ('a27', 21), ('b31', 17), ('a48', 19), ('b39', 23), ('b10', 18), ('a46', 27), ('a14', 18), ('b38', 27), ('b2', 21), ('b22', 19), ('b36', 26), ('a3', 19), ('a1', 22), ('b28', 24), ('b42', 25), ('b32', 28), ('a23', 24), ('a20', 25), ('a21', 26), ('b45', 23), ('a16', 30), ('a34', 20), ('b34', 26), ('a22', 27), ('b23', 27), ('a9', 28), ('a39', 28), ('b25', 30), ('b35', 33), ('a43', 30), ('a32', 28), ('b16', 30), ('a17', 33), ('a6', 26), ('b41', 30), ('b19', 30), ('b1', 29), ('b37', 29), ('b5', 35), ('a33', 32), ('a10', 38), ('a19', 34), ('b29', 33), ('b7', 32), ('a13', 35), ('b43', 31), ('b40', 35), ('a5', 35), ('b21', 38), ('a42', 37), ('a44', 42), ('a41', 40), ('b14', 50), ('b8', 39), ('a40', 37), ('b12', 37), ('b47', 42), ('a28', 46), ('a31', 45), ('b17', 44), ('a47', 46), ('a25', 41), ('b50', 50), ('a35', 49), ('b46', 44), ('a49', 43), ('b26', 46), ('b48', 46), ('a26', 46), ('a29', 45), ('a2', 49), ('a8', 41), ('b15', 44), ('b33', 46), ('b18', 48), ('a38', 49), ('b13', 49), ('a50', 50), ('b30', 48)]) = 59851.000\n",
      ">363, new best f([('b6', 13), ('a18', 12), ('b4', 17), ('b9', 14), ('a24', 10), ('a15', 15), ('a7', 14), ('b27', 15), ('b24', 10), ('b3', 16), ('a30', 16), ('a36', 11), ('b20', 19), ('b11', 16), ('b44', 19), ('a4', 13), ('b49', 15), ('a11', 18), ('a37', 18), ('a45', 22), ('a12', 21), ('a27', 21), ('b31', 17), ('b22', 19), ('a48', 19), ('a3', 19), ('b39', 23), ('b10', 18), ('a46', 27), ('a14', 18), ('b38', 27), ('b2', 21), ('b36', 26), ('a1', 22), ('b28', 24), ('b42', 25), ('b32', 28), ('a23', 24), ('a20', 25), ('a21', 26), ('b45', 23), ('a16', 30), ('a34', 20), ('b34', 26), ('a22', 27), ('b23', 27), ('a9', 28), ('a39', 28), ('b37', 29), ('b25', 30), ('b35', 33), ('a43', 30), ('a32', 28), ('b16', 30), ('a6', 26), ('b41', 30), ('b19', 30), ('b1', 29), ('a17', 33), ('b5', 35), ('a33', 32), ('a10', 38), ('a19', 34), ('b29', 33), ('b7', 32), ('a41', 40), ('a13', 35), ('b43', 31), ('b40', 35), ('a5', 35), ('b21', 38), ('a42', 37), ('a44', 42), ('b14', 50), ('a40', 37), ('b12', 37), ('b47', 42), ('b8', 39), ('a31', 45), ('a26', 46), ('a29', 45), ('b17', 44), ('b50', 50), ('a25', 41), ('a50', 50), ('b46', 44), ('b18', 48), ('a47', 46), ('a8', 41), ('a49', 43), ('b26', 46), ('a28', 46), ('b48', 46), ('a2', 49), ('b13', 49), ('b15', 44), ('a35', 49), ('b33', 46), ('a38', 49), ('b30', 48)]) = 59836.000\n",
      ">368, new best f([('b6', 13), ('b24', 10), ('b4', 17), ('b9', 14), ('a24', 10), ('a15', 15), ('a7', 14), ('b27', 15), ('a18', 12), ('b3', 16), ('a30', 16), ('a36', 11), ('b20', 19), ('b11', 16), ('b44', 19), ('a4', 13), ('b49', 15), ('a11', 18), ('a37', 18), ('a45', 22), ('a12', 21), ('a27', 21), ('b31', 17), ('b22', 19), ('a48', 19), ('a3', 19), ('b39', 23), ('b10', 18), ('a46', 27), ('a14', 18), ('b38', 27), ('b2', 21), ('b36', 26), ('a1', 22), ('b28', 24), ('a20', 25), ('b32', 28), ('a16', 30), ('b42', 25), ('a23', 24), ('a21', 26), ('b45', 23), ('a34', 20), ('b34', 26), ('a22', 27), ('b23', 27), ('a9', 28), ('a39', 28), ('b37', 29), ('a6', 26), ('b35', 33), ('a43', 30), ('a32', 28), ('b16', 30), ('b25', 30), ('b41', 30), ('b19', 30), ('b1', 29), ('a17', 33), ('b5', 35), ('a33', 32), ('a10', 38), ('a19', 34), ('b29', 33), ('b7', 32), ('a41', 40), ('a13', 35), ('b43', 31), ('b40', 35), ('a5', 35), ('b21', 38), ('a42', 37), ('a44', 42), ('b14', 50), ('a40', 37), ('b8', 39), ('b12', 37), ('b47', 42), ('a26', 46), ('a29', 45), ('b30', 48), ('a25', 41), ('a28', 46), ('a31', 45), ('b17', 44), ('a47', 46), ('b50', 50), ('a35', 49), ('b46', 44), ('a49', 43), ('b26', 46), ('b48', 46), ('b18', 48), ('a8', 41), ('b15', 44), ('b33', 46), ('a2', 49), ('a38', 49), ('b13', 49), ('a50', 50)]) = 59834.000\n",
      ">384, new best f([('b9', 14), ('a18', 12), ('b4', 17), ('b27', 15), ('a24', 10), ('b6', 13), ('a15', 15), ('a7', 14), ('b24', 10), ('b3', 16), ('a30', 16), ('a36', 11), ('b20', 19), ('a37', 18), ('a4', 13), ('b44', 19), ('b22', 19), ('a48', 19), ('b31', 17), ('a3', 19), ('b11', 16), ('a11', 18), ('a45', 22), ('b49', 15), ('a12', 21), ('a27', 21), ('a20', 25), ('a14', 18), ('b39', 23), ('b10', 18), ('a39', 28), ('b38', 27), ('b2', 21), ('b34', 26), ('b32', 28), ('a1', 22), ('b28', 24), ('b42', 25), ('a23', 24), ('a21', 26), ('b45', 23), ('a16', 30), ('a34', 20), ('b36', 26), ('a22', 27), ('b23', 27), ('a9', 28), ('a46', 27), ('b25', 30), ('b1', 29), ('b35', 33), ('a43', 30), ('a32', 28), ('b16', 30), ('a17', 33), ('a6', 26), ('b41', 30), ('b19', 30), ('b37', 29), ('b43', 31), ('a33', 32), ('b5', 35), ('b7', 32), ('a19', 34), ('b29', 33), ('a10', 38), ('a41', 40), ('a13', 35), ('b40', 35), ('a5', 35), ('b21', 38), ('a25', 41), ('a44', 42), ('b14', 50), ('a40', 37), ('b12', 37), ('b8', 39), ('b47', 42), ('a28', 46), ('a31', 45), ('a42', 37), ('a47', 46), ('b17', 44), ('b50', 50), ('a8', 41), ('b46', 44), ('a49', 43), ('b30', 48), ('b26', 46), ('b48', 46), ('a26', 46), ('a29', 45), ('a2', 49), ('a35', 49), ('b13', 49), ('a38', 49), ('b33', 46), ('b15', 44), ('b18', 48), ('a50', 50)]) = 59828.000\n",
      ">386, new best f([('b9', 14), ('a18', 12), ('b4', 17), ('b6', 13), ('a24', 10), ('a15', 15), ('a7', 14), ('b27', 15), ('b24', 10), ('b3', 16), ('a30', 16), ('a36', 11), ('b20', 19), ('b11', 16), ('b44', 19), ('a37', 18), ('a4', 13), ('b49', 15), ('a11', 18), ('b22', 19), ('a48', 19), ('b31', 17), ('a3', 19), ('a45', 22), ('a12', 21), ('a27', 21), ('b39', 23), ('b10', 18), ('a46', 27), ('a14', 18), ('b38', 27), ('b2', 21), ('a34', 20), ('a20', 25), ('b36', 26), ('b32', 28), ('a1', 22), ('b28', 24), ('b42', 25), ('a23', 24), ('a21', 26), ('b45', 23), ('a16', 30), ('b34', 26), ('a22', 27), ('b23', 27), ('a9', 28), ('a39', 28), ('b25', 30), ('b1', 29), ('b35', 33), ('a43', 30), ('a32', 28), ('b16', 30), ('a17', 33), ('a6', 26), ('b37', 29), ('b41', 30), ('b19', 30), ('a33', 32), ('b5', 35), ('b29', 33), ('a10', 38), ('a19', 34), ('b7', 32), ('a41', 40), ('a13', 35), ('b43', 31), ('b40', 35), ('a5', 35), ('b21', 38), ('a42', 37), ('b17', 44), ('a44', 42), ('b14', 50), ('a40', 37), ('b12', 37), ('b47', 42), ('b8', 39), ('a31', 45), ('a28', 46), ('a47', 46), ('a25', 41), ('b50', 50), ('a35', 49), ('a8', 41), ('b46', 44), ('a49', 43), ('b30', 48), ('b26', 46), ('b48', 46), ('a26', 46), ('a29', 45), ('a2', 49), ('b13', 49), ('b18', 48), ('a38', 49), ('b33', 46), ('b15', 44), ('a50', 50)]) = 59821.000\n",
      ">389, new best f([('b9', 14), ('a18', 12), ('b4', 17), ('b27', 15), ('a24', 10), ('b6', 13), ('a15', 15), ('a7', 14), ('b24', 10), ('b3', 16), ('a14', 18), ('a30', 16), ('a36', 11), ('b20', 19), ('b11', 16), ('b44', 19), ('a37', 18), ('a4', 13), ('b49', 15), ('a11', 18), ('b22', 19), ('a48', 19), ('b31', 17), ('a3', 19), ('a45', 22), ('a12', 21), ('a27', 21), ('b39', 23), ('b10', 18), ('a46', 27), ('b38', 27), ('b2', 21), ('a34', 20), ('a20', 25), ('b36', 26), ('b32', 28), ('a1', 22), ('b28', 24), ('b42', 25), ('a22', 27), ('a23', 24), ('a21', 26), ('b34', 26), ('b41', 30), ('a16', 30), ('b45', 23), ('a43', 30), ('b23', 27), ('a9', 28), ('a39', 28), ('b25', 30), ('b1', 29), ('b35', 33), ('a32', 28), ('b16', 30), ('a17', 33), ('a6', 26), ('b19', 30), ('b37', 29), ('b43', 31), ('a33', 32), ('b5', 35), ('b7', 32), ('a19', 34), ('b29', 33), ('a10', 38), ('a41', 40), ('a13', 35), ('b40', 35), ('a5', 35), ('b21', 38), ('a25', 41), ('a44', 42), ('b14', 50), ('a40', 37), ('b12', 37), ('b8', 39), ('b47', 42), ('a28', 46), ('a31', 45), ('a42', 37), ('a47', 46), ('b17', 44), ('b50', 50), ('a8', 41), ('b46', 44), ('a49', 43), ('b30', 48), ('b26', 46), ('b48', 46), ('a35', 49), ('a26', 46), ('a29', 45), ('a2', 49), ('b13', 49), ('a38', 49), ('b33', 46), ('b15', 44), ('b18', 48), ('a50', 50)]) = 59806.000\n",
      ">390, new best f([('b9', 14), ('a18', 12), ('b4', 17), ('a14', 18), ('b27', 15), ('a24', 10), ('b6', 13), ('a15', 15), ('a7', 14), ('b11', 16), ('b24', 10), ('b3', 16), ('a30', 16), ('a36', 11), ('b20', 19), ('b44', 19), ('a37', 18), ('a4', 13), ('b49', 15), ('a11', 18), ('b22', 19), ('a48', 19), ('b31', 17), ('a3', 19), ('a45', 22), ('a12', 21), ('a27', 21), ('b39', 23), ('b10', 18), ('a46', 27), ('b38', 27), ('b2', 21), ('a34', 20), ('a20', 25), ('b36', 26), ('b32', 28), ('a1', 22), ('b28', 24), ('b42', 25), ('a22', 27), ('a23', 24), ('a21', 26), ('b34', 26), ('b41', 30), ('a16', 30), ('b45', 23), ('a43', 30), ('b23', 27), ('a9', 28), ('a39', 28), ('b25', 30), ('b1', 29), ('b35', 33), ('a32', 28), ('b16', 30), ('a17', 33), ('a6', 26), ('b19', 30), ('b37', 29), ('b43', 31), ('a33', 32), ('b5', 35), ('b7', 32), ('a19', 34), ('b29', 33), ('a10', 38), ('a41', 40), ('a13', 35), ('b40', 35), ('a5', 35), ('b21', 38), ('a25', 41), ('a44', 42), ('b14', 50), ('a40', 37), ('b12', 37), ('b8', 39), ('b47', 42), ('a28', 46), ('a31', 45), ('a42', 37), ('a47', 46), ('b17', 44), ('b50', 50), ('a8', 41), ('b46', 44), ('a49', 43), ('b30', 48), ('b26', 46), ('b48', 46), ('a35', 49), ('a26', 46), ('a29', 45), ('a2', 49), ('b13', 49), ('a38', 49), ('b33', 46), ('b15', 44), ('b18', 48), ('a50', 50)]) = 59802.000\n",
      ">436, new best f([('b9', 14), ('a18', 12), ('a4', 13), ('b3', 16), ('a36', 11), ('a15', 15), ('a7', 14), ('b20', 19), ('b11', 16), ('a24', 10), ('b27', 15), ('b24', 10), ('b6', 13), ('a30', 16), ('b4', 17), ('b44', 19), ('a37', 18), ('b49', 15), ('a11', 18), ('a45', 22), ('a48', 19), ('b31', 17), ('a3', 19), ('b22', 19), ('b39', 23), ('a27', 21), ('a14', 18), ('a12', 21), ('b10', 18), ('a20', 25), ('b38', 27), ('a1', 22), ('b2', 21), ('a34', 20), ('b36', 26), ('b32', 28), ('a46', 27), ('b28', 24), ('a43', 30), ('b42', 25), ('a39', 28), ('b34', 26), ('a23', 24), ('a21', 26), ('a22', 27), ('b25', 30), ('a33', 32), ('a9', 28), ('b45', 23), ('a16', 30), ('b23', 27), ('b1', 29), ('b35', 33), ('a6', 26), ('b16', 30), ('a32', 28), ('b37', 29), ('b41', 30), ('b19', 30), ('b40', 35), ('b43', 31), ('a5', 35), ('a19', 34), ('a10', 38), ('b5', 35), ('b29', 33), ('a17', 33), ('b21', 38), ('b7', 32), ('a41', 40), ('a13', 35), ('b17', 44), ('b12', 37), ('a42', 37), ('a44', 42), ('b14', 50), ('a40', 37), ('a8', 41), ('b8', 39), ('b47', 42), ('a28', 46), ('b48', 46), ('a25', 41), ('a31', 45), ('a47', 46), ('b46', 44), ('b50', 50), ('a35', 49), ('a49', 43), ('b26', 46), ('b15', 44), ('a26', 46), ('a29', 45), ('b30', 48), ('a2', 49), ('b13', 49), ('a38', 49), ('b33', 46), ('b18', 48), ('a50', 50)]) = 59776.000\n",
      ">440, new best f([('b9', 14), ('a18', 12), ('a4', 13), ('b3', 16), ('a36', 11), ('a15', 15), ('a7', 14), ('b20', 19), ('b11', 16), ('a24', 10), ('b27', 15), ('b24', 10), ('b6', 13), ('a30', 16), ('b4', 17), ('b44', 19), ('a37', 18), ('b49', 15), ('a11', 18), ('a45', 22), ('a48', 19), ('b31', 17), ('a3', 19), ('b22', 19), ('b39', 23), ('a27', 21), ('a14', 18), ('a12', 21), ('b10', 18), ('a20', 25), ('b2', 21), ('a1', 22), ('b38', 27), ('a34', 20), ('b36', 26), ('b32', 28), ('a46', 27), ('b28', 24), ('a43', 30), ('b42', 25), ('a39', 28), ('b34', 26), ('a23', 24), ('a21', 26), ('a22', 27), ('b25', 30), ('a33', 32), ('a9', 28), ('b45', 23), ('a16', 30), ('b23', 27), ('b1', 29), ('b35', 33), ('a6', 26), ('b16', 30), ('a32', 28), ('b37', 29), ('b41', 30), ('b19', 30), ('b40', 35), ('b43', 31), ('a5', 35), ('a19', 34), ('a10', 38), ('b5', 35), ('b29', 33), ('a17', 33), ('b21', 38), ('b7', 32), ('a41', 40), ('a13', 35), ('b17', 44), ('b12', 37), ('a42', 37), ('a44', 42), ('b14', 50), ('a40', 37), ('a8', 41), ('b8', 39), ('b47', 42), ('a28', 46), ('b48', 46), ('a25', 41), ('a31', 45), ('a47', 46), ('b46', 44), ('b50', 50), ('a35', 49), ('a49', 43), ('b26', 46), ('b15', 44), ('a26', 46), ('a29', 45), ('a2', 49), ('b13', 49), ('b30', 48), ('b33', 46), ('a38', 49), ('b18', 48), ('a50', 50)]) = 59770.000\n",
      ">478, new best f([('b9', 14), ('a7', 14), ('a18', 12), ('a4', 13), ('b3', 16), ('a36', 11), ('a15', 15), ('b6', 13), ('b11', 16), ('a24', 10), ('b27', 15), ('b24', 10), ('b20', 19), ('a11', 18), ('a30', 16), ('b4', 17), ('b44', 19), ('a37', 18), ('b49', 15), ('a45', 22), ('a14', 18), ('b31', 17), ('a48', 19), ('b10', 18), ('b22', 19), ('b39', 23), ('a27', 21), ('a3', 19), ('a1', 22), ('a12', 21), ('a20', 25), ('b38', 27), ('b2', 21), ('a23', 24), ('a34', 20), ('a39', 28), ('b32', 28), ('a46', 27), ('b28', 24), ('b42', 25), ('b36', 26), ('a43', 30), ('b23', 27), ('b34', 26), ('a22', 27), ('b25', 30), ('b45', 23), ('a33', 32), ('a9', 28), ('a21', 26), ('a16', 30), ('b1', 29), ('a6', 26), ('b19', 30), ('a32', 28), ('b35', 33), ('b37', 29), ('b16', 30), ('b41', 30), ('b5', 35), ('b43', 31), ('a5', 35), ('a17', 33), ('b40', 35), ('b21', 38), ('a10', 38), ('a19', 34), ('b29', 33), ('a13', 35), ('b7', 32), ('a41', 40), ('b12', 37), ('b17', 44), ('a42', 37), ('a44', 42), ('b14', 50), ('a40', 37), ('b47', 42), ('b8', 39), ('a31', 45), ('a28', 46), ('a8', 41), ('b48', 46), ('a47', 46), ('b50', 50), ('a25', 41), ('b46', 44), ('a49', 43), ('b30', 48), ('b26', 46), ('a35', 49), ('a26', 46), ('a29', 45), ('a2', 49), ('b13', 49), ('a38', 49), ('b15', 44), ('b33', 46), ('a50', 50), ('b18', 48)]) = 59767.000\n",
      ">479, new best f([('b9', 14), ('a15', 15), ('a4', 13), ('b3', 16), ('a36', 11), ('a18', 12), ('a7', 14), ('b20', 19), ('b24', 10), ('a24', 10), ('b27', 15), ('b49', 15), ('b6', 13), ('a30', 16), ('a14', 18), ('b44', 19), ('a12', 21), ('b11', 16), ('b22', 19), ('a45', 22), ('a48', 19), ('b31', 17), ('a3', 19), ('a11', 18), ('b4', 17), ('a37', 18), ('b10', 18), ('b39', 23), ('a27', 21), ('a1', 22), ('a20', 25), ('b38', 27), ('b2', 21), ('a23', 24), ('a34', 20), ('a39', 28), ('b32', 28), ('a46', 27), ('b28', 24), ('b42', 25), ('b36', 26), ('a43', 30), ('b23', 27), ('b34', 26), ('a22', 27), ('b25', 30), ('b45', 23), ('a33', 32), ('a9', 28), ('a21', 26), ('a16', 30), ('b1', 29), ('a6', 26), ('b19', 30), ('a32', 28), ('b35', 33), ('b37', 29), ('b16', 30), ('b41', 30), ('b5', 35), ('b43', 31), ('a5', 35), ('a17', 33), ('b40', 35), ('b7', 32), ('a10', 38), ('a19', 34), ('b29', 33), ('a13', 35), ('b21', 38), ('a41', 40), ('b12', 37), ('b17', 44), ('a40', 37), ('a44', 42), ('b14', 50), ('a42', 37), ('b47', 42), ('b46', 44), ('a31', 45), ('a28', 46), ('a47', 46), ('b8', 39), ('a8', 41), ('b15', 44), ('a25', 41), ('a49', 43), ('b50', 50), ('b26', 46), ('b48', 46), ('a35', 49), ('a26', 46), ('a29', 45), ('a2', 49), ('b13', 49), ('b33', 46), ('b30', 48), ('a38', 49), ('b18', 48), ('a50', 50)]) = 59748.000\n",
      ">481, new best f([('b9', 14), ('a7', 14), ('a18', 12), ('a4', 13), ('b3', 16), ('a36', 11), ('a15', 15), ('b20', 19), ('b24', 10), ('a24', 10), ('b27', 15), ('b11', 16), ('b6', 13), ('a30', 16), ('b4', 17), ('b44', 19), ('a12', 21), ('a11', 18), ('a37', 18), ('b49', 15), ('a45', 22), ('a14', 18), ('b31', 17), ('a48', 19), ('b10', 18), ('b22', 19), ('b39', 23), ('a27', 21), ('a3', 19), ('a1', 22), ('a20', 25), ('b38', 27), ('b2', 21), ('a23', 24), ('a34', 20), ('a39', 28), ('b32', 28), ('a46', 27), ('b28', 24), ('b42', 25), ('b36', 26), ('a43', 30), ('b23', 27), ('b34', 26), ('a22', 27), ('b25', 30), ('b45', 23), ('a33', 32), ('a9', 28), ('a21', 26), ('a16', 30), ('b1', 29), ('a6', 26), ('b19', 30), ('a32', 28), ('b35', 33), ('b37', 29), ('b16', 30), ('b41', 30), ('b5', 35), ('b43', 31), ('a5', 35), ('a17', 33), ('b40', 35), ('b7', 32), ('a10', 38), ('a19', 34), ('b29', 33), ('a13', 35), ('b21', 38), ('a41', 40), ('b12', 37), ('b17', 44), ('a40', 37), ('a44', 42), ('b14', 50), ('a42', 37), ('b47', 42), ('b46', 44), ('a31', 45), ('a28', 46), ('a47', 46), ('a8', 41), ('b8', 39), ('b15', 44), ('a25', 41), ('a49', 43), ('b30', 48), ('b26', 46), ('b48', 46), ('a35', 49), ('a26', 46), ('a29', 45), ('a2', 49), ('b13', 49), ('b33', 46), ('b50', 50), ('a38', 49), ('b18', 48), ('a50', 50)]) = 59735.000\n",
      ">486, new best f([('b9', 14), ('a7', 14), ('a18', 12), ('a4', 13), ('b3', 16), ('a36', 11), ('a15', 15), ('b20', 19), ('b24', 10), ('a24', 10), ('b27', 15), ('b11', 16), ('b6', 13), ('a30', 16), ('b4', 17), ('b44', 19), ('a12', 21), ('a11', 18), ('a37', 18), ('b49', 15), ('a45', 22), ('a14', 18), ('b31', 17), ('a48', 19), ('b10', 18), ('b22', 19), ('b39', 23), ('a27', 21), ('a3', 19), ('a1', 22), ('a20', 25), ('b38', 27), ('b2', 21), ('a23', 24), ('a34', 20), ('a39', 28), ('b32', 28), ('a46', 27), ('b28', 24), ('b42', 25), ('b36', 26), ('a43', 30), ('b23', 27), ('b34', 26), ('a22', 27), ('b25', 30), ('b45', 23), ('a33', 32), ('a9', 28), ('a21', 26), ('a16', 30), ('b1', 29), ('a6', 26), ('b19', 30), ('a32', 28), ('b35', 33), ('b37', 29), ('b16', 30), ('b41', 30), ('b5', 35), ('b43', 31), ('a5', 35), ('a17', 33), ('b40', 35), ('b7', 32), ('a10', 38), ('a19', 34), ('b29', 33), ('a13', 35), ('b21', 38), ('a41', 40), ('b12', 37), ('b17', 44), ('a40', 37), ('a44', 42), ('b14', 50), ('a42', 37), ('b47', 42), ('b46', 44), ('a31', 45), ('a25', 41), ('a47', 46), ('a8', 41), ('b8', 39), ('b15', 44), ('a28', 46), ('a49', 43), ('b30', 48), ('b26', 46), ('b48', 46), ('a35', 49), ('a26', 46), ('a29', 45), ('a2', 49), ('b13', 49), ('b33', 46), ('b50', 50), ('a38', 49), ('b18', 48), ('a50', 50)]) = 59720.000\n",
      ">490, new best f([('b9', 14), ('a7', 14), ('a18', 12), ('a4', 13), ('b3', 16), ('a36', 11), ('a15', 15), ('b6', 13), ('b11', 16), ('a24', 10), ('b27', 15), ('b24', 10), ('b20', 19), ('a11', 18), ('a30', 16), ('b4', 17), ('b44', 19), ('a37', 18), ('b49', 15), ('a45', 22), ('a14', 18), ('b31', 17), ('a6', 26), ('b10', 18), ('b22', 19), ('b39', 23), ('a12', 21), ('a27', 21), ('a48', 19), ('a1', 22), ('a3', 19), ('b45', 23), ('b38', 27), ('b2', 21), ('a23', 24), ('a20', 25), ('a34', 20), ('a39', 28), ('b32', 28), ('a46', 27), ('b28', 24), ('b42', 25), ('b36', 26), ('a43', 30), ('b23', 27), ('b34', 26), ('a22', 27), ('b25', 30), ('a33', 32), ('a9', 28), ('a21', 26), ('a16', 30), ('b1', 29), ('b19', 30), ('a32', 28), ('b35', 33), ('b37', 29), ('b16', 30), ('b41', 30), ('b5', 35), ('b43', 31), ('a5', 35), ('a17', 33), ('b40', 35), ('b7', 32), ('a10', 38), ('a19', 34), ('b29', 33), ('a13', 35), ('b21', 38), ('a41', 40), ('b12', 37), ('b17', 44), ('a40', 37), ('a44', 42), ('b14', 50), ('a42', 37), ('b47', 42), ('b46', 44), ('a31', 45), ('a25', 41), ('a47', 46), ('a8', 41), ('b8', 39), ('b15', 44), ('a28', 46), ('a49', 43), ('b30', 48), ('b26', 46), ('b48', 46), ('a35', 49), ('a26', 46), ('a29', 45), ('a2', 49), ('b13', 49), ('b33', 46), ('b50', 50), ('a38', 49), ('b18', 48), ('a50', 50)]) = 59714.000\n",
      ">490, new best f([('b9', 14), ('a7', 14), ('a18', 12), ('a4', 13), ('b3', 16), ('a36', 11), ('a15', 15), ('b6', 13), ('b11', 16), ('a24', 10), ('b27', 15), ('b24', 10), ('b20', 19), ('a11', 18), ('a30', 16), ('b4', 17), ('b44', 19), ('a37', 18), ('b49', 15), ('a45', 22), ('a14', 18), ('b31', 17), ('a12', 21), ('a48', 19), ('b10', 18), ('b22', 19), ('b39', 23), ('a27', 21), ('a3', 19), ('a1', 22), ('a20', 25), ('b38', 27), ('b2', 21), ('a23', 24), ('a34', 20), ('a39', 28), ('b32', 28), ('a46', 27), ('b28', 24), ('b42', 25), ('b36', 26), ('a43', 30), ('b23', 27), ('b34', 26), ('a22', 27), ('b25', 30), ('b45', 23), ('a32', 28), ('a9', 28), ('a21', 26), ('a16', 30), ('b1', 29), ('a6', 26), ('b19', 30), ('a33', 32), ('b35', 33), ('b37', 29), ('b16', 30), ('b41', 30), ('b5', 35), ('b43', 31), ('a5', 35), ('a17', 33), ('b40', 35), ('b7', 32), ('a10', 38), ('a19', 34), ('b29', 33), ('a13', 35), ('b21', 38), ('a41', 40), ('b12', 37), ('b17', 44), ('a40', 37), ('a44', 42), ('b14', 50), ('a42', 37), ('b47', 42), ('b46', 44), ('a31', 45), ('a25', 41), ('a47', 46), ('a8', 41), ('b8', 39), ('b15', 44), ('a28', 46), ('a49', 43), ('b30', 48), ('b26', 46), ('b48', 46), ('a35', 49), ('a26', 46), ('a29', 45), ('a2', 49), ('b13', 49), ('b33', 46), ('b50', 50), ('a38', 49), ('b18', 48), ('a50', 50)]) = 59690.000\n",
      ">494, new best f([('b9', 14), ('a7', 14), ('a18', 12), ('a4', 13), ('b3', 16), ('a36', 11), ('a15', 15), ('b6', 13), ('b11', 16), ('a24', 10), ('b27', 15), ('b24', 10), ('b20', 19), ('a11', 18), ('a30', 16), ('b4', 17), ('b44', 19), ('a37', 18), ('b49', 15), ('a45', 22), ('a14', 18), ('b31', 17), ('a34', 20), ('b2', 21), ('a48', 19), ('b22', 19), ('a12', 21), ('a3', 19), ('a20', 25), ('a27', 21), ('b45', 23), ('b10', 18), ('b39', 23), ('b42', 25), ('a1', 22), ('b38', 27), ('a23', 24), ('a21', 26), ('b36', 26), ('b32', 28), ('a46', 27), ('a39', 28), ('b28', 24), ('a6', 26), ('a43', 30), ('b23', 27), ('b34', 26), ('a22', 27), ('b25', 30), ('a33', 32), ('a9', 28), ('a16', 30), ('b1', 29), ('b19', 30), ('a32', 28), ('b35', 33), ('b37', 29), ('b16', 30), ('b41', 30), ('b5', 35), ('b43', 31), ('a5', 35), ('a17', 33), ('b40', 35), ('b7', 32), ('a10', 38), ('a19', 34), ('b29', 33), ('a13', 35), ('b21', 38), ('a41', 40), ('b12', 37), ('b17', 44), ('a40', 37), ('a44', 42), ('b14', 50), ('a42', 37), ('b47', 42), ('b46', 44), ('a31', 45), ('a25', 41), ('a47', 46), ('a8', 41), ('b8', 39), ('b15', 44), ('a28', 46), ('a49', 43), ('b30', 48), ('b26', 46), ('b48', 46), ('a35', 49), ('a26', 46), ('a29', 45), ('a2', 49), ('b13', 49), ('b33', 46), ('b50', 50), ('a38', 49), ('b18', 48), ('a50', 50)]) = 59665.000\n",
      ">531, new best f([('b9', 14), ('a7', 14), ('a18', 12), ('a4', 13), ('b24', 10), ('a36', 11), ('b3', 16), ('a15', 15), ('b20', 19), ('a30', 16), ('a24', 10), ('b27', 15), ('b11', 16), ('b6', 13), ('b4', 17), ('b44', 19), ('a12', 21), ('a11', 18), ('a37', 18), ('b49', 15), ('a45', 22), ('a14', 18), ('b31', 17), ('a48', 19), ('b10', 18), ('b2', 21), ('a34', 20), ('b22', 19), ('a3', 19), ('a20', 25), ('a27', 21), ('b45', 23), ('b39', 23), ('b42', 25), ('a1', 22), ('b38', 27), ('a23', 24), ('a21', 26), ('a39', 28), ('b36', 26), ('a46', 27), ('b32', 28), ('b28', 24), ('a43', 30), ('b23', 27), ('b34', 26), ('a22', 27), ('a6', 26), ('b25', 30), ('a33', 32), ('a9', 28), ('a16', 30), ('b1', 29), ('b19', 30), ('a32', 28), ('b35', 33), ('b37', 29), ('b16', 30), ('b41', 30), ('b5', 35), ('b43', 31), ('a5', 35), ('b7', 32), ('b40', 35), ('a17', 33), ('a10', 38), ('a19', 34), ('b29', 33), ('a13', 35), ('b21', 38), ('a41', 40), ('b12', 37), ('b8', 39), ('a40', 37), ('a44', 42), ('b14', 50), ('a42', 37), ('b47', 42), ('b46', 44), ('a31', 45), ('a25', 41), ('b17', 44), ('a49', 43), ('a28', 46), ('a47', 46), ('a8', 41), ('b15', 44), ('b30', 48), ('b26', 46), ('b48', 46), ('a35', 49), ('a26', 46), ('a29', 45), ('a2', 49), ('b13', 49), ('b33', 46), ('b50', 50), ('a38', 49), ('b18', 48), ('a50', 50)]) = 59647.000\n",
      ">536, new best f([('b9', 14), ('a7', 14), ('a18', 12), ('a4', 13), ('b24', 10), ('a36', 11), ('b3', 16), ('a15', 15), ('b49', 15), ('a24', 10), ('b11', 16), ('b27', 15), ('b6', 13), ('a30', 16), ('b4', 17), ('b44', 19), ('a12', 21), ('a11', 18), ('a37', 18), ('a45', 22), ('b20', 19), ('a14', 18), ('b31', 17), ('a48', 19), ('b10', 18), ('b22', 19), ('a34', 20), ('b2', 21), ('a3', 19), ('a20', 25), ('a27', 21), ('b45', 23), ('b39', 23), ('b42', 25), ('a1', 22), ('b38', 27), ('a23', 24), ('a21', 26), ('b1', 29), ('b36', 26), ('b32', 28), ('a46', 27), ('a39', 28), ('b28', 24), ('a43', 30), ('b23', 27), ('b34', 26), ('a22', 27), ('a6', 26), ('b25', 30), ('a33', 32), ('a9', 28), ('a16', 30), ('b19', 30), ('a32', 28), ('b35', 33), ('b16', 30), ('b37', 29), ('b41', 30), ('b5', 35), ('b43', 31), ('a5', 35), ('b7', 32), ('a10', 38), ('a17', 33), ('b40', 35), ('a19', 34), ('b29', 33), ('a13', 35), ('b21', 38), ('a41', 40), ('a49', 43), ('b12', 37), ('b17', 44), ('a40', 37), ('a44', 42), ('b14', 50), ('a42', 37), ('b47', 42), ('b46', 44), ('a31', 45), ('a25', 41), ('a47', 46), ('a8', 41), ('b8', 39), ('b15', 44), ('a28', 46), ('b30', 48), ('b26', 46), ('b48', 46), ('a35', 49), ('a26', 46), ('a29', 45), ('a2', 49), ('b13', 49), ('b33', 46), ('b50', 50), ('a38', 49), ('b18', 48), ('a50', 50)]) = 59635.000\n",
      ">545, new best f([('b9', 14), ('a7', 14), ('a18', 12), ('a4', 13), ('b24', 10), ('a36', 11), ('b3', 16), ('a15', 15), ('b20', 19), ('b11', 16), ('a24', 10), ('b27', 15), ('b6', 13), ('a30', 16), ('b4', 17), ('a37', 18), ('a11', 18), ('b44', 19), ('b49', 15), ('a45', 22), ('a12', 21), ('a14', 18), ('b31', 17), ('a48', 19), ('b10', 18), ('b22', 19), ('a34', 20), ('b2', 21), ('a3', 19), ('a20', 25), ('a27', 21), ('b45', 23), ('b39', 23), ('b42', 25), ('a1', 22), ('b38', 27), ('a23', 24), ('a21', 26), ('a46', 27), ('a39', 28), ('b32', 28), ('b28', 24), ('b36', 26), ('a43', 30), ('b23', 27), ('b34', 26), ('a22', 27), ('a6', 26), ('b25', 30), ('a33', 32), ('a9', 28), ('a16', 30), ('b1', 29), ('b19', 30), ('a32', 28), ('b35', 33), ('b16', 30), ('b37', 29), ('b41', 30), ('b5', 35), ('b43', 31), ('a5', 35), ('b7', 32), ('a10', 38), ('a17', 33), ('b40', 35), ('a19', 34), ('b29', 33), ('a13', 35), ('b21', 38), ('a41', 40), ('b12', 37), ('b8', 39), ('a49', 43), ('b17', 44), ('a40', 37), ('a44', 42), ('b14', 50), ('a42', 37), ('b47', 42), ('b46', 44), ('a31', 45), ('a25', 41), ('a28', 46), ('a47', 46), ('a8', 41), ('b15', 44), ('b30', 48), ('b26', 46), ('b48', 46), ('a35', 49), ('a26', 46), ('a29', 45), ('a2', 49), ('b13', 49), ('b33', 46), ('b50', 50), ('a38', 49), ('b18', 48), ('a50', 50)]) = 59632.000\n",
      ">549, new best f([('b9', 14), ('a7', 14), ('a18', 12), ('a4', 13), ('b24', 10), ('a36', 11), ('b3', 16), ('a15', 15), ('b20', 19), ('a37', 18), ('b6', 13), ('b11', 16), ('a24', 10), ('b27', 15), ('a11', 18), ('a30', 16), ('b4', 17), ('b44', 19), ('b49', 15), ('a45', 22), ('a12', 21), ('a14', 18), ('b31', 17), ('a48', 19), ('b10', 18), ('b22', 19), ('a34', 20), ('b2', 21), ('a3', 19), ('a20', 25), ('a27', 21), ('b34', 26), ('b39', 23), ('a1', 22), ('b45', 23), ('b42', 25), ('b38', 27), ('a23', 24), ('a21', 26), ('a46', 27), ('a39', 28), ('b32', 28), ('b28', 24), ('b36', 26), ('a43', 30), ('b23', 27), ('a9', 28), ('a22', 27), ('a6', 26), ('b25', 30), ('a33', 32), ('a16', 30), ('b1', 29), ('b19', 30), ('a32', 28), ('b35', 33), ('b16', 30), ('b37', 29), ('b41', 30), ('b5', 35), ('b43', 31), ('a5', 35), ('b7', 32), ('a10', 38), ('a17', 33), ('b40', 35), ('a19', 34), ('b29', 33), ('a13', 35), ('b21', 38), ('a41', 40), ('b12', 37), ('b8', 39), ('a40', 37), ('a44', 42), ('b33', 46), ('a42', 37), ('b47', 42), ('b46', 44), ('a31', 45), ('a25', 41), ('b17', 44), ('a49', 43), ('a28', 46), ('a47', 46), ('a8', 41), ('b15', 44), ('b30', 48), ('b26', 46), ('b48', 46), ('a35', 49), ('a26', 46), ('a29', 45), ('a2', 49), ('b13', 49), ('b14', 50), ('b50', 50), ('a38', 49), ('b18', 48), ('a50', 50)]) = 59606.000\n",
      ">552, new best f([('b9', 14), ('a7', 14), ('a18', 12), ('a4', 13), ('b24', 10), ('a36', 11), ('b3', 16), ('a15', 15), ('b20', 19), ('a37', 18), ('b6', 13), ('b11', 16), ('a24', 10), ('b27', 15), ('a11', 18), ('a30', 16), ('b4', 17), ('b44', 19), ('a12', 21), ('a45', 22), ('b49', 15), ('a14', 18), ('b31', 17), ('a48', 19), ('b10', 18), ('b22', 19), ('a3', 19), ('a34', 20), ('b2', 21), ('b39', 23), ('a20', 25), ('b34', 26), ('a1', 22), ('a27', 21), ('b45', 23), ('b42', 25), ('b38', 27), ('a23', 24), ('a21', 26), ('a46', 27), ('a39', 28), ('b32', 28), ('b28', 24), ('b36', 26), ('a43', 30), ('b23', 27), ('a9', 28), ('a22', 27), ('a6', 26), ('b25', 30), ('a33', 32), ('a16', 30), ('b1', 29), ('b19', 30), ('a32', 28), ('b35', 33), ('b16', 30), ('b37', 29), ('b41', 30), ('b5', 35), ('b43', 31), ('a5', 35), ('b7', 32), ('a10', 38), ('a17', 33), ('b40', 35), ('a19', 34), ('b29', 33), ('a13', 35), ('b21', 38), ('a41', 40), ('b12', 37), ('b8', 39), ('a40', 37), ('a44', 42), ('b33', 46), ('a42', 37), ('b47', 42), ('b46', 44), ('a31', 45), ('a25', 41), ('b17', 44), ('a49', 43), ('a28', 46), ('a47', 46), ('a8', 41), ('b15', 44), ('b30', 48), ('b26', 46), ('b48', 46), ('a35', 49), ('a26', 46), ('a29', 45), ('a2', 49), ('b13', 49), ('b14', 50), ('b50', 50), ('a38', 49), ('b18', 48), ('a50', 50)]) = 59598.000\n",
      ">582, new best f([('b9', 14), ('a7', 14), ('a18', 12), ('a4', 13), ('b24', 10), ('a36', 11), ('b3', 16), ('a15', 15), ('b20', 19), ('b11', 16), ('a24', 10), ('b27', 15), ('b6', 13), ('a30', 16), ('b4', 17), ('b44', 19), ('a37', 18), ('a11', 18), ('b49', 15), ('a12', 21), ('a45', 22), ('a14', 18), ('b31', 17), ('a48', 19), ('b10', 18), ('b22', 19), ('a27', 21), ('a3', 19), ('a34', 20), ('b2', 21), ('b39', 23), ('a20', 25), ('a1', 22), ('a22', 27), ('b45', 23), ('b42', 25), ('b38', 27), ('b28', 24), ('a23', 24), ('a46', 27), ('a21', 26), ('b34', 26), ('b32', 28), ('b36', 26), ('a43', 30), ('b23', 27), ('a39', 28), ('a6', 26), ('b25', 30), ('a33', 32), ('a9', 28), ('a16', 30), ('b1', 29), ('b19', 30), ('a32', 28), ('b35', 33), ('b16', 30), ('b37', 29), ('b43', 31), ('b41', 30), ('b5', 35), ('a5', 35), ('b7', 32), ('a17', 33), ('a10', 38), ('b40', 35), ('a19', 34), ('b29', 33), ('a13', 35), ('b21', 38), ('a41', 40), ('b12', 37), ('b8', 39), ('a40', 37), ('a8', 41), ('b33', 46), ('a44', 42), ('a31', 45), ('b15', 44), ('b47', 42), ('a25', 41), ('b17', 44), ('a42', 37), ('a49', 43), ('a28', 46), ('a47', 46), ('b14', 50), ('b46', 44), ('b30', 48), ('b26', 46), ('b48', 46), ('a38', 49), ('a26', 46), ('a29', 45), ('a2', 49), ('b13', 49), ('a35', 49), ('b50', 50), ('b18', 48), ('a50', 50)]) = 59587.000\n",
      ">603, new best f([('b9', 14), ('a7', 14), ('a4', 13), ('a18', 12), ('b24', 10), ('a30', 16), ('a36', 11), ('b3', 16), ('a15', 15), ('b20', 19), ('b6', 13), ('a24', 10), ('b11', 16), ('b27', 15), ('b4', 17), ('b44', 19), ('b10', 18), ('b49', 15), ('a12', 21), ('a37', 18), ('a11', 18), ('a45', 22), ('a14', 18), ('a1', 22), ('b31', 17), ('a48', 19), ('b22', 19), ('a3', 19), ('a34', 20), ('b42', 25), ('b39', 23), ('a20', 25), ('a27', 21), ('b2', 21), ('b45', 23), ('b38', 27), ('a23', 24), ('a46', 27), ('a21', 26), ('b34', 26), ('a22', 27), ('b28', 24), ('b32', 28), ('b36', 26), ('a43', 30), ('b23', 27), ('a39', 28), ('a6', 26), ('b25', 30), ('a33', 32), ('a9', 28), ('a16', 30), ('b1', 29), ('b19', 30), ('a32', 28), ('b35', 33), ('b16', 30), ('b37', 29), ('b43', 31), ('b41', 30), ('b5', 35), ('a5', 35), ('b7', 32), ('a10', 38), ('a17', 33), ('b40', 35), ('a19', 34), ('b21', 38), ('a13', 35), ('b29', 33), ('a42', 37), ('a41', 40), ('b12', 37), ('b8', 39), ('a40', 37), ('a44', 42), ('b33', 46), ('b47', 42), ('b46', 44), ('a31', 45), ('a25', 41), ('b17', 44), ('a49', 43), ('a8', 41), ('a47', 46), ('a28', 46), ('b15', 44), ('b30', 48), ('b14', 50), ('a29', 45), ('b26', 46), ('b48', 46), ('a35', 49), ('a26', 46), ('a2', 49), ('b13', 49), ('b50', 50), ('a38', 49), ('b18', 48), ('a50', 50)]) = 59576.000\n",
      ">605, new best f([('b9', 14), ('a7', 14), ('a4', 13), ('a18', 12), ('b24', 10), ('a30', 16), ('a36', 11), ('b3', 16), ('a15', 15), ('b20', 19), ('b6', 13), ('a24', 10), ('b11', 16), ('b27', 15), ('b4', 17), ('b44', 19), ('b10', 18), ('b49', 15), ('a12', 21), ('a37', 18), ('a11', 18), ('a45', 22), ('a14', 18), ('a1', 22), ('b31', 17), ('a48', 19), ('b22', 19), ('a3', 19), ('a34', 20), ('b42', 25), ('b39', 23), ('a20', 25), ('a27', 21), ('b2', 21), ('b45', 23), ('b38', 27), ('a23', 24), ('a46', 27), ('a21', 26), ('b34', 26), ('a22', 27), ('b28', 24), ('b32', 28), ('b36', 26), ('a43', 30), ('b23', 27), ('a39', 28), ('a6', 26), ('b25', 30), ('a33', 32), ('a9', 28), ('a16', 30), ('b1', 29), ('b19', 30), ('a32', 28), ('b35', 33), ('b16', 30), ('b37', 29), ('b43', 31), ('b41', 30), ('b5', 35), ('a5', 35), ('b7', 32), ('a17', 33), ('a10', 38), ('b40', 35), ('a19', 34), ('b21', 38), ('a13', 35), ('b29', 33), ('a42', 37), ('a41', 40), ('b12', 37), ('b8', 39), ('a40', 37), ('a44', 42), ('b33', 46), ('b47', 42), ('b46', 44), ('a31', 45), ('a25', 41), ('b17', 44), ('a49', 43), ('a8', 41), ('a47', 46), ('a28', 46), ('b15', 44), ('b30', 48), ('b14', 50), ('a29', 45), ('b26', 46), ('b48', 46), ('a35', 49), ('a26', 46), ('a2', 49), ('b13', 49), ('b50', 50), ('a38', 49), ('b18', 48), ('a50', 50)]) = 59573.000\n",
      ">613, new best f([('b9', 14), ('a7', 14), ('a18', 12), ('a4', 13), ('b24', 10), ('a36', 11), ('b3', 16), ('a15', 15), ('a24', 10), ('b20', 19), ('b11', 16), ('b6', 13), ('b27', 15), ('a30', 16), ('b49', 15), ('b4', 17), ('b44', 19), ('a12', 21), ('a37', 18), ('a11', 18), ('a45', 22), ('a14', 18), ('a1', 22), ('b10', 18), ('b31', 17), ('a48', 19), ('b22', 19), ('a3', 19), ('a34', 20), ('b2', 21), ('b42', 25), ('a20', 25), ('a27', 21), ('b45', 23), ('a22', 27), ('b39', 23), ('b38', 27), ('b28', 24), ('a23', 24), ('a46', 27), ('a21', 26), ('b34', 26), ('b32', 28), ('b36', 26), ('a43', 30), ('a16', 30), ('b23', 27), ('a39', 28), ('a6', 26), ('b25', 30), ('b1', 29), ('b19', 30), ('a9', 28), ('a33', 32), ('a32', 28), ('b35', 33), ('b16', 30), ('b37', 29), ('b43', 31), ('b41', 30), ('b5', 35), ('a5', 35), ('b7', 32), ('a10', 38), ('a17', 33), ('b40', 35), ('a19', 34), ('b21', 38), ('a13', 35), ('b29', 33), ('a42', 37), ('a41', 40), ('b12', 37), ('b8', 39), ('a40', 37), ('a44', 42), ('b33', 46), ('b47', 42), ('b46', 44), ('a31', 45), ('a25', 41), ('b17', 44), ('a49', 43), ('a8', 41), ('a47', 46), ('a28', 46), ('b15', 44), ('b30', 48), ('b14', 50), ('a29', 45), ('b26', 46), ('b48', 46), ('a35', 49), ('a26', 46), ('a2', 49), ('b13', 49), ('b50', 50), ('a38', 49), ('b18', 48), ('a50', 50)]) = 59562.000\n",
      ">631, new best f([('b9', 14), ('a7', 14), ('a18', 12), ('a4', 13), ('b24', 10), ('a36', 11), ('a24', 10), ('a15', 15), ('b20', 19), ('b11', 16), ('b3', 16), ('b6', 13), ('b31', 17), ('a48', 19), ('b27', 15), ('a30', 16), ('b49', 15), ('b4', 17), ('b44', 19), ('a14', 18), ('a37', 18), ('a11', 18), ('a45', 22), ('a12', 21), ('a1', 22), ('b10', 18), ('b22', 19), ('a34', 20), ('a3', 19), ('b2', 21), ('b39', 23), ('a20', 25), ('b36', 26), ('b45', 23), ('a22', 27), ('b28', 24), ('a21', 26), ('a27', 21), ('b42', 25), ('a46', 27), ('a23', 24), ('b34', 26), ('b32', 28), ('b38', 27), ('a43', 30), ('a16', 30), ('b23', 27), ('a9', 28), ('a6', 26), ('a39', 28), ('b25', 30), ('b1', 29), ('b19', 30), ('a33', 32), ('a32', 28), ('b35', 33), ('b16', 30), ('b37', 29), ('b43', 31), ('b41', 30), ('b5', 35), ('a5', 35), ('b7', 32), ('a10', 38), ('a17', 33), ('b40', 35), ('a19', 34), ('b21', 38), ('a13', 35), ('b29', 33), ('a42', 37), ('a41', 40), ('b12', 37), ('b8', 39), ('a40', 37), ('a44', 42), ('b33', 46), ('a49', 43), ('b47', 42), ('b46', 44), ('a31', 45), ('a25', 41), ('b17', 44), ('a8', 41), ('b15', 44), ('a28', 46), ('a47', 46), ('b30', 48), ('b14', 50), ('a29', 45), ('b26', 46), ('a35', 49), ('b48', 46), ('b13', 49), ('a2', 49), ('a26', 46), ('b50', 50), ('a38', 49), ('b18', 48), ('a50', 50)]) = 59557.000\n",
      ">636, new best f([('b9', 14), ('a7', 14), ('a18', 12), ('a4', 13), ('b24', 10), ('a36', 11), ('a24', 10), ('a15', 15), ('b20', 19), ('b11', 16), ('b3', 16), ('b6', 13), ('b31', 17), ('a48', 19), ('b27', 15), ('a30', 16), ('b49', 15), ('b4', 17), ('b44', 19), ('a14', 18), ('a37', 18), ('a45', 22), ('a11', 18), ('a12', 21), ('a1', 22), ('b10', 18), ('b22', 19), ('a3', 19), ('a34', 20), ('b2', 21), ('b42', 25), ('a20', 25), ('a27', 21), ('b45', 23), ('a22', 27), ('b39', 23), ('b36', 26), ('b28', 24), ('b38', 27), ('a46', 27), ('a21', 26), ('b34', 26), ('b32', 28), ('a23', 24), ('a43', 30), ('a16', 30), ('b23', 27), ('a9', 28), ('a6', 26), ('b25', 30), ('b1', 29), ('b19', 30), ('a39', 28), ('a33', 32), ('a32', 28), ('b35', 33), ('b16', 30), ('b37', 29), ('b43', 31), ('b41', 30), ('b5', 35), ('a5', 35), ('b7', 32), ('b29', 33), ('a10', 38), ('a17', 33), ('b40', 35), ('a19', 34), ('b21', 38), ('a13', 35), ('a42', 37), ('a41', 40), ('b12', 37), ('b8', 39), ('a40', 37), ('a44', 42), ('b33', 46), ('a8', 41), ('b46', 44), ('a31', 45), ('a25', 41), ('b17', 44), ('a49', 43), ('b47', 42), ('a47', 46), ('a28', 46), ('b15', 44), ('b30', 48), ('b14', 50), ('a29', 45), ('b26', 46), ('b48', 46), ('a35', 49), ('a26', 46), ('a2', 49), ('b13', 49), ('b50', 50), ('a38', 49), ('b18', 48), ('a50', 50)]) = 59556.000\n",
      ">637, new best f([('b9', 14), ('a24', 10), ('a7', 14), ('a18', 12), ('a4', 13), ('b24', 10), ('a36', 11), ('a15', 15), ('b20', 19), ('b11', 16), ('b3', 16), ('b6', 13), ('b31', 17), ('a48', 19), ('b27', 15), ('a30', 16), ('b49', 15), ('b4', 17), ('b44', 19), ('a14', 18), ('a37', 18), ('a45', 22), ('a11', 18), ('a12', 21), ('a1', 22), ('b10', 18), ('b22', 19), ('a3', 19), ('a34', 20), ('b2', 21), ('b42', 25), ('a20', 25), ('a27', 21), ('b45', 23), ('a22', 27), ('b39', 23), ('b36', 26), ('b28', 24), ('b38', 27), ('a46', 27), ('a21', 26), ('b34', 26), ('b32', 28), ('a23', 24), ('a43', 30), ('a16', 30), ('b23', 27), ('a9', 28), ('a6', 26), ('b25', 30), ('b1', 29), ('b19', 30), ('a39', 28), ('a33', 32), ('a32', 28), ('b35', 33), ('b16', 30), ('b37', 29), ('b43', 31), ('b41', 30), ('b5', 35), ('a5', 35), ('b7', 32), ('b29', 33), ('a10', 38), ('a17', 33), ('b40', 35), ('a19', 34), ('b21', 38), ('a13', 35), ('a42', 37), ('a41', 40), ('b12', 37), ('b8', 39), ('a40', 37), ('a44', 42), ('b33', 46), ('a8', 41), ('b46', 44), ('a31', 45), ('a25', 41), ('b17', 44), ('a49', 43), ('b47', 42), ('a47', 46), ('a28', 46), ('b15', 44), ('b30', 48), ('b14', 50), ('a29', 45), ('b26', 46), ('b48', 46), ('a35', 49), ('a26', 46), ('a2', 49), ('b13', 49), ('b50', 50), ('a38', 49), ('b18', 48), ('a50', 50)]) = 59541.000\n",
      ">640, new best f([('b9', 14), ('a24', 10), ('a7', 14), ('a18', 12), ('a4', 13), ('b24', 10), ('a36', 11), ('a15', 15), ('b20', 19), ('b11', 16), ('b3', 16), ('b6', 13), ('b31', 17), ('a48', 19), ('b27', 15), ('a30', 16), ('b49', 15), ('b4', 17), ('b44', 19), ('a14', 18), ('a37', 18), ('a45', 22), ('a11', 18), ('a12', 21), ('a1', 22), ('b10', 18), ('b22', 19), ('a3', 19), ('a34', 20), ('b2', 21), ('b42', 25), ('a20', 25), ('a27', 21), ('b45', 23), ('a22', 27), ('b39', 23), ('b36', 26), ('b28', 24), ('b38', 27), ('a46', 27), ('a21', 26), ('b34', 26), ('b32', 28), ('a23', 24), ('a43', 30), ('a16', 30), ('b23', 27), ('a9', 28), ('a6', 26), ('b25', 30), ('b1', 29), ('b19', 30), ('a39', 28), ('a33', 32), ('a32', 28), ('b35', 33), ('b16', 30), ('b37', 29), ('b43', 31), ('b41', 30), ('b5', 35), ('a5', 35), ('b7', 32), ('b29', 33), ('a10', 38), ('a17', 33), ('b40', 35), ('a19', 34), ('b21', 38), ('a13', 35), ('a42', 37), ('a41', 40), ('b12', 37), ('b8', 39), ('a40', 37), ('a44', 42), ('b33', 46), ('a8', 41), ('b46', 44), ('a31', 45), ('a25', 41), ('b17', 44), ('a49', 43), ('b47', 42), ('a47', 46), ('a28', 46), ('b15', 44), ('b30', 48), ('b14', 50), ('a29', 45), ('b26', 46), ('b48', 46), ('a35', 49), ('a26', 46), ('a2', 49), ('b18', 48), ('b50', 50), ('a38', 49), ('b13', 49), ('a50', 50)]) = 59539.000\n",
      ">784, new best f([('b9', 14), ('a18', 12), ('a7', 14), ('a24', 10), ('b6', 13), ('a4', 13), ('b24', 10), ('b3', 16), ('b27', 15), ('a36', 11), ('b11', 16), ('b20', 19), ('a15', 15), ('a37', 18), ('b49', 15), ('b31', 17), ('a48', 19), ('a30', 16), ('b4', 17), ('b10', 18), ('a1', 22), ('b44', 19), ('a14', 18), ('a11', 18), ('a45', 22), ('a3', 19), ('a12', 21), ('b22', 19), ('a34', 20), ('a27', 21), ('a22', 27), ('b42', 25), ('a20', 25), ('b2', 21), ('b36', 26), ('b39', 23), ('a21', 26), ('b45', 23), ('b38', 27), ('b28', 24), ('a46', 27), ('b34', 26), ('b23', 27), ('a23', 24), ('a43', 30), ('a9', 28), ('a6', 26), ('a16', 30), ('b32', 28), ('b37', 29), ('b1', 29), ('a32', 28), ('b16', 30), ('b19', 30), ('a33', 32), ('a39', 28), ('b25', 30), ('b41', 30), ('b35', 33), ('b43', 31), ('b7', 32), ('a5', 35), ('b29', 33), ('b5', 35), ('a19', 34), ('a13', 35), ('a10', 38), ('b40', 35), ('a17', 33), ('a41', 40), ('b21', 38), ('a40', 37), ('a42', 37), ('b8', 39), ('b12', 37), ('a44', 42), ('b33', 46), ('b47', 42), ('b46', 44), ('a31', 45), ('a25', 41), ('b17', 44), ('a49', 43), ('a8', 41), ('b14', 50), ('b15', 44), ('a47', 46), ('a28', 46), ('a35', 49), ('a29', 45), ('b18', 48), ('a26', 46), ('b26', 46), ('b48', 46), ('b30', 48), ('a2', 49), ('b13', 49), ('b50', 50), ('a38', 49), ('a50', 50)]) = 59537.000\n",
      ">860, new best f([('b9', 14), ('a18', 12), ('a7', 14), ('a24', 10), ('b6', 13), ('a4', 13), ('b49', 15), ('b24', 10), ('a36', 11), ('b3', 16), ('a15', 15), ('b27', 15), ('b20', 19), ('b11', 16), ('a37', 18), ('b31', 17), ('a11', 18), ('b4', 17), ('a48', 19), ('a30', 16), ('a12', 21), ('a1', 22), ('a27', 21), ('b44', 19), ('a14', 18), ('b10', 18), ('a45', 22), ('a3', 19), ('b22', 19), ('a34', 20), ('a22', 27), ('b42', 25), ('a20', 25), ('b2', 21), ('b36', 26), ('b39', 23), ('a6', 26), ('b45', 23), ('b38', 27), ('b28', 24), ('a46', 27), ('a21', 26), ('b34', 26), ('b32', 28), ('b37', 29), ('a23', 24), ('a43', 30), ('a9', 28), ('b1', 29), ('b23', 27), ('b19', 30), ('a16', 30), ('a32', 28), ('b16', 30), ('b7', 32), ('a33', 32), ('a39', 28), ('b25', 30), ('b41', 30), ('b35', 33), ('b43', 31), ('a5', 35), ('b29', 33), ('b5', 35), ('a19', 34), ('a13', 35), ('a10', 38), ('b40', 35), ('a17', 33), ('b12', 37), ('a42', 37), ('a41', 40), ('a40', 37), ('b21', 38), ('b8', 39), ('a25', 41), ('b33', 46), ('b47', 42), ('b46', 44), ('a8', 41), ('a49', 43), ('b17', 44), ('a31', 45), ('a44', 42), ('a28', 46), ('b14', 50), ('b15', 44), ('a47', 46), ('a35', 49), ('a29', 45), ('b18', 48), ('a26', 46), ('b26', 46), ('b48', 46), ('b30', 48), ('a2', 49), ('b13', 49), ('b50', 50), ('a38', 49), ('a50', 50)]) = 59535.000\n",
      ">865, new best f([('b9', 14), ('a18', 12), ('a7', 14), ('a24', 10), ('b6', 13), ('a4', 13), ('b24', 10), ('b49', 15), ('a36', 11), ('b3', 16), ('a14', 18), ('b27', 15), ('b11', 16), ('b20', 19), ('b31', 17), ('a11', 18), ('a15', 15), ('a37', 18), ('a48', 19), ('a30', 16), ('b4', 17), ('a12', 21), ('a1', 22), ('b44', 19), ('b10', 18), ('a45', 22), ('a3', 19), ('a27', 21), ('b22', 19), ('a34', 20), ('a22', 27), ('b42', 25), ('a20', 25), ('b2', 21), ('b36', 26), ('b45', 23), ('a21', 26), ('b39', 23), ('b38', 27), ('b28', 24), ('a46', 27), ('b34', 26), ('b32', 28), ('b37', 29), ('a6', 26), ('a23', 24), ('a43', 30), ('a9', 28), ('b1', 29), ('b23', 27), ('a16', 30), ('a32', 28), ('b19', 30), ('b16', 30), ('b7', 32), ('a33', 32), ('a39', 28), ('b25', 30), ('b41', 30), ('b35', 33), ('b43', 31), ('a5', 35), ('b29', 33), ('b5', 35), ('a19', 34), ('a13', 35), ('a10', 38), ('b40', 35), ('a17', 33), ('b12', 37), ('a42', 37), ('a41', 40), ('a40', 37), ('b21', 38), ('b8', 39), ('a25', 41), ('b33', 46), ('b47', 42), ('a44', 42), ('b17', 44), ('b46', 44), ('a49', 43), ('a8', 41), ('a31', 45), ('a29', 45), ('b14', 50), ('b15', 44), ('a47', 46), ('a35', 49), ('a28', 46), ('b18', 48), ('a26', 46), ('b26', 46), ('b48', 46), ('b30', 48), ('a2', 49), ('b13', 49), ('b50', 50), ('a38', 49), ('a50', 50)]) = 59528.000\n",
      ">877, new best f([('b9', 14), ('a18', 12), ('a7', 14), ('a24', 10), ('b6', 13), ('a4', 13), ('b24', 10), ('a15', 15), ('b27', 15), ('b49', 15), ('a36', 11), ('b3', 16), ('a14', 18), ('b11', 16), ('b20', 19), ('b31', 17), ('a11', 18), ('b4', 17), ('a37', 18), ('a48', 19), ('a30', 16), ('a12', 21), ('b22', 19), ('a27', 21), ('b44', 19), ('a1', 22), ('b10', 18), ('a45', 22), ('a3', 19), ('a34', 20), ('a22', 27), ('b42', 25), ('a20', 25), ('b2', 21), ('b36', 26), ('b39', 23), ('a6', 26), ('b45', 23), ('b38', 27), ('b28', 24), ('a46', 27), ('a21', 26), ('a43', 30), ('b34', 26), ('b32', 28), ('b37', 29), ('a23', 24), ('a32', 28), ('a9', 28), ('b1', 29), ('b23', 27), ('b19', 30), ('a16', 30), ('b16', 30), ('b7', 32), ('a33', 32), ('a39', 28), ('b25', 30), ('b41', 30), ('b35', 33), ('b43', 31), ('a5', 35), ('b29', 33), ('b5', 35), ('a19', 34), ('a13', 35), ('a10', 38), ('b40', 35), ('a17', 33), ('b12', 37), ('a42', 37), ('a41', 40), ('a40', 37), ('b21', 38), ('b8', 39), ('a25', 41), ('b33', 46), ('b17', 44), ('b47', 42), ('b46', 44), ('a8', 41), ('a49', 43), ('a31', 45), ('a44', 42), ('a28', 46), ('b48', 46), ('b15', 44), ('a47', 46), ('a35', 49), ('a29', 45), ('b18', 48), ('a26', 46), ('b26', 46), ('b13', 49), ('b14', 50), ('b30', 48), ('a2', 49), ('b50', 50), ('a38', 49), ('a50', 50)]) = 59521.000\n",
      ">932, new best f([('b24', 10), ('a18', 12), ('a7', 14), ('a24', 10), ('b49', 15), ('b6', 13), ('a4', 13), ('b9', 14), ('a34', 20), ('b27', 15), ('b11', 16), ('a36', 11), ('a15', 15), ('b3', 16), ('a14', 18), ('b20', 19), ('b31', 17), ('a30', 16), ('b4', 17), ('a37', 18), ('a48', 19), ('a12', 21), ('a11', 18), ('a1', 22), ('b44', 19), ('b10', 18), ('a45', 22), ('b2', 21), ('a3', 19), ('a20', 25), ('b22', 19), ('a23', 24), ('b42', 25), ('a27', 21), ('b36', 26), ('a9', 28), ('b45', 23), ('a21', 26), ('b39', 23), ('b38', 27), ('b28', 24), ('a46', 27), ('b34', 26), ('b23', 27), ('b37', 29), ('a6', 26), ('a22', 27), ('a43', 30), ('a32', 28), ('a39', 28), ('b32', 28), ('b1', 29), ('b19', 30), ('a16', 30), ('b16', 30), ('b7', 32), ('a33', 32), ('b25', 30), ('b5', 35), ('b41', 30), ('b35', 33), ('b40', 35), ('b43', 31), ('a5', 35), ('b29', 33), ('a13', 35), ('a19', 34), ('a10', 38), ('a17', 33), ('b12', 37), ('a42', 37), ('a41', 40), ('a40', 37), ('b21', 38), ('b8', 39), ('a25', 41), ('b33', 46), ('b47', 42), ('b46', 44), ('a8', 41), ('a49', 43), ('b17', 44), ('a31', 45), ('a44', 42), ('a28', 46), ('b13', 49), ('b48', 46), ('b15', 44), ('a47', 46), ('a35', 49), ('a29', 45), ('b18', 48), ('a26', 46), ('b26', 46), ('b14', 50), ('a2', 49), ('b30', 48), ('b50', 50), ('a38', 49), ('a50', 50)]) = 59520.000\n",
      ">1167, new best f([('b24', 10), ('a36', 11), ('a7', 14), ('a24', 10), ('a30', 16), ('a18', 12), ('b49', 15), ('a4', 13), ('b6', 13), ('b9', 14), ('b11', 16), ('b27', 15), ('a11', 18), ('a37', 18), ('b10', 18), ('b3', 16), ('a14', 18), ('a34', 20), ('a48', 19), ('a15', 15), ('b31', 17), ('b4', 17), ('b2', 21), ('b44', 19), ('b20', 19), ('a1', 22), ('b22', 19), ('a45', 22), ('a12', 21), ('b39', 23), ('b45', 23), ('a21', 26), ('b34', 26), ('a3', 19), ('a27', 21), ('b28', 24), ('a20', 25), ('b42', 25), ('b36', 26), ('a23', 24), ('a32', 28), ('b23', 27), ('a43', 30), ('a22', 27), ('b38', 27), ('b1', 29), ('a46', 27), ('b25', 30), ('b41', 30), ('a9', 28), ('a6', 26), ('a16', 30), ('b37', 29), ('b32', 28), ('a19', 34), ('b43', 31), ('b19', 30), ('a39', 28), ('b16', 30), ('b29', 33), ('a33', 32), ('b5', 35), ('b35', 33), ('a17', 33), ('b40', 35), ('b7', 32), ('a41', 40), ('a10', 38), ('a13', 35), ('a5', 35), ('a40', 37), ('b12', 37), ('a42', 37), ('b21', 38), ('a49', 43), ('b8', 39), ('a8', 41), ('a44', 42), ('a25', 41), ('b33', 46), ('b47', 42), ('b46', 44), ('b17', 44), ('a31', 45), ('b48', 46), ('a28', 46), ('a29', 45), ('b50', 50), ('b15', 44), ('a47', 46), ('b13', 49), ('a35', 49), ('a26', 46), ('b26', 46), ('b18', 48), ('b30', 48), ('b14', 50), ('a50', 50), ('a2', 49), ('a38', 49)]) = 59519.000\n",
      ">1172, new best f([('b24', 10), ('a36', 11), ('a7', 14), ('a24', 10), ('a30', 16), ('a18', 12), ('b49', 15), ('a4', 13), ('b6', 13), ('b9', 14), ('b11', 16), ('b27', 15), ('a11', 18), ('a37', 18), ('b10', 18), ('b3', 16), ('a14', 18), ('a34', 20), ('a48', 19), ('a15', 15), ('b31', 17), ('b4', 17), ('b2', 21), ('b44', 19), ('b20', 19), ('a1', 22), ('b22', 19), ('a45', 22), ('a12', 21), ('b39', 23), ('b45', 23), ('a21', 26), ('b34', 26), ('a3', 19), ('a27', 21), ('b28', 24), ('a20', 25), ('b42', 25), ('b36', 26), ('a23', 24), ('a32', 28), ('b23', 27), ('a43', 30), ('a22', 27), ('b38', 27), ('b1', 29), ('a46', 27), ('b25', 30), ('b41', 30), ('a9', 28), ('a6', 26), ('a16', 30), ('b37', 29), ('b32', 28), ('a19', 34), ('b43', 31), ('b19', 30), ('a39', 28), ('b16', 30), ('b29', 33), ('a33', 32), ('b5', 35), ('b35', 33), ('a17', 33), ('b40', 35), ('b7', 32), ('a41', 40), ('a10', 38), ('a13', 35), ('a5', 35), ('a40', 37), ('b12', 37), ('a42', 37), ('b21', 38), ('a44', 42), ('b8', 39), ('a8', 41), ('a49', 43), ('a25', 41), ('b33', 46), ('b47', 42), ('b46', 44), ('b17', 44), ('a31', 45), ('b48', 46), ('a28', 46), ('a29', 45), ('b50', 50), ('b15', 44), ('a47', 46), ('b13', 49), ('a35', 49), ('a26', 46), ('b26', 46), ('b18', 48), ('b30', 48), ('b14', 50), ('a50', 50), ('a2', 49), ('a38', 49)]) = 59518.000\n",
      ">1174, new best f([('b24', 10), ('a36', 11), ('a7', 14), ('a24', 10), ('a30', 16), ('a18', 12), ('b49', 15), ('a4', 13), ('b6', 13), ('b9', 14), ('b11', 16), ('b27', 15), ('a34', 20), ('b3', 16), ('a14', 18), ('a48', 19), ('a15', 15), ('a37', 18), ('b31', 17), ('b4', 17), ('a11', 18), ('b10', 18), ('a12', 21), ('b2', 21), ('b44', 19), ('b20', 19), ('a1', 22), ('b22', 19), ('a45', 22), ('b39', 23), ('b45', 23), ('a21', 26), ('b34', 26), ('a3', 19), ('a27', 21), ('b28', 24), ('a20', 25), ('b42', 25), ('b36', 26), ('a23', 24), ('a32', 28), ('b23', 27), ('a43', 30), ('a22', 27), ('b38', 27), ('b1', 29), ('a46', 27), ('b25', 30), ('b41', 30), ('a9', 28), ('a6', 26), ('a16', 30), ('b37', 29), ('b32', 28), ('a19', 34), ('b43', 31), ('b19', 30), ('a39', 28), ('b16', 30), ('b29', 33), ('a33', 32), ('b35', 33), ('b5', 35), ('a17', 33), ('b40', 35), ('b7', 32), ('a41', 40), ('a10', 38), ('a13', 35), ('a5', 35), ('a40', 37), ('b12', 37), ('a42', 37), ('b21', 38), ('a49', 43), ('b8', 39), ('a8', 41), ('a44', 42), ('a25', 41), ('b33', 46), ('b47', 42), ('b46', 44), ('b17', 44), ('a31', 45), ('b48', 46), ('a28', 46), ('a29', 45), ('b26', 46), ('b15', 44), ('a47', 46), ('b18', 48), ('b13', 49), ('a35', 49), ('a26', 46), ('b50', 50), ('b30', 48), ('b14', 50), ('a50', 50), ('a2', 49), ('a38', 49)]) = 59507.000\n",
      ">1224, new best f([('b24', 10), ('a36', 11), ('a7', 14), ('a24', 10), ('a30', 16), ('a15', 15), ('a18', 12), ('b49', 15), ('a4', 13), ('b6', 13), ('b9', 14), ('a37', 18), ('b27', 15), ('a34', 20), ('a11', 18), ('b4', 17), ('b11', 16), ('b10', 18), ('b31', 17), ('a14', 18), ('a48', 19), ('b3', 16), ('a12', 21), ('b22', 19), ('b2', 21), ('b44', 19), ('b20', 19), ('a1', 22), ('a45', 22), ('b39', 23), ('b45', 23), ('a21', 26), ('b34', 26), ('a3', 19), ('b42', 25), ('a27', 21), ('b23', 27), ('b28', 24), ('a20', 25), ('b36', 26), ('a23', 24), ('a32', 28), ('a6', 26), ('a22', 27), ('b38', 27), ('b1', 29), ('b41', 30), ('a46', 27), ('b25', 30), ('a43', 30), ('a9', 28), ('a16', 30), ('a39', 28), ('b32', 28), ('a19', 34), ('b19', 30), ('b43', 31), ('b37', 29), ('b16', 30), ('b29', 33), ('a33', 32), ('b5', 35), ('b35', 33), ('a17', 33), ('b7', 32), ('b40', 35), ('a41', 40), ('a10', 38), ('a5', 35), ('a13', 35), ('a40', 37), ('b12', 37), ('a42', 37), ('b21', 38), ('a49', 43), ('b8', 39), ('a8', 41), ('a44', 42), ('a25', 41), ('b33', 46), ('b47', 42), ('b46', 44), ('b17', 44), ('b48', 46), ('a31', 45), ('a28', 46), ('a29', 45), ('b50', 50), ('b15', 44), ('a47', 46), ('b26', 46), ('b18', 48), ('b13', 49), ('a35', 49), ('a26', 46), ('b30', 48), ('b14', 50), ('a50', 50), ('a2', 49), ('a38', 49)]) = 59506.000\n",
      ">1248, new best f([('b24', 10), ('a36', 11), ('a7', 14), ('a24', 10), ('a30', 16), ('b49', 15), ('a4', 13), ('b9', 14), ('a18', 12), ('b6', 13), ('a15', 15), ('a37', 18), ('b27', 15), ('a34', 20), ('a11', 18), ('b4', 17), ('b11', 16), ('b10', 18), ('b31', 17), ('a14', 18), ('a48', 19), ('b3', 16), ('a12', 21), ('b22', 19), ('b2', 21), ('b44', 19), ('b20', 19), ('a1', 22), ('a45', 22), ('b39', 23), ('b45', 23), ('a21', 26), ('b34', 26), ('a3', 19), ('b42', 25), ('a27', 21), ('b23', 27), ('b28', 24), ('a20', 25), ('b36', 26), ('a23', 24), ('a32', 28), ('a6', 26), ('a22', 27), ('b38', 27), ('b1', 29), ('b41', 30), ('a46', 27), ('b25', 30), ('a43', 30), ('a9', 28), ('a16', 30), ('a39', 28), ('b32', 28), ('a19', 34), ('b19', 30), ('b43', 31), ('b37', 29), ('b16', 30), ('b29', 33), ('a33', 32), ('a17', 33), ('b35', 33), ('b5', 35), ('b7', 32), ('b40', 35), ('a41', 40), ('a10', 38), ('a5', 35), ('a13', 35), ('a40', 37), ('b12', 37), ('a42', 37), ('b21', 38), ('a49', 43), ('b8', 39), ('a8', 41), ('a44', 42), ('a25', 41), ('b33', 46), ('b47', 42), ('b46', 44), ('b17', 44), ('b48', 46), ('a31', 45), ('a28', 46), ('a29', 45), ('b50', 50), ('b15', 44), ('a47', 46), ('b26', 46), ('b18', 48), ('b13', 49), ('a35', 49), ('a26', 46), ('b30', 48), ('b14', 50), ('a50', 50), ('a38', 49), ('a2', 49)]) = 59504.000\n",
      ">1266, new best f([('b24', 10), ('a36', 11), ('a7', 14), ('a24', 10), ('a30', 16), ('b49', 15), ('a4', 13), ('b9', 14), ('a18', 12), ('b6', 13), ('a11', 18), ('a37', 18), ('b27', 15), ('a15', 15), ('b3', 16), ('b31', 17), ('a34', 20), ('b11', 16), ('b10', 18), ('b4', 17), ('a14', 18), ('a48', 19), ('a12', 21), ('b22', 19), ('b2', 21), ('b44', 19), ('b20', 19), ('a1', 22), ('b28', 24), ('b45', 23), ('a45', 22), ('a3', 19), ('b39', 23), ('a21', 26), ('b34', 26), ('b42', 25), ('a27', 21), ('b23', 27), ('a20', 25), ('b36', 26), ('a23', 24), ('a32', 28), ('a6', 26), ('a22', 27), ('b38', 27), ('b37', 29), ('b41', 30), ('a46', 27), ('b25', 30), ('a43', 30), ('a9', 28), ('a16', 30), ('a39', 28), ('b32', 28), ('a19', 34), ('b1', 29), ('b43', 31), ('b19', 30), ('b16', 30), ('a17', 33), ('b29', 33), ('b35', 33), ('b5', 35), ('a33', 32), ('b7', 32), ('a41', 40), ('b40', 35), ('a10', 38), ('a13', 35), ('a5', 35), ('a40', 37), ('b12', 37), ('a42', 37), ('b21', 38), ('a49', 43), ('b8', 39), ('a8', 41), ('a44', 42), ('a25', 41), ('b33', 46), ('b47', 42), ('b46', 44), ('b17', 44), ('a31', 45), ('b48', 46), ('a28', 46), ('a29', 45), ('b50', 50), ('b15', 44), ('a47', 46), ('b26', 46), ('a35', 49), ('b18', 48), ('b13', 49), ('a26', 46), ('b30', 48), ('b14', 50), ('a50', 50), ('a2', 49), ('a38', 49)]) = 59498.000\n",
      ">1270, new best f([('b24', 10), ('a36', 11), ('a18', 12), ('a24', 10), ('a30', 16), ('b49', 15), ('a4', 13), ('b9', 14), ('a7', 14), ('b6', 13), ('a11', 18), ('a37', 18), ('b27', 15), ('a15', 15), ('b3', 16), ('b31', 17), ('a34', 20), ('b11', 16), ('b10', 18), ('b4', 17), ('a14', 18), ('a48', 19), ('a12', 21), ('b22', 19), ('b2', 21), ('b44', 19), ('b20', 19), ('a1', 22), ('b28', 24), ('b45', 23), ('a45', 22), ('a3', 19), ('b39', 23), ('a21', 26), ('b34', 26), ('b42', 25), ('a27', 21), ('b23', 27), ('a20', 25), ('b36', 26), ('a23', 24), ('a32', 28), ('a6', 26), ('a22', 27), ('b38', 27), ('b37', 29), ('b41', 30), ('a46', 27), ('b25', 30), ('a43', 30), ('a9', 28), ('a16', 30), ('a39', 28), ('b32', 28), ('a19', 34), ('b1', 29), ('b43', 31), ('b19', 30), ('b16', 30), ('a17', 33), ('b29', 33), ('b35', 33), ('b5', 35), ('a33', 32), ('b7', 32), ('a41', 40), ('b40', 35), ('a10', 38), ('a13', 35), ('a5', 35), ('a40', 37), ('b12', 37), ('a42', 37), ('b21', 38), ('a49', 43), ('b8', 39), ('a8', 41), ('a44', 42), ('a25', 41), ('b33', 46), ('b47', 42), ('b46', 44), ('b17', 44), ('a31', 45), ('b48', 46), ('a28', 46), ('a29', 45), ('b50', 50), ('b15', 44), ('a47', 46), ('b26', 46), ('a35', 49), ('b18', 48), ('b13', 49), ('a26', 46), ('b30', 48), ('b14', 50), ('a50', 50), ('a2', 49), ('a38', 49)]) = 59494.000\n",
      ">1300, new best f([('a18', 12), ('a36', 11), ('a7', 14), ('b24', 10), ('a24', 10), ('b6', 13), ('a30', 16), ('b49', 15), ('a4', 13), ('b9', 14), ('b27', 15), ('a11', 18), ('a37', 18), ('a15', 15), ('b3', 16), ('b31', 17), ('a34', 20), ('b11', 16), ('b10', 18), ('b4', 17), ('a14', 18), ('a48', 19), ('a12', 21), ('b22', 19), ('b2', 21), ('b44', 19), ('b20', 19), ('a1', 22), ('b28', 24), ('b45', 23), ('a45', 22), ('a3', 19), ('b39', 23), ('a21', 26), ('b42', 25), ('b34', 26), ('a27', 21), ('a32', 28), ('b23', 27), ('a20', 25), ('b36', 26), ('a23', 24), ('a6', 26), ('a22', 27), ('b38', 27), ('b37', 29), ('b41', 30), ('a46', 27), ('b25', 30), ('a43', 30), ('a9', 28), ('a16', 30), ('a39', 28), ('b32', 28), ('a19', 34), ('b1', 29), ('b43', 31), ('b19', 30), ('b16', 30), ('a17', 33), ('b29', 33), ('b35', 33), ('b5', 35), ('a33', 32), ('b7', 32), ('a41', 40), ('b40', 35), ('a10', 38), ('a13', 35), ('a5', 35), ('a40', 37), ('b12', 37), ('a42', 37), ('b21', 38), ('a49', 43), ('b8', 39), ('a8', 41), ('a44', 42), ('a25', 41), ('b33', 46), ('b47', 42), ('b46', 44), ('b17', 44), ('a31', 45), ('b48', 46), ('a28', 46), ('a29', 45), ('b26', 46), ('b15', 44), ('b14', 50), ('a47', 46), ('a35', 49), ('b18', 48), ('b13', 49), ('a26', 46), ('b30', 48), ('b50', 50), ('a50', 50), ('a2', 49), ('a38', 49)]) = 59492.000\n",
      ">1310, new best f([('b24', 10), ('a24', 10), ('a36', 11), ('a7', 14), ('a18', 12), ('b49', 15), ('a4', 13), ('b9', 14), ('a30', 16), ('b6', 13), ('a15', 15), ('a11', 18), ('b27', 15), ('b31', 17), ('a37', 18), ('b3', 16), ('a34', 20), ('b11', 16), ('b10', 18), ('b4', 17), ('b44', 19), ('a14', 18), ('a48', 19), ('a12', 21), ('b22', 19), ('b2', 21), ('b20', 19), ('a1', 22), ('b28', 24), ('b45', 23), ('a45', 22), ('a3', 19), ('b39', 23), ('a21', 26), ('b42', 25), ('b34', 26), ('a27', 21), ('a32', 28), ('b23', 27), ('a20', 25), ('a6', 26), ('b36', 26), ('a23', 24), ('a22', 27), ('b38', 27), ('b37', 29), ('b41', 30), ('a46', 27), ('b25', 30), ('a43', 30), ('a9', 28), ('a16', 30), ('a39', 28), ('b32', 28), ('a19', 34), ('b1', 29), ('b43', 31), ('b19', 30), ('b16', 30), ('a17', 33), ('b29', 33), ('b35', 33), ('b5', 35), ('a33', 32), ('b7', 32), ('a41', 40), ('b40', 35), ('a10', 38), ('a13', 35), ('a5', 35), ('a40', 37), ('b12', 37), ('a42', 37), ('b21', 38), ('a49', 43), ('b8', 39), ('a44', 42), ('a8', 41), ('a25', 41), ('b33', 46), ('b47', 42), ('b46', 44), ('b17', 44), ('a31', 45), ('b48', 46), ('a28', 46), ('a29', 45), ('b26', 46), ('b15', 44), ('a47', 46), ('b13', 49), ('a35', 49), ('b18', 48), ('b50', 50), ('a26', 46), ('b30', 48), ('b14', 50), ('a50', 50), ('a2', 49), ('a38', 49)]) = 59481.000\n",
      ">1344, new best f([('b24', 10), ('a24', 10), ('a36', 11), ('a7', 14), ('a18', 12), ('b6', 13), ('b49', 15), ('a4', 13), ('b9', 14), ('a30', 16), ('a15', 15), ('a11', 18), ('b27', 15), ('a37', 18), ('b3', 16), ('b31', 17), ('a34', 20), ('b11', 16), ('b10', 18), ('a14', 18), ('b4', 17), ('a48', 19), ('a12', 21), ('b22', 19), ('b2', 21), ('b44', 19), ('b20', 19), ('a1', 22), ('b28', 24), ('b45', 23), ('a45', 22), ('a3', 19), ('b39', 23), ('a27', 21), ('b34', 26), ('b42', 25), ('a21', 26), ('a32', 28), ('b23', 27), ('a20', 25), ('b36', 26), ('a23', 24), ('a6', 26), ('a22', 27), ('b38', 27), ('b37', 29), ('b41', 30), ('a46', 27), ('b25', 30), ('a43', 30), ('a9', 28), ('a16', 30), ('a39', 28), ('b32', 28), ('a19', 34), ('b19', 30), ('b1', 29), ('b43', 31), ('b16', 30), ('a17', 33), ('b29', 33), ('b35', 33), ('b5', 35), ('a33', 32), ('b7', 32), ('a41', 40), ('b40', 35), ('a10', 38), ('a13', 35), ('a5', 35), ('a40', 37), ('b12', 37), ('a42', 37), ('b21', 38), ('a49', 43), ('b8', 39), ('a8', 41), ('a44', 42), ('a25', 41), ('b33', 46), ('b47', 42), ('b46', 44), ('b17', 44), ('a31', 45), ('b48', 46), ('a28', 46), ('a29', 45), ('b26', 46), ('b50', 50), ('b15', 44), ('a47', 46), ('a35', 49), ('b18', 48), ('b13', 49), ('a26', 46), ('b30', 48), ('b14', 50), ('a50', 50), ('a2', 49), ('a38', 49)]) = 59479.000\n",
      ">1346, new best f([('a24', 10), ('b24', 10), ('a36', 11), ('a7', 14), ('a18', 12), ('b49', 15), ('a4', 13), ('b9', 14), ('a30', 16), ('b6', 13), ('a15', 15), ('a14', 18), ('b27', 15), ('b31', 17), ('a37', 18), ('b3', 16), ('a34', 20), ('b11', 16), ('b10', 18), ('a11', 18), ('b4', 17), ('a48', 19), ('b2', 21), ('a12', 21), ('b22', 19), ('b44', 19), ('b20', 19), ('a1', 22), ('b28', 24), ('b45', 23), ('a45', 22), ('a3', 19), ('b39', 23), ('a27', 21), ('b34', 26), ('b42', 25), ('a21', 26), ('a32', 28), ('b23', 27), ('a20', 25), ('b36', 26), ('a23', 24), ('a6', 26), ('a22', 27), ('b38', 27), ('b37', 29), ('b41', 30), ('a46', 27), ('b25', 30), ('a43', 30), ('a9', 28), ('a16', 30), ('a39', 28), ('b32', 28), ('a19', 34), ('b19', 30), ('b1', 29), ('b43', 31), ('b16', 30), ('a17', 33), ('b29', 33), ('b35', 33), ('b7', 32), ('a33', 32), ('b5', 35), ('a41', 40), ('b40', 35), ('a10', 38), ('a13', 35), ('a5', 35), ('a40', 37), ('b12', 37), ('a42', 37), ('b21', 38), ('a49', 43), ('b8', 39), ('a8', 41), ('a44', 42), ('a25', 41), ('b33', 46), ('b47', 42), ('b46', 44), ('b17', 44), ('a31', 45), ('b48', 46), ('a28', 46), ('a29', 45), ('b26', 46), ('b50', 50), ('b15', 44), ('a47', 46), ('a35', 49), ('b18', 48), ('b13', 49), ('a26', 46), ('b30', 48), ('b14', 50), ('a50', 50), ('a2', 49), ('a38', 49)]) = 59478.000\n",
      ">1351, new best f([('b24', 10), ('a24', 10), ('a36', 11), ('a7', 14), ('a18', 12), ('b6', 13), ('b49', 15), ('a4', 13), ('b9', 14), ('a30', 16), ('a15', 15), ('a11', 18), ('b27', 15), ('a37', 18), ('b3', 16), ('b31', 17), ('a34', 20), ('b11', 16), ('b10', 18), ('a14', 18), ('b4', 17), ('a48', 19), ('a12', 21), ('b22', 19), ('b2', 21), ('b44', 19), ('b20', 19), ('a1', 22), ('b28', 24), ('b45', 23), ('a45', 22), ('a3', 19), ('b39', 23), ('a27', 21), ('b34', 26), ('b42', 25), ('a21', 26), ('a32', 28), ('b23', 27), ('a20', 25), ('b36', 26), ('a23', 24), ('a6', 26), ('a22', 27), ('b38', 27), ('b37', 29), ('b41', 30), ('a46', 27), ('b25', 30), ('a43', 30), ('a9', 28), ('a16', 30), ('a39', 28), ('b32', 28), ('a19', 34), ('b19', 30), ('b1', 29), ('b43', 31), ('b16', 30), ('a17', 33), ('b29', 33), ('b35', 33), ('b7', 32), ('a33', 32), ('b5', 35), ('a41', 40), ('b40', 35), ('a10', 38), ('a13', 35), ('a5', 35), ('a40', 37), ('b12', 37), ('a42', 37), ('b21', 38), ('a49', 43), ('b8', 39), ('a8', 41), ('a44', 42), ('a25', 41), ('b33', 46), ('b47', 42), ('b46', 44), ('b17', 44), ('a31', 45), ('b48', 46), ('a28', 46), ('a29', 45), ('b26', 46), ('b50', 50), ('b15', 44), ('a47', 46), ('a35', 49), ('b18', 48), ('b13', 49), ('a26', 46), ('b30', 48), ('b14', 50), ('a50', 50), ('a2', 49), ('a38', 49)]) = 59476.000\n",
      ">1352, new best f([('b24', 10), ('a24', 10), ('a36', 11), ('a7', 14), ('a18', 12), ('b6', 13), ('b49', 15), ('a4', 13), ('b9', 14), ('a30', 16), ('a15', 15), ('a11', 18), ('b27', 15), ('a37', 18), ('b3', 16), ('b31', 17), ('a34', 20), ('b11', 16), ('b10', 18), ('a14', 18), ('b4', 17), ('a48', 19), ('a12', 21), ('b22', 19), ('b2', 21), ('b44', 19), ('b20', 19), ('a3', 19), ('b28', 24), ('b45', 23), ('a45', 22), ('a1', 22), ('b39', 23), ('a27', 21), ('b34', 26), ('b42', 25), ('a21', 26), ('a32', 28), ('b23', 27), ('a20', 25), ('b36', 26), ('a23', 24), ('a6', 26), ('a22', 27), ('b38', 27), ('b37', 29), ('b41', 30), ('a46', 27), ('b25', 30), ('a43', 30), ('a9', 28), ('a16', 30), ('a39', 28), ('b32', 28), ('a19', 34), ('b19', 30), ('b1', 29), ('b43', 31), ('b16', 30), ('a17', 33), ('b29', 33), ('b35', 33), ('b7', 32), ('a33', 32), ('b5', 35), ('a41', 40), ('b40', 35), ('a10', 38), ('a13', 35), ('a5', 35), ('a40', 37), ('b12', 37), ('a42', 37), ('b21', 38), ('a49', 43), ('b8', 39), ('a8', 41), ('a44', 42), ('a25', 41), ('b33', 46), ('b47', 42), ('b46', 44), ('b17', 44), ('a31', 45), ('b48', 46), ('a28', 46), ('a29', 45), ('b26', 46), ('b50', 50), ('b15', 44), ('a47', 46), ('a50', 50), ('b18', 48), ('b13', 49), ('a26', 46), ('b30', 48), ('b14', 50), ('a35', 49), ('a2', 49), ('a38', 49)]) = 59472.000\n",
      ">1357, new best f([('b24', 10), ('a24', 10), ('a36', 11), ('a7', 14), ('a18', 12), ('b6', 13), ('a30', 16), ('b49', 15), ('a4', 13), ('b9', 14), ('a15', 15), ('a11', 18), ('b27', 15), ('a37', 18), ('b3', 16), ('b31', 17), ('a34', 20), ('b11', 16), ('b10', 18), ('a14', 18), ('a48', 19), ('b4', 17), ('a3', 19), ('b22', 19), ('b2', 21), ('b44', 19), ('b20', 19), ('a1', 22), ('b28', 24), ('b45', 23), ('a45', 22), ('a12', 21), ('b39', 23), ('a27', 21), ('b34', 26), ('b42', 25), ('a21', 26), ('a32', 28), ('b23', 27), ('a20', 25), ('b36', 26), ('a23', 24), ('a6', 26), ('a22', 27), ('b38', 27), ('b37', 29), ('b41', 30), ('a46', 27), ('b25', 30), ('a43', 30), ('a9', 28), ('a16', 30), ('a39', 28), ('b32', 28), ('a19', 34), ('b19', 30), ('b1', 29), ('b43', 31), ('b16', 30), ('a17', 33), ('b29', 33), ('b35', 33), ('b5', 35), ('a33', 32), ('b7', 32), ('a41', 40), ('b40', 35), ('a10', 38), ('a13', 35), ('a5', 35), ('b12', 37), ('a40', 37), ('a42', 37), ('b21', 38), ('a49', 43), ('b8', 39), ('a8', 41), ('a44', 42), ('a25', 41), ('b33', 46), ('b47', 42), ('b46', 44), ('b17', 44), ('a31', 45), ('b15', 44), ('a28', 46), ('a29', 45), ('b26', 46), ('b50', 50), ('b48', 46), ('a47', 46), ('a35', 49), ('b18', 48), ('b13', 49), ('a26', 46), ('b30', 48), ('b14', 50), ('a50', 50), ('a2', 49), ('a38', 49)]) = 59467.000\n",
      "59467.0\n"
     ]
    }
   ],
   "source": [
    "# numero totale di iterazioni\n",
    "n_iter = 10000\n",
    "# dimensione popolazione\n",
    "n_pop = 100\n",
    "# soglia crossover\n",
    "r_cross = 0.9\n",
    "# soglia mutazione\n",
    "r_mut = 0.6\n",
    "#coefficiente per la fitness function\n",
    "alfa = 0.5\n",
    "\n",
    "best,best_eval = genetic_algorithm(jobs, n_iter, n_pop, r_cross, r_mut, alfa)\n",
    "print(best_eval)\n",
    "   "
   ]
  },
  {
   "cell_type": "markdown",
   "metadata": {},
   "source": [
    "# TEST DELLE FUNZIONI"
   ]
  },
  {
   "cell_type": "code",
   "execution_count": null,
   "metadata": {},
   "outputs": [
    {
     "data": {
      "text/plain": [
       "[('a1', 9),\n",
       " ('a2', 6),\n",
       " ('a3', 3),\n",
       " ('a4', 8),\n",
       " ('a5', 5),\n",
       " ('b1', 5),\n",
       " ('b2', 7),\n",
       " ('b3', 2),\n",
       " ('b4', 10)]"
      ]
     },
     "execution_count": 156,
     "metadata": {},
     "output_type": "execute_result"
    }
   ],
   "source": [
    "A = [('a1',9), ('a2',6), ('a3',3), ('a4',8), ('a5',5)]\n",
    "\n",
    "B = [('b1',5), ('b2',7), ('b3',2), ('b4',10)]\n",
    "\n",
    "jobs = A + B\n",
    "\n",
    "jobs\n",
    "\n"
   ]
  },
  {
   "cell_type": "markdown",
   "metadata": {},
   "source": [
    "### TEST GENERAZIONE POPOLAZIONE"
   ]
  },
  {
   "cell_type": "code",
   "execution_count": null,
   "metadata": {},
   "outputs": [
    {
     "data": {
      "text/plain": [
       "[[('a1', 9),\n",
       "  ('a5', 5),\n",
       "  ('a3', 3),\n",
       "  ('a2', 6),\n",
       "  ('b2', 7),\n",
       "  ('b3', 2),\n",
       "  ('a4', 8),\n",
       "  ('b1', 5),\n",
       "  ('b4', 10)],\n",
       " [('b1', 5),\n",
       "  ('b2', 7),\n",
       "  ('a3', 3),\n",
       "  ('b4', 10),\n",
       "  ('a2', 6),\n",
       "  ('a1', 9),\n",
       "  ('a5', 5),\n",
       "  ('b3', 2),\n",
       "  ('a4', 8)],\n",
       " [('a2', 6),\n",
       "  ('a4', 8),\n",
       "  ('b1', 5),\n",
       "  ('a1', 9),\n",
       "  ('a5', 5),\n",
       "  ('b2', 7),\n",
       "  ('b3', 2),\n",
       "  ('b4', 10),\n",
       "  ('a3', 3)],\n",
       " [('a4', 8),\n",
       "  ('b2', 7),\n",
       "  ('a1', 9),\n",
       "  ('b1', 5),\n",
       "  ('b4', 10),\n",
       "  ('b3', 2),\n",
       "  ('a5', 5),\n",
       "  ('a3', 3),\n",
       "  ('a2', 6)],\n",
       " [('b4', 10),\n",
       "  ('b1', 5),\n",
       "  ('b2', 7),\n",
       "  ('a5', 5),\n",
       "  ('a2', 6),\n",
       "  ('a3', 3),\n",
       "  ('a4', 8),\n",
       "  ('b3', 2),\n",
       "  ('a1', 9)],\n",
       " [('b4', 10),\n",
       "  ('b1', 5),\n",
       "  ('a5', 5),\n",
       "  ('a1', 9),\n",
       "  ('a4', 8),\n",
       "  ('b2', 7),\n",
       "  ('b3', 2),\n",
       "  ('a2', 6),\n",
       "  ('a3', 3)],\n",
       " [('b3', 2),\n",
       "  ('b1', 5),\n",
       "  ('a2', 6),\n",
       "  ('a5', 5),\n",
       "  ('a3', 3),\n",
       "  ('a4', 8),\n",
       "  ('b2', 7),\n",
       "  ('b4', 10),\n",
       "  ('a1', 9)],\n",
       " [('a3', 3),\n",
       "  ('b4', 10),\n",
       "  ('b2', 7),\n",
       "  ('a5', 5),\n",
       "  ('a4', 8),\n",
       "  ('b1', 5),\n",
       "  ('b3', 2),\n",
       "  ('a2', 6),\n",
       "  ('a1', 9)],\n",
       " [('b1', 5),\n",
       "  ('a5', 5),\n",
       "  ('b3', 2),\n",
       "  ('b2', 7),\n",
       "  ('b4', 10),\n",
       "  ('a1', 9),\n",
       "  ('a2', 6),\n",
       "  ('a3', 3),\n",
       "  ('a4', 8)],\n",
       " [('b3', 2),\n",
       "  ('a3', 3),\n",
       "  ('a1', 9),\n",
       "  ('b2', 7),\n",
       "  ('a4', 8),\n",
       "  ('a5', 5),\n",
       "  ('b4', 10),\n",
       "  ('b1', 5),\n",
       "  ('a2', 6)],\n",
       " [('a2', 6),\n",
       "  ('a5', 5),\n",
       "  ('a1', 9),\n",
       "  ('a4', 8),\n",
       "  ('b4', 10),\n",
       "  ('b2', 7),\n",
       "  ('b3', 2),\n",
       "  ('b1', 5),\n",
       "  ('a3', 3)],\n",
       " [('b3', 2),\n",
       "  ('b1', 5),\n",
       "  ('a4', 8),\n",
       "  ('a1', 9),\n",
       "  ('a3', 3),\n",
       "  ('b4', 10),\n",
       "  ('a5', 5),\n",
       "  ('a2', 6),\n",
       "  ('b2', 7)],\n",
       " [('a1', 9),\n",
       "  ('b4', 10),\n",
       "  ('b2', 7),\n",
       "  ('a4', 8),\n",
       "  ('a5', 5),\n",
       "  ('b3', 2),\n",
       "  ('b1', 5),\n",
       "  ('a2', 6),\n",
       "  ('a3', 3)],\n",
       " [('a5', 5),\n",
       "  ('a1', 9),\n",
       "  ('a3', 3),\n",
       "  ('b3', 2),\n",
       "  ('a4', 8),\n",
       "  ('a2', 6),\n",
       "  ('b4', 10),\n",
       "  ('b1', 5),\n",
       "  ('b2', 7)],\n",
       " [('a5', 5),\n",
       "  ('b4', 10),\n",
       "  ('a2', 6),\n",
       "  ('b2', 7),\n",
       "  ('a3', 3),\n",
       "  ('a1', 9),\n",
       "  ('b1', 5),\n",
       "  ('b3', 2),\n",
       "  ('a4', 8)],\n",
       " [('a3', 3),\n",
       "  ('a1', 9),\n",
       "  ('a4', 8),\n",
       "  ('b1', 5),\n",
       "  ('b2', 7),\n",
       "  ('a5', 5),\n",
       "  ('b4', 10),\n",
       "  ('a2', 6),\n",
       "  ('b3', 2)],\n",
       " [('a3', 3),\n",
       "  ('b3', 2),\n",
       "  ('a1', 9),\n",
       "  ('b2', 7),\n",
       "  ('b4', 10),\n",
       "  ('a2', 6),\n",
       "  ('b1', 5),\n",
       "  ('a5', 5),\n",
       "  ('a4', 8)],\n",
       " [('b2', 7),\n",
       "  ('b4', 10),\n",
       "  ('b1', 5),\n",
       "  ('a4', 8),\n",
       "  ('a1', 9),\n",
       "  ('a5', 5),\n",
       "  ('a2', 6),\n",
       "  ('a3', 3),\n",
       "  ('b3', 2)],\n",
       " [('a1', 9),\n",
       "  ('b2', 7),\n",
       "  ('b1', 5),\n",
       "  ('a2', 6),\n",
       "  ('b4', 10),\n",
       "  ('b3', 2),\n",
       "  ('a3', 3),\n",
       "  ('a5', 5),\n",
       "  ('a4', 8)],\n",
       " [('a3', 3),\n",
       "  ('b2', 7),\n",
       "  ('a1', 9),\n",
       "  ('a2', 6),\n",
       "  ('b4', 10),\n",
       "  ('a4', 8),\n",
       "  ('b3', 2),\n",
       "  ('b1', 5),\n",
       "  ('a5', 5)],\n",
       " [('a5', 5),\n",
       "  ('a1', 9),\n",
       "  ('b2', 7),\n",
       "  ('b1', 5),\n",
       "  ('b3', 2),\n",
       "  ('b4', 10),\n",
       "  ('a4', 8),\n",
       "  ('a3', 3),\n",
       "  ('a2', 6)],\n",
       " [('b2', 7),\n",
       "  ('a3', 3),\n",
       "  ('a1', 9),\n",
       "  ('b4', 10),\n",
       "  ('b3', 2),\n",
       "  ('b1', 5),\n",
       "  ('a2', 6),\n",
       "  ('a5', 5),\n",
       "  ('a4', 8)],\n",
       " [('a1', 9),\n",
       "  ('b3', 2),\n",
       "  ('b1', 5),\n",
       "  ('a4', 8),\n",
       "  ('a2', 6),\n",
       "  ('b4', 10),\n",
       "  ('a5', 5),\n",
       "  ('a3', 3),\n",
       "  ('b2', 7)],\n",
       " [('b3', 2),\n",
       "  ('a3', 3),\n",
       "  ('b1', 5),\n",
       "  ('b4', 10),\n",
       "  ('a1', 9),\n",
       "  ('a2', 6),\n",
       "  ('a4', 8),\n",
       "  ('a5', 5),\n",
       "  ('b2', 7)],\n",
       " [('a1', 9),\n",
       "  ('a4', 8),\n",
       "  ('b1', 5),\n",
       "  ('b3', 2),\n",
       "  ('a5', 5),\n",
       "  ('a2', 6),\n",
       "  ('a3', 3),\n",
       "  ('b4', 10),\n",
       "  ('b2', 7)],\n",
       " [('b2', 7),\n",
       "  ('a5', 5),\n",
       "  ('a3', 3),\n",
       "  ('b3', 2),\n",
       "  ('b4', 10),\n",
       "  ('b1', 5),\n",
       "  ('a4', 8),\n",
       "  ('a1', 9),\n",
       "  ('a2', 6)],\n",
       " [('a5', 5),\n",
       "  ('a1', 9),\n",
       "  ('b4', 10),\n",
       "  ('a4', 8),\n",
       "  ('b3', 2),\n",
       "  ('a2', 6),\n",
       "  ('b1', 5),\n",
       "  ('a3', 3),\n",
       "  ('b2', 7)],\n",
       " [('a5', 5),\n",
       "  ('a1', 9),\n",
       "  ('b4', 10),\n",
       "  ('b2', 7),\n",
       "  ('b3', 2),\n",
       "  ('b1', 5),\n",
       "  ('a3', 3),\n",
       "  ('a2', 6),\n",
       "  ('a4', 8)],\n",
       " [('b3', 2),\n",
       "  ('a3', 3),\n",
       "  ('a1', 9),\n",
       "  ('a4', 8),\n",
       "  ('b1', 5),\n",
       "  ('a2', 6),\n",
       "  ('b4', 10),\n",
       "  ('a5', 5),\n",
       "  ('b2', 7)],\n",
       " [('a5', 5),\n",
       "  ('a3', 3),\n",
       "  ('b3', 2),\n",
       "  ('a1', 9),\n",
       "  ('b2', 7),\n",
       "  ('a4', 8),\n",
       "  ('b4', 10),\n",
       "  ('a2', 6),\n",
       "  ('b1', 5)],\n",
       " [('b3', 2),\n",
       "  ('b1', 5),\n",
       "  ('a2', 6),\n",
       "  ('b4', 10),\n",
       "  ('a4', 8),\n",
       "  ('b2', 7),\n",
       "  ('a1', 9),\n",
       "  ('a3', 3),\n",
       "  ('a5', 5)],\n",
       " [('b4', 10),\n",
       "  ('b2', 7),\n",
       "  ('a2', 6),\n",
       "  ('a5', 5),\n",
       "  ('a1', 9),\n",
       "  ('b1', 5),\n",
       "  ('a3', 3),\n",
       "  ('a4', 8),\n",
       "  ('b3', 2)],\n",
       " [('a3', 3),\n",
       "  ('a4', 8),\n",
       "  ('a5', 5),\n",
       "  ('b2', 7),\n",
       "  ('a1', 9),\n",
       "  ('b1', 5),\n",
       "  ('b3', 2),\n",
       "  ('b4', 10),\n",
       "  ('a2', 6)],\n",
       " [('b4', 10),\n",
       "  ('a5', 5),\n",
       "  ('a1', 9),\n",
       "  ('b3', 2),\n",
       "  ('b1', 5),\n",
       "  ('b2', 7),\n",
       "  ('a2', 6),\n",
       "  ('a4', 8),\n",
       "  ('a3', 3)],\n",
       " [('b2', 7),\n",
       "  ('a4', 8),\n",
       "  ('b4', 10),\n",
       "  ('a1', 9),\n",
       "  ('b3', 2),\n",
       "  ('a2', 6),\n",
       "  ('b1', 5),\n",
       "  ('a5', 5),\n",
       "  ('a3', 3)],\n",
       " [('a2', 6),\n",
       "  ('a3', 3),\n",
       "  ('a5', 5),\n",
       "  ('b4', 10),\n",
       "  ('a4', 8),\n",
       "  ('b3', 2),\n",
       "  ('b1', 5),\n",
       "  ('a1', 9),\n",
       "  ('b2', 7)],\n",
       " [('b4', 10),\n",
       "  ('a2', 6),\n",
       "  ('a1', 9),\n",
       "  ('b3', 2),\n",
       "  ('a3', 3),\n",
       "  ('b1', 5),\n",
       "  ('b2', 7),\n",
       "  ('a5', 5),\n",
       "  ('a4', 8)],\n",
       " [('a2', 6),\n",
       "  ('b2', 7),\n",
       "  ('a5', 5),\n",
       "  ('b3', 2),\n",
       "  ('b4', 10),\n",
       "  ('a4', 8),\n",
       "  ('a1', 9),\n",
       "  ('a3', 3),\n",
       "  ('b1', 5)],\n",
       " [('b3', 2),\n",
       "  ('b2', 7),\n",
       "  ('b4', 10),\n",
       "  ('a1', 9),\n",
       "  ('b1', 5),\n",
       "  ('a2', 6),\n",
       "  ('a5', 5),\n",
       "  ('a3', 3),\n",
       "  ('a4', 8)],\n",
       " [('a3', 3),\n",
       "  ('a4', 8),\n",
       "  ('a2', 6),\n",
       "  ('a5', 5),\n",
       "  ('a1', 9),\n",
       "  ('b2', 7),\n",
       "  ('b4', 10),\n",
       "  ('b3', 2),\n",
       "  ('b1', 5)],\n",
       " [('a5', 5),\n",
       "  ('b1', 5),\n",
       "  ('b4', 10),\n",
       "  ('b3', 2),\n",
       "  ('a3', 3),\n",
       "  ('a1', 9),\n",
       "  ('b2', 7),\n",
       "  ('a4', 8),\n",
       "  ('a2', 6)],\n",
       " [('a2', 6),\n",
       "  ('a4', 8),\n",
       "  ('b1', 5),\n",
       "  ('b2', 7),\n",
       "  ('b4', 10),\n",
       "  ('a1', 9),\n",
       "  ('a5', 5),\n",
       "  ('b3', 2),\n",
       "  ('a3', 3)],\n",
       " [('b4', 10),\n",
       "  ('b3', 2),\n",
       "  ('a3', 3),\n",
       "  ('a5', 5),\n",
       "  ('b1', 5),\n",
       "  ('a2', 6),\n",
       "  ('a4', 8),\n",
       "  ('b2', 7),\n",
       "  ('a1', 9)],\n",
       " [('a4', 8),\n",
       "  ('a3', 3),\n",
       "  ('a5', 5),\n",
       "  ('b3', 2),\n",
       "  ('a2', 6),\n",
       "  ('b4', 10),\n",
       "  ('b1', 5),\n",
       "  ('a1', 9),\n",
       "  ('b2', 7)],\n",
       " [('a4', 8),\n",
       "  ('a3', 3),\n",
       "  ('a1', 9),\n",
       "  ('b3', 2),\n",
       "  ('b2', 7),\n",
       "  ('a2', 6),\n",
       "  ('b4', 10),\n",
       "  ('b1', 5),\n",
       "  ('a5', 5)],\n",
       " [('a2', 6),\n",
       "  ('a3', 3),\n",
       "  ('a5', 5),\n",
       "  ('b2', 7),\n",
       "  ('a4', 8),\n",
       "  ('b1', 5),\n",
       "  ('b3', 2),\n",
       "  ('b4', 10),\n",
       "  ('a1', 9)],\n",
       " [('a4', 8),\n",
       "  ('a5', 5),\n",
       "  ('b3', 2),\n",
       "  ('a1', 9),\n",
       "  ('b1', 5),\n",
       "  ('a2', 6),\n",
       "  ('a3', 3),\n",
       "  ('b4', 10),\n",
       "  ('b2', 7)],\n",
       " [('b2', 7),\n",
       "  ('b1', 5),\n",
       "  ('a3', 3),\n",
       "  ('b3', 2),\n",
       "  ('a2', 6),\n",
       "  ('a4', 8),\n",
       "  ('a5', 5),\n",
       "  ('b4', 10),\n",
       "  ('a1', 9)],\n",
       " [('a3', 3),\n",
       "  ('b1', 5),\n",
       "  ('b2', 7),\n",
       "  ('a1', 9),\n",
       "  ('b3', 2),\n",
       "  ('a2', 6),\n",
       "  ('a5', 5),\n",
       "  ('a4', 8),\n",
       "  ('b4', 10)],\n",
       " [('b4', 10),\n",
       "  ('b1', 5),\n",
       "  ('b3', 2),\n",
       "  ('a4', 8),\n",
       "  ('a1', 9),\n",
       "  ('a5', 5),\n",
       "  ('a2', 6),\n",
       "  ('a3', 3),\n",
       "  ('b2', 7)],\n",
       " [('a1', 9),\n",
       "  ('b3', 2),\n",
       "  ('a4', 8),\n",
       "  ('b2', 7),\n",
       "  ('b1', 5),\n",
       "  ('a2', 6),\n",
       "  ('b4', 10),\n",
       "  ('a5', 5),\n",
       "  ('a3', 3)],\n",
       " [('a4', 8),\n",
       "  ('a2', 6),\n",
       "  ('a1', 9),\n",
       "  ('b2', 7),\n",
       "  ('a5', 5),\n",
       "  ('b4', 10),\n",
       "  ('b1', 5),\n",
       "  ('a3', 3),\n",
       "  ('b3', 2)],\n",
       " [('b1', 5),\n",
       "  ('a1', 9),\n",
       "  ('b4', 10),\n",
       "  ('a3', 3),\n",
       "  ('b2', 7),\n",
       "  ('a2', 6),\n",
       "  ('a5', 5),\n",
       "  ('a4', 8),\n",
       "  ('b3', 2)],\n",
       " [('b4', 10),\n",
       "  ('b2', 7),\n",
       "  ('a2', 6),\n",
       "  ('a1', 9),\n",
       "  ('b1', 5),\n",
       "  ('a5', 5),\n",
       "  ('a3', 3),\n",
       "  ('a4', 8),\n",
       "  ('b3', 2)],\n",
       " [('a3', 3),\n",
       "  ('a4', 8),\n",
       "  ('a1', 9),\n",
       "  ('b3', 2),\n",
       "  ('b2', 7),\n",
       "  ('b1', 5),\n",
       "  ('a5', 5),\n",
       "  ('a2', 6),\n",
       "  ('b4', 10)],\n",
       " [('a4', 8),\n",
       "  ('b1', 5),\n",
       "  ('a1', 9),\n",
       "  ('a5', 5),\n",
       "  ('a2', 6),\n",
       "  ('a3', 3),\n",
       "  ('b2', 7),\n",
       "  ('b3', 2),\n",
       "  ('b4', 10)],\n",
       " [('b2', 7),\n",
       "  ('a4', 8),\n",
       "  ('b3', 2),\n",
       "  ('a5', 5),\n",
       "  ('b4', 10),\n",
       "  ('a2', 6),\n",
       "  ('a1', 9),\n",
       "  ('b1', 5),\n",
       "  ('a3', 3)],\n",
       " [('b1', 5),\n",
       "  ('a4', 8),\n",
       "  ('b4', 10),\n",
       "  ('a3', 3),\n",
       "  ('a5', 5),\n",
       "  ('a1', 9),\n",
       "  ('b3', 2),\n",
       "  ('b2', 7),\n",
       "  ('a2', 6)],\n",
       " [('a3', 3),\n",
       "  ('b2', 7),\n",
       "  ('b3', 2),\n",
       "  ('a1', 9),\n",
       "  ('a4', 8),\n",
       "  ('a2', 6),\n",
       "  ('a5', 5),\n",
       "  ('b4', 10),\n",
       "  ('b1', 5)],\n",
       " [('a3', 3),\n",
       "  ('a1', 9),\n",
       "  ('b4', 10),\n",
       "  ('b2', 7),\n",
       "  ('b3', 2),\n",
       "  ('b1', 5),\n",
       "  ('a4', 8),\n",
       "  ('a5', 5),\n",
       "  ('a2', 6)],\n",
       " [('b3', 2),\n",
       "  ('b4', 10),\n",
       "  ('a1', 9),\n",
       "  ('a3', 3),\n",
       "  ('a4', 8),\n",
       "  ('a2', 6),\n",
       "  ('a5', 5),\n",
       "  ('b2', 7),\n",
       "  ('b1', 5)],\n",
       " [('b3', 2),\n",
       "  ('a3', 3),\n",
       "  ('a2', 6),\n",
       "  ('b4', 10),\n",
       "  ('a5', 5),\n",
       "  ('b1', 5),\n",
       "  ('b2', 7),\n",
       "  ('a4', 8),\n",
       "  ('a1', 9)],\n",
       " [('b4', 10),\n",
       "  ('a1', 9),\n",
       "  ('a5', 5),\n",
       "  ('a4', 8),\n",
       "  ('a3', 3),\n",
       "  ('b1', 5),\n",
       "  ('b3', 2),\n",
       "  ('a2', 6),\n",
       "  ('b2', 7)],\n",
       " [('b1', 5),\n",
       "  ('a3', 3),\n",
       "  ('b2', 7),\n",
       "  ('a1', 9),\n",
       "  ('a2', 6),\n",
       "  ('a5', 5),\n",
       "  ('b3', 2),\n",
       "  ('b4', 10),\n",
       "  ('a4', 8)],\n",
       " [('a4', 8),\n",
       "  ('b3', 2),\n",
       "  ('b4', 10),\n",
       "  ('b2', 7),\n",
       "  ('a1', 9),\n",
       "  ('a2', 6),\n",
       "  ('b1', 5),\n",
       "  ('a3', 3),\n",
       "  ('a5', 5)],\n",
       " [('b3', 2),\n",
       "  ('a4', 8),\n",
       "  ('a1', 9),\n",
       "  ('a3', 3),\n",
       "  ('b4', 10),\n",
       "  ('b2', 7),\n",
       "  ('a2', 6),\n",
       "  ('b1', 5),\n",
       "  ('a5', 5)],\n",
       " [('b4', 10),\n",
       "  ('a3', 3),\n",
       "  ('a2', 6),\n",
       "  ('b2', 7),\n",
       "  ('b3', 2),\n",
       "  ('a1', 9),\n",
       "  ('a5', 5),\n",
       "  ('b1', 5),\n",
       "  ('a4', 8)],\n",
       " [('a2', 6),\n",
       "  ('b2', 7),\n",
       "  ('a3', 3),\n",
       "  ('b1', 5),\n",
       "  ('a1', 9),\n",
       "  ('b4', 10),\n",
       "  ('b3', 2),\n",
       "  ('a4', 8),\n",
       "  ('a5', 5)],\n",
       " [('a5', 5),\n",
       "  ('a4', 8),\n",
       "  ('a3', 3),\n",
       "  ('b1', 5),\n",
       "  ('b2', 7),\n",
       "  ('b4', 10),\n",
       "  ('b3', 2),\n",
       "  ('a1', 9),\n",
       "  ('a2', 6)],\n",
       " [('b2', 7),\n",
       "  ('b3', 2),\n",
       "  ('a2', 6),\n",
       "  ('a3', 3),\n",
       "  ('a5', 5),\n",
       "  ('b1', 5),\n",
       "  ('b4', 10),\n",
       "  ('a1', 9),\n",
       "  ('a4', 8)],\n",
       " [('a5', 5),\n",
       "  ('a3', 3),\n",
       "  ('b2', 7),\n",
       "  ('a1', 9),\n",
       "  ('b3', 2),\n",
       "  ('a2', 6),\n",
       "  ('b1', 5),\n",
       "  ('a4', 8),\n",
       "  ('b4', 10)],\n",
       " [('a5', 5),\n",
       "  ('b1', 5),\n",
       "  ('a2', 6),\n",
       "  ('a1', 9),\n",
       "  ('b3', 2),\n",
       "  ('a4', 8),\n",
       "  ('b2', 7),\n",
       "  ('b4', 10),\n",
       "  ('a3', 3)],\n",
       " [('a4', 8),\n",
       "  ('b2', 7),\n",
       "  ('a1', 9),\n",
       "  ('b4', 10),\n",
       "  ('a5', 5),\n",
       "  ('b3', 2),\n",
       "  ('a2', 6),\n",
       "  ('a3', 3),\n",
       "  ('b1', 5)],\n",
       " [('a5', 5),\n",
       "  ('b2', 7),\n",
       "  ('a1', 9),\n",
       "  ('a3', 3),\n",
       "  ('b1', 5),\n",
       "  ('a2', 6),\n",
       "  ('b3', 2),\n",
       "  ('b4', 10),\n",
       "  ('a4', 8)],\n",
       " [('b1', 5),\n",
       "  ('a5', 5),\n",
       "  ('a3', 3),\n",
       "  ('a4', 8),\n",
       "  ('b3', 2),\n",
       "  ('b4', 10),\n",
       "  ('a1', 9),\n",
       "  ('b2', 7),\n",
       "  ('a2', 6)],\n",
       " [('b2', 7),\n",
       "  ('b4', 10),\n",
       "  ('a1', 9),\n",
       "  ('b3', 2),\n",
       "  ('a2', 6),\n",
       "  ('a4', 8),\n",
       "  ('a5', 5),\n",
       "  ('b1', 5),\n",
       "  ('a3', 3)],\n",
       " [('a3', 3),\n",
       "  ('a1', 9),\n",
       "  ('a4', 8),\n",
       "  ('b4', 10),\n",
       "  ('b3', 2),\n",
       "  ('a2', 6),\n",
       "  ('a5', 5),\n",
       "  ('b1', 5),\n",
       "  ('b2', 7)],\n",
       " [('b2', 7),\n",
       "  ('a2', 6),\n",
       "  ('a1', 9),\n",
       "  ('a4', 8),\n",
       "  ('a5', 5),\n",
       "  ('a3', 3),\n",
       "  ('b1', 5),\n",
       "  ('b4', 10),\n",
       "  ('b3', 2)],\n",
       " [('b2', 7),\n",
       "  ('a2', 6),\n",
       "  ('b4', 10),\n",
       "  ('a4', 8),\n",
       "  ('a3', 3),\n",
       "  ('b3', 2),\n",
       "  ('a5', 5),\n",
       "  ('b1', 5),\n",
       "  ('a1', 9)],\n",
       " [('a2', 6),\n",
       "  ('b3', 2),\n",
       "  ('a3', 3),\n",
       "  ('a5', 5),\n",
       "  ('b1', 5),\n",
       "  ('b2', 7),\n",
       "  ('a1', 9),\n",
       "  ('a4', 8),\n",
       "  ('b4', 10)],\n",
       " [('b3', 2),\n",
       "  ('a4', 8),\n",
       "  ('a3', 3),\n",
       "  ('b2', 7),\n",
       "  ('b4', 10),\n",
       "  ('a2', 6),\n",
       "  ('b1', 5),\n",
       "  ('a5', 5),\n",
       "  ('a1', 9)],\n",
       " [('b4', 10),\n",
       "  ('a3', 3),\n",
       "  ('a2', 6),\n",
       "  ('a5', 5),\n",
       "  ('b3', 2),\n",
       "  ('a1', 9),\n",
       "  ('a4', 8),\n",
       "  ('b1', 5),\n",
       "  ('b2', 7)],\n",
       " [('a5', 5),\n",
       "  ('a2', 6),\n",
       "  ('b3', 2),\n",
       "  ('a4', 8),\n",
       "  ('a1', 9),\n",
       "  ('b4', 10),\n",
       "  ('a3', 3),\n",
       "  ('b2', 7),\n",
       "  ('b1', 5)],\n",
       " [('a4', 8),\n",
       "  ('a2', 6),\n",
       "  ('a3', 3),\n",
       "  ('a1', 9),\n",
       "  ('a5', 5),\n",
       "  ('b2', 7),\n",
       "  ('b1', 5),\n",
       "  ('b4', 10),\n",
       "  ('b3', 2)],\n",
       " [('b4', 10),\n",
       "  ('a4', 8),\n",
       "  ('a2', 6),\n",
       "  ('b1', 5),\n",
       "  ('a3', 3),\n",
       "  ('b2', 7),\n",
       "  ('a1', 9),\n",
       "  ('b3', 2),\n",
       "  ('a5', 5)],\n",
       " [('a4', 8),\n",
       "  ('b1', 5),\n",
       "  ('a1', 9),\n",
       "  ('a3', 3),\n",
       "  ('a5', 5),\n",
       "  ('a2', 6),\n",
       "  ('b3', 2),\n",
       "  ('b2', 7),\n",
       "  ('b4', 10)],\n",
       " [('b4', 10),\n",
       "  ('a1', 9),\n",
       "  ('a2', 6),\n",
       "  ('a4', 8),\n",
       "  ('a5', 5),\n",
       "  ('b3', 2),\n",
       "  ('a3', 3),\n",
       "  ('b2', 7),\n",
       "  ('b1', 5)],\n",
       " [('b4', 10),\n",
       "  ('b3', 2),\n",
       "  ('a5', 5),\n",
       "  ('b1', 5),\n",
       "  ('a4', 8),\n",
       "  ('b2', 7),\n",
       "  ('a3', 3),\n",
       "  ('a2', 6),\n",
       "  ('a1', 9)],\n",
       " [('b3', 2),\n",
       "  ('b1', 5),\n",
       "  ('a3', 3),\n",
       "  ('b2', 7),\n",
       "  ('a1', 9),\n",
       "  ('b4', 10),\n",
       "  ('a2', 6),\n",
       "  ('a5', 5),\n",
       "  ('a4', 8)],\n",
       " [('a5', 5),\n",
       "  ('a4', 8),\n",
       "  ('a1', 9),\n",
       "  ('b3', 2),\n",
       "  ('a2', 6),\n",
       "  ('b2', 7),\n",
       "  ('b4', 10),\n",
       "  ('a3', 3),\n",
       "  ('b1', 5)],\n",
       " [('a1', 9),\n",
       "  ('b4', 10),\n",
       "  ('a5', 5),\n",
       "  ('b1', 5),\n",
       "  ('a4', 8),\n",
       "  ('a2', 6),\n",
       "  ('a3', 3),\n",
       "  ('b3', 2),\n",
       "  ('b2', 7)],\n",
       " [('a1', 9),\n",
       "  ('b3', 2),\n",
       "  ('b2', 7),\n",
       "  ('a2', 6),\n",
       "  ('b1', 5),\n",
       "  ('a3', 3),\n",
       "  ('a4', 8),\n",
       "  ('a5', 5),\n",
       "  ('b4', 10)],\n",
       " [('b4', 10),\n",
       "  ('a4', 8),\n",
       "  ('a2', 6),\n",
       "  ('b3', 2),\n",
       "  ('a3', 3),\n",
       "  ('a1', 9),\n",
       "  ('b2', 7),\n",
       "  ('b1', 5),\n",
       "  ('a5', 5)],\n",
       " [('a2', 6),\n",
       "  ('a3', 3),\n",
       "  ('b1', 5),\n",
       "  ('b3', 2),\n",
       "  ('b4', 10),\n",
       "  ('a1', 9),\n",
       "  ('a5', 5),\n",
       "  ('a4', 8),\n",
       "  ('b2', 7)],\n",
       " [('b4', 10),\n",
       "  ('a4', 8),\n",
       "  ('a5', 5),\n",
       "  ('b1', 5),\n",
       "  ('a3', 3),\n",
       "  ('a1', 9),\n",
       "  ('b3', 2),\n",
       "  ('a2', 6),\n",
       "  ('b2', 7)],\n",
       " [('a1', 9),\n",
       "  ('b4', 10),\n",
       "  ('a5', 5),\n",
       "  ('a2', 6),\n",
       "  ('b3', 2),\n",
       "  ('b2', 7),\n",
       "  ('a4', 8),\n",
       "  ('a3', 3),\n",
       "  ('b1', 5)],\n",
       " [('b2', 7),\n",
       "  ('a2', 6),\n",
       "  ('a1', 9),\n",
       "  ('a5', 5),\n",
       "  ('a4', 8),\n",
       "  ('b4', 10),\n",
       "  ('b1', 5),\n",
       "  ('b3', 2),\n",
       "  ('a3', 3)],\n",
       " [('a3', 3),\n",
       "  ('a5', 5),\n",
       "  ('b1', 5),\n",
       "  ('b3', 2),\n",
       "  ('a4', 8),\n",
       "  ('b4', 10),\n",
       "  ('a1', 9),\n",
       "  ('a2', 6),\n",
       "  ('b2', 7)],\n",
       " [('a2', 6),\n",
       "  ('b2', 7),\n",
       "  ('b3', 2),\n",
       "  ('a5', 5),\n",
       "  ('a1', 9),\n",
       "  ('a4', 8),\n",
       "  ('a3', 3),\n",
       "  ('b1', 5),\n",
       "  ('b4', 10)],\n",
       " [('b4', 10),\n",
       "  ('a1', 9),\n",
       "  ('a4', 8),\n",
       "  ('b3', 2),\n",
       "  ('a5', 5),\n",
       "  ('a2', 6),\n",
       "  ('b2', 7),\n",
       "  ('b1', 5),\n",
       "  ('a3', 3)]]"
      ]
     },
     "execution_count": 157,
     "metadata": {},
     "output_type": "execute_result"
    }
   ],
   "source": [
    "soluzioni = generate_population(jobs, n_pop)\n",
    "soluzioni"
   ]
  },
  {
   "cell_type": "code",
   "execution_count": null,
   "metadata": {},
   "outputs": [
    {
     "data": {
      "text/plain": [
       "100"
      ]
     },
     "execution_count": 158,
     "metadata": {},
     "output_type": "execute_result"
    }
   ],
   "source": [
    "len(soluzioni)"
   ]
  },
  {
   "cell_type": "markdown",
   "metadata": {},
   "source": [
    "### TEST SELEZIONE"
   ]
  },
  {
   "cell_type": "code",
   "execution_count": null,
   "metadata": {},
   "outputs": [
    {
     "data": {
      "text/plain": [
       "[('a1', 9),\n",
       " ('a5', 5),\n",
       " ('a3', 3),\n",
       " ('a2', 6),\n",
       " ('b2', 7),\n",
       " ('b3', 2),\n",
       " ('a4', 8),\n",
       " ('b1', 5),\n",
       " ('b4', 10)]"
      ]
     },
     "execution_count": 159,
     "metadata": {},
     "output_type": "execute_result"
    }
   ],
   "source": [
    "soluzioni[0]"
   ]
  },
  {
   "cell_type": "markdown",
   "metadata": {},
   "source": [
    "### TEST FITNESS FUNCTION"
   ]
  },
  {
   "cell_type": "code",
   "execution_count": null,
   "metadata": {},
   "outputs": [
    {
     "data": {
      "text/plain": [
       "[('a1', 9),\n",
       " ('a2', 6),\n",
       " ('a3', 3),\n",
       " ('a4', 8),\n",
       " ('a5', 5),\n",
       " ('b1', 5),\n",
       " ('b2', 7),\n",
       " ('b3', 2),\n",
       " ('b4', 10)]"
      ]
     },
     "execution_count": 141,
     "metadata": {},
     "output_type": "execute_result"
    }
   ],
   "source": [
    "jobs"
   ]
  },
  {
   "cell_type": "code",
   "execution_count": null,
   "metadata": {},
   "outputs": [
    {
     "data": {
      "text/plain": [
       "179.0"
      ]
     },
     "execution_count": 27,
     "metadata": {},
     "output_type": "execute_result"
    }
   ],
   "source": [
    "# alfa = 0.5, mi aspetto 179\n",
    "val = fitness_function(jobs)\n",
    "val"
   ]
  },
  {
   "cell_type": "code",
   "execution_count": null,
   "metadata": {},
   "outputs": [
    {
     "data": {
      "text/plain": [
       "139.39999999999998"
      ]
     },
     "execution_count": 142,
     "metadata": {},
     "output_type": "execute_result"
    }
   ],
   "source": [
    "#alfa 0.3, mi aspetto 139.4\n",
    "val = fitness_function(jobs)\n",
    "val"
   ]
  },
  {
   "cell_type": "markdown",
   "metadata": {},
   "source": [
    "### TEST CROSSOVER"
   ]
  },
  {
   "cell_type": "code",
   "execution_count": null,
   "metadata": {},
   "outputs": [],
   "source": [
    "sol1 = [('b2', 7), ('a3', 3), ('b1', 5), ('a1', 9), ('b4', 10), ('b3', 2), ('a4', 8), ('a2', 6), ('a5', 5)]\n",
    "sol2 = [('b1', 5), ('b4', 10), ('a2', 6), ('b2', 7), ('a3', 3), ('b3', 2), ('a1', 9), ('a4', 8), ('a5', 5)]\n"
   ]
  },
  {
   "cell_type": "code",
   "execution_count": null,
   "metadata": {},
   "outputs": [],
   "source": [
    "c = crossover(sol1,sol2,1)"
   ]
  },
  {
   "cell_type": "code",
   "execution_count": null,
   "metadata": {},
   "outputs": [
    {
     "data": {
      "text/plain": [
       "[[('b2', 7),\n",
       "  ('a3', 3),\n",
       "  ('b1', 5),\n",
       "  ('a1', 9),\n",
       "  ('b4', 10),\n",
       "  ('b3', 2),\n",
       "  ('a2', 6),\n",
       "  ('a4', 8),\n",
       "  ('a5', 5)],\n",
       " [('b1', 5),\n",
       "  ('b4', 10),\n",
       "  ('a2', 6),\n",
       "  ('b2', 7),\n",
       "  ('a3', 3),\n",
       "  ('b3', 2),\n",
       "  ('a1', 9),\n",
       "  ('a4', 8),\n",
       "  ('a5', 5)]]"
      ]
     },
     "execution_count": 190,
     "metadata": {},
     "output_type": "execute_result"
    }
   ],
   "source": [
    "c"
   ]
  },
  {
   "cell_type": "code",
   "execution_count": null,
   "metadata": {},
   "outputs": [
    {
     "data": {
      "text/plain": [
       "[('b2', 7),\n",
       " ('a3', 3),\n",
       " ('b1', 5),\n",
       " ('a1', 9),\n",
       " ('b4', 10),\n",
       " ('a2', 6),\n",
       " ('b3', 2),\n",
       " ('a4', 8),\n",
       " ('a5', 5)]"
      ]
     },
     "execution_count": 171,
     "metadata": {},
     "output_type": "execute_result"
    }
   ],
   "source": [
    "c[0]"
   ]
  },
  {
   "cell_type": "code",
   "execution_count": null,
   "metadata": {},
   "outputs": [
    {
     "data": {
      "text/plain": [
       "[('b1', 5),\n",
       " ('b4', 10),\n",
       " ('a2', 6),\n",
       " ('b2', 7),\n",
       " ('a3', 3),\n",
       " ('a1', 9),\n",
       " ('b3', 2),\n",
       " ('a4', 8),\n",
       " ('a5', 5)]"
      ]
     },
     "execution_count": 172,
     "metadata": {},
     "output_type": "execute_result"
    }
   ],
   "source": [
    "c[1]"
   ]
  },
  {
   "cell_type": "markdown",
   "metadata": {},
   "source": [
    "### TEST MUTAZIONE"
   ]
  },
  {
   "cell_type": "code",
   "execution_count": null,
   "metadata": {},
   "outputs": [],
   "source": [
    "mutation(c,1)"
   ]
  },
  {
   "cell_type": "code",
   "execution_count": null,
   "metadata": {},
   "outputs": [
    {
     "data": {
      "text/plain": [
       "[('b2', 7),\n",
       " ('a3', 3),\n",
       " ('b1', 5),\n",
       " ('a1', 9),\n",
       " ('b4', 10),\n",
       " ('a2', 6),\n",
       " ('b3', 2),\n",
       " ('a5', 5),\n",
       " ('a4', 8)]"
      ]
     },
     "execution_count": 174,
     "metadata": {},
     "output_type": "execute_result"
    }
   ],
   "source": [
    "# prima era : [('b2', 7),('a3', 3),('b1', 5),('a1', 9),('b4', 10),('a2', 6),('b3', 2),('a4', 8),('a5', 5)]\n",
    "c[0]"
   ]
  },
  {
   "cell_type": "code",
   "execution_count": null,
   "metadata": {},
   "outputs": [
    {
     "data": {
      "text/plain": [
       "[('a5', 5),\n",
       " ('b4', 10),\n",
       " ('a2', 6),\n",
       " ('b2', 7),\n",
       " ('a3', 3),\n",
       " ('a1', 9),\n",
       " ('b3', 2),\n",
       " ('a4', 8),\n",
       " ('b1', 5)]"
      ]
     },
     "execution_count": 175,
     "metadata": {},
     "output_type": "execute_result"
    }
   ],
   "source": [
    "#prima era: [('b1', 5),('b4', 10),('a2', 6),('b2', 7),('a3', 3),('a1', 9),('b3', 2),('a4', 8),('a5', 5)]\n",
    "c[1]"
   ]
  }
 ],
 "metadata": {
  "kernelspec": {
   "display_name": "Python 3",
   "language": "python",
   "name": "python3"
  },
  "language_info": {
   "codemirror_mode": {
    "name": "ipython",
    "version": 3
   },
   "file_extension": ".py",
   "mimetype": "text/x-python",
   "name": "python",
   "nbconvert_exporter": "python",
   "pygments_lexer": "ipython3",
   "version": "3.9.6"
  }
 },
 "nbformat": 4,
 "nbformat_minor": 2
}
