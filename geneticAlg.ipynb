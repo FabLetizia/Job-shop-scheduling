{
 "cells": [
  {
   "cell_type": "code",
   "execution_count": 15,
   "metadata": {},
   "outputs": [],
   "source": [
    "from itertools import permutations\n",
    "import random\n",
    "import math\n",
    "from numpy.random import randint\n",
    "from numpy.random import rand"
   ]
  },
  {
   "cell_type": "markdown",
   "metadata": {},
   "source": [
    "# ALGORITMO GENETICO"
   ]
  },
  {
   "cell_type": "markdown",
   "metadata": {},
   "source": [
    "### GENERAZIONE POPOLAZIONE INIZIALE"
   ]
  },
  {
   "cell_type": "code",
   "execution_count": null,
   "metadata": {},
   "outputs": [],
   "source": [
    "A = [('a1',9), ('a2',6), ('a3',3), ('a4',8), ('a5',5)]\n",
    "\n",
    "B = [('b1',5), ('b2',7), ('b3',2), ('b4',10)]\n",
    "\n",
    "jobs = A + B\n"
   ]
  },
  {
   "cell_type": "code",
   "execution_count": null,
   "metadata": {},
   "outputs": [],
   "source": [
    "def generate_population(jobs):\n",
    "    permutazioni = list(permutations(jobs))\n",
    "    return permutazioni"
   ]
  },
  {
   "cell_type": "markdown",
   "metadata": {},
   "source": [
    "### FITNESS FUNCTION"
   ]
  },
  {
   "cell_type": "code",
   "execution_count": null,
   "metadata": {},
   "outputs": [],
   "source": [
    "# fitness function equivale alla nostra funzione obbiettivo (che deve essere minimizzata)\n",
    "def fitness_function(soluzione, alfa=0.5):\n",
    "    somma_A = 0\n",
    "    somma_B = 0\n",
    "    somma_tot = 0\n",
    "    for job in soluzione:\n",
    "        string = str(job[0])\n",
    "        somma_tot += job[1]\n",
    "        if string.startswith('a'):\n",
    "            somma_A += somma_tot\n",
    "        else:\n",
    "            somma_B += somma_tot\n",
    "    \n",
    "    return (alfa * (somma_A + somma_B)) + ((1-alfa) * abs((somma_A - somma_B)))"
   ]
  },
  {
   "cell_type": "markdown",
   "metadata": {},
   "source": [
    "### SELEZIONE"
   ]
  },
  {
   "cell_type": "code",
   "execution_count": null,
   "metadata": {},
   "outputs": [],
   "source": [
    "# tournament selection\n",
    "def selection(population, scores, k=3):\n",
    "    # primo scelto randomicamente (utile estrarlo prima per fare i confronti)\n",
    "    selection_ix = randint(len(population))\n",
    "    # scegliamo gli altri k-1 partecipanti randomicamente\n",
    "    for ix in randint(0, len(population), k-1):\n",
    "        # controlliamo chi è il migliore tra i k partecipanti\n",
    "        if scores[ix] < scores[selection_ix]:\n",
    "            selection_ix = ix\n",
    "    return population[selection_ix]"
   ]
  },
  {
   "cell_type": "markdown",
   "metadata": {},
   "source": [
    "### CROSSOVER"
   ]
  },
  {
   "cell_type": "code",
   "execution_count": null,
   "metadata": {},
   "outputs": [],
   "source": [
    "def crossover(p1, p2, r_cross):\n",
    "    # i figli sono copie dei genitori di default\n",
    "    c1, c2 = p1.copy(), p2.copy()\n",
    "\n",
    "    if rand() < r_cross:\n",
    "        # selezioniamo il punto di taglio per il crossover\n",
    "        pt = randint(1, len(p1)-2)\n",
    "        # perform crossover\n",
    "        c1 = p1[:pt] \n",
    "        for elem in p2:\n",
    "          if elem not in c1:\n",
    "             c1.append(elem)\n",
    "\n",
    "        c2 = p2[:pt] \n",
    "        for elem in p1:\n",
    "          if elem not in c2:\n",
    "             c2.append(elem)\n",
    "    return [c1, c2]"
   ]
  },
  {
   "cell_type": "markdown",
   "metadata": {},
   "source": [
    "### MUTAZIONE"
   ]
  },
  {
   "cell_type": "code",
   "execution_count": null,
   "metadata": {},
   "outputs": [],
   "source": [
    "# mutazione: scambio di posizione di due job\n",
    "def mutation(c, r_mut):\n",
    "        c1 = c[1]\n",
    "        c2 = c[2]\n",
    "        if rand() < r_mut:\n",
    "             # Selezione casuale di due indici di due job in c1\n",
    "             indexes = random.sample(range(len(c1)), 2)\n",
    "             i, j = indexes[0], indexes[1]\n",
    "             # Scambia gli elementi di posizione\n",
    "             c1[i], c1[j] = c1[j], c1[i]\n",
    "\n",
    "             # Selezione casuale di due indici di due job in c2\n",
    "             indexes = random.sample(range(len(c2)), 2)\n",
    "             i, j = indexes[0], indexes[1]\n",
    "             # Scambia gli elementi di posizione\n",
    "             c1[i], c1[j] = c1[j], c1[i]\n",
    "\n",
    "\n"
   ]
  },
  {
   "cell_type": "markdown",
   "metadata": {},
   "source": [
    "### ALGORITMO"
   ]
  },
  {
   "cell_type": "code",
   "execution_count": null,
   "metadata": {},
   "outputs": [],
   "source": [
    "def genetic_algorithm(jobs, fitness_fuction, n_iter, n_pop, r_cross, r_mut):\n",
    "    # popolazione iniziale\n",
    "    population = generate_population(jobs)\n",
    "    # teniamo traccia della migliore soluzione (all'inizio prendiamo la prima soluzione)\n",
    "    best, best_eval = 0, fitness_fuction(population[0])\n",
    "    # enumeriamo le iterazioni (il numero di generazioni create)\n",
    "    for gen in range(n_iter):\n",
    "        # valutiamo tutti i candidati della popolazione\n",
    "        scores = [fitness_fuction(solution) for solution in population]\n",
    "        # vediamo qual'è la migliore soluzione della generazione corrente\n",
    "        for i in range(n_pop):\n",
    "            if scores[i] < best_eval:\n",
    "                best, best_eval = population[i], scores[i]\n",
    "                print(\">%d, new best f(%s) = %.3f\" % (gen,  population[i], scores[i]))\n",
    "        # applichiamo la selezione: selezioniamo i genitori della nuova generazione (una coppia di genitori per ogni iterazione)\n",
    "        selected = [selection(population, scores) for _ in range(n_pop)]\n",
    "        # creiamo la nuova generazione\n",
    "        children = list()\n",
    "        # per ogni coppia di genitori\n",
    "        for i in range(0, n_pop, 2):\n",
    "            p1, p2 = selected[i], selected[i+1]\n",
    "            # crossover\n",
    "            # c è una coppia di figli\n",
    "            for c in crossover(p1, p2, r_cross):\n",
    "                # mutazione\n",
    "                mutation(c, r_mut)\n",
    "                # memorizziamo la nuova generazione\n",
    "                children.append(c)\n",
    "        # sostituiamo la nuova generazione\n",
    "        population = children\n",
    "    return [best, best_eval]"
   ]
  }
 ],
 "metadata": {
  "kernelspec": {
   "display_name": "Python 3",
   "language": "python",
   "name": "python3"
  },
  "language_info": {
   "codemirror_mode": {
    "name": "ipython",
    "version": 3
   },
   "file_extension": ".py",
   "mimetype": "text/x-python",
   "name": "python",
   "nbconvert_exporter": "python",
   "pygments_lexer": "ipython3",
   "version": "3.9.6"
  }
 },
 "nbformat": 4,
 "nbformat_minor": 2
}
