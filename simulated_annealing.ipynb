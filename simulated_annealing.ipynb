{
 "cells": [
  {
   "cell_type": "code",
   "execution_count": 3,
   "metadata": {},
   "outputs": [],
   "source": [
    "from itertools import permutations\n",
    "import random\n",
    "import math\n",
    "import matplotlib.pyplot as plt\n"
   ]
  },
  {
   "cell_type": "code",
   "execution_count": 4,
   "metadata": {},
   "outputs": [],
   "source": [
    "A = [('a1',9), ('a2',6), ('a3',3), ('a4',8), ('a5',5)]\n",
    "\n",
    "B = [('b1',5), ('b2',7), ('b3',2), ('b4',10)]"
   ]
  },
  {
   "cell_type": "code",
   "execution_count": 5,
   "metadata": {},
   "outputs": [],
   "source": [
    "jobs = A + B"
   ]
  },
  {
   "cell_type": "code",
   "execution_count": 6,
   "metadata": {},
   "outputs": [],
   "source": [
    "def genera_soluzione_iniziale(jobs):\n",
    "    permutazioni = list(permutations(jobs))\n",
    "    \n",
    "    i = random.randint(0, len(permutazioni)-1)\n",
    "    soluzione_inziale = list(permutazioni[i])\n",
    "\n",
    "    return soluzione_inziale"
   ]
  },
  {
   "cell_type": "code",
   "execution_count": 16,
   "metadata": {},
   "outputs": [],
   "source": [
    "def permutazioni_con_scambio_limitato(sequenza):\n",
    "    tutte_combinazioni_due_elementi = list(permutations(sequenza, 2))\n",
    "    permutazioni_con_scambio = []\n",
    "\n",
    "    for combinazione in tutte_combinazioni_due_elementi:\n",
    "        indice1 = sequenza.index(combinazione[0])\n",
    "        indice2 = sequenza.index(combinazione[1])\n",
    "\n",
    "        # Scambia al massimo due elementi\n",
    "        sequenza_copy = sequenza.copy()\n",
    "        sequenza_copy[indice1], sequenza_copy[indice2] = sequenza_copy[indice2], sequenza_copy[indice1]\n",
    "\n",
    "        permutazioni_con_scambio.append(sequenza_copy)\n",
    "\n",
    "    return permutazioni_con_scambio"
   ]
  },
  {
   "cell_type": "code",
   "execution_count": 7,
   "metadata": {},
   "outputs": [],
   "source": [
    "def vicinato(sequenza):\n",
    "    tutte_combinazioni_due_elementi = list(permutations(sequenza, 2))\n",
    "    permutazioni_con_scambio = []\n",
    "\n",
    "    for combinazione in tutte_combinazioni_due_elementi:\n",
    "        indice1 = sequenza.index(combinazione[0])\n",
    "        indice2 = sequenza.index(combinazione[1])\n",
    "\n",
    "        # Scambia al massimo due elementi\n",
    "        sequenza_copy = sequenza.copy()\n",
    "        sequenza_copy[indice1], sequenza_copy[indice2] = sequenza_copy[indice2], sequenza_copy[indice1]\n",
    "\n",
    "        permutazioni_con_scambio.append(sequenza_copy)\n",
    "\n",
    "    return permutazioni_con_scambio"
   ]
  },
  {
   "cell_type": "code",
   "execution_count": 8,
   "metadata": {},
   "outputs": [],
   "source": [
    "def energia(soluzione, alfa):\n",
    "    somma_A = 0\n",
    "    somma_B = 0\n",
    "    somma_tot = 0\n",
    "    for job in soluzione:\n",
    "        string = str(job[0])\n",
    "        somma_tot += job[1]\n",
    "        if string.startswith('a'):\n",
    "            somma_A += somma_tot\n",
    "        else:\n",
    "            somma_B += somma_tot\n",
    "    \n",
    "    return (alfa * (somma_A + somma_B)) + ((1-alfa) * abs((somma_A - somma_B)))\n",
    "        \n"
   ]
  },
  {
   "cell_type": "code",
   "execution_count": 9,
   "metadata": {},
   "outputs": [],
   "source": [
    "def genera_temperatura_iniziale(soluzione, alfa):\n",
    "    vicini = vicinato(soluzione)\n",
    "    j = random.randint(0, len(vicini)-1)\n",
    "    y = vicini[j]\n",
    "\n",
    "    return abs(energia(soluzione, alfa) - energia(y, alfa))"
   ]
  },
  {
   "cell_type": "code",
   "execution_count": 22,
   "metadata": {},
   "outputs": [],
   "source": [
    "def simulated_annealing(jobs):\n",
    "    x = genera_soluzione_iniziale(jobs)\n",
    "    ottimo = x\n",
    "    alfa = 0.5\n",
    "    beta = 0.98\n",
    "    temperatura = genera_temperatura_iniziale(x, alfa)\n",
    "    L = len(vicinato(x))\n",
    "\n",
    "    iterazioni, valori_ottimi = list(), list() \n",
    "\n",
    "    for i in range(10000):\n",
    "        for _ in range(L):\n",
    "            vicini = vicinato(x)\n",
    "            j = random.randint(0, len(vicini)-1)\n",
    "            y = vicini[j]\n",
    "\n",
    "            delta = energia(y, alfa) - energia(x, alfa)\n",
    "\n",
    "            if delta < 0:\n",
    "                x = y\n",
    "            elif math.exp(-delta / temperatura) > random.random():\n",
    "                x = y\n",
    "\n",
    "        ottimo = x\n",
    "\n",
    "        iterazioni.append(i)\n",
    "        valori_ottimi.append(energia(ottimo,alfa))\n",
    "        \n",
    "        # print('Soluzione ottima: ' + str(ottimo) + ', Energia: ' + str(energia(ottimo, alfa)))\n",
    "        \n",
    "        if(i % 100 == 0):\n",
    "            L += 1\n",
    "        \n",
    "        temperatura = beta * temperatura\n",
    "\n",
    "    plt.plot(iterazioni, valori_ottimi)\n",
    "    plt.xlabel('Iterazioni')\n",
    "    plt.ylabel('Valore della funzione obiettivo')\n",
    "    plt.title('Convergenza di Simulated Annealing')\n",
    "    plt.show()    \n",
    "    \n",
    "    return ottimo\n",
    "        \n"
   ]
  },
  {
   "cell_type": "code",
   "execution_count": 23,
   "metadata": {},
   "outputs": [
    {
     "data": {
      "image/png": "[encoded data removed]",
      "text/plain": [
       "<Figure size 640x480 with 1 Axes>"
      ]
     },
     "metadata": {},
     "output_type": "display_data"
    }
   ],
   "source": [
    "soluzione_ottima = simulated_annealing(jobs)"
   ]
  },
  {
   "cell_type": "code",
   "execution_count": 21,
   "metadata": {},
   "outputs": [
    {
     "data": {
      "text/plain": [
       "[('a3', 3),\n",
       " ('b3', 2),\n",
       " ('a5', 5),\n",
       " ('a2', 6),\n",
       " ('b1', 5),\n",
       " ('b2', 7),\n",
       " ('a4', 8),\n",
       " ('a1', 9),\n",
       " ('b4', 10)]"
      ]
     },
     "execution_count": 21,
     "metadata": {},
     "output_type": "execute_result"
    }
   ],
   "source": [
    "soluzione_ottima"
   ]
  },
  {
   "cell_type": "code",
   "execution_count": 17,
   "metadata": {},
   "outputs": [],
   "source": [
    "def energia_modificata(soluzione):\n",
    "    somma_A = 0\n",
    "    somma_B = 0\n",
    "    somma_tot = 0\n",
    "    for job in soluzione:\n",
    "        string = str(job[0])\n",
    "        somma_tot += job[1]\n",
    "        print(somma_tot)\n",
    "        if string.startswith('a'):\n",
    "            somma_A += somma_tot\n",
    "        else:\n",
    "            somma_B += somma_tot\n",
    "    \n",
    "    return (somma_A + somma_B) "
   ]
  },
  {
   "cell_type": "code",
   "execution_count": 18,
   "metadata": {},
   "outputs": [
    {
     "name": "stdout",
     "output_type": "stream",
     "text": [
      "2\n",
      "5\n",
      "10\n",
      "15\n",
      "21\n",
      "29\n",
      "36\n",
      "45\n",
      "55\n"
     ]
    },
    {
     "data": {
      "text/plain": [
       "218"
      ]
     },
     "execution_count": 18,
     "metadata": {},
     "output_type": "execute_result"
    }
   ],
   "source": [
    "valore = energia_modificata(soluzione_ottima)\n",
    "valore"
   ]
  }
 ],
 "metadata": {
  "kernelspec": {
   "display_name": "base",
   "language": "python",
   "name": "python3"
  },
  "language_info": {
   "codemirror_mode": {
    "name": "ipython",
    "version": 3
   },
   "file_extension": ".py",
   "mimetype": "text/x-python",
   "name": "python",
   "nbconvert_exporter": "python",
   "pygments_lexer": "ipython3",
   "version": "3.11.5"
  }
 },
 "nbformat": 4,
 "nbformat_minor": 2
}
